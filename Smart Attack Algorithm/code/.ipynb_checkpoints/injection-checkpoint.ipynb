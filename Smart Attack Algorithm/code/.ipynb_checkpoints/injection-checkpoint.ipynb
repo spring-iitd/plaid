{
 "cells": [
  {
   "cell_type": "code",
   "execution_count": 1,
   "metadata": {},
   "outputs": [],
   "source": [
    "import numpy as np\n",
    "import pandas as pd\n",
    "import os\n",
    "from collections import defaultdict\n",
    "from tqdm import tqdm\n",
    "import matplotlib.pyplot as plt\n",
    "\n",
    "data_folder = '../data/M-CAN Intrusion Dataset/'\n",
    "\n",
    "def hex_to_bin(hex_num):\n",
    "    \n",
    "    binary_value = bin(int(str(hex_num), 16))[2:]\n",
    "    \n",
    "    return binary_value\n",
    "\n",
    "def int_to_bin(int_num):\n",
    "    \n",
    "    binary_value = bin(int_num)[2:]\n",
    "    \n",
    "    return binary_value\n",
    "\n",
    "hex_to_dec = lambda x: int(x, 16)\n",
    "dec_to_hex = lambda x : hex(int(x))[2:]"
   ]
  },
  {
   "cell_type": "code",
   "execution_count": 2,
   "metadata": {},
   "outputs": [],
   "source": [
    "def read_data(data_path):\n",
    "    \n",
    "    columns = ['Timestamp','ID', 'DLC', 'Payload', 'label']\n",
    "    \n",
    "    data = pd.read_csv(data_path)\n",
    "    \n",
    "    ##Replacing all NaNs with '00' \n",
    "    data = data.replace(np.NaN, '00')\n",
    "\n",
    "    data['ID'] = data['ID'].apply(hex_to_dec)\n",
    "    \n",
    "    data['Payload'] = data['Payload'].str.replace(' ', '')\n",
    "    data['Payload'] = data['Payload'].apply(hex_to_dec)\n",
    "    \n",
    "    # data = data.assign(IAT=data['Timestamp'].diff().fillna(0))\n",
    "    \n",
    "    return data"
   ]
  },
  {
   "cell_type": "code",
   "execution_count": 3,
   "metadata": {},
   "outputs": [],
   "source": [
    "normal_data = read_data(os.path.join(data_folder, 'g80_mcan_normal_data.csv'))"
   ]
  },
  {
   "cell_type": "code",
   "execution_count": 4,
   "metadata": {},
   "outputs": [],
   "source": [
    "normal_data = normal_data.iloc[:]"
   ]
  },
  {
   "cell_type": "code",
   "execution_count": 5,
   "metadata": {},
   "outputs": [],
   "source": [
    "# normal_data.shape"
   ]
  },
  {
   "cell_type": "code",
   "execution_count": 6,
   "metadata": {},
   "outputs": [],
   "source": [
    "## Function to calculate average time and frequency of each message ID\n",
    "## In this function frequency is defined as the number of packets a particular message ID has\n",
    "## Average time is defined as the average time between two packets of the same message ID\n",
    "def calculate_average_time_frequency(dataframe):\n",
    "    \n",
    "    frame_times = defaultdict(list)\n",
    "    total_frames = len(dataframe)\n",
    "    id_frequency = dataframe[\"ID\"].value_counts()\n",
    "    id_frequency = defaultdict(int, id_frequency)\n",
    "\n",
    "    for index, row in dataframe.iterrows():\n",
    "        id_value = row[\"ID\"]\n",
    "        timestamp_value = row[\"Timestamp\"]\n",
    "        frame_times[id_value].append(timestamp_value)\n",
    "\n",
    "\n",
    "    average_times = {}\n",
    "    for arbitration_id, timestamps in frame_times.items():\n",
    "        if len(timestamps) > 1:\n",
    "            differences = [(timestamps[i+1] - timestamps[i]) for i in range(len(timestamps)-1)]\n",
    "            average_times[arbitration_id] = sum(differences) / len(differences)\n",
    "        else:\n",
    "            average_times[arbitration_id] = 0\n",
    "\n",
    "    return average_times, id_frequency, total_frames"
   ]
  },
  {
   "cell_type": "code",
   "execution_count": 7,
   "metadata": {},
   "outputs": [],
   "source": [
    "def calculate_periodicity(df):\n",
    "    # Initialize an empty dictionary to store the periodicity for each can_id\n",
    "    periodicity_dict = {}\n",
    "\n",
    "    # Group the DataFrame by 'can_id'\n",
    "    grouped = df.groupby('ID')\n",
    "\n",
    "    for can_id, group_df in grouped:\n",
    "        # Sort the DataFrame by 'timestamp'\n",
    "        sorted_df = group_df.sort_values(by='Timestamp')\n",
    "\n",
    "        # Calculate the periodicity for the current can_id\n",
    "        first_timestamp = sorted_df.iloc[0]['Timestamp']\n",
    "        last_timestamp = sorted_df.iloc[-1]['Timestamp']\n",
    "        num_occurrences = len(sorted_df)\n",
    "\n",
    "        if num_occurrences > 1:\n",
    "            periodicity = (last_timestamp - first_timestamp) / (num_occurrences - 1)\n",
    "        else:\n",
    "            periodicity = 0  # Avoid division by zero if there's only one occurrence\n",
    "\n",
    "        # Store the periodicity in the dictionary\n",
    "        periodicity_dict[can_id] = periodicity\n",
    "\n",
    "    return periodicity_dict\n",
    "\n",
    "def calculate_inverse_periodicity(periodicity_dict):\n",
    "    \n",
    "    inverse_periodicity_dict = {id: 1.0 / periodicity for id, periodicity in periodicity_dict.items()}\n",
    "    \n",
    "    return inverse_periodicity_dict"
   ]
  },
  {
   "cell_type": "code",
   "execution_count": 8,
   "metadata": {},
   "outputs": [
    {
     "name": "stdout",
     "output_type": "stream",
     "text": [
      "{133: 0.03546594372644049, 256: 2.0000619847328243, 290: 0.20000585421412298, 369: 0.20000605623100298, 371: 0.20000607142857152, 384: 1.0000073282442745, 385: 1.0000028625954196, 387: 0.21813079298831387, 466: 0.1274291142303969, 468: 0.20000622340425536, 722: 0.050001524297646135, 771: 0.20000564589665648, 772: 0.20000564589665648, 773: 0.20000564589665648, 774: 0.20000564589665648, 776: 0.20000607142857152, 778: 0.20000699088145898, 786: 0.20000593465045582, 787: 0.20000622340425536, 789: 0.20000623100303935, 792: 0.20000623100303935, 826: 0.20000534194528877, 829: 0.20000596051632502, 906: 0.20000703113135926, 1096: 0.2863788900979325, 1101: 0.2863968552774754, 1109: 0.28639652883569094, 1284: 0.20000605623100315, 1393: 1.0000238403041828, 1400: 0.2000014665653495, 1408: 0.20000146545178435, 1409: 0.20000567198177668, 1410: 0.20000380410022792, 1411: 0.20000287015945337, 1414: 0.2000052543659832, 1425: 0.20000561123766142, 1427: 0.20000561123766125, 1430: 0.20000654255319142, 1435: 0.05000178246013668, 1436: 0.05000154138192864, 1437: 0.05000154328018224, 1438: 0.20000604863221882, 1439: 0.050001524297646135, 1442: 0.20000575987841945, 1443: 0.20000579027355633, 1454: 0.20000591185410332, 1464: 0.20000605623100298, 1465: 0.20000603343465045, 1466: 0.20000601063829776, 1468: 0.05000128891419894, 1469: 0.05000152619589978, 1472: 0.20000561123766142, 1515: 0.20000606382978717, 1519: 0.20000601063829776}\n"
     ]
    }
   ],
   "source": [
    "periodicity_dict = calculate_periodicity(normal_data)\n",
    "print(periodicity_dict)"
   ]
  },
  {
   "cell_type": "code",
   "execution_count": 9,
   "metadata": {},
   "outputs": [],
   "source": [
    "# periodicity_dict = calculate_periodicity(normal_data)\n",
    "\n",
    "# ## This is the time in seconds that the bus would take to transmit a packet which has 110 bits (maximum packet size)\n",
    "# max_time_to_transmit = 0.00021\n",
    "\n",
    "# periodicity_dict = calculate_periodicity(normal_data)\n",
    "# sorted_periodicity_dict = dict(sorted(periodicity_dict.items(), key=lambda item: item[1], reverse=True))\n",
    "\n",
    "# ## Retrieving message ID with highest periodicity, this will be the message ID that we will use to inject packets\n",
    "# highest_periodicity_id = list(sorted_periodicity_dict.keys())[0]\n",
    "# highest_periodicity =  list(sorted_periodicity_dict.values())[0]\n",
    "\n",
    "# ## Retrieving message ID with lowest periodicity, our target message ID shouldnt have a lower periodicity than this after injection is complete\n",
    "# lowest_periodicity_id = list(sorted_periodicity_dict.keys())[-1]\n",
    "# lowest_periodicity =  list(sorted_periodicity_dict.values())[-1]\n",
    "\n",
    "# ## Retrieving the indexes at which there is a message with highest periodicity message ID\n",
    "# index_list_of_highest_arb_id = list(normal_data[normal_data['ID'] == highest_periodicity_id].index)\n",
    "\n",
    "# ##TODO: currently only 1 packet is being inserted, choose frequency difference / lowest frequency\n",
    "# ##TODO: Randomize attack packet arb id based on frequency : If injecting multiple packets at once, they can be of different IDs and follow the same attack principle\n",
    "\n",
    "# out_data = []\n",
    "# packets_inserted = 0\n",
    "# pointer = 0\n",
    "# offset = 0.00021 #make this dynamic depending on attack packet size\n",
    "\n",
    "\n",
    "# # print(sorted_periodicity_dict)\n",
    "\n",
    "# # print(highest_periodicity_id)\n",
    "\n",
    "# # print(index_list_of_highest_arb_id)"
   ]
  },
  {
   "cell_type": "code",
   "execution_count": 10,
   "metadata": {},
   "outputs": [],
   "source": [
    "# for index in tqdm(range(len(index_list_of_highest_arb_id) - 1)):\n",
    "\n",
    "#     ts1 = normal_data['Timestamp'].iloc[index_list_of_highest_arb_id[index]]\n",
    "#     ts2 = normal_data['Timestamp'].iloc[index_list_of_highest_arb_id[index + 1]]\n",
    "\n",
    "#     # print(\"index_list_of_highest_arb_id[index]):\",index_list_of_highest_arb_id[index])\n",
    "#     # print(\"index_list_of_highest_arb_id[index+1]:\",index_list_of_highest_arb_id[index+1])\n",
    "\n",
    "#     last_encountered_ts = ts1\n",
    "\n",
    "#     while last_encountered_ts < ts2:\n",
    "\n",
    "#         # print(ts1, last_encountered_ts, ts2)  \n",
    "#         ## DLC is always 8, data might not be\n",
    "\n",
    "#         target_periodicity = 0.035 * lowest_periodicity\n",
    "\n",
    "#         if target_periodicity <= max_time_to_transmit:\n",
    "#             target_periodicity = lowest_periodicity\n",
    "        \n",
    "#         #Because we are trying to bring the periodcity of the attack IDs to the lowest\n",
    "#         matching_ts = last_encountered_ts + target_periodicity\n",
    "\n",
    "#         #Finding the location of where attack packet should be if we are trying to match the lowest periodicity\n",
    "#         matching_packet_idx = normal_data[normal_data['Timestamp'] < matching_ts].index.max()\n",
    "#         # print(\"matching_packet_idx:\",matching_packet_idx)\n",
    "\n",
    "#         #No injection packet can have an higher timestamp than this value\n",
    "#         injection_ts_upper_bound = normal_data['Timestamp'].iloc[matching_packet_idx + 1] - max_time_to_transmit\n",
    "#         interval = normal_data['Timestamp'].iloc[matching_packet_idx + 1] - normal_data['Timestamp'].iloc[matching_packet_idx]\n",
    "\n",
    "#         # print(matching_packet_idx)\n",
    "#         num_packets_to_insert = int((interval - max_time_to_transmit) // max_time_to_transmit)\n",
    "\n",
    "#         # print(\"interval:\", interval)\n",
    "\n",
    "#         # print(\"num_packets_to_insert:\",num_packets_to_insert)\n",
    "\n",
    "#         # if counter != 0:\n",
    "#         #     break\n",
    "\n",
    "#         if num_packets_to_insert >= 1:\n",
    "\n",
    "#             # Timestamp\tID\tDLC\tPayload\tlabel\n",
    "#             out_data.extend((normal_data.iloc[pointer:matching_packet_idx+1]).values)\n",
    "\n",
    "#             attack_ts = normal_data['Timestamp'].iloc[matching_packet_idx] + target_periodicity\n",
    "            \n",
    "#             if attack_ts >= injection_ts_upper_bound:\n",
    "#                 pointer = matching_packet_idx + 1\n",
    "#                 last_encountered_ts = attack_ts\n",
    "#                 break\n",
    "#             else:\n",
    "#                 attack_packet = [attack_ts, highest_periodicity_id, 8, np.random.choice(normal_data[normal_data['ID'] == highest_periodicity_id]['Payload']),1]\n",
    "#                 out_data.append(attack_packet)\n",
    "#                 packets_inserted += 1\n",
    "\n",
    "#             for packets in range(1, num_packets_to_insert):\n",
    "#                 rand_id = np.random.choice(list(sorted_periodicity_dict.keys())[:5])\n",
    "#                 attack_ts += max_time_to_transmit + target_periodicity\n",
    "                \n",
    "#                 if attack_ts >= injection_ts_upper_bound:\n",
    "#                     break\n",
    "#                 else:\n",
    "#                     attack_packet = [attack_ts, rand_id, 8,  np.random.choice(normal_data[normal_data['ID'] == rand_id]['Payload']),1]\n",
    "#                     out_data.append(attack_packet)\n",
    "#                     packets_inserted += 1\n",
    "            \n",
    "\n",
    "            \n",
    "\n",
    "#             pointer = matching_packet_idx + 1\n",
    "#             last_encountered_ts = attack_ts\n",
    "        \n",
    "#         else:\n",
    "#             last_encountered_ts += target_periodicity \n",
    "\n",
    "        \n",
    "# out_data.extend((normal_data.iloc[pointer:]).values)\n",
    "# print(f\"Packets inserted: {packets_inserted}\")"
   ]
  },
  {
   "cell_type": "code",
   "execution_count": 11,
   "metadata": {},
   "outputs": [],
   "source": [
    "periodicity_dict = calculate_periodicity(normal_data)\n",
    "\n",
    "##Latest function\n",
    "def add_dos(data, top_id_to_consider = 5):\n",
    "    \n",
    "    ## This is the time in seconds that the bus would take to transmit a packet which has 110 bits (maximum packet size)\n",
    "    max_time_to_transmit = 0.00021\n",
    "    \n",
    "    periodicity_dict = calculate_periodicity(data)\n",
    "    sorted_periodicity_dict = dict(sorted(periodicity_dict.items(), key=lambda item: item[1], reverse=True))\n",
    "\n",
    "    ## Retrieving message ID with highest periodicity, this will be the message ID that we will use to inject packets\n",
    "    highest_periodicity_id = list(sorted_periodicity_dict.keys())[0]\n",
    "    highest_periodicity =  list(sorted_periodicity_dict.values())[0]\n",
    "\n",
    "    ## Retrieving message ID with lowest periodicity, our target message ID shouldnt have a lower periodicity than this after injection is complete\n",
    "    lowest_periodicity_id = list(sorted_periodicity_dict.keys())[-1]\n",
    "    lowest_periodicity =  list(sorted_periodicity_dict.values())[-1]\n",
    "    \n",
    "    ## Retrieving the indexes at which there is a message with highest periodicity message ID\n",
    "    index_list_of_highest_arb_id = list(data[data['ID'] == highest_periodicity_id].index)\n",
    "    \n",
    "    ##TODO: currently only 1 packet is being inserted, choose frequency difference / lowest frequency\n",
    "    ##TODO: Randomize attack packet arb id based on frequency : If injecting multiple packets at once, they can be of different IDs and follow the same attack principle\n",
    "    \n",
    "\n",
    "    out_data = []\n",
    "    packets_inserted = 0\n",
    "    pointer = 0 \n",
    "    offset = 0.00021 #make this dynamic depending on attack packet size\n",
    "    \n",
    "    for index in tqdm(range(len(index_list_of_highest_arb_id) - 1)):\n",
    "\n",
    "        ts1 = normal_data['Timestamp'].iloc[index_list_of_highest_arb_id[index]]\n",
    "        ts2 = normal_data['Timestamp'].iloc[index_list_of_highest_arb_id[index + 1]]\n",
    "\n",
    "        # print(\"index_list_of_highest_arb_id[index]):\",index_list_of_highest_arb_id[index])\n",
    "        # print(\"index_list_of_highest_arb_id[index+1]:\",index_list_of_highest_arb_id[index+1])\n",
    "\n",
    "        last_encountered_ts = ts1\n",
    "\n",
    "        while last_encountered_ts < ts2:\n",
    "\n",
    "            # print(ts1, last_encountered_ts, ts2)  \n",
    "            ## DLC is always 8, data might not be\n",
    "\n",
    "            ##Adjust this parameter for attack intensity\n",
    "            target_periodicity = 0.029 * lowest_periodicity\n",
    "\n",
    "            if target_periodicity <= max_time_to_transmit:\n",
    "                target_periodicity = lowest_periodicity\n",
    "                print(\"Forced to change target periodicity to lowest periodicity\")\n",
    "            \n",
    "            #Because we are trying to bring the periodcity of the attack IDs to the lowest\n",
    "            matching_ts = last_encountered_ts + target_periodicity\n",
    "\n",
    "            #Finding the location of where attack packet should be if we are trying to match the lowest periodicity\n",
    "            matching_packet_idx = normal_data[normal_data['Timestamp'] < matching_ts].index.max()\n",
    "            # print(\"matching_packet_idx:\",matching_packet_idx)\n",
    "\n",
    "            #No injection packet can have an higher timestamp than this value\n",
    "            injection_ts_upper_bound = normal_data['Timestamp'].iloc[matching_packet_idx + 1] - max_time_to_transmit\n",
    "            interval = normal_data['Timestamp'].iloc[matching_packet_idx + 1] - normal_data['Timestamp'].iloc[matching_packet_idx]\n",
    "\n",
    "            # print(matching_packet_idx)\n",
    "            num_packets_to_insert = int((interval - max_time_to_transmit) // max_time_to_transmit)\n",
    "\n",
    "            # print(\"interval:\", interval)\n",
    "\n",
    "            # print(\"num_packets_to_insert:\",num_packets_to_insert)\n",
    "\n",
    "            # if counter != 0:\n",
    "            #     break\n",
    "\n",
    "            if num_packets_to_insert >= 1:\n",
    "\n",
    "                # Timestamp\tID\tDLC\tPayload\tlabel\n",
    "                out_data.extend((normal_data.iloc[pointer:matching_packet_idx+1]).values)\n",
    "\n",
    "                attack_ts = normal_data['Timestamp'].iloc[matching_packet_idx] + target_periodicity\n",
    "                \n",
    "                if attack_ts >= injection_ts_upper_bound:\n",
    "                    pointer = matching_packet_idx + 1\n",
    "                    last_encountered_ts = attack_ts\n",
    "                    break\n",
    "                else:\n",
    "                    attack_packet = [attack_ts, highest_periodicity_id, 8, np.random.choice(normal_data[normal_data['ID'] == highest_periodicity_id]['Payload']),1]\n",
    "                    out_data.append(attack_packet)\n",
    "                    packets_inserted += 1\n",
    "\n",
    "                for packets in range(1, num_packets_to_insert):\n",
    "                    rand_id = np.random.choice(list(sorted_periodicity_dict.keys())[:5])\n",
    "                    attack_ts += max_time_to_transmit + target_periodicity\n",
    "                    \n",
    "                    if attack_ts >= injection_ts_upper_bound:\n",
    "                        break\n",
    "                    else:\n",
    "                        attack_packet = [attack_ts, rand_id, 8,  np.random.choice(normal_data[normal_data['ID'] == rand_id]['Payload']),1]\n",
    "                        out_data.append(attack_packet)\n",
    "                        packets_inserted += 1\n",
    "                \n",
    "\n",
    "                \n",
    "\n",
    "                pointer = matching_packet_idx + 1\n",
    "                last_encountered_ts = attack_ts\n",
    "            \n",
    "            else:\n",
    "                last_encountered_ts += target_periodicity \n",
    "\n",
    "            \n",
    "    out_data.extend((normal_data.iloc[pointer:]).values)\n",
    "    print(f\"Packets inserted: {packets_inserted}\")\n",
    "    return out_data"
   ]
  },
  {
   "cell_type": "code",
   "execution_count": 12,
   "metadata": {},
   "outputs": [
    {
     "name": "stderr",
     "output_type": "stream",
     "text": [
      "100%|█████████████████████████████████████████| 131/131 [00:01<00:00, 96.67it/s]\n"
     ]
    },
    {
     "name": "stdout",
     "output_type": "stream",
     "text": [
      "Packets inserted: 738\n"
     ]
    }
   ],
   "source": [
    "out = add_dos(normal_data)\n",
    "out_df = pd.DataFrame(out, columns = ['Timestamp','ID', 'DLC', 'Payload', 'label'])"
   ]
  },
  {
   "cell_type": "code",
   "execution_count": 13,
   "metadata": {},
   "outputs": [],
   "source": [
    "out_df = out_df.assign(IAT=out_df['Timestamp'].diff().fillna(0))"
   ]
  },
  {
   "cell_type": "code",
   "execution_count": 14,
   "metadata": {},
   "outputs": [],
   "source": [
    "attack_periodicity = calculate_periodicity(out_df)"
   ]
  },
  {
   "cell_type": "code",
   "execution_count": 15,
   "metadata": {},
   "outputs": [
    {
     "data": {
      "text/html": [
       "<div>\n",
       "<style scoped>\n",
       "    .dataframe tbody tr th:only-of-type {\n",
       "        vertical-align: middle;\n",
       "    }\n",
       "\n",
       "    .dataframe tbody tr th {\n",
       "        vertical-align: top;\n",
       "    }\n",
       "\n",
       "    .dataframe thead th {\n",
       "        text-align: right;\n",
       "    }\n",
       "</style>\n",
       "<table border=\"1\" class=\"dataframe\">\n",
       "  <thead>\n",
       "    <tr style=\"text-align: right;\">\n",
       "      <th></th>\n",
       "      <th>ID</th>\n",
       "      <th>Benign Periodicity</th>\n",
       "      <th>Attack Periodicity</th>\n",
       "      <th>Delta</th>\n",
       "    </tr>\n",
       "  </thead>\n",
       "  <tbody>\n",
       "    <tr>\n",
       "      <th>1</th>\n",
       "      <td>100</td>\n",
       "      <td>2.000062</td>\n",
       "      <td>0.433788</td>\n",
       "      <td>1.566274</td>\n",
       "    </tr>\n",
       "    <tr>\n",
       "      <th>28</th>\n",
       "      <td>571</td>\n",
       "      <td>1.000024</td>\n",
       "      <td>0.780434</td>\n",
       "      <td>0.219590</td>\n",
       "    </tr>\n",
       "    <tr>\n",
       "      <th>6</th>\n",
       "      <td>181</td>\n",
       "      <td>1.000003</td>\n",
       "      <td>0.800182</td>\n",
       "      <td>0.199821</td>\n",
       "    </tr>\n",
       "    <tr>\n",
       "      <th>5</th>\n",
       "      <td>180</td>\n",
       "      <td>1.000007</td>\n",
       "      <td>0.816205</td>\n",
       "      <td>0.183802</td>\n",
       "    </tr>\n",
       "    <tr>\n",
       "      <th>25</th>\n",
       "      <td>44d</td>\n",
       "      <td>0.286397</td>\n",
       "      <td>0.267207</td>\n",
       "      <td>0.019190</td>\n",
       "    </tr>\n",
       "  </tbody>\n",
       "</table>\n",
       "</div>"
      ],
      "text/plain": [
       "     ID  Benign Periodicity  Attack Periodicity     Delta\n",
       "1   100            2.000062            0.433788  1.566274\n",
       "28  571            1.000024            0.780434  0.219590\n",
       "6   181            1.000003            0.800182  0.199821\n",
       "5   180            1.000007            0.816205  0.183802\n",
       "25  44d            0.286397            0.267207  0.019190"
      ]
     },
     "execution_count": 15,
     "metadata": {},
     "output_type": "execute_result"
    }
   ],
   "source": [
    "arb_ids = list(periodicity_dict.keys())\n",
    "\n",
    "benign_periodicity_values = [periodicity_dict[can_id] for can_id in arb_ids]\n",
    "attack_periodicity_values = [attack_periodicity[can_id] for can_id in arb_ids]\n",
    "\n",
    "periodicity_df = pd.DataFrame(columns = \n",
    "                              ['ID', 'Benign Periodicity', 'Attack Periodicity'],\n",
    "                              data = {'ID': arb_ids,\n",
    "                                      'Benign Periodicity': benign_periodicity_values,\n",
    "                                      'Attack Periodicity': attack_periodicity_values})\n",
    "\n",
    "periodicity_df['Delta'] = abs(periodicity_df['Benign Periodicity'] - periodicity_df['Attack Periodicity'])\n",
    "\n",
    "periodicity_df = periodicity_df.sort_values(by='Delta', ascending=False)\n",
    "\n",
    "periodicity_df['ID'] = periodicity_df['ID'].apply(dec_to_hex)\n",
    "\n",
    "periodicity_df.head()"
   ]
  },
  {
   "cell_type": "code",
   "execution_count": 16,
   "metadata": {},
   "outputs": [
    {
     "data": {
      "image/png": "[encoded data removed]",
      "text/plain": [
       "<Figure size 2000x600 with 1 Axes>"
      ]
     },
     "metadata": {},
     "output_type": "display_data"
    }
   ],
   "source": [
    "# Plotting\n",
    "fig, ax = plt.subplots(figsize=(20, 6))\n",
    "\n",
    "bar_width = 0.35\n",
    "bar_positions = range(len(periodicity_df))\n",
    "\n",
    "benign_bars = ax.bar(bar_positions, periodicity_df['Benign Periodicity'], bar_width, label='Periodicity in Benign Data')\n",
    "smart_bars = ax.bar([p + bar_width for p in bar_positions], periodicity_df['Attack Periodicity'], bar_width, label='Periodicity after Adversarial Attack')\n",
    "\n",
    "ax.set_xticks([p + bar_width / 2 for p in bar_positions])\n",
    "ax.set_xticklabels(periodicity_df['ID'])\n",
    "\n",
    "ax.set_xlabel('ID')\n",
    "ax.set_ylabel('Periodicity')\n",
    "ax.set_title('Benign vs Attack Periodicity')\n",
    "ax.legend()\n",
    "\n",
    "plt.show()\n"
   ]
  },
  {
   "cell_type": "code",
   "execution_count": 17,
   "metadata": {},
   "outputs": [],
   "source": [
    "# output_file = os.path.join(data_folder, 'smart_output.csv')\n",
    "\n",
    "# out_df.to_csv(output_file, index = False)"
   ]
  },
  {
   "cell_type": "code",
   "execution_count": 18,
   "metadata": {},
   "outputs": [
    {
     "data": {
      "text/plain": [
       "(100000, 5)"
      ]
     },
     "execution_count": 18,
     "metadata": {},
     "output_type": "execute_result"
    }
   ],
   "source": [
    "normal_data.shape"
   ]
  },
  {
   "cell_type": "code",
   "execution_count": 19,
   "metadata": {},
   "outputs": [
    {
     "data": {
      "text/plain": [
       "(100738, 6)"
      ]
     },
     "execution_count": 19,
     "metadata": {},
     "output_type": "execute_result"
    }
   ],
   "source": [
    "out_df.shape\n"
   ]
  },
  {
   "cell_type": "code",
   "execution_count": null,
   "metadata": {},
   "outputs": [],
   "source": []
  }
 ],
 "metadata": {
  "kernelspec": {
   "display_name": "Python 3 (ipykernel)",
   "language": "python",
   "name": "python3"
  },
  "language_info": {
   "codemirror_mode": {
    "name": "ipython",
    "version": 3
   },
   "file_extension": ".py",
   "mimetype": "text/x-python",
   "name": "python",
   "nbconvert_exporter": "python",
   "pygments_lexer": "ipython3",
   "version": "3.7.16"
  }
 },
 "nbformat": 4,
 "nbformat_minor": 2
}
