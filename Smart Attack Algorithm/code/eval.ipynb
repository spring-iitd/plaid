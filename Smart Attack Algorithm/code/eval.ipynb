{
 "cells": [
  {
   "cell_type": "code",
   "execution_count": 10,
   "metadata": {},
   "outputs": [],
   "source": [
    "import os\n",
    "import numpy as np\n",
    "import pandas as pd\n",
    "import argparse\n",
    "from tensorflow.keras.models import load_model\n",
    "from xgboost import XGBClassifier\n",
    "from joblib import load\n",
    "import matplotlib.pyplot as plt\n",
    "from sklearn.metrics import accuracy_score, classification_report"
   ]
  },
  {
   "cell_type": "code",
   "execution_count": 2,
   "metadata": {},
   "outputs": [],
   "source": [
    "data_dir = '../data/Car Hacking Dataset/'\n",
    "file_name = 'smart_output.csv'\n",
    "smart_data = pd.read_csv(os.path.join(data_dir, file_name))"
   ]
  },
  {
   "cell_type": "code",
   "execution_count": 3,
   "metadata": {},
   "outputs": [
    {
     "data": {
      "text/html": [
       "<div>\n",
       "<style scoped>\n",
       "    .dataframe tbody tr th:only-of-type {\n",
       "        vertical-align: middle;\n",
       "    }\n",
       "\n",
       "    .dataframe tbody tr th {\n",
       "        vertical-align: top;\n",
       "    }\n",
       "\n",
       "    .dataframe thead th {\n",
       "        text-align: right;\n",
       "    }\n",
       "</style>\n",
       "<table border=\"1\" class=\"dataframe\">\n",
       "  <thead>\n",
       "    <tr style=\"text-align: right;\">\n",
       "      <th></th>\n",
       "      <th>ID</th>\n",
       "      <th>DLC</th>\n",
       "      <th>Payload</th>\n",
       "      <th>label</th>\n",
       "      <th>IAT</th>\n",
       "    </tr>\n",
       "  </thead>\n",
       "  <tbody>\n",
       "    <tr>\n",
       "      <th>0</th>\n",
       "      <td>848.0</td>\n",
       "      <td>8.0</td>\n",
       "      <td>3.716925e+17</td>\n",
       "      <td>0.0</td>\n",
       "      <td>0.000000</td>\n",
       "    </tr>\n",
       "    <tr>\n",
       "      <th>1</th>\n",
       "      <td>704.0</td>\n",
       "      <td>8.0</td>\n",
       "      <td>1.441152e+18</td>\n",
       "      <td>0.0</td>\n",
       "      <td>0.000221</td>\n",
       "    </tr>\n",
       "    <tr>\n",
       "      <th>2</th>\n",
       "      <td>1072.0</td>\n",
       "      <td>8.0</td>\n",
       "      <td>0.000000e+00</td>\n",
       "      <td>0.0</td>\n",
       "      <td>0.000554</td>\n",
       "    </tr>\n",
       "    <tr>\n",
       "      <th>3</th>\n",
       "      <td>1201.0</td>\n",
       "      <td>8.0</td>\n",
       "      <td>0.000000e+00</td>\n",
       "      <td>0.0</td>\n",
       "      <td>0.000238</td>\n",
       "    </tr>\n",
       "    <tr>\n",
       "      <th>4</th>\n",
       "      <td>497.0</td>\n",
       "      <td>8.0</td>\n",
       "      <td>0.000000e+00</td>\n",
       "      <td>0.0</td>\n",
       "      <td>0.000248</td>\n",
       "    </tr>\n",
       "  </tbody>\n",
       "</table>\n",
       "</div>"
      ],
      "text/plain": [
       "       ID  DLC       Payload  label       IAT\n",
       "0   848.0  8.0  3.716925e+17    0.0  0.000000\n",
       "1   704.0  8.0  1.441152e+18    0.0  0.000221\n",
       "2  1072.0  8.0  0.000000e+00    0.0  0.000554\n",
       "3  1201.0  8.0  0.000000e+00    0.0  0.000238\n",
       "4   497.0  8.0  0.000000e+00    0.0  0.000248"
      ]
     },
     "execution_count": 3,
     "metadata": {},
     "output_type": "execute_result"
    }
   ],
   "source": [
    "smart_data = smart_data.assign(IAT=smart_data['Timestamp'].diff().fillna(0))\n",
    "smart_data.drop(['Timestamp'], axis = 1, inplace = True)\n",
    "smart_data.head()"
   ]
  },
  {
   "cell_type": "code",
   "execution_count": 4,
   "metadata": {},
   "outputs": [],
   "source": [
    "X = smart_data.drop(['label'], axis = 1).to_numpy()\n",
    "y = smart_data['label'].to_numpy()"
   ]
  },
  {
   "cell_type": "code",
   "execution_count": 5,
   "metadata": {},
   "outputs": [],
   "source": [
    "def sequencify_data(X, y, seq_size=10):\n",
    "    \n",
    "    # Calculate the maximum index to be considered based on sequence size\n",
    "    max_index = (len(X) // seq_size) * seq_size\n",
    "\n",
    "    X_seq = []\n",
    "    y_seq = []\n",
    "    for i in range(0, max_index, seq_size):\n",
    "        X_seq.append(X[i:i+seq_size])\n",
    "        y_seq.append(1 if 1 in y[i:i+seq_size] else 0)\n",
    "\n",
    "    return np.array(X_seq), np.array(y_seq)"
   ]
  },
  {
   "cell_type": "code",
   "execution_count": 6,
   "metadata": {},
   "outputs": [],
   "source": [
    "scaler = load(os.path.join(data_dir, 'scaler.joblib'))\n",
    "seq_scaler = load(os.path.join(data_dir, 'seq_scaler.joblib'))"
   ]
  },
  {
   "cell_type": "code",
   "execution_count": 7,
   "metadata": {},
   "outputs": [
    {
     "name": "stderr",
     "output_type": "stream",
     "text": [
      "2023-10-29 22:18:24.784989: I tensorflow/core/common_runtime/pluggable_device/pluggable_device_factory.cc:306] Could not identify NUMA node of platform GPU ID 0, defaulting to 0. Your kernel may not have been built with NUMA support.\n",
      "2023-10-29 22:18:24.785745: I tensorflow/core/common_runtime/pluggable_device/pluggable_device_factory.cc:272] Created TensorFlow device (/job:localhost/replica:0/task:0/device:GPU:0 with 0 MB memory) -> physical PluggableDevice (device: 0, name: METAL, pci bus id: <undefined>)\n"
     ]
    },
    {
     "name": "stdout",
     "output_type": "stream",
     "text": [
      "Metal device set to: Apple M2\n",
      "\n",
      "systemMemory: 8.00 GB\n",
      "maxCacheSize: 2.67 GB\n",
      "\n"
     ]
    }
   ],
   "source": [
    "mlp = load_model(os.path.join(data_dir, 'mlp.h5'))\n",
    "# lstm = load_model(os.paht.join(data_dir, 'lstm.h5'))\n",
    "xgb = XGBClassifier()\n",
    "xgb.load_model(os.path.join(data_dir, 'xgb.json'))\n",
    "dt = load(os.path.join(data_dir, 'dt.pkl'))\n",
    "rf = load(os.path.join(data_dir, 'rf.pkl'))"
   ]
  },
  {
   "cell_type": "code",
   "execution_count": 8,
   "metadata": {},
   "outputs": [],
   "source": [
    "X_seq, y_seq = sequencify_data(X, y)"
   ]
  },
  {
   "cell_type": "code",
   "execution_count": 9,
   "metadata": {},
   "outputs": [
    {
     "name": "stderr",
     "output_type": "stream",
     "text": [
      "/Users/anwesh/opt/anaconda3/envs/tf/lib/python3.9/site-packages/sklearn/base.py:420: UserWarning: X does not have valid feature names, but StandardScaler was fitted with feature names\n",
      "  warnings.warn(\n"
     ]
    }
   ],
   "source": [
    "X = scaler.transform(X)\n",
    "\n",
    "num_samples, seq_length, num_features = X_seq.shape\n",
    "X_seq_reshaped = X_seq.reshape(num_samples, -1)\n",
    "X_seq = seq_scaler.fit_transform(X_seq_reshaped)\n",
    "X_seq = X_seq.reshape(num_samples, seq_length, num_features)\n"
   ]
  },
  {
   "cell_type": "code",
   "execution_count": 11,
   "metadata": {},
   "outputs": [
    {
     "name": "stdout",
     "output_type": "stream",
     "text": [
      "------MLP------\n"
     ]
    },
    {
     "name": "stderr",
     "output_type": "stream",
     "text": [
      "2023-10-29 22:25:10.990146: W tensorflow/core/platform/profile_utils/cpu_utils.cc:128] Failed to get CPU frequency: 0 Hz\n",
      "2023-10-29 22:25:11.120308: I tensorflow/core/grappler/optimizers/custom_graph_optimizer_registry.cc:114] Plugin optimizer for device_type GPU is enabled.\n"
     ]
    },
    {
     "name": "stdout",
     "output_type": "stream",
     "text": [
      "31478/31478 [==============================] - 46s 1ms/step\n",
      "ACCURACY:  0.9299223057693873\n",
      "CLASSIFICATION REPORT:\n",
      "               precision    recall  f1-score   support\n",
      "\n",
      "         0.0       0.98      0.95      0.96    988871\n",
      "         1.0       0.00      0.00      0.00     18411\n",
      "\n",
      "    accuracy                           0.93   1007282\n",
      "   macro avg       0.49      0.47      0.48   1007282\n",
      "weighted avg       0.96      0.93      0.95   1007282\n",
      "\n",
      "------XGBOOST------\n",
      "ACCURACY:  0.9817220996702016\n"
     ]
    },
    {
     "name": "stderr",
     "output_type": "stream",
     "text": [
      "/Users/anwesh/opt/anaconda3/envs/tf/lib/python3.9/site-packages/sklearn/metrics/_classification.py:1344: UndefinedMetricWarning: Precision and F-score are ill-defined and being set to 0.0 in labels with no predicted samples. Use `zero_division` parameter to control this behavior.\n",
      "  _warn_prf(average, modifier, msg_start, len(result))\n",
      "/Users/anwesh/opt/anaconda3/envs/tf/lib/python3.9/site-packages/sklearn/metrics/_classification.py:1344: UndefinedMetricWarning: Precision and F-score are ill-defined and being set to 0.0 in labels with no predicted samples. Use `zero_division` parameter to control this behavior.\n",
      "  _warn_prf(average, modifier, msg_start, len(result))\n",
      "/Users/anwesh/opt/anaconda3/envs/tf/lib/python3.9/site-packages/sklearn/metrics/_classification.py:1344: UndefinedMetricWarning: Precision and F-score are ill-defined and being set to 0.0 in labels with no predicted samples. Use `zero_division` parameter to control this behavior.\n",
      "  _warn_prf(average, modifier, msg_start, len(result))\n"
     ]
    },
    {
     "name": "stdout",
     "output_type": "stream",
     "text": [
      "CLASSIFICATION REPORT:\n",
      "               precision    recall  f1-score   support\n",
      "\n",
      "         0.0       0.98      1.00      0.99    988871\n",
      "         1.0       0.00      0.00      0.00     18411\n",
      "\n",
      "    accuracy                           0.98   1007282\n",
      "   macro avg       0.49      0.50      0.50   1007282\n",
      "weighted avg       0.96      0.98      0.97   1007282\n",
      "\n",
      "------Decision Tree------\n",
      "ACCURACY:  0.9817220996702016\n"
     ]
    },
    {
     "name": "stderr",
     "output_type": "stream",
     "text": [
      "/Users/anwesh/opt/anaconda3/envs/tf/lib/python3.9/site-packages/sklearn/metrics/_classification.py:1344: UndefinedMetricWarning: Precision and F-score are ill-defined and being set to 0.0 in labels with no predicted samples. Use `zero_division` parameter to control this behavior.\n",
      "  _warn_prf(average, modifier, msg_start, len(result))\n",
      "/Users/anwesh/opt/anaconda3/envs/tf/lib/python3.9/site-packages/sklearn/metrics/_classification.py:1344: UndefinedMetricWarning: Precision and F-score are ill-defined and being set to 0.0 in labels with no predicted samples. Use `zero_division` parameter to control this behavior.\n",
      "  _warn_prf(average, modifier, msg_start, len(result))\n",
      "/Users/anwesh/opt/anaconda3/envs/tf/lib/python3.9/site-packages/sklearn/metrics/_classification.py:1344: UndefinedMetricWarning: Precision and F-score are ill-defined and being set to 0.0 in labels with no predicted samples. Use `zero_division` parameter to control this behavior.\n",
      "  _warn_prf(average, modifier, msg_start, len(result))\n"
     ]
    },
    {
     "name": "stdout",
     "output_type": "stream",
     "text": [
      "CLASSIFICATION REPORT:\n",
      "               precision    recall  f1-score   support\n",
      "\n",
      "         0.0       0.98      1.00      0.99    988871\n",
      "         1.0       0.00      0.00      0.00     18411\n",
      "\n",
      "    accuracy                           0.98   1007282\n",
      "   macro avg       0.49      0.50      0.50   1007282\n",
      "weighted avg       0.96      0.98      0.97   1007282\n",
      "\n",
      "------Random Forest------\n",
      "ACCURACY:  0.9817220996702016\n"
     ]
    },
    {
     "name": "stderr",
     "output_type": "stream",
     "text": [
      "/Users/anwesh/opt/anaconda3/envs/tf/lib/python3.9/site-packages/sklearn/metrics/_classification.py:1344: UndefinedMetricWarning: Precision and F-score are ill-defined and being set to 0.0 in labels with no predicted samples. Use `zero_division` parameter to control this behavior.\n",
      "  _warn_prf(average, modifier, msg_start, len(result))\n",
      "/Users/anwesh/opt/anaconda3/envs/tf/lib/python3.9/site-packages/sklearn/metrics/_classification.py:1344: UndefinedMetricWarning: Precision and F-score are ill-defined and being set to 0.0 in labels with no predicted samples. Use `zero_division` parameter to control this behavior.\n",
      "  _warn_prf(average, modifier, msg_start, len(result))\n"
     ]
    },
    {
     "name": "stdout",
     "output_type": "stream",
     "text": [
      "CLASSIFICATION REPORT:\n",
      "               precision    recall  f1-score   support\n",
      "\n",
      "         0.0       0.98      1.00      0.99    988871\n",
      "         1.0       0.00      0.00      0.00     18411\n",
      "\n",
      "    accuracy                           0.98   1007282\n",
      "   macro avg       0.49      0.50      0.50   1007282\n",
      "weighted avg       0.96      0.98      0.97   1007282\n",
      "\n"
     ]
    },
    {
     "name": "stderr",
     "output_type": "stream",
     "text": [
      "/Users/anwesh/opt/anaconda3/envs/tf/lib/python3.9/site-packages/sklearn/metrics/_classification.py:1344: UndefinedMetricWarning: Precision and F-score are ill-defined and being set to 0.0 in labels with no predicted samples. Use `zero_division` parameter to control this behavior.\n",
      "  _warn_prf(average, modifier, msg_start, len(result))\n"
     ]
    }
   ],
   "source": [
    "threshold = 0.5\n",
    "\n",
    "print(\"------MLP------\")\n",
    "\n",
    "mlp_preds = mlp.predict(X)\n",
    "mlp_preds = (mlp_preds >= threshold).astype(int)\n",
    "\n",
    "print(\"ACCURACY: \", accuracy_score(y, mlp_preds))\n",
    "print(\"CLASSIFICATION REPORT:\\n\", classification_report(y, mlp_preds))\n",
    "\n",
    "# with open(os.path.join(data_dir,'evaluation_results.txt'),'w') as file:\n",
    "#     file.write(\"-------MLP-------\\n\")\n",
    "#     file.write(f\"Accuracy Score: \")\n",
    "#     file.write(str(accuracy_score(y, mlp_preds)))\n",
    "#     file.write(\"\\n\")\n",
    "#     file.write('Classification Report:\\n')\n",
    "#     file.write(str(classification_report(y, mlp_preds)))\n",
    "#     file.write(\"\\n\\n\\n\\n\")\n",
    "\n",
    "\n",
    "# print(\"------LSTM------\")\n",
    "\n",
    "# lstm_preds = lstm.predict(X_seq)\n",
    "# lstm_preds = (lstm_preds >= threshold).astype(int)\n",
    "\n",
    "# print(\"ACCURACY: \", accuracy_score(y_seq, lstm_preds))\n",
    "# print(\"CLASSIFICATION REPORT:\\n\", classification_report(y_seq, lstm_preds))\n",
    "\n",
    "# with open(os.path.join(data_dir,'evaluation_results.txt'),'a') as file:\n",
    "#     file.write(\"-------LSTM-------\\n\")\n",
    "#     file.write(f\"Accuracy Score: \")\n",
    "#     file.write(str(accuracy_score(y_seq, lstm_preds)))\n",
    "#     file.write(\"\\n\")\n",
    "#     file.write('Classification Report:\\n')\n",
    "#     file.write(str(classification_report(y_seq, lstm_preds)))\n",
    "#     file.write(\"\\n\\n\\n\\n\")\n",
    "\n",
    "print(\"------XGBOOST------\")\n",
    "\n",
    "xgb_preds = xgb.predict(X)\n",
    "\n",
    "print(\"ACCURACY: \", accuracy_score(y, xgb_preds))\n",
    "print(\"CLASSIFICATION REPORT:\\n\", classification_report(y, xgb_preds))\n",
    "\n",
    "print(\"------Decision Tree------\")\n",
    "\n",
    "dt_preds = dt.predict(X)\n",
    "\n",
    "print(\"ACCURACY: \", accuracy_score(y, dt_preds))\n",
    "print(\"CLASSIFICATION REPORT:\\n\", classification_report(y, dt_preds))\n",
    "\n",
    "print(\"------Random Forest------\")\n",
    "\n",
    "rf_preds = rf.predict(X)\n",
    "\n",
    "print(\"ACCURACY: \", accuracy_score(y, rf_preds))\n",
    "print(\"CLASSIFICATION REPORT:\\n\", classification_report(y, rf_preds))"
   ]
  },
  {
   "cell_type": "code",
   "execution_count": null,
   "metadata": {},
   "outputs": [],
   "source": []
  }
 ],
 "metadata": {
  "kernelspec": {
   "display_name": "tf",
   "language": "python",
   "name": "python3"
  },
  "language_info": {
   "codemirror_mode": {
    "name": "ipython",
    "version": 3
   },
   "file_extension": ".py",
   "mimetype": "text/x-python",
   "name": "python",
   "nbconvert_exporter": "python",
   "pygments_lexer": "ipython3",
   "version": "3.9.16"
  },
  "orig_nbformat": 4
 },
 "nbformat": 4,
 "nbformat_minor": 2
}
