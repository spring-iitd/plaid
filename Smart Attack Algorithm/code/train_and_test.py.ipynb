{
 "cells": [
  {
   "cell_type": "code",
   "execution_count": null,
   "id": "39bb9626",
   "metadata": {},
   "outputs": [],
   "source": [
    "import os\n",
    "import numpy as np\n",
    "import pandas as pd\n",
    "from sklearn.preprocessing import StandardScaler, OneHotEncoder\n",
    "from sklearn.model_selection import train_test_split\n",
    "from tensorflow.keras.models import Sequential, save_model\n",
    "from tensorflow.keras.layers import Dense, LSTM, Input, Dropout\n",
    "from tensorflow.keras.callbacks import EarlyStopping\n",
    "from sklearn.tree import DecisionTreeClassifier\n",
    "from sklearn.ensemble import RandomForestClassifier\n",
    "from xgboost import XGBClassifier\n",
    "from sklearn.metrics import accuracy_score, classification_report, confusion_matrix, ConfusionMatrixDisplay\n",
    "from sklearn.utils import class_weight\n",
    "from imblearn.over_sampling import SMOTE\n",
    "import argparse\n",
    "from joblib import dump\n",
    "import matplotlib.pyplot as plt\n",
    "import seaborn as sns\n",
    "from copy import deepcopy\n",
    "\n",
    "parser = argparse.ArgumentParser()\n",
    "\n",
    "# parser.add_argument('directory', \n",
    "#                     type=str, \n",
    "#                     help = 'directory where files are stored')\n",
    "# args = parser.parse_args()\n",
    "\n",
    "# base_dir = '../data/Car Hacking Dataset/'\n",
    "base_dir = './'\n",
    "\n",
    "\n",
    "file_name = 'aux_attacks_new_post.csv'\n",
    "data = pd.read_csv(os.path.join(base_dir, file_name))\n",
    "\n",
    "# save_loc = os.path.join(base_dir, 'Adversarial Training Evaluation')\n",
    "# os.makedirs(save_loc)\n",
    "\n",
    "data = data.assign(IAT=data['Timestamp'].diff().fillna(0))\n",
    "data.drop(['Timestamp'], axis = 1, inplace = True)\n",
    "\n",
    "def hex_to_bin(hex_num):\n",
    "    \n",
    "    binary_value = bin(int(str(hex_num), 16))[2:]\n",
    "    \n",
    "    return binary_value\n",
    "\n",
    "def int_to_bin(int_num):\n",
    "    \n",
    "    binary_value = bin(int_num)[2:]\n",
    "    \n",
    "    return binary_value\n",
    "\n",
    "def pad(value, length):\n",
    "    \n",
    "    curr_length = len(str(value))\n",
    "    \n",
    "    zeros = '0' * (length - curr_length)\n",
    "    \n",
    "    return zeros + value\n",
    "\n",
    "hex_to_dec = lambda x: int(x, 16)\n",
    "\n",
    "def transform_data(data):\n",
    "\n",
    "    data['ID'] = data['ID'].apply(hex_to_dec)\n",
    "    data['Payload'] = data['Payload'].apply(hex_to_dec)\n",
    "\n",
    "    return data\n",
    "\n",
    "def sequencify_data(X, y, seq_size=10):\n",
    "    max_index = len(X) - seq_size + 1\n",
    "\n",
    "    X_seq = []\n",
    "    y_seq = []\n",
    "\n",
    "    for i in range(0, max_index, seq_size):\n",
    "        X_seq.append(X[i:i+seq_size])  # Append the sequence from DataFrame 'X'\n",
    "        y_seq.append(1 if 1 in y[i:i+seq_size] else 0)  # Check for '1' in 'y' values\n",
    "\n",
    "    return np.array(X_seq), np.array(y_seq)\n",
    "\n",
    "# data = transform_data(data)"
   ]
  },
  {
   "cell_type": "code",
   "execution_count": 34,
   "id": "9075a688",
   "metadata": {},
   "outputs": [],
   "source": [
    "X = data.drop('label', axis = 1)\n",
    "y = data['label']"
   ]
  },
  {
   "cell_type": "code",
   "execution_count": 43,
   "id": "b7255eb8",
   "metadata": {},
   "outputs": [],
   "source": [
    "y_tri = y.copy(deep=True)\n",
    "y = y.replace(2,1)"
   ]
  },
  {
   "cell_type": "code",
   "execution_count": null,
   "id": "728aa2a1",
   "metadata": {},
   "outputs": [],
   "source": []
  },
  {
   "cell_type": "code",
   "execution_count": 44,
   "id": "3e2fa28f",
   "metadata": {},
   "outputs": [
    {
     "name": "stdout",
     "output_type": "stream",
     "text": [
      "(array([0., 1., 2.]), array([100000,  18191,  33964]))\n",
      "(array([0., 1.]), array([100000,  52155]))\n"
     ]
    }
   ],
   "source": [
    "print(np.unique(y_tri, return_counts=True))\n",
    "print(np.unique(y, return_counts=True))"
   ]
  },
  {
   "cell_type": "code",
   "execution_count": 45,
   "id": "3dcedd5f",
   "metadata": {},
   "outputs": [],
   "source": [
    "X_seq, y_seq = sequencify_data(X.values, y.values)\n",
    "\n",
    "#Splitting into train and test\n",
    "X_train, X_test, y_train, y_test = train_test_split(X, y, test_size = 0.2, shuffle=True, random_state=42)\n",
    "X_seq_train, X_seq_test, y_seq_train, y_seq_test = train_test_split(X_seq, y_seq, test_size = 0.2, shuffle= True)\n",
    "\n",
    "#Standardization\n",
    "scaler = StandardScaler()\n",
    "X_train = scaler.fit_transform(X_train)\n",
    "X_test = scaler.transform(X_test)\n",
    "\n",
    "seq_scaler = StandardScaler()\n",
    "num_train_samples, seq_length, num_features = X_seq_train.shape\n",
    "num_test_samples, _, _ = X_seq_test.shape\n",
    "\n",
    "X_train_seq_reshaped = X_seq_train.reshape(num_train_samples, -1)\n",
    "X_test_seq_reshaped = X_seq_test.reshape(num_test_samples, -1)\n",
    "\n",
    "X_train_seq_scaled = seq_scaler.fit_transform(X_train_seq_reshaped)\n",
    "X_test_seq_scaled = seq_scaler.transform(X_test_seq_reshaped)\n",
    "\n",
    "# Reshape the scaled data back to the original shape\n",
    "X_seq_train = X_train_seq_scaled.reshape(num_train_samples, seq_length, num_features)\n",
    "X_seq_test = X_test_seq_scaled.reshape(num_test_samples, seq_length, num_features)\n",
    "\n",
    "oversample = SMOTE()\n",
    "X_train_smote, y_train_smote = oversample.fit_resample(X_train, y_train) "
   ]
  },
  {
   "cell_type": "code",
   "execution_count": 37,
   "id": "19cc6fbd",
   "metadata": {},
   "outputs": [
    {
     "data": {
      "text/plain": [
       "(array([0., 1., 2.]), array([19810,  3695,  6926]))"
      ]
     },
     "execution_count": 37,
     "metadata": {},
     "output_type": "execute_result"
    }
   ],
   "source": [
    "np.unique(y_test, return_counts=True)"
   ]
  },
  {
   "cell_type": "code",
   "execution_count": 38,
   "id": "ea12a173",
   "metadata": {},
   "outputs": [],
   "source": [
    "test_aux_indices = y_test[y_test == 2].index\n",
    "test_main_indices = y_test[y_test == 1].index"
   ]
  },
  {
   "cell_type": "code",
   "execution_count": 22,
   "id": "dbde6029",
   "metadata": {},
   "outputs": [
    {
     "name": "stdout",
     "output_type": "stream",
     "text": [
      "-----MLP-------\n",
      "Epoch 1/100\n"
     ]
    },
    {
     "name": "stderr",
     "output_type": "stream",
     "text": [
      "2024-09-24 09:16:39.888638: I tensorflow/core/grappler/optimizers/custom_graph_optimizer_registry.cc:114] Plugin optimizer for device_type GPU is enabled.\n"
     ]
    },
    {
     "name": "stdout",
     "output_type": "stream",
     "text": [
      "1003/1003 [==============================] - ETA: 0s - loss: 0.4719 - accuracy: 0.7800"
     ]
    },
    {
     "name": "stderr",
     "output_type": "stream",
     "text": [
      "2024-09-24 09:16:45.267193: I tensorflow/core/grappler/optimizers/custom_graph_optimizer_registry.cc:114] Plugin optimizer for device_type GPU is enabled.\n"
     ]
    },
    {
     "name": "stdout",
     "output_type": "stream",
     "text": [
      "1003/1003 [==============================] - 6s 6ms/step - loss: 0.4719 - accuracy: 0.7800 - val_loss: 0.6381 - val_accuracy: 0.7037\n",
      "Epoch 2/100\n",
      "1003/1003 [==============================] - 5s 5ms/step - loss: 0.4389 - accuracy: 0.8014 - val_loss: 0.6029 - val_accuracy: 0.7090\n",
      "Epoch 3/100\n",
      "1003/1003 [==============================] - 5s 5ms/step - loss: 0.4267 - accuracy: 0.8056 - val_loss: 0.6438 - val_accuracy: 0.6073\n",
      "Epoch 4/100\n",
      "1003/1003 [==============================] - 5s 5ms/step - loss: 0.4180 - accuracy: 0.8092 - val_loss: 0.5607 - val_accuracy: 0.7125\n",
      "Epoch 5/100\n",
      "1003/1003 [==============================] - 5s 5ms/step - loss: 0.4110 - accuracy: 0.8140 - val_loss: 0.5540 - val_accuracy: 0.7169\n",
      "Epoch 6/100\n",
      "1003/1003 [==============================] - 5s 5ms/step - loss: 0.4038 - accuracy: 0.8166 - val_loss: 0.4835 - val_accuracy: 0.7394\n",
      "Epoch 7/100\n",
      "1003/1003 [==============================] - 5s 5ms/step - loss: 0.3969 - accuracy: 0.8194 - val_loss: 0.5501 - val_accuracy: 0.6975\n",
      "Epoch 8/100\n",
      "1003/1003 [==============================] - 5s 5ms/step - loss: 0.3898 - accuracy: 0.8221 - val_loss: 0.5263 - val_accuracy: 0.7167\n",
      "Epoch 9/100\n",
      "1003/1003 [==============================] - 5s 5ms/step - loss: 0.3828 - accuracy: 0.8239 - val_loss: 0.5082 - val_accuracy: 0.7423\n",
      "Epoch 10/100\n",
      "1003/1003 [==============================] - 5s 5ms/step - loss: 0.3767 - accuracy: 0.8255 - val_loss: 0.4677 - val_accuracy: 0.7536\n",
      "Epoch 11/100\n",
      "1003/1003 [==============================] - 5s 5ms/step - loss: 0.3708 - accuracy: 0.8270 - val_loss: 0.5375 - val_accuracy: 0.7211\n",
      "Epoch 12/100\n",
      "1003/1003 [==============================] - 5s 5ms/step - loss: 0.3658 - accuracy: 0.8292 - val_loss: 0.4524 - val_accuracy: 0.7560\n",
      "Epoch 13/100\n",
      "1003/1003 [==============================] - 5s 5ms/step - loss: 0.3626 - accuracy: 0.8302 - val_loss: 0.3874 - val_accuracy: 0.7903\n",
      "Epoch 14/100\n",
      "1003/1003 [==============================] - 5s 5ms/step - loss: 0.3593 - accuracy: 0.8328 - val_loss: 0.5569 - val_accuracy: 0.7029\n",
      "Epoch 15/100\n",
      "1003/1003 [==============================] - 5s 5ms/step - loss: 0.3558 - accuracy: 0.8348 - val_loss: 0.4593 - val_accuracy: 0.7875\n",
      "Epoch 16/100\n",
      "1003/1003 [==============================] - 5s 5ms/step - loss: 0.3531 - accuracy: 0.8370 - val_loss: 0.3829 - val_accuracy: 0.8153\n",
      "Epoch 17/100\n",
      "1003/1003 [==============================] - 5s 5ms/step - loss: 0.3511 - accuracy: 0.8386 - val_loss: 0.6313 - val_accuracy: 0.6791\n",
      "Epoch 18/100\n",
      "1003/1003 [==============================] - 5s 5ms/step - loss: 0.3486 - accuracy: 0.8392 - val_loss: 0.4458 - val_accuracy: 0.7946\n",
      "Epoch 19/100\n",
      "1003/1003 [==============================] - 5s 5ms/step - loss: 0.3460 - accuracy: 0.8428 - val_loss: 0.4369 - val_accuracy: 0.8104\n",
      "Epoch 20/100\n",
      "1003/1003 [==============================] - 5s 5ms/step - loss: 0.3444 - accuracy: 0.8433 - val_loss: 0.4720 - val_accuracy: 0.7796\n",
      "Epoch 21/100\n",
      "1003/1003 [==============================] - 5s 5ms/step - loss: 0.3427 - accuracy: 0.8442 - val_loss: 0.4723 - val_accuracy: 0.7792\n",
      "-----MLP-------\n",
      "134/951 [===>..........................] - ETA: 0s"
     ]
    },
    {
     "name": "stderr",
     "output_type": "stream",
     "text": [
      "2024-09-24 09:18:24.322496: I tensorflow/core/grappler/optimizers/custom_graph_optimizer_registry.cc:114] Plugin optimizer for device_type GPU is enabled.\n"
     ]
    },
    {
     "name": "stdout",
     "output_type": "stream",
     "text": [
      "951/951 [==============================] - 1s 1ms/step\n",
      "ACCURACY:  0.8353652525385298\n",
      "CLASSIFICATION REPORT:\n",
      "               precision    recall  f1-score   support\n",
      "\n",
      "         0.0       0.89      0.85      0.87     19810\n",
      "         1.0       0.75      0.80      0.77     10621\n",
      "\n",
      "    accuracy                           0.84     30431\n",
      "   macro avg       0.82      0.83      0.82     30431\n",
      "weighted avg       0.84      0.84      0.84     30431\n",
      "\n"
     ]
    }
   ],
   "source": [
    "##Models\n",
    "\n",
    "print(\"-----MLP-------\")\n",
    "\n",
    "mlp = Sequential()\n",
    "mlp.add(Input(shape = (4)))\n",
    "mlp.add(Dense(128, activation = 'relu'))\n",
    "mlp.add(Dense(128, activation = 'relu'))\n",
    "mlp.add(Dense(1, activation = 'sigmoid'))\n",
    "\n",
    "mlp.compile(optimizer='adam',\n",
    "                loss='binary_crossentropy',\n",
    "                metrics=['accuracy'])\n",
    "\n",
    "es = EarlyStopping(monitor = 'val_loss', patience = 5, restore_best_weights = True)\n",
    "\n",
    "mlp_hist = mlp.fit(X_train_smote, y_train_smote, epochs=100, callbacks = [es], validation_split=0.2, batch_size = 128)\n",
    "\n",
    "##MLP\n",
    "print(\"-----MLP-------\")\n",
    "\n",
    "threshold = 0.5\n",
    "mlp_preds = mlp.predict(X_test)\n",
    "mlp_preds = (mlp_preds >= threshold).astype(int)\n",
    "\n",
    "print(\"ACCURACY: \", accuracy_score(y_test, mlp_preds))\n",
    "print(\"CLASSIFICATION REPORT:\\n\", classification_report(y_test, mlp_preds))\n",
    "\n",
    "# with open(os.path.join(save_loc,'train_and_eval_results.txt'),'w') as file:\n",
    "#     file.write(\"-------MLP-------\\n\")\n",
    "#     file.write(f\"Accuracy Score: \")\n",
    "#     file.write(str(accuracy_score(y_test, mlp_preds)))\n",
    "#     file.write(\"\\n\")\n",
    "#     file.write('Classification Report:\\n')\n",
    "#     file.write(str(classification_report(y_test, mlp_preds)))\n",
    "#     file.write(\"\\n\\n\\n\\n\")\n",
    "\n",
    "# mlp.save(os.path.join(save_loc, 'mlp.h5'))\n",
    "\n",
    "# plt.figure(figsize=(10, 10))\n",
    "# plt.plot(mlp_hist.history['loss'])\n",
    "# plt.plot(mlp_hist.history['val_loss'])\n",
    "# plt.title('MLP Model loss')\n",
    "# plt.ylabel('Loss')\n",
    "# plt.xlabel('Epoch')\n",
    "# plt.legend(['Train', 'Validation'], loc='upper left')\n",
    "# plt.savefig(os.path.join(save_loc,'mlp_training_history.png'))"
   ]
  },
  {
   "cell_type": "code",
   "execution_count": 10,
   "id": "9b207dc6",
   "metadata": {},
   "outputs": [
    {
     "data": {
      "text/plain": [
       "<sklearn.metrics._plot.confusion_matrix.ConfusionMatrixDisplay at 0x105392490>"
      ]
     },
     "execution_count": 10,
     "metadata": {},
     "output_type": "execute_result"
    },
    {
     "data": {
      "image/png": "[encoded data removed]",
      "text/plain": [
       "<Figure size 640x480 with 2 Axes>"
      ]
     },
     "metadata": {},
     "output_type": "display_data"
    }
   ],
   "source": [
    "cm = confusion_matrix(y_test, mlp_preds)\n",
    "\n",
    "cm_display = ConfusionMatrixDisplay(confusion_matrix = cm, display_labels = [0, 1])\n",
    "\n",
    "cm_display.plot()"
   ]
  },
  {
   "cell_type": "code",
   "execution_count": 46,
   "id": "34ef23f7",
   "metadata": {},
   "outputs": [],
   "source": [
    "X_aux = X.iloc[test_aux_indices]\n",
    "y_aux = y.iloc[test_aux_indices]\n",
    "y_aux = y_aux.replace(2,1)\n",
    "\n",
    "X_main = X.iloc[test_main_indices]\n",
    "y_main = y.iloc[test_main_indices]\n"
   ]
  },
  {
   "cell_type": "code",
   "execution_count": 49,
   "id": "f651745d",
   "metadata": {},
   "outputs": [
    {
     "name": "stdout",
     "output_type": "stream",
     "text": [
      "217/217 [==============================] - 0s 1ms/step\n",
      "116/116 [==============================] - 0s 1ms/step\n"
     ]
    }
   ],
   "source": [
    "X_aux = scaler.transform(X_aux)\n",
    "X_main = scaler.transform(X_main)\n",
    "\n",
    "aux_preds = mlp.predict(X_aux)\n",
    "main_preds = mlp.predict(X_main)\n",
    "\n",
    "aux_preds = (aux_preds >= threshold).astype(int)\n",
    "main_preds = (main_preds >= threshold).astype(int)"
   ]
  },
  {
   "cell_type": "code",
   "execution_count": 52,
   "id": "8d417777",
   "metadata": {},
   "outputs": [
    {
     "data": {
      "text/plain": [
       "(array([0., 1., 2.]), array([100000,  18191,  33964]))"
      ]
     },
     "execution_count": 52,
     "metadata": {},
     "output_type": "execute_result"
    }
   ],
   "source": [
    "np.unique(y_tri, return_counts = True)"
   ]
  },
  {
   "cell_type": "code",
   "execution_count": 50,
   "id": "5b3ec0e7",
   "metadata": {},
   "outputs": [
    {
     "name": "stdout",
     "output_type": "stream",
     "text": [
      "0.7419867167196073\n",
      "              precision    recall  f1-score   support\n",
      "\n",
      "         0.0       0.00      0.00      0.00         0\n",
      "         1.0       1.00      0.74      0.85      6926\n",
      "\n",
      "    accuracy                           0.74      6926\n",
      "   macro avg       0.50      0.37      0.43      6926\n",
      "weighted avg       1.00      0.74      0.85      6926\n",
      "\n"
     ]
    },
    {
     "name": "stderr",
     "output_type": "stream",
     "text": [
      "/Users/anwesh/opt/anaconda3/envs/tf/lib/python3.9/site-packages/sklearn/metrics/_classification.py:1344: UndefinedMetricWarning: Recall and F-score are ill-defined and being set to 0.0 in labels with no true samples. Use `zero_division` parameter to control this behavior.\n",
      "  _warn_prf(average, modifier, msg_start, len(result))\n",
      "/Users/anwesh/opt/anaconda3/envs/tf/lib/python3.9/site-packages/sklearn/metrics/_classification.py:1344: UndefinedMetricWarning: Recall and F-score are ill-defined and being set to 0.0 in labels with no true samples. Use `zero_division` parameter to control this behavior.\n",
      "  _warn_prf(average, modifier, msg_start, len(result))\n",
      "/Users/anwesh/opt/anaconda3/envs/tf/lib/python3.9/site-packages/sklearn/metrics/_classification.py:1344: UndefinedMetricWarning: Recall and F-score are ill-defined and being set to 0.0 in labels with no true samples. Use `zero_division` parameter to control this behavior.\n",
      "  _warn_prf(average, modifier, msg_start, len(result))\n"
     ]
    }
   ],
   "source": [
    "print(accuracy_score(y_aux, aux_preds))\n",
    "print(classification_report(y_aux, aux_preds))"
   ]
  },
  {
   "cell_type": "code",
   "execution_count": 51,
   "id": "be229522",
   "metadata": {},
   "outputs": [
    {
     "name": "stdout",
     "output_type": "stream",
     "text": [
      "0.9179972936400541\n",
      "              precision    recall  f1-score   support\n",
      "\n",
      "         0.0       0.00      0.00      0.00         0\n",
      "         1.0       1.00      0.92      0.96      3695\n",
      "\n",
      "    accuracy                           0.92      3695\n",
      "   macro avg       0.50      0.46      0.48      3695\n",
      "weighted avg       1.00      0.92      0.96      3695\n",
      "\n"
     ]
    },
    {
     "name": "stderr",
     "output_type": "stream",
     "text": [
      "/Users/anwesh/opt/anaconda3/envs/tf/lib/python3.9/site-packages/sklearn/metrics/_classification.py:1344: UndefinedMetricWarning: Recall and F-score are ill-defined and being set to 0.0 in labels with no true samples. Use `zero_division` parameter to control this behavior.\n",
      "  _warn_prf(average, modifier, msg_start, len(result))\n",
      "/Users/anwesh/opt/anaconda3/envs/tf/lib/python3.9/site-packages/sklearn/metrics/_classification.py:1344: UndefinedMetricWarning: Recall and F-score are ill-defined and being set to 0.0 in labels with no true samples. Use `zero_division` parameter to control this behavior.\n",
      "  _warn_prf(average, modifier, msg_start, len(result))\n",
      "/Users/anwesh/opt/anaconda3/envs/tf/lib/python3.9/site-packages/sklearn/metrics/_classification.py:1344: UndefinedMetricWarning: Recall and F-score are ill-defined and being set to 0.0 in labels with no true samples. Use `zero_division` parameter to control this behavior.\n",
      "  _warn_prf(average, modifier, msg_start, len(result))\n"
     ]
    }
   ],
   "source": [
    "print(accuracy_score(y_main, main_preds))\n",
    "print(classification_report(y_main, main_preds))"
   ]
  },
  {
   "cell_type": "code",
   "execution_count": null,
   "id": "2a6395c1",
   "metadata": {},
   "outputs": [
    {
     "name": "stdout",
     "output_type": "stream",
     "text": [
      "-----LSTM-------\n",
      "WARNING:tensorflow:Layer lstm will not use cuDNN kernels since it doesn't meet the criteria. It will use a generic GPU kernel as fallback when running on GPU.\n",
      "Epoch 1/1000\n"
     ]
    },
    {
     "name": "stderr",
     "output_type": "stream",
     "text": [
      "2024-09-05 02:18:12.683157: I tensorflow/core/grappler/optimizers/custom_graph_optimizer_registry.cc:114] Plugin optimizer for device_type GPU is enabled.\n"
     ]
    },
    {
     "ename": "",
     "evalue": "",
     "output_type": "error",
     "traceback": [
      "\u001b[1;31mThe Kernel crashed while executing code in the current cell or a previous cell. \n",
      "\u001b[1;31mPlease review the code in the cell(s) to identify a possible cause of the failure. \n",
      "\u001b[1;31mClick <a href='https://aka.ms/vscodeJupyterKernelCrash'>here</a> for more info. \n",
      "\u001b[1;31mView Jupyter <a href='command:jupyter.viewOutput'>log</a> for further details."
     ]
    }
   ],
   "source": [
    "##LSTM\n",
    "\n",
    "print(\"-----LSTM-------\")\n",
    "\n",
    "lstm = Sequential()\n",
    "\n",
    "lstm.add(Input(shape = X_seq_train.shape[1:]))\n",
    "lstm.add(LSTM(128, activation = 'relu'))\n",
    "lstm.add(Dense(1, activation = 'sigmoid'))\n",
    "\n",
    "lstm.compile(\n",
    "    loss = 'binary_crossentropy',\n",
    "    optimizer = 'adam',\n",
    "    metrics = ['accuracy'])\n",
    "\n",
    "es = EarlyStopping(monitor = 'val_loss', patience = 5, restore_best_weights = True)\n",
    "\n",
    "lstm_hist = lstm.fit(X_seq_train, y_seq_train, batch_size = 16, validation_split = 0.2,\n",
    "        callbacks = [es], epochs = 1000)\n",
    "\n",
    "print(\"-----LSTM-------\")\n",
    "\n",
    "lstm_preds = lstm.predict(X_seq_test, batch_size=4096)\n",
    "lstm_preds = (lstm_preds >= threshold).astype(int)\n",
    "\n",
    "print(\"ACCURACY: \", accuracy_score(y_seq_test, lstm_preds))\n",
    "print(\"CLASSIFICATION REPORT:\\n\", classification_report(y_seq_test, lstm_preds))\n",
    "\n",
    "# with open(os.path.join(save_loc,'train_and_eval_results.txt'),'a') as file:\n",
    "#     file.write(\"-------LSTM-------\\n\")\n",
    "#     file.write(f\"Accuracy Score: \")\n",
    "#     file.write(str(accuracy_score(y_seq_test, lstm_preds)))\n",
    "#     file.write(\"\\n\")\n",
    "#     file.write('Classification Report:\\n')\n",
    "#     file.write(str(classification_report(y_seq_test, lstm_preds)))\n",
    "#     file.write(\"\\n\\n\\n\\n\")\n",
    "\n",
    "# lstm.save(os.path.join(save_loc, 'lstm.h5'))\n",
    "\n",
    "# plt.figure(figsize=(10, 10))\n",
    "# plt.plot(lstm_hist.history['loss'])\n",
    "# plt.plot(lstm_hist.history['val_loss'])\n",
    "# plt.title('LSTM Model loss')\n",
    "# plt.ylabel('Loss')\n",
    "# plt.xlabel('Epoch')\n",
    "# plt.legend(['Train', 'Validation'], loc='upper left')\n",
    "# plt.savefig(os.path.join(save_loc,'lstm_training_history.png'))"
   ]
  },
  {
   "cell_type": "code",
   "execution_count": 16,
   "id": "90e25ab1",
   "metadata": {},
   "outputs": [
    {
     "name": "stdout",
     "output_type": "stream",
     "text": [
      "-------XGBOOST-------\n",
      "ACCURACY:  0.8997403963063981\n",
      "CLASSIFICATION REPORT:\n",
      "               precision    recall  f1-score   support\n",
      "\n",
      "         0.0       0.96      0.89      0.92     20034\n",
      "         1.0       0.81      0.92      0.86     10397\n",
      "\n",
      "    accuracy                           0.90     30431\n",
      "   macro avg       0.88      0.90      0.89     30431\n",
      "weighted avg       0.91      0.90      0.90     30431\n",
      "\n",
      "-------DECISION TREE--------\n",
      "ACCURACY:  0.7477243600276035\n",
      "CLASSIFICATION REPORT:\n",
      "               precision    recall  f1-score   support\n",
      "\n",
      "         0.0       0.87      0.72      0.79     20034\n",
      "         1.0       0.60      0.79      0.68     10397\n",
      "\n",
      "    accuracy                           0.75     30431\n",
      "   macro avg       0.74      0.76      0.74     30431\n",
      "weighted avg       0.78      0.75      0.75     30431\n",
      "\n",
      "-------RANDOM FOREST-------\n",
      "\n",
      "ACCURACY:  0.8232065985343893\n",
      "CLASSIFICATION REPORT:\n",
      "               precision    recall  f1-score   support\n",
      "\n",
      "         0.0       0.83      0.92      0.87     20034\n",
      "         1.0       0.81      0.63      0.71     10397\n",
      "\n",
      "    accuracy                           0.82     30431\n",
      "   macro avg       0.82      0.78      0.79     30431\n",
      "weighted avg       0.82      0.82      0.82     30431\n",
      "\n"
     ]
    }
   ],
   "source": [
    "## XGBOOST\n",
    "xgb = XGBClassifier()\n",
    "xgb.fit(X_train_smote, y_train_smote)\n",
    "xgb_preds = xgb.predict(X_test)\n",
    "\n",
    "print(\"-------XGBOOST-------\")\n",
    "print(\"ACCURACY: \", accuracy_score(y_test, xgb_preds))\n",
    "print(\"CLASSIFICATION REPORT:\\n\", classification_report(y_test, xgb_preds))\n",
    "# xgb.save_model(os.path.join(save_loc, 'xgb.json'))\n",
    "\n",
    "# with open(os.path.join(save_loc,'train_and_eval_results.txt'),'a') as file:\n",
    "#     file.write(\"-------XGB-------\\n\")\n",
    "#     file.write(f\"Accuracy Score: \")\n",
    "#     file.write(str(accuracy_score(y_test, xgb_preds)))\n",
    "#     file.write(\"\\n\")\n",
    "#     file.write('Classification Report:\\n')\n",
    "#     file.write(str(classification_report(y_test, xgb_preds)))\n",
    "#     file.write(\"\\n\\n\\n\\n\")\n",
    "\n",
    "## DECISION TREE\n",
    "dt = DecisionTreeClassifier(max_depth = 4)\n",
    "dt.fit(X_train_smote, y_train_smote)\n",
    "dt_preds = dt.predict(X_test)\n",
    "\n",
    "print(\"-------DECISION TREE--------\")\n",
    "print(\"ACCURACY: \", accuracy_score(y_test, dt_preds))\n",
    "print(\"CLASSIFICATION REPORT:\\n\", classification_report(y_test, dt_preds))\n",
    "# dump(dt, os.path.join(save_loc, 'dt.pkl'))\n",
    "\n",
    "# with open(os.path.join(save_loc,'train_and_eval_results.txt'),'a') as file:\n",
    "#     file.write(\"-------Decision Tree-------\\n\")\n",
    "#     file.write(f\"Accuracy Score: \")\n",
    "#     file.write(str(accuracy_score(y_test, dt_preds)))\n",
    "#     file.write(\"\\n\")\n",
    "#     file.write('Classification Report:\\n')\n",
    "#     file.write(str(classification_report(y_test, dt_preds)))\n",
    "#     file.write(\"\\n\\n\\n\\n\")\n",
    "\n",
    "## RANDOM FOREST\n",
    "\n",
    "rf = RandomForestClassifier(n_estimators=100, max_depth=4)\n",
    "rf.fit(X_train_smote, y_train_smote)\n",
    "rf_preds = rf.predict(X_test)\n",
    "\n",
    "print(\"-------RANDOM FOREST-------\\n\")\n",
    "print(\"ACCURACY: \", accuracy_score(y_test, rf_preds))\n",
    "print(\"CLASSIFICATION REPORT:\\n\", classification_report(y_test, rf_preds))\n",
    "# dump(rf, os.path.join(save_loc, 'rf.pkl'))\n",
    "\n",
    "# with open(os.path.join(save_loc,'train_and_eval_results.txt'),'a') as file:\n",
    "#     file.write(\"-------Random Forest-------\")\n",
    "#     file.write(f\"Accuracy Score: \")\n",
    "#     file.write(str(accuracy_score(y_test, rf_preds)))\n",
    "#     file.write(\"\\n\")\n",
    "#     file.write('Classification Report:\\n')\n",
    "#     file.write(str(classification_report(y_test, rf_preds)))\n",
    "#     file.write(\"\\n\\n\\n\\n\")"
   ]
  },
  {
   "cell_type": "code",
   "execution_count": 10,
   "id": "141f68f3",
   "metadata": {},
   "outputs": [],
   "source": [
    "X_scaled = scaler.transform(X)\n",
    "dt_preds_full = dt.predict(X_scaled)"
   ]
  },
  {
   "cell_type": "code",
   "execution_count": 11,
   "id": "ea97bb75",
   "metadata": {},
   "outputs": [],
   "source": [
    "X['Label'] = y\n",
    "X['Preds'] = dt_preds_full\n",
    "X[\"Packet Type\"] = y_tri\n",
    "X[\"Packet Type\"].replace({0 : \"Benign\", 1 : \"Main Attack Packet\", 2 : \"Auxillary Attack Packet\"})\n",
    "X[\"IAT\"] = X[\"IAT\"] * 1e6"
   ]
  },
  {
   "cell_type": "code",
   "execution_count": 12,
   "id": "d2384853",
   "metadata": {},
   "outputs": [],
   "source": [
    "X.to_csv('aux_attack_result_new.csv')"
   ]
  },
  {
   "cell_type": "code",
   "execution_count": 17,
   "id": "360028b5",
   "metadata": {},
   "outputs": [
    {
     "name": "stdout",
     "output_type": "stream",
     "text": [
      "DT\n"
     ]
    },
    {
     "data": {
      "text/plain": [
       "<sklearn.metrics._plot.confusion_matrix.ConfusionMatrixDisplay at 0x3008a5a30>"
      ]
     },
     "execution_count": 17,
     "metadata": {},
     "output_type": "execute_result"
    },
    {
     "data": {
      "image/png": "[encoded data removed]",
      "text/plain": [
       "<Figure size 640x480 with 2 Axes>"
      ]
     },
     "metadata": {},
     "output_type": "display_data"
    }
   ],
   "source": [
    "print(\"DT\")\n",
    "cm = confusion_matrix(y_test, dt_preds)\n",
    "\n",
    "cm_display = ConfusionMatrixDisplay(confusion_matrix = cm, display_labels = [0, 1])\n",
    "\n",
    "cm_display.plot()"
   ]
  },
  {
   "cell_type": "code",
   "execution_count": 13,
   "id": "e2521b44",
   "metadata": {},
   "outputs": [
    {
     "name": "stdout",
     "output_type": "stream",
     "text": [
      "RF\n"
     ]
    },
    {
     "data": {
      "text/plain": [
       "<sklearn.metrics._plot.confusion_matrix.ConfusionMatrixDisplay at 0x10a8faa90>"
      ]
     },
     "execution_count": 13,
     "metadata": {},
     "output_type": "execute_result"
    },
    {
     "data": {
      "image/png": "[encoded data removed]",
      "text/plain": [
       "<Figure size 640x480 with 2 Axes>"
      ]
     },
     "metadata": {},
     "output_type": "display_data"
    }
   ],
   "source": [
    "print(\"RF\")\n",
    "cm = confusion_matrix(y_test, rf_preds)\n",
    "\n",
    "cm_display = ConfusionMatrixDisplay(confusion_matrix = cm, display_labels = [0, 1])\n",
    "\n",
    "cm_display.plot()"
   ]
  },
  {
   "cell_type": "code",
   "execution_count": 27,
   "id": "744bc195",
   "metadata": {},
   "outputs": [],
   "source": [
    "X_transform = scaler.transform(X)"
   ]
  },
  {
   "cell_type": "code",
   "execution_count": 28,
   "id": "aaf7cfb3",
   "metadata": {},
   "outputs": [
    {
     "name": "stdout",
     "output_type": "stream",
     "text": [
      "  23/3860 [..............................] - ETA: 8s   "
     ]
    },
    {
     "name": "stderr",
     "output_type": "stream",
     "text": [
      "2024-09-05 13:15:13.990318: I tensorflow/core/grappler/optimizers/custom_graph_optimizer_registry.cc:114] Plugin optimizer for device_type GPU is enabled.\n"
     ]
    },
    {
     "name": "stdout",
     "output_type": "stream",
     "text": [
      "3860/3860 [==============================] - 5s 1ms/step\n"
     ]
    }
   ],
   "source": [
    "preds = (mlp.predict(X_transform) >= 0.5).astype(int)"
   ]
  },
  {
   "cell_type": "code",
   "execution_count": 31,
   "id": "d6dc09d7",
   "metadata": {},
   "outputs": [
    {
     "data": {
      "text/plain": [
       "(123518, 1)"
      ]
     },
     "execution_count": 31,
     "metadata": {},
     "output_type": "execute_result"
    }
   ],
   "source": [
    "preds.shape"
   ]
  },
  {
   "cell_type": "code",
   "execution_count": 33,
   "id": "bbdfe47f",
   "metadata": {},
   "outputs": [],
   "source": [
    "dec_to_hex = lambda x : hex(int(x))[2:]"
   ]
  },
  {
   "cell_type": "code",
   "execution_count": 40,
   "id": "08a686bc",
   "metadata": {},
   "outputs": [],
   "source": [
    "X['Label'] = y\n",
    "X['Predicted'] = preds\n",
    "X['IAT'] = X['IAT'] * 1e6 \n",
    "X['ID_HEX'] = X['ID'].apply(dec_to_hex)"
   ]
  },
  {
   "cell_type": "code",
   "execution_count": 41,
   "id": "5b052ff7",
   "metadata": {},
   "outputs": [
    {
     "data": {
      "text/html": [
       "<div>\n",
       "<style scoped>\n",
       "    .dataframe tbody tr th:only-of-type {\n",
       "        vertical-align: middle;\n",
       "    }\n",
       "\n",
       "    .dataframe tbody tr th {\n",
       "        vertical-align: top;\n",
       "    }\n",
       "\n",
       "    .dataframe thead th {\n",
       "        text-align: right;\n",
       "    }\n",
       "</style>\n",
       "<table border=\"1\" class=\"dataframe\">\n",
       "  <thead>\n",
       "    <tr style=\"text-align: right;\">\n",
       "      <th></th>\n",
       "      <th>ID</th>\n",
       "      <th>DLC</th>\n",
       "      <th>Payload</th>\n",
       "      <th>IAT</th>\n",
       "      <th>Label</th>\n",
       "      <th>Predicted</th>\n",
       "      <th>ID_HEX</th>\n",
       "    </tr>\n",
       "  </thead>\n",
       "  <tbody>\n",
       "    <tr>\n",
       "      <th>0</th>\n",
       "      <td>848.0</td>\n",
       "      <td>8.0</td>\n",
       "      <td>3.716925e+17</td>\n",
       "      <td>0.000000e+00</td>\n",
       "      <td>0.0</td>\n",
       "      <td>0</td>\n",
       "      <td>350</td>\n",
       "    </tr>\n",
       "    <tr>\n",
       "      <th>1</th>\n",
       "      <td>704.0</td>\n",
       "      <td>8.0</td>\n",
       "      <td>1.441152e+18</td>\n",
       "      <td>2.210140e+26</td>\n",
       "      <td>0.0</td>\n",
       "      <td>0</td>\n",
       "      <td>2c0</td>\n",
       "    </tr>\n",
       "    <tr>\n",
       "      <th>2</th>\n",
       "      <td>1072.0</td>\n",
       "      <td>8.0</td>\n",
       "      <td>0.000000e+00</td>\n",
       "      <td>5.538464e+26</td>\n",
       "      <td>0.0</td>\n",
       "      <td>1</td>\n",
       "      <td>430</td>\n",
       "    </tr>\n",
       "    <tr>\n",
       "      <th>3</th>\n",
       "      <td>1201.0</td>\n",
       "      <td>8.0</td>\n",
       "      <td>0.000000e+00</td>\n",
       "      <td>2.379417e+26</td>\n",
       "      <td>0.0</td>\n",
       "      <td>0</td>\n",
       "      <td>4b1</td>\n",
       "    </tr>\n",
       "    <tr>\n",
       "      <th>4</th>\n",
       "      <td>497.0</td>\n",
       "      <td>8.0</td>\n",
       "      <td>0.000000e+00</td>\n",
       "      <td>2.481937e+26</td>\n",
       "      <td>0.0</td>\n",
       "      <td>0</td>\n",
       "      <td>1f1</td>\n",
       "    </tr>\n",
       "    <tr>\n",
       "      <th>...</th>\n",
       "      <td>...</td>\n",
       "      <td>...</td>\n",
       "      <td>...</td>\n",
       "      <td>...</td>\n",
       "      <td>...</td>\n",
       "      <td>...</td>\n",
       "      <td>...</td>\n",
       "    </tr>\n",
       "    <tr>\n",
       "      <th>123513</th>\n",
       "      <td>608.0</td>\n",
       "      <td>8.0</td>\n",
       "      <td>3.202177e+18</td>\n",
       "      <td>2.379417e+26</td>\n",
       "      <td>0.0</td>\n",
       "      <td>0</td>\n",
       "      <td>260</td>\n",
       "    </tr>\n",
       "    <tr>\n",
       "      <th>123514</th>\n",
       "      <td>672.0</td>\n",
       "      <td>8.0</td>\n",
       "      <td>1.177723e+14</td>\n",
       "      <td>2.360344e+26</td>\n",
       "      <td>0.0</td>\n",
       "      <td>0</td>\n",
       "      <td>2a0</td>\n",
       "    </tr>\n",
       "    <tr>\n",
       "      <th>123515</th>\n",
       "      <td>809.0</td>\n",
       "      <td>8.0</td>\n",
       "      <td>9.779705e+18</td>\n",
       "      <td>2.300739e+26</td>\n",
       "      <td>0.0</td>\n",
       "      <td>0</td>\n",
       "      <td>329</td>\n",
       "    </tr>\n",
       "    <tr>\n",
       "      <th>123516</th>\n",
       "      <td>880.0</td>\n",
       "      <td>8.0</td>\n",
       "      <td>9.851624e+15</td>\n",
       "      <td>2.470016e+26</td>\n",
       "      <td>0.0</td>\n",
       "      <td>0</td>\n",
       "      <td>370</td>\n",
       "    </tr>\n",
       "    <tr>\n",
       "      <th>123517</th>\n",
       "      <td>1087.0</td>\n",
       "      <td>8.0</td>\n",
       "      <td>1.636436e+17</td>\n",
       "      <td>2.369881e+26</td>\n",
       "      <td>0.0</td>\n",
       "      <td>0</td>\n",
       "      <td>43f</td>\n",
       "    </tr>\n",
       "  </tbody>\n",
       "</table>\n",
       "<p>123518 rows × 7 columns</p>\n",
       "</div>"
      ],
      "text/plain": [
       "            ID  DLC       Payload           IAT  Label  Predicted ID_HEX\n",
       "0        848.0  8.0  3.716925e+17  0.000000e+00    0.0          0    350\n",
       "1        704.0  8.0  1.441152e+18  2.210140e+26    0.0          0    2c0\n",
       "2       1072.0  8.0  0.000000e+00  5.538464e+26    0.0          1    430\n",
       "3       1201.0  8.0  0.000000e+00  2.379417e+26    0.0          0    4b1\n",
       "4        497.0  8.0  0.000000e+00  2.481937e+26    0.0          0    1f1\n",
       "...        ...  ...           ...           ...    ...        ...    ...\n",
       "123513   608.0  8.0  3.202177e+18  2.379417e+26    0.0          0    260\n",
       "123514   672.0  8.0  1.177723e+14  2.360344e+26    0.0          0    2a0\n",
       "123515   809.0  8.0  9.779705e+18  2.300739e+26    0.0          0    329\n",
       "123516   880.0  8.0  9.851624e+15  2.470016e+26    0.0          0    370\n",
       "123517  1087.0  8.0  1.636436e+17  2.369881e+26    0.0          0    43f\n",
       "\n",
       "[123518 rows x 7 columns]"
      ]
     },
     "execution_count": 41,
     "metadata": {},
     "output_type": "execute_result"
    }
   ],
   "source": [
    "X"
   ]
  },
  {
   "cell_type": "code",
   "execution_count": 37,
   "id": "b2454c13",
   "metadata": {},
   "outputs": [
    {
     "data": {
      "text/plain": [
       "'350'"
      ]
     },
     "execution_count": 37,
     "metadata": {},
     "output_type": "execute_result"
    }
   ],
   "source": [
    "dec_to_hex(848.0)"
   ]
  },
  {
   "cell_type": "code",
   "execution_count": 45,
   "id": "e5d44683",
   "metadata": {},
   "outputs": [
    {
     "data": {
      "text/plain": [
       "1         2.210140e+26\n",
       "2         5.538464e+26\n",
       "3         2.379417e+26\n",
       "4         2.481937e+26\n",
       "5         2.479553e+26\n",
       "              ...     \n",
       "123513    2.379417e+26\n",
       "123514    2.360344e+26\n",
       "123515    2.300739e+26\n",
       "123516    2.470016e+26\n",
       "123517    2.369881e+26\n",
       "Name: IAT, Length: 123517, dtype: float64"
      ]
     },
     "execution_count": 45,
     "metadata": {},
     "output_type": "execute_result"
    }
   ],
   "source": [
    "X['IAT'].iloc[1:]"
   ]
  },
  {
   "cell_type": "code",
   "execution_count": 15,
   "id": "6c4e782b",
   "metadata": {},
   "outputs": [
    {
     "data": {
      "text/plain": [
       "1.0"
      ]
     },
     "execution_count": 15,
     "metadata": {},
     "output_type": "execute_result"
    }
   ],
   "source": [
    "1e6/1000000"
   ]
  },
  {
   "cell_type": "code",
   "execution_count": null,
   "id": "e022744c",
   "metadata": {},
   "outputs": [],
   "source": []
  }
 ],
 "metadata": {
  "kernelspec": {
   "display_name": "tf",
   "language": "python",
   "name": "python3"
  },
  "language_info": {
   "codemirror_mode": {
    "name": "ipython",
    "version": 3
   },
   "file_extension": ".py",
   "mimetype": "text/x-python",
   "name": "python",
   "nbconvert_exporter": "python",
   "pygments_lexer": "ipython3",
   "version": "3.9.16"
  }
 },
 "nbformat": 4,
 "nbformat_minor": 5
}
