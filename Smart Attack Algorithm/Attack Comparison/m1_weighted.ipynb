{
 "cells": [
  {
   "cell_type": "code",
   "execution_count": 1,
   "metadata": {},
   "outputs": [
    {
     "name": "stderr",
     "output_type": "stream",
     "text": [
      "2024-10-15 09:21:46.915392: I tensorflow/core/platform/cpu_feature_guard.cc:193] This TensorFlow binary is optimized with oneAPI Deep Neural Network Library (oneDNN) to use the following CPU instructions in performance-critical operations:  SSE4.1 SSE4.2 AVX AVX2 AVX512F AVX512_VNNI AVX512_BF16 AVX_VNNI AMX_TILE AMX_INT8 AMX_BF16 FMA\n",
      "To enable them in other operations, rebuild TensorFlow with the appropriate compiler flags.\n"
     ]
    }
   ],
   "source": [
    "import os\n",
    "import pandas as pd\n",
    "import numpy as np\n",
    "import matplotlib.pyplot as plt\n",
    "from tqdm import tqdm\n",
    "from tensorflow.keras.layers import LSTM, Dense, Dropout, Input\n",
    "from tensorflow.keras.models import Sequential\n",
    "from tensorflow.keras.losses import SparseCategoricalCrossentropy, BinaryCrossentropy\n",
    "from tensorflow.keras.optimizers import Adam\n",
    "from tensorflow.keras.callbacks import EarlyStopping\n",
    "from sklearn import svm\n",
    "from sklearn.ensemble import RandomForestClassifier\n",
    "from sklearn.tree import DecisionTreeClassifier, export_text, export_graphviz\n",
    "from sklearn.metrics import classification_report, confusion_matrix, accuracy_score\n",
    "from sklearn.model_selection import KFold, cross_val_score, train_test_split\n",
    "from sklearn.preprocessing import StandardScaler\n",
    "from imblearn.over_sampling import SMOTE\n",
    "from copy import deepcopy\n",
    "from sklearn.utils import class_weight"
   ]
  },
  {
   "cell_type": "code",
   "execution_count": 2,
   "metadata": {},
   "outputs": [],
   "source": [
    "smart_attack_path = 'attack_10_10.csv'"
   ]
  },
  {
   "cell_type": "code",
   "execution_count": 3,
   "metadata": {},
   "outputs": [],
   "source": [
    "def hex_to_bin(hex_num):\n",
    "    \n",
    "    binary_value = bin(int(str(hex_num), 16))[2:]\n",
    "    \n",
    "    return binary_value\n",
    "\n",
    "def int_to_bin(int_num):\n",
    "    \n",
    "    binary_value = bin(int_num)[2:]\n",
    "    \n",
    "    return binary_value\n",
    "\n",
    "def pad(value, length):\n",
    "    \n",
    "    curr_length = len(str(value))\n",
    "    \n",
    "    zeros = '0' * (length - curr_length)\n",
    "    \n",
    "    return zeros + value\n",
    "\n",
    "hex_to_dec = lambda x: int(x, 16)\n",
    "\n",
    "def transform_data(data):\n",
    "\n",
    "    data['ID'] = data['ID'].apply(hex_to_dec)\n",
    "    data['Payload'] = data['Payload'].apply(hex_to_dec)\n",
    "\n",
    "    return data"
   ]
  },
  {
   "cell_type": "code",
   "execution_count": 4,
   "metadata": {},
   "outputs": [],
   "source": [
    "def shift_columns(df):\n",
    "    \n",
    "    for dlc in [2,5,6]:\n",
    "\n",
    "        df.loc[df['dlc'] == dlc, df.columns[3:]] = df.loc[df['dlc'] == dlc, df.columns[3:]].shift(periods=8-dlc, axis='columns', fill_value='00')\n",
    "\n",
    "    return df"
   ]
  },
  {
   "cell_type": "code",
   "execution_count": 5,
   "metadata": {},
   "outputs": [],
   "source": [
    "def read_attack_data(data_path):\n",
    "    \n",
    "    columns = ['timestamp','can_id', 'dlc', 'data0', 'data1', 'data2', 'data3', 'data4', \n",
    "           'data5', 'data6', 'data7', 'flag']\n",
    "    \n",
    "    data = pd.read_csv(data_path, names = columns)\n",
    "\n",
    "    data = shift_columns(data)\n",
    "    \n",
    "    ##Replacing all NaNs with '00' \n",
    "    data = data.replace(np.NaN, '00')\n",
    "    \n",
    "    ##Joining all data columns to put all data in one column\n",
    "    data_cols = ['data0', 'data1', 'data2', 'data3', 'data4', 'data5', 'data6', 'data7']\n",
    "    \n",
    "    ##The data column is in hexadecimal\n",
    "    data['data'] = data[data_cols].apply(''.join, axis=1)\n",
    "    data.drop(columns = data_cols, inplace = True, axis = 1)\n",
    "    \n",
    "    ##Converting columns to decimal\n",
    "    data['can_id'] = data['can_id'].apply(hex_to_dec)\n",
    "    data['data'] = data['data'].apply(hex_to_dec)\n",
    "\n",
    "    data = data.assign(IAT=data['timestamp'].diff().fillna(0))\n",
    "    \n",
    "    return data[:150_000]\n",
    "\n",
    "    "
   ]
  },
  {
   "cell_type": "code",
   "execution_count": 6,
   "metadata": {},
   "outputs": [],
   "source": [
    "smart_attack = pd.read_csv(smart_attack_path)"
   ]
  },
  {
   "cell_type": "code",
   "execution_count": 7,
   "metadata": {},
   "outputs": [],
   "source": [
    "def sequencify_data(X, y, seq_size=10):\n",
    "    max_index = len(X) - seq_size + 1\n",
    "\n",
    "    X_seq = []\n",
    "    y_seq = []\n",
    "\n",
    "    for i in range(0, max_index, seq_size):\n",
    "        X_seq.append(X[i:i+seq_size])  # Append the sequence from DataFrame 'X'\n",
    "        try:\n",
    "            y_seq.append(1 if 1 in y[i:i+seq_size].values else 0)  # Check for '1' in 'y' values\n",
    "        except:\n",
    "             y_seq.append(1 if 1 in y[i:i+seq_size] else 0)\n",
    "\n",
    "    return np.array(X_seq), np.array(y_seq)"
   ]
  },
  {
   "cell_type": "code",
   "execution_count": 8,
   "metadata": {},
   "outputs": [],
   "source": [
    "smart_attack.drop(columns = ['Timestamp'], inplace = True)"
   ]
  },
  {
   "cell_type": "code",
   "execution_count": 9,
   "metadata": {},
   "outputs": [],
   "source": [
    "X_smart = smart_attack.drop(['label'], axis = 1).values\n",
    "y_smart = smart_attack['label']\n",
    "y_tri = y_smart.copy(deep = True)\n",
    "y_smart = y_smart.replace(2,1)"
   ]
  },
  {
   "cell_type": "code",
   "execution_count": 10,
   "metadata": {},
   "outputs": [
    {
     "data": {
      "text/plain": [
       "(array([0., 1.]), array([100000,  47462]))"
      ]
     },
     "execution_count": 10,
     "metadata": {},
     "output_type": "execute_result"
    }
   ],
   "source": [
    "np.unique(y_smart, return_counts = True)"
   ]
  },
  {
   "cell_type": "code",
   "execution_count": 11,
   "metadata": {},
   "outputs": [],
   "source": [
    "X_seq_smart, y_seq_smart = sequencify_data(X_smart, y_smart)"
   ]
  },
  {
   "cell_type": "code",
   "execution_count": 12,
   "metadata": {},
   "outputs": [
    {
     "name": "stdout",
     "output_type": "stream",
     "text": [
      "(array([0, 1]), array([ 1350, 13396]))\n"
     ]
    }
   ],
   "source": [
    "print(np.unique(y_seq_smart, return_counts=True))"
   ]
  },
  {
   "cell_type": "code",
   "execution_count": 13,
   "metadata": {},
   "outputs": [],
   "source": [
    "def balance_data(X_seq, y_seq):\n",
    "    # Get indices for label 0 and label 1\n",
    "    zero_indices = np.where(y_seq == 0)[0]\n",
    "    one_indices = np.where(y_seq == 1)[0]\n",
    "\n",
    "    # Find the number of samples for label 0\n",
    "    num_zeros = len(zero_indices)\n",
    "\n",
    "    # Randomly sample an equal number of samples from label 1\n",
    "    np.random.seed(42)  # Set seed for reproducibility\n",
    "    sampled_one_indices = np.random.choice(one_indices, num_zeros, replace=False)\n",
    "\n",
    "    # Combine the indices of label 0 and sampled label 1\n",
    "    balanced_indices = np.concatenate([zero_indices, sampled_one_indices])\n",
    "\n",
    "    # Shuffle the balanced indices to avoid any ordering issues\n",
    "    np.random.shuffle(balanced_indices)\n",
    "\n",
    "    # Subset X_seq and y_seq based on the balanced indices\n",
    "    X_seq_balanced = X_seq[balanced_indices]\n",
    "    y_seq_balanced = y_seq[balanced_indices]\n",
    "\n",
    "    return X_seq_balanced, y_seq_balanced\n"
   ]
  },
  {
   "cell_type": "code",
   "execution_count": 14,
   "metadata": {},
   "outputs": [],
   "source": [
    "# X_seq_smart, y_seq_smart = balance_data(X_seq_smart, y_seq_smart)"
   ]
  },
  {
   "cell_type": "code",
   "execution_count": 15,
   "metadata": {},
   "outputs": [
    {
     "name": "stdout",
     "output_type": "stream",
     "text": [
      "(array([0, 1]), array([ 1350, 13396]))\n"
     ]
    }
   ],
   "source": [
    "print(np.unique(y_seq_smart, return_counts=True))"
   ]
  },
  {
   "cell_type": "code",
   "execution_count": 16,
   "metadata": {},
   "outputs": [],
   "source": [
    "X_train_smart, X_test_smart, y_train_smart, y_test_smart = train_test_split(X_smart, y_smart, test_size=0.3, random_state = 42)\n",
    "X_train_seq_smart, X_test_seq_smart, y_train_seq_smart, y_test_seq_smart = train_test_split(X_seq_smart, y_seq_smart, test_size = 0.3, shuffle = True)"
   ]
  },
  {
   "cell_type": "code",
   "execution_count": 17,
   "metadata": {},
   "outputs": [
    {
     "data": {
      "text/plain": [
       "(10322, 10, 4)"
      ]
     },
     "execution_count": 17,
     "metadata": {},
     "output_type": "execute_result"
    }
   ],
   "source": [
    "X_train_seq_smart.shape"
   ]
  },
  {
   "cell_type": "code",
   "execution_count": 18,
   "metadata": {},
   "outputs": [],
   "source": [
    "scaler = StandardScaler()\n",
    "\n",
    "X_train_smart = scaler.fit_transform(X_train_smart)\n",
    "X_test_smart = scaler.transform(X_test_smart)"
   ]
  },
  {
   "cell_type": "code",
   "execution_count": 19,
   "metadata": {},
   "outputs": [],
   "source": [
    "train_means = np.mean(X_train_seq_smart, axis=(0, 1))  # Mean of each feature across training samples and timesteps\n",
    "train_stds = np.std(X_train_seq_smart, axis=(0, 1))    # Standard deviation of each feature across training samples and timesteps\n",
    "\n",
    "# Handle case where std is zero (to avoid division by zero)\n",
    "train_stds[train_stds == 0] = 1e-8\n",
    "\n",
    "# Standardize the training set\n",
    "X_train_seq_smart = (X_train_seq_smart - train_means) / train_stds\n",
    "\n",
    "# Standardize the test set using the training set's mean and std\n",
    "X_test_seq_smart = (X_test_seq_smart - train_means) / train_stds"
   ]
  },
  {
   "cell_type": "code",
   "execution_count": 20,
   "metadata": {},
   "outputs": [
    {
     "data": {
      "text/plain": [
       "(10322, 10, 4)"
      ]
     },
     "execution_count": 20,
     "metadata": {},
     "output_type": "execute_result"
    }
   ],
   "source": [
    "np.shape(X_train_seq_smart)"
   ]
  },
  {
   "cell_type": "code",
   "execution_count": 21,
   "metadata": {},
   "outputs": [
    {
     "data": {
      "text/plain": [
       "(4424, 10, 4)"
      ]
     },
     "execution_count": 21,
     "metadata": {},
     "output_type": "execute_result"
    }
   ],
   "source": [
    "np.shape(X_test_seq_smart)"
   ]
  },
  {
   "cell_type": "code",
   "execution_count": 22,
   "metadata": {},
   "outputs": [],
   "source": [
    "class_weights = class_weight.compute_class_weight('balanced',\n",
    "                                                 classes = np.unique(y_train_smart),\n",
    "                                                 y = y_train_smart)\n",
    "class_weights = dict(enumerate(class_weights))\n",
    "\n",
    "\n",
    "seq_class_weights = class_weight.compute_class_weight('balanced',\n",
    "                                                 classes = np.unique(y_train_seq_smart),\n",
    "                                                 y = y_train_seq_smart)\n",
    "seq_class_weights = dict(enumerate(seq_class_weights))"
   ]
  },
  {
   "cell_type": "code",
   "execution_count": 23,
   "metadata": {},
   "outputs": [],
   "source": [
    "oversample = SMOTE()\n",
    "X_train_smote, y_train_smote = oversample.fit_resample(X_train_smart, y_train_smart) \n",
    "# X_train_smote, y_train_smote = X_train, y_train_smart"
   ]
  },
  {
   "cell_type": "code",
   "execution_count": 24,
   "metadata": {},
   "outputs": [
    {
     "name": "stderr",
     "output_type": "stream",
     "text": [
      "2024-10-15 09:21:48.989857: I tensorflow/core/platform/cpu_feature_guard.cc:193] This TensorFlow binary is optimized with oneAPI Deep Neural Network Library (oneDNN) to use the following CPU instructions in performance-critical operations:  SSE4.1 SSE4.2 AVX AVX2 AVX512F AVX512_VNNI AVX512_BF16 AVX_VNNI AMX_TILE AMX_INT8 AMX_BF16 FMA\n",
      "To enable them in other operations, rebuild TensorFlow with the appropriate compiler flags.\n",
      "2024-10-15 09:21:48.994289: I tensorflow/core/common_runtime/process_util.cc:146] Creating new thread pool with default inter op setting: 2. Tune using inter_op_parallelism_threads for best performance.\n"
     ]
    }
   ],
   "source": [
    "mlp = Sequential()"
   ]
  },
  {
   "cell_type": "code",
   "execution_count": 25,
   "metadata": {},
   "outputs": [
    {
     "name": "stdout",
     "output_type": "stream",
     "text": [
      "-----MLP-------\n",
      "Epoch 1/100\n",
      "2581/2581 [==============================] - 7s 3ms/step - loss: 0.6184 - accuracy: 0.7012 - val_loss: 0.5929 - val_accuracy: 0.7243\n",
      "Epoch 2/100\n",
      "2581/2581 [==============================] - 8s 3ms/step - loss: 0.5903 - accuracy: 0.7137 - val_loss: 0.5663 - val_accuracy: 0.7387\n",
      "Epoch 3/100\n",
      "2581/2581 [==============================] - 6s 2ms/step - loss: 0.5722 - accuracy: 0.7179 - val_loss: 0.5562 - val_accuracy: 0.7276\n",
      "Epoch 4/100\n",
      "2581/2581 [==============================] - 6s 2ms/step - loss: 0.5498 - accuracy: 0.7279 - val_loss: 0.5172 - val_accuracy: 0.7528\n",
      "Epoch 5/100\n",
      "2581/2581 [==============================] - 5s 2ms/step - loss: 0.5289 - accuracy: 0.7408 - val_loss: 0.5168 - val_accuracy: 0.7546\n",
      "Epoch 6/100\n",
      "2581/2581 [==============================] - 6s 2ms/step - loss: 0.5094 - accuracy: 0.7512 - val_loss: 0.5137 - val_accuracy: 0.7472\n",
      "Epoch 7/100\n",
      "2581/2581 [==============================] - 7s 3ms/step - loss: 0.4928 - accuracy: 0.7629 - val_loss: 0.4861 - val_accuracy: 0.7790\n",
      "Epoch 8/100\n",
      "2581/2581 [==============================] - 6s 2ms/step - loss: 0.4794 - accuracy: 0.7672 - val_loss: 0.5150 - val_accuracy: 0.7368\n",
      "Epoch 9/100\n",
      "2581/2581 [==============================] - 8s 3ms/step - loss: 0.4697 - accuracy: 0.7726 - val_loss: 0.4722 - val_accuracy: 0.7679\n",
      "Epoch 10/100\n",
      "2581/2581 [==============================] - 5s 2ms/step - loss: 0.4612 - accuracy: 0.7776 - val_loss: 0.4589 - val_accuracy: 0.7714\n",
      "Epoch 11/100\n",
      "2581/2581 [==============================] - 6s 2ms/step - loss: 0.4549 - accuracy: 0.7808 - val_loss: 0.4402 - val_accuracy: 0.8006\n",
      "Epoch 12/100\n",
      "2581/2581 [==============================] - 6s 2ms/step - loss: 0.4489 - accuracy: 0.7824 - val_loss: 0.4694 - val_accuracy: 0.7686\n",
      "Epoch 13/100\n",
      "2581/2581 [==============================] - 6s 2ms/step - loss: 0.4445 - accuracy: 0.7846 - val_loss: 0.4600 - val_accuracy: 0.7802\n",
      "Epoch 14/100\n",
      "2581/2581 [==============================] - 7s 3ms/step - loss: 0.4399 - accuracy: 0.7852 - val_loss: 0.4342 - val_accuracy: 0.7959\n",
      "Epoch 15/100\n",
      "2581/2581 [==============================] - 7s 3ms/step - loss: 0.4364 - accuracy: 0.7875 - val_loss: 0.4458 - val_accuracy: 0.7898\n",
      "Epoch 16/100\n",
      "2581/2581 [==============================] - 8s 3ms/step - loss: 0.4324 - accuracy: 0.7912 - val_loss: 0.4555 - val_accuracy: 0.7686\n",
      "Epoch 17/100\n",
      "2581/2581 [==============================] - 7s 3ms/step - loss: 0.4294 - accuracy: 0.7926 - val_loss: 0.3928 - val_accuracy: 0.8128\n",
      "Epoch 18/100\n",
      "2581/2581 [==============================] - 7s 3ms/step - loss: 0.4265 - accuracy: 0.7940 - val_loss: 0.4557 - val_accuracy: 0.7645\n",
      "Epoch 19/100\n",
      "2581/2581 [==============================] - 7s 3ms/step - loss: 0.4243 - accuracy: 0.7946 - val_loss: 0.4244 - val_accuracy: 0.8043\n",
      "Epoch 20/100\n",
      "2581/2581 [==============================] - 9s 3ms/step - loss: 0.4224 - accuracy: 0.7961 - val_loss: 0.4101 - val_accuracy: 0.7976\n",
      "Epoch 21/100\n",
      "2581/2581 [==============================] - 9s 3ms/step - loss: 0.4201 - accuracy: 0.7964 - val_loss: 0.4239 - val_accuracy: 0.7939\n",
      "Epoch 22/100\n",
      "2581/2581 [==============================] - 8s 3ms/step - loss: 0.4168 - accuracy: 0.7994 - val_loss: 0.4012 - val_accuracy: 0.8076\n"
     ]
    }
   ],
   "source": [
    "##MLP\n",
    "\n",
    "print(\"-----MLP-------\")\n",
    "\n",
    "# mlp = Sequential()\n",
    "mlp.add(Input(shape = (4)))\n",
    "mlp.add(Dense(128, activation = 'relu'))\n",
    "mlp.add(Dense(64, activation = 'relu'))\n",
    "mlp.add(Dense(1, activation = 'sigmoid'))\n",
    "\n",
    "mlp.compile(optimizer='adam',\n",
    "                loss=BinaryCrossentropy(from_logits=False),\n",
    "                metrics=['accuracy'])\n",
    "\n",
    "es = EarlyStopping(monitor = 'val_loss', patience = 5, restore_best_weights = True)\n",
    "\n",
    "mlp_hist = mlp.fit(X_train_smart, y_train_smart, epochs=100, callbacks = [es], validation_split=0.2, batch_size = 32, class_weight = class_weights)"
   ]
  },
  {
   "cell_type": "code",
   "execution_count": 26,
   "metadata": {},
   "outputs": [
    {
     "name": "stdout",
     "output_type": "stream",
     "text": [
      "-----MLP-------\n"
     ]
    },
    {
     "name": "stdout",
     "output_type": "stream",
     "text": [
      "6/6 [==============================] - 0s 9ms/step\n",
      "--------Smart--------\n",
      "ACCURACY:  0.8188928321164584\n",
      "CLASSIFICATION REPORT:\n",
      "               precision    recall  f1-score   support\n",
      "\n",
      "         0.0       0.87      0.85      0.86     29873\n",
      "         1.0       0.71      0.74      0.73     14366\n",
      "\n",
      "    accuracy                           0.82     44239\n",
      "   macro avg       0.79      0.80      0.80     44239\n",
      "weighted avg       0.82      0.82      0.82     44239\n",
      "\n"
     ]
    }
   ],
   "source": [
    "##MLP\n",
    "print(\"-----MLP-------\")\n",
    "threshold = 0.5\n",
    "mlp_preds = mlp.predict(X_test_smart, batch_size = 8196)\n",
    "mlp_preds = (mlp_preds >= threshold).astype(int)\n",
    "\n",
    "print(\"--------Smart--------\")\n",
    "print(\"ACCURACY: \", accuracy_score(y_test_smart, mlp_preds))\n",
    "print(\"CLASSIFICATION REPORT:\\n\", classification_report(y_test_smart, mlp_preds))\n"
   ]
  },
  {
   "cell_type": "code",
   "execution_count": 27,
   "metadata": {},
   "outputs": [
    {
     "name": "stdout",
     "output_type": "stream",
     "text": [
      "-----LSTM-------\n",
      "Epoch 1/1000\n",
      "259/259 [==============================] - 28s 106ms/step - loss: 0.6136 - accuracy: 0.7030 - val_loss: 0.5740 - val_accuracy: 0.7085\n",
      "Epoch 2/1000\n",
      "259/259 [==============================] - 17s 64ms/step - loss: 0.4685 - accuracy: 0.7864 - val_loss: 0.3283 - val_accuracy: 0.8731\n",
      "Epoch 3/1000\n",
      " 93/259 [=========>....................] - ETA: 19s - loss: 0.3407 - accuracy: 0.8656"
     ]
    },
    {
     "name": "stdout",
     "output_type": "stream",
     "text": [
      "259/259 [==============================] - 22s 83ms/step - loss: 0.3410 - accuracy: 0.8591 - val_loss: 0.2605 - val_accuracy: 0.9065\n",
      "Epoch 4/1000\n",
      "259/259 [==============================] - 20s 78ms/step - loss: 0.2815 - accuracy: 0.8863 - val_loss: 0.2493 - val_accuracy: 0.9114\n",
      "Epoch 5/1000\n",
      "259/259 [==============================] - 12s 47ms/step - loss: 0.2508 - accuracy: 0.9017 - val_loss: 0.2092 - val_accuracy: 0.9220\n",
      "Epoch 6/1000\n",
      "259/259 [==============================] - 10s 39ms/step - loss: 0.2105 - accuracy: 0.9129 - val_loss: 0.2075 - val_accuracy: 0.9201\n",
      "Epoch 7/1000\n",
      "259/259 [==============================] - 6s 25ms/step - loss: 0.1909 - accuracy: 0.9207 - val_loss: 0.1547 - val_accuracy: 0.9404\n",
      "Epoch 8/1000\n",
      "259/259 [==============================] - 28s 108ms/step - loss: 0.1697 - accuracy: 0.9284 - val_loss: 0.1498 - val_accuracy: 0.9395\n",
      "Epoch 9/1000\n",
      "259/259 [==============================] - 14s 54ms/step - loss: 0.1864 - accuracy: 0.9236 - val_loss: 0.1070 - val_accuracy: 0.9588\n",
      "Epoch 10/1000\n",
      "259/259 [==============================] - 12s 44ms/step - loss: 0.1338 - accuracy: 0.9425 - val_loss: 0.1042 - val_accuracy: 0.9584\n",
      "Epoch 11/1000\n",
      "259/259 [==============================] - 8s 29ms/step - loss: 0.1349 - accuracy: 0.9407 - val_loss: 0.1271 - val_accuracy: 0.9521\n",
      "Epoch 12/1000\n",
      "259/259 [==============================] - 9s 35ms/step - loss: 0.1286 - accuracy: 0.9445 - val_loss: 0.1044 - val_accuracy: 0.9554\n",
      "Epoch 13/1000\n",
      "259/259 [==============================] - 7s 26ms/step - loss: 0.1130 - accuracy: 0.9510 - val_loss: 0.1799 - val_accuracy: 0.9254\n",
      "Epoch 14/1000\n",
      "259/259 [==============================] - 8s 33ms/step - loss: 0.1165 - accuracy: 0.9465 - val_loss: 0.1303 - val_accuracy: 0.9424\n",
      "Epoch 15/1000\n",
      "259/259 [==============================] - 12s 46ms/step - loss: 0.0968 - accuracy: 0.9570 - val_loss: 0.1205 - val_accuracy: 0.9492\n"
     ]
    }
   ],
   "source": [
    "##LSTM\n",
    "\n",
    "print(\"-----LSTM-------\")\n",
    "\n",
    "lstm = Sequential()\n",
    "\n",
    "lstm.add(Input(shape = X_train_seq_smart.shape[1:]))\n",
    "lstm.add(LSTM(128, activation = 'relu'))\n",
    "lstm.add(Dense(64, activation = 'relu'))\n",
    "lstm.add(Dense(1, activation = 'sigmoid'))\n",
    "\n",
    "lstm.compile(\n",
    "    loss = BinaryCrossentropy(from_logits = False),\n",
    "    optimizer = Adam(learning_rate = 0.001),\n",
    "    metrics = ['accuracy'])\n",
    "\n",
    "es = EarlyStopping(monitor = 'val_loss', patience = 5, restore_best_weights = True)\n",
    "lstm_hist = lstm.fit(X_train_seq_smart, y_train_seq_smart, batch_size = 32, validation_split = 0.2,\n",
    "        callbacks = [es], epochs = 1000, class_weight = seq_class_weights)\n"
   ]
  },
  {
   "cell_type": "code",
   "execution_count": 28,
   "metadata": {},
   "outputs": [],
   "source": [
    "# X_test_seq_samples, y_test_seq_samples = balance_data(X_test_seq_smart, y_test_seq_smart)"
   ]
  },
  {
   "cell_type": "code",
   "execution_count": 31,
   "metadata": {},
   "outputs": [
    {
     "name": "stdout",
     "output_type": "stream",
     "text": [
      "-----LSTM-------\n",
      "1/1 [==============================] - 0s 92ms/step\n",
      "--------Smart--------\n",
      "ACCURACY:  0.9114713216957606\n",
      "CLASSIFICATION REPORT:\n",
      "               precision    recall  f1-score   support\n",
      "\n",
      "           0       0.98      0.84      0.90       401\n",
      "           1       0.86      0.98      0.92       401\n",
      "\n",
      "    accuracy                           0.91       802\n",
      "   macro avg       0.92      0.91      0.91       802\n",
      "weighted avg       0.92      0.91      0.91       802\n",
      "\n"
     ]
    }
   ],
   "source": [
    "print(\"-----LSTM-------\")\n",
    "\n",
    "X_test_seq_smart, y_test_seq_smart = balance_data(X_test_seq_smart, y_test_seq_smart)\n",
    "\n",
    "lstm_preds = lstm.predict(X_test_seq_smart, batch_size=4096)\n",
    "lstm_preds = (lstm_preds >= threshold).astype(int)\n",
    "\n",
    "print(\"--------Smart--------\")\n",
    "print(\"ACCURACY: \", accuracy_score(y_test_seq_smart, lstm_preds))\n",
    "print(\"CLASSIFICATION REPORT:\\n\", classification_report(y_test_seq_smart, lstm_preds))"
   ]
  },
  {
   "cell_type": "code",
   "execution_count": 33,
   "metadata": {},
   "outputs": [
    {
     "name": "stdout",
     "output_type": "stream",
     "text": [
      "--------Smart--------\n",
      "ACCURACY:  0.7409751576663125\n",
      "CLASSIFICATION REPORT:\n",
      "               precision    recall  f1-score   support\n",
      "\n",
      "         0.0       0.73      0.98      0.84     29873\n",
      "         1.0       0.83      0.25      0.39     14366\n",
      "\n",
      "    accuracy                           0.74     44239\n",
      "   macro avg       0.78      0.61      0.61     44239\n",
      "weighted avg       0.76      0.74      0.69     44239\n",
      "\n"
     ]
    }
   ],
   "source": [
    "dt = DecisionTreeClassifier(max_depth = 4)\n",
    "dt.fit(X_train_smart, y_train_smart)\n",
    "\n",
    "dt_preds = dt.predict(X_test_smart)\n",
    "\n",
    "print(\"--------Smart--------\")\n",
    "print(\"ACCURACY: \", accuracy_score(y_test_smart, dt_preds))\n",
    "print(\"CLASSIFICATION REPORT:\\n\", classification_report(y_test_smart, dt_preds))\n"
   ]
  },
  {
   "cell_type": "code",
   "execution_count": null,
   "metadata": {},
   "outputs": [],
   "source": []
  }
 ],
 "metadata": {
  "kernelspec": {
   "display_name": "tf-gpu",
   "language": "python",
   "name": "python3"
  },
  "language_info": {
   "codemirror_mode": {
    "name": "ipython",
    "version": 3
   },
   "file_extension": ".py",
   "mimetype": "text/x-python",
   "name": "python",
   "nbconvert_exporter": "python",
   "pygments_lexer": "ipython3",
   "version": "3.9.18"
  }
 },
 "nbformat": 4,
 "nbformat_minor": 2
}
