{
 "cells": [
  {
   "cell_type": "code",
   "execution_count": 1,
   "id": "e917863a",
   "metadata": {},
   "outputs": [
    {
     "name": "stderr",
     "output_type": "stream",
     "text": [
      "2024-03-12 20:56:09.881454: I tensorflow/stream_executor/platform/default/dso_loader.cc:49] Successfully opened dynamic library libcudart.so.10.1\n"
     ]
    }
   ],
   "source": [
    "import os\n",
    "import numpy as np\n",
    "import pandas as pd\n",
    "import matplotlib.pyplot as plt\n",
    "from sklearn.model_selection import train_test_split\n",
    "from sklearn.preprocessing import StandardScaler\n",
    "from tensorflow.keras.models import Sequential\n",
    "from tensorflow.keras.layers import Dense\n",
    "from tensorflow.keras.callbacks import ReduceLROnPlateau, EarlyStopping\n",
    "from sklearn.metrics import mean_squared_error\n",
    "from sklearn.metrics import classification_report, accuracy_score, recall_score, f1_score, precision_score\n",
    "from joblib import load\n",
    "from tensorflow.keras.models import load_model\n",
    "from sklearn.manifold import TSNE\n",
    "from matplotlib.colors import ListedColormap\n",
    "import tensorflow as tf\n",
    "\n",
    "data_path = '../Smart Attack Algorithm/data/Car Hacking Dataset/benign_data.csv'\n",
    "\n",
    "def hex_to_bin(hex_num):\n",
    "    \n",
    "    binary_value = bin(int(str(hex_num), 16))[2:]\n",
    "    \n",
    "    return binary_value\n",
    "\n",
    "def int_to_bin(int_num):\n",
    "    \n",
    "    binary_value = bin(int_num)[2:]\n",
    "    \n",
    "    return binary_value\n",
    "\n",
    "hex_to_dec = lambda x: int(x, 16)\n",
    "dec_to_hex = lambda x : hex(int(x))[2:]"
   ]
  },
  {
   "cell_type": "code",
   "execution_count": 2,
   "id": "87464536",
   "metadata": {},
   "outputs": [],
   "source": [
    "def read_data(data_path):\n",
    "    \n",
    "    columns = ['Timestamp','ID', 'DLC', 'Payload', 'label']\n",
    "    \n",
    "    data = pd.read_csv(data_path)\n",
    "    \n",
    "    ##Replacing all NaNs with '00' \n",
    "    data = data.replace(np.NaN, '00')\n",
    "\n",
    "    data['ID'] = data['ID'].apply(hex_to_dec)\n",
    "    \n",
    "    data['Payload'] = data['Payload'].str.replace(' ', '')\n",
    "    data['Payload'] = data['Payload'].apply(hex_to_dec)\n",
    "    \n",
    "    data = data.assign(IAT=data['Timestamp'].diff().fillna(0))\n",
    "    data = data.drop(columns = ['Timestamp'], axis = 1)\n",
    "    \n",
    "    return data"
   ]
  },
  {
   "cell_type": "code",
   "execution_count": 3,
   "id": "f73cd727",
   "metadata": {},
   "outputs": [
    {
     "data": {
      "text/html": [
       "<div>\n",
       "<style scoped>\n",
       "    .dataframe tbody tr th:only-of-type {\n",
       "        vertical-align: middle;\n",
       "    }\n",
       "\n",
       "    .dataframe tbody tr th {\n",
       "        vertical-align: top;\n",
       "    }\n",
       "\n",
       "    .dataframe thead th {\n",
       "        text-align: right;\n",
       "    }\n",
       "</style>\n",
       "<table border=\"1\" class=\"dataframe\">\n",
       "  <thead>\n",
       "    <tr style=\"text-align: right;\">\n",
       "      <th></th>\n",
       "      <th>ID</th>\n",
       "      <th>DLC</th>\n",
       "      <th>Payload</th>\n",
       "      <th>IAT</th>\n",
       "    </tr>\n",
       "  </thead>\n",
       "  <tbody>\n",
       "    <tr>\n",
       "      <th>0</th>\n",
       "      <td>848</td>\n",
       "      <td>8</td>\n",
       "      <td>371692544708313250</td>\n",
       "      <td>0.000000</td>\n",
       "    </tr>\n",
       "    <tr>\n",
       "      <th>1</th>\n",
       "      <td>704</td>\n",
       "      <td>8</td>\n",
       "      <td>1441151880758558720</td>\n",
       "      <td>0.000221</td>\n",
       "    </tr>\n",
       "    <tr>\n",
       "      <th>2</th>\n",
       "      <td>1072</td>\n",
       "      <td>8</td>\n",
       "      <td>0</td>\n",
       "      <td>0.000554</td>\n",
       "    </tr>\n",
       "    <tr>\n",
       "      <th>3</th>\n",
       "      <td>1201</td>\n",
       "      <td>8</td>\n",
       "      <td>0</td>\n",
       "      <td>0.000238</td>\n",
       "    </tr>\n",
       "    <tr>\n",
       "      <th>4</th>\n",
       "      <td>497</td>\n",
       "      <td>8</td>\n",
       "      <td>0</td>\n",
       "      <td>0.000248</td>\n",
       "    </tr>\n",
       "  </tbody>\n",
       "</table>\n",
       "</div>"
      ],
      "text/plain": [
       "     ID  DLC              Payload       IAT\n",
       "0   848    8   371692544708313250  0.000000\n",
       "1   704    8  1441151880758558720  0.000221\n",
       "2  1072    8                    0  0.000554\n",
       "3  1201    8                    0  0.000238\n",
       "4   497    8                    0  0.000248"
      ]
     },
     "execution_count": 3,
     "metadata": {},
     "output_type": "execute_result"
    }
   ],
   "source": [
    "normal_data = read_data(data_path)\n",
    "normal_data.drop(columns = ['label'], inplace = True)\n",
    "normal_data.head()"
   ]
  },
  {
   "cell_type": "code",
   "execution_count": 4,
   "id": "675e5832",
   "metadata": {},
   "outputs": [],
   "source": [
    "# X_train, X_test = train_test_split(normal_data, test_size=0.2, random_state=42)\n",
    "\n",
    "# scaler = StandardScaler()\n",
    "\n",
    "scaler = load('ch_scaler.joblib')\n",
    "X_train = scaler.fit_transform(normal_data)\n",
    "# X_test = scaler.transform(X_test)"
   ]
  },
  {
   "cell_type": "code",
   "execution_count": 5,
   "id": "a89a600e",
   "metadata": {},
   "outputs": [
    {
     "name": "stderr",
     "output_type": "stream",
     "text": [
      "2024-03-12 20:56:43.912391: I tensorflow/compiler/jit/xla_cpu_device.cc:41] Not creating XLA devices, tf_xla_enable_xla_devices not set\n",
      "2024-03-12 20:56:43.991674: I tensorflow/stream_executor/platform/default/dso_loader.cc:49] Successfully opened dynamic library libcuda.so.1\n",
      "2024-03-12 20:56:44.254297: I tensorflow/core/common_runtime/gpu/gpu_device.cc:1720] Found device 0 with properties: \n",
      "pciBusID: 0000:02:00.0 name: Tesla K40m computeCapability: 3.5\n",
      "coreClock: 0.745GHz coreCount: 15 deviceMemorySize: 11.17GiB deviceMemoryBandwidth: 268.58GiB/s\n",
      "2024-03-12 20:56:44.255287: I tensorflow/core/common_runtime/gpu/gpu_device.cc:1720] Found device 1 with properties: \n",
      "pciBusID: 0000:84:00.0 name: Tesla K40m computeCapability: 3.5\n",
      "coreClock: 0.745GHz coreCount: 15 deviceMemorySize: 11.17GiB deviceMemoryBandwidth: 268.58GiB/s\n",
      "2024-03-12 20:56:44.255342: I tensorflow/stream_executor/platform/default/dso_loader.cc:49] Successfully opened dynamic library libcudart.so.10.1\n",
      "2024-03-12 20:56:48.367880: I tensorflow/stream_executor/platform/default/dso_loader.cc:49] Successfully opened dynamic library libcublas.so.10\n",
      "2024-03-12 20:56:48.368080: I tensorflow/stream_executor/platform/default/dso_loader.cc:49] Successfully opened dynamic library libcublasLt.so.10\n",
      "2024-03-12 20:56:49.572691: I tensorflow/stream_executor/platform/default/dso_loader.cc:49] Successfully opened dynamic library libcufft.so.10\n",
      "2024-03-12 20:56:49.778739: I tensorflow/stream_executor/platform/default/dso_loader.cc:49] Successfully opened dynamic library libcurand.so.10\n",
      "2024-03-12 20:56:50.839678: I tensorflow/stream_executor/platform/default/dso_loader.cc:49] Successfully opened dynamic library libcusolver.so.10\n",
      "2024-03-12 20:56:51.017337: I tensorflow/stream_executor/platform/default/dso_loader.cc:49] Successfully opened dynamic library libcusparse.so.10\n",
      "2024-03-12 20:56:52.375254: I tensorflow/stream_executor/platform/default/dso_loader.cc:49] Successfully opened dynamic library libcudnn.so.7\n",
      "2024-03-12 20:56:52.378786: I tensorflow/core/common_runtime/gpu/gpu_device.cc:1862] Adding visible gpu devices: 0, 1\n",
      "2024-03-12 20:56:52.430862: I tensorflow/core/platform/cpu_feature_guard.cc:142] This TensorFlow binary is optimized with oneAPI Deep Neural Network Library (oneDNN) to use the following CPU instructions in performance-critical operations:  SSE4.1 SSE4.2 AVX AVX2 FMA\n",
      "To enable them in other operations, rebuild TensorFlow with the appropriate compiler flags.\n",
      "2024-03-12 20:56:52.446067: I tensorflow/compiler/jit/xla_gpu_device.cc:99] Not creating XLA devices, tf_xla_enable_xla_devices not set\n",
      "2024-03-12 20:56:52.674133: I tensorflow/core/common_runtime/gpu/gpu_device.cc:1720] Found device 0 with properties: \n",
      "pciBusID: 0000:02:00.0 name: Tesla K40m computeCapability: 3.5\n",
      "coreClock: 0.745GHz coreCount: 15 deviceMemorySize: 11.17GiB deviceMemoryBandwidth: 268.58GiB/s\n",
      "2024-03-12 20:56:52.674935: I tensorflow/core/common_runtime/gpu/gpu_device.cc:1720] Found device 1 with properties: \n",
      "pciBusID: 0000:84:00.0 name: Tesla K40m computeCapability: 3.5\n",
      "coreClock: 0.745GHz coreCount: 15 deviceMemorySize: 11.17GiB deviceMemoryBandwidth: 268.58GiB/s\n",
      "2024-03-12 20:56:52.675005: I tensorflow/stream_executor/platform/default/dso_loader.cc:49] Successfully opened dynamic library libcudart.so.10.1\n",
      "2024-03-12 20:56:52.675040: I tensorflow/stream_executor/platform/default/dso_loader.cc:49] Successfully opened dynamic library libcublas.so.10\n",
      "2024-03-12 20:56:52.675066: I tensorflow/stream_executor/platform/default/dso_loader.cc:49] Successfully opened dynamic library libcublasLt.so.10\n",
      "2024-03-12 20:56:52.675091: I tensorflow/stream_executor/platform/default/dso_loader.cc:49] Successfully opened dynamic library libcufft.so.10\n",
      "2024-03-12 20:56:52.675116: I tensorflow/stream_executor/platform/default/dso_loader.cc:49] Successfully opened dynamic library libcurand.so.10\n",
      "2024-03-12 20:56:52.675141: I tensorflow/stream_executor/platform/default/dso_loader.cc:49] Successfully opened dynamic library libcusolver.so.10\n",
      "2024-03-12 20:56:52.675179: I tensorflow/stream_executor/platform/default/dso_loader.cc:49] Successfully opened dynamic library libcusparse.so.10\n",
      "2024-03-12 20:56:52.675204: I tensorflow/stream_executor/platform/default/dso_loader.cc:49] Successfully opened dynamic library libcudnn.so.7\n",
      "2024-03-12 20:56:52.678087: I tensorflow/core/common_runtime/gpu/gpu_device.cc:1862] Adding visible gpu devices: 0, 1\n",
      "2024-03-12 20:56:52.724211: I tensorflow/stream_executor/platform/default/dso_loader.cc:49] Successfully opened dynamic library libcudart.so.10.1\n",
      "2024-03-12 20:57:03.986431: I tensorflow/core/common_runtime/gpu/gpu_device.cc:1261] Device interconnect StreamExecutor with strength 1 edge matrix:\n",
      "2024-03-12 20:57:03.986481: I tensorflow/core/common_runtime/gpu/gpu_device.cc:1267]      0 1 \n",
      "2024-03-12 20:57:03.986514: I tensorflow/core/common_runtime/gpu/gpu_device.cc:1280] 0:   N N \n",
      "2024-03-12 20:57:03.986519: I tensorflow/core/common_runtime/gpu/gpu_device.cc:1280] 1:   N N \n",
      "2024-03-12 20:57:04.007661: I tensorflow/core/common_runtime/gpu/gpu_device.cc:1406] Created TensorFlow device (/job:localhost/replica:0/task:0/device:GPU:0 with 10611 MB memory) -> physical GPU (device: 0, name: Tesla K40m, pci bus id: 0000:02:00.0, compute capability: 3.5)\n",
      "2024-03-12 20:57:04.064618: I tensorflow/core/common_runtime/gpu/gpu_device.cc:1406] Created TensorFlow device (/job:localhost/replica:0/task:0/device:GPU:1 with 10611 MB memory) -> physical GPU (device: 1, name: Tesla K40m, pci bus id: 0000:84:00.0, compute capability: 3.5)\n",
      "2024-03-12 20:57:05.707464: I tensorflow/compiler/mlir/mlir_graph_optimization_pass.cc:116] None of the MLIR optimization passes are enabled (registered 2)\n",
      "2024-03-12 20:57:05.977122: I tensorflow/core/platform/profile_utils/cpu_utils.cc:112] CPU Frequency: 2496840000 Hz\n",
      "2024-03-12 20:57:07.056155: I tensorflow/stream_executor/platform/default/dso_loader.cc:49] Successfully opened dynamic library libcublas.so.10\n"
     ]
    },
    {
     "name": "stdout",
     "output_type": "stream",
     "text": [
      "Training Loss:  1.0000033831603325\n"
     ]
    }
   ],
   "source": [
    "model = load_model('ae_ch.h5')\n",
    "X_train_pred = model.predict(X_train)\n",
    "\n",
    "print(\"Training Loss: \", mean_squared_error(X_train, X_train_pred))"
   ]
  },
  {
   "cell_type": "code",
   "execution_count": 6,
   "id": "7f2bdc95",
   "metadata": {},
   "outputs": [],
   "source": [
    "def squared_difference_error(X, X_recon):\n",
    "    # Calculate squared difference error between each sample of X and X_recon\n",
    "    squared_diff = np.square(X - X_recon)\n",
    "\n",
    "    return squared_diff\n",
    "\n",
    "training_losses = squared_difference_error(X_train, X_train_pred)"
   ]
  },
  {
   "cell_type": "code",
   "execution_count": 7,
   "id": "6b230150",
   "metadata": {},
   "outputs": [],
   "source": [
    "# strat = MirroredStrategy()\n",
    "\n",
    "# EPOCHS = 1000\n",
    "# BATCH_SIZE = 32 * strat.num_replicas_in_sync\n",
    "# LOSS = 'mse'\n",
    "\n",
    "# # Define early stopping callback\n",
    "\n",
    "# reduce_lr = ReduceLROnPlateau(monitor='val_loss', factor=0.1,\n",
    "#                               patience=20)\n",
    "\n",
    "# early_stopper = EarlyStopping(monitor='val_loss', patience=60, restore_best_weights=True)\n",
    "\n",
    "# input_dim = X_train.shape[1]\n",
    "\n",
    "\n",
    "# with strat.scope():\n",
    "#     model = Sequential()\n",
    "\n",
    "#     ##Encoder\n",
    "#     model.add(Dense(input_dim, input_shape=(input_dim, ), activation='relu'))\n",
    "#     model.add(Dense(3, activation='relu'))\n",
    "#     model.add(Dense(2, activation='relu'))\n",
    "\n",
    "#     ##Bottleneck\n",
    "#     model.add(Dense(1, activation='relu'))\n",
    "\n",
    "#     ##Decoder\n",
    "#     model.add(Dense(2, activation='relu'))\n",
    "#     model.add(Dense(3, activation='relu'))\n",
    "#     model.add(Dense(input_dim))\n",
    "    \n",
    " \n",
    "\n",
    "#     model.compile(optimizer='adam', loss=LOSS)\n",
    "\n",
    "# history = model.fit(X_train, X_train, epochs=EPOCHS, batch_size=BATCH_SIZE, \n",
    "#                     validation_data=(X_test, X_test), callbacks=[reduce_lr, early_stopper])"
   ]
  },
  {
   "cell_type": "code",
   "execution_count": 8,
   "id": "8090d422",
   "metadata": {},
   "outputs": [],
   "source": [
    "def assign_labels(X, X_recon, threshold):\n",
    "    # Calculate squared error between each row of X and X_recon\n",
    "    squared_errors = np.mean(np.square(X - X_recon), axis=1)\n",
    "\n",
    "    # Assign labels based on threshold\n",
    "    labels = [0 if error < threshold else 1 for error in squared_errors]\n",
    "\n",
    "    return labels"
   ]
  },
  {
   "cell_type": "code",
   "execution_count": 9,
   "id": "c30d067f",
   "metadata": {},
   "outputs": [],
   "source": [
    "car_hacking_df = pd.read_csv('../Smart Attack Algorithm/data/Car Hacking Dataset/preprocessed_car_hacking.csv')"
   ]
  },
  {
   "cell_type": "code",
   "execution_count": 10,
   "id": "e54bfc3e",
   "metadata": {},
   "outputs": [
    {
     "data": {
      "text/html": [
       "<div>\n",
       "<style scoped>\n",
       "    .dataframe tbody tr th:only-of-type {\n",
       "        vertical-align: middle;\n",
       "    }\n",
       "\n",
       "    .dataframe tbody tr th {\n",
       "        vertical-align: top;\n",
       "    }\n",
       "\n",
       "    .dataframe thead th {\n",
       "        text-align: right;\n",
       "    }\n",
       "</style>\n",
       "<table border=\"1\" class=\"dataframe\">\n",
       "  <thead>\n",
       "    <tr style=\"text-align: right;\">\n",
       "      <th></th>\n",
       "      <th>Timestamp</th>\n",
       "      <th>ID</th>\n",
       "      <th>DLC</th>\n",
       "      <th>Payload</th>\n",
       "      <th>IAT</th>\n",
       "      <th>label</th>\n",
       "    </tr>\n",
       "  </thead>\n",
       "  <tbody>\n",
       "    <tr>\n",
       "      <th>0</th>\n",
       "      <td>1.478198e+09</td>\n",
       "      <td>0316</td>\n",
       "      <td>8</td>\n",
       "      <td>052168092121006f</td>\n",
       "      <td>0.000000</td>\n",
       "      <td>0</td>\n",
       "    </tr>\n",
       "    <tr>\n",
       "      <th>1</th>\n",
       "      <td>1.478198e+09</td>\n",
       "      <td>018f</td>\n",
       "      <td>8</td>\n",
       "      <td>fe5b0000003c0000</td>\n",
       "      <td>0.000209</td>\n",
       "      <td>0</td>\n",
       "    </tr>\n",
       "    <tr>\n",
       "      <th>2</th>\n",
       "      <td>1.478198e+09</td>\n",
       "      <td>0260</td>\n",
       "      <td>8</td>\n",
       "      <td>19212230088e6d3a</td>\n",
       "      <td>0.000228</td>\n",
       "      <td>0</td>\n",
       "    </tr>\n",
       "    <tr>\n",
       "      <th>3</th>\n",
       "      <td>1.478198e+09</td>\n",
       "      <td>02a0</td>\n",
       "      <td>8</td>\n",
       "      <td>64009a1d9702bd00</td>\n",
       "      <td>0.000232</td>\n",
       "      <td>0</td>\n",
       "    </tr>\n",
       "    <tr>\n",
       "      <th>4</th>\n",
       "      <td>1.478198e+09</td>\n",
       "      <td>0329</td>\n",
       "      <td>8</td>\n",
       "      <td>40bb7f1411200014</td>\n",
       "      <td>0.000237</td>\n",
       "      <td>0</td>\n",
       "    </tr>\n",
       "  </tbody>\n",
       "</table>\n",
       "</div>"
      ],
      "text/plain": [
       "      Timestamp    ID  DLC           Payload       IAT  label\n",
       "0  1.478198e+09  0316    8  052168092121006f  0.000000      0\n",
       "1  1.478198e+09  018f    8  fe5b0000003c0000  0.000209      0\n",
       "2  1.478198e+09  0260    8  19212230088e6d3a  0.000228      0\n",
       "3  1.478198e+09  02a0    8  64009a1d9702bd00  0.000232      0\n",
       "4  1.478198e+09  0329    8  40bb7f1411200014  0.000237      0"
      ]
     },
     "execution_count": 10,
     "metadata": {},
     "output_type": "execute_result"
    }
   ],
   "source": [
    "car_hacking_df.head()"
   ]
  },
  {
   "cell_type": "code",
   "execution_count": 11,
   "id": "a665ac29",
   "metadata": {},
   "outputs": [],
   "source": [
    "car_hacking_df.drop(columns = ['Timestamp'], inplace = True)\n",
    "\n",
    "car_hacking_df['ID'] = car_hacking_df['ID'].apply(hex_to_dec)\n",
    "car_hacking_df['Payload'] = car_hacking_df['Payload'].apply(hex_to_dec)"
   ]
  },
  {
   "cell_type": "code",
   "execution_count": 12,
   "id": "b44ab461",
   "metadata": {},
   "outputs": [
    {
     "data": {
      "text/plain": [
       "Index(['ID', 'DLC', 'Payload', 'IAT', 'label'], dtype='object')"
      ]
     },
     "execution_count": 12,
     "metadata": {},
     "output_type": "execute_result"
    }
   ],
   "source": [
    "car_hacking_df.columns"
   ]
  },
  {
   "cell_type": "code",
   "execution_count": 13,
   "id": "8c7eab7a",
   "metadata": {},
   "outputs": [],
   "source": [
    "X = car_hacking_df.drop(columns = ['label'])\n",
    "y = car_hacking_df['label']"
   ]
  },
  {
   "cell_type": "code",
   "execution_count": 14,
   "id": "48f6f2d8",
   "metadata": {},
   "outputs": [],
   "source": [
    "X_val, X_test, y_val, y_test = train_test_split(X, y, test_size=0.5, random_state=42)"
   ]
  },
  {
   "cell_type": "code",
   "execution_count": 15,
   "id": "81f262e0",
   "metadata": {},
   "outputs": [
    {
     "name": "stdout",
     "output_type": "stream",
     "text": [
      "=====================================\n",
      "Threshold: 0.15450967958937473\n",
      "Accuracy: 0.16046124006688908\n",
      "F1 Score: 0.276547349496378\n",
      "Recall: 1.0\n",
      "Precision: 0.16046124006688908\n",
      "=====================================\n",
      "Threshold: 0.17016189676719515\n",
      "Accuracy: 0.16046124006688908\n",
      "F1 Score: 0.276547349496378\n",
      "Recall: 1.0\n",
      "Precision: 0.16046124006688908\n",
      "=====================================\n",
      "Threshold: 0.2583842678424978\n",
      "Accuracy: 0.16046124006688908\n",
      "F1 Score: 0.276547349496378\n",
      "Recall: 1.0\n",
      "Precision: 0.16046124006688908\n",
      "=====================================\n",
      "Threshold: 0.431867581066057\n",
      "Accuracy: 0.16046124006688908\n",
      "F1 Score: 0.276547349496378\n",
      "Recall: 1.0\n",
      "Precision: 0.16046124006688908\n",
      "=====================================\n",
      "Threshold: 0.49040146269082996\n",
      "Accuracy: 0.16046124006688908\n",
      "F1 Score: 0.276547349496378\n",
      "Recall: 1.0\n",
      "Precision: 0.16046124006688908\n",
      "=====================================\n",
      "Threshold: 0.4904016875993273\n",
      "Accuracy: 0.16046124006688908\n",
      "F1 Score: 0.276547349496378\n",
      "Recall: 1.0\n",
      "Precision: 0.16046124006688908\n",
      "=====================================\n",
      "Threshold: 1.0843909334026547\n",
      "Accuracy: 0.16046124006688908\n",
      "F1 Score: 0.276547349496378\n",
      "Recall: 1.0\n",
      "Precision: 0.16046124006688908\n",
      "=====================================\n",
      "Threshold: 1.1768218178432377\n",
      "Accuracy: 0.16046124006688908\n",
      "F1 Score: 0.276547349496378\n",
      "Recall: 1.0\n",
      "Precision: 0.16046124006688908\n",
      "=====================================\n",
      "Threshold: 2.5327773390021036\n",
      "Accuracy: 0.16046124006688908\n",
      "F1 Score: 0.276547349496378\n",
      "Recall: 1.0\n",
      "Precision: 0.16046124006688908\n",
      "=====================================\n",
      "Threshold: 3.9411218288560512\n",
      "Accuracy: 0.16046124006688908\n",
      "F1 Score: 0.276547349496378\n",
      "Recall: 1.0\n",
      "Precision: 0.16046124006688908\n"
     ]
    }
   ],
   "source": [
    "def vary_thresholds(training_errors = training_losses, start = 0.5, end = 1, step = 0.05):\n",
    "\n",
    "    quantiles = np.arange(start, end, step)\n",
    "\n",
    "    thresholds = [np.quantile(training_errors, q) for q in quantiles]\n",
    "\n",
    "    X_val_recon = model.predict(X_val)\n",
    "\n",
    "    for threshold in thresholds:\n",
    "\n",
    "        print(\"=====================================\")\n",
    "        print(f\"Threshold: {threshold}\")\n",
    "        \n",
    "        y_val_pred = assign_labels(X_val, X_val_recon, threshold)\n",
    "\n",
    "        print(f\"Accuracy: {accuracy_score(y_val, y_val_pred)}\")\n",
    "\n",
    "        print(f\"F1 Score: {f1_score(y_val, y_val_pred)}\")\n",
    "\n",
    "        print(f\"Recall: {recall_score(y_val, y_val_pred)}\")\n",
    "\n",
    "        print(f\"Precision: {precision_score(y_val, y_val_pred)}\")\n",
    "\n",
    "        \n",
    "\n",
    "\n",
    "vary_thresholds()"
   ]
  },
  {
   "cell_type": "code",
   "execution_count": 16,
   "id": "0fecfd0f",
   "metadata": {},
   "outputs": [
    {
     "name": "stdout",
     "output_type": "stream",
     "text": [
      "=====================================\n",
      "Threshold: 0.0072129878875475464\n",
      "Accuracy: 0.16046124006688908\n",
      "F1 Score: 0.276547349496378\n",
      "Recall: 1.0\n",
      "Precision: 0.16046124006688908\n",
      "=====================================\n",
      "Threshold: 0.057863305817831966\n",
      "Accuracy: 0.16046124006688908\n",
      "F1 Score: 0.276547349496378\n",
      "Recall: 1.0\n",
      "Precision: 0.16046124006688908\n",
      "=====================================\n",
      "Threshold: 0.05786330581783196\n",
      "Accuracy: 0.16046124006688908\n",
      "F1 Score: 0.276547349496378\n",
      "Recall: 1.0\n",
      "Precision: 0.16046124006688908\n",
      "=====================================\n",
      "Threshold: 0.05786330581783197\n",
      "Accuracy: 0.16046124006688908\n",
      "F1 Score: 0.276547349496378\n",
      "Recall: 1.0\n",
      "Precision: 0.16046124006688908\n",
      "=====================================\n",
      "Threshold: 0.057863305817831966\n",
      "Accuracy: 0.16046124006688908\n",
      "F1 Score: 0.276547349496378\n",
      "Recall: 1.0\n",
      "Precision: 0.16046124006688908\n",
      "=====================================\n",
      "Threshold: 0.057863305817831966\n",
      "Accuracy: 0.16046124006688908\n",
      "F1 Score: 0.276547349496378\n",
      "Recall: 1.0\n",
      "Precision: 0.16046124006688908\n",
      "=====================================\n",
      "Threshold: 0.09459040187117893\n",
      "Accuracy: 0.16046124006688908\n",
      "F1 Score: 0.276547349496378\n",
      "Recall: 1.0\n",
      "Precision: 0.16046124006688908\n",
      "=====================================\n",
      "Threshold: 0.14036451321365034\n",
      "Accuracy: 0.16046124006688908\n",
      "F1 Score: 0.276547349496378\n",
      "Recall: 1.0\n",
      "Precision: 0.16046124006688908\n",
      "=====================================\n",
      "Threshold: 0.14696670452129842\n",
      "Accuracy: 0.16046124006688908\n",
      "F1 Score: 0.276547349496378\n",
      "Recall: 1.0\n",
      "Precision: 0.16046124006688908\n"
     ]
    }
   ],
   "source": [
    "vary_thresholds(start = 0.05, end = 0.5, step = 0.05)"
   ]
  },
  {
   "cell_type": "code",
   "execution_count": 17,
   "id": "1af91f35",
   "metadata": {},
   "outputs": [],
   "source": [
    "X_test_pred = model.predict(X_test)"
   ]
  },
  {
   "cell_type": "code",
   "execution_count": 18,
   "id": "bcf8a221",
   "metadata": {},
   "outputs": [],
   "source": [
    "y_test_pred = assign_labels(X_test, X_test_pred, 1.0000050705461037)"
   ]
  },
  {
   "cell_type": "code",
   "execution_count": 19,
   "id": "5a55eb6d",
   "metadata": {},
   "outputs": [
    {
     "name": "stdout",
     "output_type": "stream",
     "text": [
      "Accuracy: 0.16008306026670507\n"
     ]
    }
   ],
   "source": [
    "print(f\"Accuracy: {accuracy_score(y_test, y_test_pred)}\")"
   ]
  },
  {
   "cell_type": "code",
   "execution_count": 20,
   "id": "92b313c9",
   "metadata": {},
   "outputs": [
    {
     "name": "stdout",
     "output_type": "stream",
     "text": [
      "Classification Report:                precision    recall  f1-score   support\n",
      "\n",
      "           0       0.00      0.00      0.00   1539472\n",
      "           1       0.16      1.00      0.28    293414\n",
      "\n",
      "    accuracy                           0.16   1832886\n",
      "   macro avg       0.08      0.50      0.14   1832886\n",
      "weighted avg       0.03      0.16      0.04   1832886\n",
      "\n"
     ]
    }
   ],
   "source": [
    "print(\"Classification Report: \", classification_report(y_test, y_test_pred, zero_division=0))"
   ]
  },
  {
   "cell_type": "code",
   "execution_count": null,
   "id": "4ed11587",
   "metadata": {},
   "outputs": [],
   "source": []
  }
 ],
 "metadata": {
  "kernelspec": {
   "display_name": "Python 3 (ipykernel)",
   "language": "python",
   "name": "python3"
  },
  "language_info": {
   "codemirror_mode": {
    "name": "ipython",
    "version": 3
   },
   "file_extension": ".py",
   "mimetype": "text/x-python",
   "name": "python",
   "nbconvert_exporter": "python",
   "pygments_lexer": "ipython3",
   "version": "3.7.16"
  }
 },
 "nbformat": 4,
 "nbformat_minor": 5
}
