{
 "cells": [
  {
   "cell_type": "code",
   "execution_count": 19,
   "id": "e917863a",
   "metadata": {},
   "outputs": [],
   "source": [
    "import os\n",
    "import numpy as np\n",
    "import pandas as pd\n",
    "import matplotlib.pyplot as plt\n",
    "from sklearn.model_selection import train_test_split\n",
    "from sklearn.preprocessing import StandardScaler\n",
    "from tensorflow.keras.models import Sequential\n",
    "from tensorflow.keras.layers import Dense\n",
    "from tensorflow.keras.callbacks import LearningRateScheduler, EarlyStopping\n",
    "from sklearn.metrics import mean_squared_error\n",
    "from sklearn.metrics import classification_report, accuracy_score, recall_score, f1_score, precision_score\n",
    "from joblib import load\n",
    "from tensorflow.keras.models import load_model\n",
    "from sklearn.manifold import TSNE\n",
    "from matplotlib.colors import ListedColormap\n",
    "\n",
    "data_path = \"fixeddelta020take2.log\"\n",
    "\n",
    "def hex_to_bin(hex_num):\n",
    "    \n",
    "    binary_value = bin(int(str(hex_num), 16))[2:]\n",
    "    \n",
    "    return binary_value\n",
    "\n",
    "def int_to_bin(int_num):\n",
    "    \n",
    "    binary_value = bin(int_num)[2:]\n",
    "    \n",
    "    return binary_value\n",
    "\n",
    "hex_to_dec = lambda x: int(x, 16)\n",
    "dec_to_hex = lambda x : hex(int(x))[2:]"
   ]
  },
  {
   "cell_type": "code",
   "execution_count": 2,
   "id": "b588f6b6",
   "metadata": {},
   "outputs": [],
   "source": [
    "columns = ['Timestamp', 'ID', 'DLC', 'Payload']\n",
    "\n",
    "# Read the file into a list of lines\n",
    "with open(data_path, 'r') as file:\n",
    "    lines = file.readlines()\n",
    "\n",
    "# Parse each line and extract the relevant information\n",
    "data = []\n",
    "for line in lines:\n",
    "    parts = line.strip().split()\n",
    "    timestamp = float(parts[0][1:-1])  # Remove parentheses\n",
    "    bus_name = parts[1]\n",
    "    ID = parts[2]\n",
    "    DLC = int(parts[3][1:-1])  # Remove brackets and convert to integer\n",
    "    payload = ''.join(parts[4:])  # Concatenate payload\n",
    "    data.append([timestamp, ID, DLC, payload])"
   ]
  },
  {
   "cell_type": "code",
   "execution_count": 3,
   "id": "5ab9cef3",
   "metadata": {},
   "outputs": [],
   "source": [
    "# Create a DataFrame from the parsed data\n",
    "df = pd.DataFrame(data, columns=columns)\n",
    "\n",
    "df['ID'] = df['ID'].apply(hex_to_dec)\n",
    "df['Payload'] = df['Payload'].apply(hex_to_dec)\n",
    "df = df.assign(IAT=df['Timestamp'].diff().fillna(0))\n",
    "\n",
    "df.drop(columns=['Timestamp'], inplace=True)"
   ]
  },
  {
   "cell_type": "code",
   "execution_count": 4,
   "id": "675e5832",
   "metadata": {},
   "outputs": [],
   "source": [
    "X_train = df\n",
    "\n",
    "# scaler = StandardScaler()\n",
    "\n",
    "scaler = load('scaler.joblib')\n",
    "X_train = scaler.transform(X_train)"
   ]
  },
  {
   "cell_type": "code",
   "execution_count": 5,
   "id": "8501eec0",
   "metadata": {},
   "outputs": [
    {
     "name": "stderr",
     "output_type": "stream",
     "text": [
      "2024-03-12 17:16:39.997690: I tensorflow/compiler/jit/xla_cpu_device.cc:41] Not creating XLA devices, tf_xla_enable_xla_devices not set\n",
      "2024-03-12 17:16:40.000141: I tensorflow/stream_executor/platform/default/dso_loader.cc:49] Successfully opened dynamic library libcuda.so.1\n",
      "2024-03-12 17:16:40.083468: I tensorflow/core/common_runtime/gpu/gpu_device.cc:1720] Found device 0 with properties: \n",
      "pciBusID: 0000:02:00.0 name: Tesla K40m computeCapability: 3.5\n",
      "coreClock: 0.745GHz coreCount: 15 deviceMemorySize: 11.17GiB deviceMemoryBandwidth: 268.58GiB/s\n",
      "2024-03-12 17:16:40.084304: I tensorflow/core/common_runtime/gpu/gpu_device.cc:1720] Found device 1 with properties: \n",
      "pciBusID: 0000:84:00.0 name: Tesla K40m computeCapability: 3.5\n",
      "coreClock: 0.745GHz coreCount: 15 deviceMemorySize: 11.17GiB deviceMemoryBandwidth: 268.58GiB/s\n",
      "2024-03-12 17:16:40.084350: I tensorflow/stream_executor/platform/default/dso_loader.cc:49] Successfully opened dynamic library libcudart.so.10.1\n",
      "2024-03-12 17:16:40.088643: I tensorflow/stream_executor/platform/default/dso_loader.cc:49] Successfully opened dynamic library libcublas.so.10\n",
      "2024-03-12 17:16:40.088691: I tensorflow/stream_executor/platform/default/dso_loader.cc:49] Successfully opened dynamic library libcublasLt.so.10\n",
      "2024-03-12 17:16:40.092071: I tensorflow/stream_executor/platform/default/dso_loader.cc:49] Successfully opened dynamic library libcufft.so.10\n",
      "2024-03-12 17:16:40.092991: I tensorflow/stream_executor/platform/default/dso_loader.cc:49] Successfully opened dynamic library libcurand.so.10\n",
      "2024-03-12 17:16:40.096924: I tensorflow/stream_executor/platform/default/dso_loader.cc:49] Successfully opened dynamic library libcusolver.so.10\n",
      "2024-03-12 17:16:40.098787: I tensorflow/stream_executor/platform/default/dso_loader.cc:49] Successfully opened dynamic library libcusparse.so.10\n",
      "2024-03-12 17:16:40.105360: I tensorflow/stream_executor/platform/default/dso_loader.cc:49] Successfully opened dynamic library libcudnn.so.7\n",
      "2024-03-12 17:16:40.109042: I tensorflow/core/common_runtime/gpu/gpu_device.cc:1862] Adding visible gpu devices: 0, 1\n",
      "2024-03-12 17:16:40.109568: I tensorflow/core/platform/cpu_feature_guard.cc:142] This TensorFlow binary is optimized with oneAPI Deep Neural Network Library (oneDNN) to use the following CPU instructions in performance-critical operations:  SSE4.1 SSE4.2 AVX AVX2 FMA\n",
      "To enable them in other operations, rebuild TensorFlow with the appropriate compiler flags.\n",
      "2024-03-12 17:16:40.111302: I tensorflow/compiler/jit/xla_gpu_device.cc:99] Not creating XLA devices, tf_xla_enable_xla_devices not set\n",
      "2024-03-12 17:16:40.240214: I tensorflow/core/common_runtime/gpu/gpu_device.cc:1720] Found device 0 with properties: \n",
      "pciBusID: 0000:02:00.0 name: Tesla K40m computeCapability: 3.5\n",
      "coreClock: 0.745GHz coreCount: 15 deviceMemorySize: 11.17GiB deviceMemoryBandwidth: 268.58GiB/s\n",
      "2024-03-12 17:16:40.240958: I tensorflow/core/common_runtime/gpu/gpu_device.cc:1720] Found device 1 with properties: \n",
      "pciBusID: 0000:84:00.0 name: Tesla K40m computeCapability: 3.5\n",
      "coreClock: 0.745GHz coreCount: 15 deviceMemorySize: 11.17GiB deviceMemoryBandwidth: 268.58GiB/s\n",
      "2024-03-12 17:16:40.241016: I tensorflow/stream_executor/platform/default/dso_loader.cc:49] Successfully opened dynamic library libcudart.so.10.1\n",
      "2024-03-12 17:16:40.241045: I tensorflow/stream_executor/platform/default/dso_loader.cc:49] Successfully opened dynamic library libcublas.so.10\n",
      "2024-03-12 17:16:40.241065: I tensorflow/stream_executor/platform/default/dso_loader.cc:49] Successfully opened dynamic library libcublasLt.so.10\n",
      "2024-03-12 17:16:40.241085: I tensorflow/stream_executor/platform/default/dso_loader.cc:49] Successfully opened dynamic library libcufft.so.10\n",
      "2024-03-12 17:16:40.241105: I tensorflow/stream_executor/platform/default/dso_loader.cc:49] Successfully opened dynamic library libcurand.so.10\n",
      "2024-03-12 17:16:40.241124: I tensorflow/stream_executor/platform/default/dso_loader.cc:49] Successfully opened dynamic library libcusolver.so.10\n",
      "2024-03-12 17:16:40.241143: I tensorflow/stream_executor/platform/default/dso_loader.cc:49] Successfully opened dynamic library libcusparse.so.10\n",
      "2024-03-12 17:16:40.241163: I tensorflow/stream_executor/platform/default/dso_loader.cc:49] Successfully opened dynamic library libcudnn.so.7\n",
      "2024-03-12 17:16:40.243911: I tensorflow/core/common_runtime/gpu/gpu_device.cc:1862] Adding visible gpu devices: 0, 1\n",
      "2024-03-12 17:16:40.243960: I tensorflow/stream_executor/platform/default/dso_loader.cc:49] Successfully opened dynamic library libcudart.so.10.1\n",
      "2024-03-12 17:16:40.979901: I tensorflow/core/common_runtime/gpu/gpu_device.cc:1261] Device interconnect StreamExecutor with strength 1 edge matrix:\n",
      "2024-03-12 17:16:40.979951: I tensorflow/core/common_runtime/gpu/gpu_device.cc:1267]      0 1 \n",
      "2024-03-12 17:16:40.979976: I tensorflow/core/common_runtime/gpu/gpu_device.cc:1280] 0:   N N \n",
      "2024-03-12 17:16:40.979981: I tensorflow/core/common_runtime/gpu/gpu_device.cc:1280] 1:   N N \n",
      "2024-03-12 17:16:40.983128: I tensorflow/core/common_runtime/gpu/gpu_device.cc:1406] Created TensorFlow device (/job:localhost/replica:0/task:0/device:GPU:0 with 10611 MB memory) -> physical GPU (device: 0, name: Tesla K40m, pci bus id: 0000:02:00.0, compute capability: 3.5)\n",
      "2024-03-12 17:16:40.984927: I tensorflow/core/common_runtime/gpu/gpu_device.cc:1406] Created TensorFlow device (/job:localhost/replica:0/task:0/device:GPU:1 with 10611 MB memory) -> physical GPU (device: 1, name: Tesla K40m, pci bus id: 0000:84:00.0, compute capability: 3.5)\n"
     ]
    }
   ],
   "source": [
    "model = load_model('ae.h5')"
   ]
  },
  {
   "cell_type": "code",
   "execution_count": 7,
   "id": "8090d422",
   "metadata": {},
   "outputs": [
    {
     "name": "stderr",
     "output_type": "stream",
     "text": [
      "2024-03-12 17:18:46.365883: I tensorflow/compiler/mlir/mlir_graph_optimization_pass.cc:116] None of the MLIR optimization passes are enabled (registered 2)\n",
      "2024-03-12 17:18:46.366545: I tensorflow/core/platform/profile_utils/cpu_utils.cc:112] CPU Frequency: 2496840000 Hz\n",
      "2024-03-12 17:18:46.461404: I tensorflow/stream_executor/platform/default/dso_loader.cc:49] Successfully opened dynamic library libcublas.so.10\n"
     ]
    }
   ],
   "source": [
    "training_preds = model.predict(X_train)\n",
    "\n",
    "training_error = mean_squared_error(X_train, training_preds)"
   ]
  },
  {
   "cell_type": "code",
   "execution_count": 8,
   "id": "809d4a2b",
   "metadata": {},
   "outputs": [
    {
     "name": "stdout",
     "output_type": "stream",
     "text": [
      "Training data error: 0.09380349194758085\n"
     ]
    }
   ],
   "source": [
    "print(f\"Training data error: {training_error}\")"
   ]
  },
  {
   "cell_type": "code",
   "execution_count": 9,
   "id": "80ce3901",
   "metadata": {},
   "outputs": [],
   "source": [
    "def squared_difference_error(X, X_recon):\n",
    "    # Calculate squared difference error between each sample of X and X_recon\n",
    "    squared_diff = np.square(X - X_recon)\n",
    "\n",
    "    return squared_diff\n",
    "\n",
    "training_losses = squared_difference_error(X_train, training_preds)"
   ]
  },
  {
   "cell_type": "code",
   "execution_count": 10,
   "id": "c30d067f",
   "metadata": {},
   "outputs": [],
   "source": [
    "car_hacking_df = pd.read_csv('../Smart Attack Algorithm/data/Car Hacking Dataset/preprocessed_car_hacking.csv')"
   ]
  },
  {
   "cell_type": "code",
   "execution_count": 11,
   "id": "e54bfc3e",
   "metadata": {},
   "outputs": [
    {
     "data": {
      "text/html": [
       "<div>\n",
       "<style scoped>\n",
       "    .dataframe tbody tr th:only-of-type {\n",
       "        vertical-align: middle;\n",
       "    }\n",
       "\n",
       "    .dataframe tbody tr th {\n",
       "        vertical-align: top;\n",
       "    }\n",
       "\n",
       "    .dataframe thead th {\n",
       "        text-align: right;\n",
       "    }\n",
       "</style>\n",
       "<table border=\"1\" class=\"dataframe\">\n",
       "  <thead>\n",
       "    <tr style=\"text-align: right;\">\n",
       "      <th></th>\n",
       "      <th>Timestamp</th>\n",
       "      <th>ID</th>\n",
       "      <th>DLC</th>\n",
       "      <th>Payload</th>\n",
       "      <th>IAT</th>\n",
       "      <th>label</th>\n",
       "    </tr>\n",
       "  </thead>\n",
       "  <tbody>\n",
       "    <tr>\n",
       "      <th>0</th>\n",
       "      <td>1.478198e+09</td>\n",
       "      <td>0316</td>\n",
       "      <td>8</td>\n",
       "      <td>052168092121006f</td>\n",
       "      <td>0.000000</td>\n",
       "      <td>0</td>\n",
       "    </tr>\n",
       "    <tr>\n",
       "      <th>1</th>\n",
       "      <td>1.478198e+09</td>\n",
       "      <td>018f</td>\n",
       "      <td>8</td>\n",
       "      <td>fe5b0000003c0000</td>\n",
       "      <td>0.000209</td>\n",
       "      <td>0</td>\n",
       "    </tr>\n",
       "    <tr>\n",
       "      <th>2</th>\n",
       "      <td>1.478198e+09</td>\n",
       "      <td>0260</td>\n",
       "      <td>8</td>\n",
       "      <td>19212230088e6d3a</td>\n",
       "      <td>0.000228</td>\n",
       "      <td>0</td>\n",
       "    </tr>\n",
       "    <tr>\n",
       "      <th>3</th>\n",
       "      <td>1.478198e+09</td>\n",
       "      <td>02a0</td>\n",
       "      <td>8</td>\n",
       "      <td>64009a1d9702bd00</td>\n",
       "      <td>0.000232</td>\n",
       "      <td>0</td>\n",
       "    </tr>\n",
       "    <tr>\n",
       "      <th>4</th>\n",
       "      <td>1.478198e+09</td>\n",
       "      <td>0329</td>\n",
       "      <td>8</td>\n",
       "      <td>40bb7f1411200014</td>\n",
       "      <td>0.000237</td>\n",
       "      <td>0</td>\n",
       "    </tr>\n",
       "  </tbody>\n",
       "</table>\n",
       "</div>"
      ],
      "text/plain": [
       "      Timestamp    ID  DLC           Payload       IAT  label\n",
       "0  1.478198e+09  0316    8  052168092121006f  0.000000      0\n",
       "1  1.478198e+09  018f    8  fe5b0000003c0000  0.000209      0\n",
       "2  1.478198e+09  0260    8  19212230088e6d3a  0.000228      0\n",
       "3  1.478198e+09  02a0    8  64009a1d9702bd00  0.000232      0\n",
       "4  1.478198e+09  0329    8  40bb7f1411200014  0.000237      0"
      ]
     },
     "execution_count": 11,
     "metadata": {},
     "output_type": "execute_result"
    }
   ],
   "source": [
    "car_hacking_df.head()"
   ]
  },
  {
   "cell_type": "code",
   "execution_count": 12,
   "id": "a665ac29",
   "metadata": {},
   "outputs": [],
   "source": [
    "car_hacking_df.drop(columns = ['Timestamp'], inplace = True)\n",
    "\n",
    "car_hacking_df['ID'] = car_hacking_df['ID'].apply(hex_to_dec)\n",
    "car_hacking_df['Payload'] = car_hacking_df['Payload'].apply(hex_to_dec)"
   ]
  },
  {
   "cell_type": "code",
   "execution_count": 13,
   "id": "b44ab461",
   "metadata": {},
   "outputs": [
    {
     "data": {
      "text/plain": [
       "Index(['ID', 'DLC', 'Payload', 'IAT', 'label'], dtype='object')"
      ]
     },
     "execution_count": 13,
     "metadata": {},
     "output_type": "execute_result"
    }
   ],
   "source": [
    "car_hacking_df.columns"
   ]
  },
  {
   "cell_type": "code",
   "execution_count": 14,
   "id": "8c7eab7a",
   "metadata": {},
   "outputs": [],
   "source": [
    "X = car_hacking_df.drop(columns = ['label'])\n",
    "y = car_hacking_df['label']"
   ]
  },
  {
   "cell_type": "code",
   "execution_count": 15,
   "id": "48f6f2d8",
   "metadata": {},
   "outputs": [],
   "source": [
    "X = scaler.transform(X)"
   ]
  },
  {
   "cell_type": "code",
   "execution_count": 16,
   "id": "81f262e0",
   "metadata": {},
   "outputs": [],
   "source": [
    "X_val, X_test, y_val, y_test = train_test_split(X, y, test_size = 0.5)"
   ]
  },
  {
   "cell_type": "code",
   "execution_count": 17,
   "id": "62a3e86f",
   "metadata": {},
   "outputs": [],
   "source": [
    "def assign_labels(X, X_recon, threshold):\n",
    "    # Calculate squared error between each row of X and X_recon\n",
    "    squared_errors = np.mean(np.square(X - X_recon), axis=1)\n",
    "\n",
    "    # Assign labels based on threshold\n",
    "    labels = [0 if error < threshold else 1 for error in squared_errors]\n",
    "\n",
    "    return labels"
   ]
  },
  {
   "cell_type": "code",
   "execution_count": 20,
   "id": "1af91f35",
   "metadata": {},
   "outputs": [
    {
     "name": "stdout",
     "output_type": "stream",
     "text": [
      "=====================================\n",
      "Threshold: 1.544788817338674e-69\n",
      "Accuracy: 0.16037667393207974\n",
      "F1 Score: 0.27642174741176684\n",
      "Recall: 1.0\n",
      "Precision: 0.16037667393207974\n",
      "=====================================\n",
      "Threshold: 1.8175739750314305e-69\n",
      "Accuracy: 0.16037667393207974\n",
      "F1 Score: 0.27642174741176684\n",
      "Recall: 1.0\n",
      "Precision: 0.16037667393207974\n",
      "=====================================\n",
      "Threshold: 2.028098703700278e-69\n",
      "Accuracy: 0.16037667393207974\n",
      "F1 Score: 0.27642174741176684\n",
      "Recall: 1.0\n",
      "Precision: 0.16037667393207974\n",
      "=====================================\n",
      "Threshold: 3.236236417435508e-69\n",
      "Accuracy: 0.16037667393207974\n",
      "F1 Score: 0.27642174741176684\n",
      "Recall: 1.0\n",
      "Precision: 0.16037667393207974\n",
      "=====================================\n",
      "Threshold: 2.710463345013221e-14\n",
      "Accuracy: 0.16037667393207974\n",
      "F1 Score: 0.27642174741176684\n",
      "Recall: 1.0\n",
      "Precision: 0.16037667393207974\n",
      "=====================================\n",
      "Threshold: 5.473267894110023e-06\n",
      "Accuracy: 0.16037667393207974\n",
      "F1 Score: 0.27642174741176684\n",
      "Recall: 1.0\n",
      "Precision: 0.16037667393207974\n",
      "=====================================\n",
      "Threshold: 4.724493376003556e-05\n",
      "Accuracy: 0.16037667393207974\n",
      "F1 Score: 0.27642174741176684\n",
      "Recall: 1.0\n",
      "Precision: 0.16037667393207974\n",
      "=====================================\n",
      "Threshold: 0.00016458720353165643\n",
      "Accuracy: 0.16037667393207974\n",
      "F1 Score: 0.27642174741176684\n",
      "Recall: 1.0\n",
      "Precision: 0.16037667393207974\n",
      "=====================================\n",
      "Threshold: 0.00032976070785579044\n",
      "Accuracy: 0.16037667393207974\n",
      "F1 Score: 0.27642174741176684\n",
      "Recall: 1.0\n",
      "Precision: 0.16037667393207974\n",
      "=====================================\n",
      "Threshold: 0.0014962170680811965\n",
      "Accuracy: 0.16037667393207974\n",
      "F1 Score: 0.27642174741176684\n",
      "Recall: 1.0\n",
      "Precision: 0.16037667393207974\n",
      "=====================================\n",
      "Threshold: 0.00411297896692275\n",
      "Accuracy: 0.16037667393207974\n",
      "F1 Score: 0.27642174741176684\n",
      "Recall: 1.0\n",
      "Precision: 0.16037667393207974\n",
      "=====================================\n",
      "Threshold: 0.010608802071614751\n",
      "Accuracy: 0.16037667393207974\n",
      "F1 Score: 0.27642174741176684\n",
      "Recall: 1.0\n",
      "Precision: 0.16037667393207974\n",
      "=====================================\n",
      "Threshold: 0.010640995978288468\n",
      "Accuracy: 0.16037667393207974\n",
      "F1 Score: 0.27642174741176684\n",
      "Recall: 1.0\n",
      "Precision: 0.16037667393207974\n",
      "=====================================\n",
      "Threshold: 0.01565362619365695\n",
      "Accuracy: 0.16037667393207974\n",
      "F1 Score: 0.27642174741176684\n",
      "Recall: 1.0\n",
      "Precision: 0.16037667393207974\n",
      "=====================================\n",
      "Threshold: 0.0483745733086694\n",
      "Accuracy: 0.16037667393207974\n",
      "F1 Score: 0.27642174741176684\n",
      "Recall: 1.0\n",
      "Precision: 0.16037667393207974\n",
      "=====================================\n",
      "Threshold: 0.09315873496521554\n",
      "Accuracy: 0.16037667393207974\n",
      "F1 Score: 0.27642174741176684\n",
      "Recall: 1.0\n",
      "Precision: 0.16037667393207974\n",
      "=====================================\n",
      "Threshold: 0.0943274905131425\n",
      "Accuracy: 0.16037667393207974\n",
      "F1 Score: 0.27642174741176684\n",
      "Recall: 1.0\n",
      "Precision: 0.16037667393207974\n",
      "=====================================\n",
      "Threshold: 0.1690826371751632\n",
      "Accuracy: 0.16037667393207974\n",
      "F1 Score: 0.27642174741176684\n",
      "Recall: 1.0\n",
      "Precision: 0.16037667393207974\n",
      "=====================================\n",
      "Threshold: 0.4302266146388996\n",
      "Accuracy: 0.1604154106777021\n",
      "F1 Score: 0.2764309754810826\n",
      "Recall: 1.0\n",
      "Precision: 0.16038288664316183\n"
     ]
    }
   ],
   "source": [
    "def vary_thresholds(training_errors = training_losses, start = 0.05, end = 1, step = 0.05):\n",
    "\n",
    "    quantiles = np.arange(start, end, step)\n",
    "\n",
    "    thresholds = [np.quantile(training_errors, q) for q in quantiles]\n",
    "\n",
    "    X_val_recon = model.predict(X_val)\n",
    "\n",
    "    for threshold in thresholds:\n",
    "\n",
    "        print(\"=====================================\")\n",
    "        print(f\"Threshold: {threshold}\")\n",
    "        \n",
    "        y_val_pred = assign_labels(X_val, X_val_recon, threshold)\n",
    "\n",
    "        print(f\"Accuracy: {accuracy_score(y_val, y_val_pred)}\")\n",
    "\n",
    "        print(f\"F1 Score: {f1_score(y_val, y_val_pred)}\")\n",
    "\n",
    "        print(f\"Recall: {recall_score(y_val, y_val_pred)}\")\n",
    "\n",
    "        print(f\"Precision: {precision_score(y_val, y_val_pred)}\")\n",
    "\n",
    "        \n",
    "\n",
    "\n",
    "vary_thresholds()"
   ]
  },
  {
   "cell_type": "code",
   "execution_count": 22,
   "id": "bcf8a221",
   "metadata": {
    "scrolled": true
   },
   "outputs": [],
   "source": [
    "X_test_pred = model.predict(X_test)"
   ]
  },
  {
   "cell_type": "code",
   "execution_count": 23,
   "id": "5a55eb6d",
   "metadata": {},
   "outputs": [],
   "source": [
    "y_test_pred = assign_labels(X_test, X_test_pred, 0.09380)"
   ]
  },
  {
   "cell_type": "code",
   "execution_count": 24,
   "id": "92b313c9",
   "metadata": {},
   "outputs": [
    {
     "name": "stdout",
     "output_type": "stream",
     "text": [
      "Accuracy: 0.16016762635537615\n"
     ]
    }
   ],
   "source": [
    "print(f\"Accuracy: {accuracy_score(y_test, y_test_pred)}\")"
   ]
  },
  {
   "cell_type": "code",
   "execution_count": 25,
   "id": "59a6b8ab",
   "metadata": {},
   "outputs": [
    {
     "name": "stdout",
     "output_type": "stream",
     "text": [
      "Classification Report:                precision    recall  f1-score   support\n",
      "\n",
      "           0       0.00      0.00      0.00   1539317\n",
      "           1       0.16      1.00      0.28    293569\n",
      "\n",
      "    accuracy                           0.16   1832886\n",
      "   macro avg       0.08      0.50      0.14   1832886\n",
      "weighted avg       0.03      0.16      0.04   1832886\n",
      "\n"
     ]
    }
   ],
   "source": [
    "print(\"Classification Report: \", classification_report(y_test, y_test_pred, zero_division=0))"
   ]
  },
  {
   "cell_type": "code",
   "execution_count": null,
   "id": "33f0cb0d",
   "metadata": {},
   "outputs": [],
   "source": []
  }
 ],
 "metadata": {
  "kernelspec": {
   "display_name": "Python 3 (ipykernel)",
   "language": "python",
   "name": "python3"
  },
  "language_info": {
   "codemirror_mode": {
    "name": "ipython",
    "version": 3
   },
   "file_extension": ".py",
   "mimetype": "text/x-python",
   "name": "python",
   "nbconvert_exporter": "python",
   "pygments_lexer": "ipython3",
   "version": "3.7.16"
  }
 },
 "nbformat": 4,
 "nbformat_minor": 5
}
