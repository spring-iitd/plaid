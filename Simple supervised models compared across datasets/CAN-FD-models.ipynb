{
 "cells": [
  {
   "cell_type": "code",
   "execution_count": 2,
   "id": "02b5e450",
   "metadata": {},
   "outputs": [],
   "source": [
    "import os\n",
    "import pandas as pd\n",
    "import numpy as np\n",
    "import matplotlib.pyplot as plt\n",
    "from tqdm import tqdm\n",
    "from tensorflow.keras.layers import LSTM, Dense, Dropout, Input\n",
    "from tensorflow.keras.models import Sequential\n",
    "from tensorflow.keras.losses import SparseCategoricalCrossentropy\n",
    "from tensorflow.keras.optimizers import Adam\n",
    "from tensorflow.keras.callbacks import EarlyStopping\n",
    "import tensorflow as tf\n",
    "from sklearn import svm\n",
    "from sklearn.ensemble import RandomForestClassifier\n",
    "from sklearn.tree import DecisionTreeClassifier, export_text, export_graphviz\n",
    "from sklearn.metrics import classification_report, confusion_matrix, accuracy_score\n",
    "from sklearn.model_selection import KFold, cross_val_score, train_test_split\n",
    "from sklearn.preprocessing import StandardScaler\n",
    "from xgboost import XGBClassifier"
   ]
  },
  {
   "cell_type": "code",
   "execution_count": 2,
   "id": "bcf90d85",
   "metadata": {},
   "outputs": [
    {
     "name": "stdout",
     "output_type": "stream",
     "text": [
      "GPU 0: Tesla K40m (UUID: GPU-ddd2ac68-7b89-4f82-c957-312a06998eee)\r\n",
      "GPU 1: Tesla K40m (UUID: GPU-8ed7212a-3ea0-1837-247e-a085f1ad1c47)\r\n"
     ]
    }
   ],
   "source": [
    "!nvidia-smi -L"
   ]
  },
  {
   "cell_type": "code",
   "execution_count": 5,
   "id": "1288bd5f",
   "metadata": {},
   "outputs": [
    {
     "name": "stdout",
     "output_type": "stream",
     "text": [
      "['CANFD_Malfunction.csv', 'CAN-FD_dataset.ipynb', 'CANFD_Fuzzing.csv', 'README.txt', '.ipynb_checkpoints', 'CAN-FD-trained.ipynb', 'CANFD_Flooding.csv']\n"
     ]
    }
   ],
   "source": [
    "data_folder = '../CAN-FD_Intrusion_Dataset/'\n",
    "print(os.listdir(data_folder))"
   ]
  },
  {
   "cell_type": "code",
   "execution_count": 6,
   "id": "da0326e0",
   "metadata": {},
   "outputs": [],
   "source": [
    "## Reading individual datasets\n",
    "malfunction_path = os.path.join(data_folder, 'CANFD_Malfunction.csv')\n",
    "fuzzing_path = os.path.join(data_folder,'CANFD_Fuzzing.csv')\n",
    "flooding_path = os.path.join(data_folder, 'CANFD_Flooding.csv')"
   ]
  },
  {
   "cell_type": "code",
   "execution_count": 5,
   "id": "dd03d7b1",
   "metadata": {},
   "outputs": [],
   "source": [
    "# Timestamp: record time \n",
    "# Arbitration ID: identifier of CAN message in HEX (ex. 043f) \n",
    "# DLC: number of data bytes, from 0 to 64 \n",
    "# Data[0] ~ Data[64]: data value (byte) \n",
    "# Label"
   ]
  },
  {
   "cell_type": "code",
   "execution_count": 8,
   "id": "359e9237",
   "metadata": {},
   "outputs": [],
   "source": [
    "hex_to_dec = lambda x: int(x, 16)"
   ]
  },
  {
   "cell_type": "code",
   "execution_count": 9,
   "id": "2b85ba39",
   "metadata": {},
   "outputs": [],
   "source": [
    "def read_data(data_path):\n",
    "    \n",
    "    ## Specifying columns in our dataset\n",
    "    \n",
    "    ##Data0 -> Data31\n",
    "    data_cols = ['data' + str(x) for x in range(0,32)]\n",
    "\n",
    "    columns = ['Timestamp', 'CAN_ID', 'DLC']\n",
    "    columns.extend(data_cols)\n",
    "    columns.append('Label')\n",
    "    \n",
    "    ##Specifying all columns to be of str datatype to ease conversion\n",
    "    dtype_dict = {col: str for col in data_cols}\n",
    "    \n",
    "    print(\"READING CSV\")\n",
    "    \n",
    "    data = pd.read_csv(data_path, names = columns, dtype = dtype_dict)\n",
    "    \n",
    "    data[data_cols] = data[data_cols].astype(str)\n",
    "    \n",
    "    ## Column shifting is a computationally heavy task, keep in mind if running the code\n",
    "    print(\"SHIFTING COLUMNS\")\n",
    "    \n",
    "    temp_cols = data.iloc[:,:4]\n",
    "    \n",
    "    data = data.apply(lambda row: row.iloc[3:].shift(32 - row['DLC'], fill_value = '00'), axis=1)\n",
    "    \n",
    "    data = pd.concat([temp_cols, data], axis=1)\n",
    "    \n",
    "    print(\"CREATING DATA COLUMN\")\n",
    "    \n",
    "    data['data'] = data[data_cols].astype(str).apply(''.join, axis=1)\n",
    "    \n",
    "    print(\"CONVERTING TO HEXADECIMAL\")\n",
    "    \n",
    "    data['CAN_ID'] = data['CAN_ID'].apply(hex_to_dec)\n",
    "    data['data'] = data['data'].apply(hex_to_dec)\n",
    "    \n",
    "    data.drop(data_cols, inplace = True, axis = 1)\n",
    "    \n",
    "    return data"
   ]
  },
  {
   "cell_type": "code",
   "execution_count": 10,
   "id": "6b346dd2",
   "metadata": {},
   "outputs": [
    {
     "name": "stdout",
     "output_type": "stream",
     "text": [
      "Reading Malfunction Data\n",
      "READING CSV\n",
      "SHIFTING COLUMNS\n",
      "CREATING DATA COLUMN\n",
      "CONVERTING TO HEXADECIMAL\n",
      "Reading Fuzzing Data\n",
      "READING CSV\n",
      "SHIFTING COLUMNS\n",
      "CREATING DATA COLUMN\n",
      "CONVERTING TO HEXADECIMAL\n",
      "Reading Flooding Data\n",
      "READING CSV\n",
      "SHIFTING COLUMNS\n",
      "CREATING DATA COLUMN\n",
      "CONVERTING TO HEXADECIMAL\n"
     ]
    }
   ],
   "source": [
    "print(\"Reading Malfunction Data\")\n",
    "malfunction_data = read_data(malfunction_path)\n",
    "\n",
    "print(\"Reading Fuzzing Data\")\n",
    "fuzzy_data = read_data(fuzzing_path)\n",
    "\n",
    "print(\"Reading Flooding Data\")\n",
    "flooding_data = read_data(flooding_path)"
   ]
  },
  {
   "cell_type": "code",
   "execution_count": 14,
   "id": "f518133f",
   "metadata": {},
   "outputs": [],
   "source": [
    "## LABELS\n",
    "\n",
    "## Normal -> 0 \n",
    "## Malfunction -> 1\n",
    "## Fuzzing -> 2\n",
    "## Flooding -> 3"
   ]
  },
  {
   "cell_type": "code",
   "execution_count": 11,
   "id": "cc646d44",
   "metadata": {},
   "outputs": [],
   "source": [
    "malfunction_data['Label'].replace({'T' : 1, 'R' : 0}, inplace = True)\n",
    "fuzzy_data['Label'].replace({'T' : 2, 'R' : 0}, inplace = True)\n",
    "flooding_data['Label'].replace({'T' : 3, 'R' : 0}, inplace = True)"
   ]
  },
  {
   "cell_type": "code",
   "execution_count": 12,
   "id": "10dffc22",
   "metadata": {},
   "outputs": [],
   "source": [
    "##Merging datasets\n",
    "merged_df = pd.concat([malfunction_data, fuzzy_data, flooding_data], join = 'inner', ignore_index=True)\n",
    "merged_df.sort_values(by = ['Timestamp'], inplace = True)\n",
    "\n",
    "##Removing duplicates\n",
    "merged_df.drop_duplicates(inplace = True)\n",
    "\n",
    "##Creating IAT feature column\n",
    "merged_df = merged_df.assign(IAT=merged_df['Timestamp'].diff().fillna(0))\n",
    "merged_df.drop(columns = ['Timestamp'], inplace = True)"
   ]
  },
  {
   "cell_type": "code",
   "execution_count": 13,
   "id": "5599a7fe",
   "metadata": {},
   "outputs": [
    {
     "data": {
      "text/html": [
       "<div>\n",
       "<style scoped>\n",
       "    .dataframe tbody tr th:only-of-type {\n",
       "        vertical-align: middle;\n",
       "    }\n",
       "\n",
       "    .dataframe tbody tr th {\n",
       "        vertical-align: top;\n",
       "    }\n",
       "\n",
       "    .dataframe thead th {\n",
       "        text-align: right;\n",
       "    }\n",
       "</style>\n",
       "<table border=\"1\" class=\"dataframe\">\n",
       "  <thead>\n",
       "    <tr style=\"text-align: right;\">\n",
       "      <th></th>\n",
       "      <th>CAN_ID</th>\n",
       "      <th>DLC</th>\n",
       "      <th>Label</th>\n",
       "      <th>data</th>\n",
       "      <th>IAT</th>\n",
       "    </tr>\n",
       "  </thead>\n",
       "  <tbody>\n",
       "    <tr>\n",
       "      <th>4336291</th>\n",
       "      <td>160</td>\n",
       "      <td>24</td>\n",
       "      <td>0</td>\n",
       "      <td>1030549594212114139270000041241972001156878436...</td>\n",
       "      <td>0.00000</td>\n",
       "    </tr>\n",
       "    <tr>\n",
       "      <th>4336292</th>\n",
       "      <td>234</td>\n",
       "      <td>24</td>\n",
       "      <td>0</td>\n",
       "      <td>2188470486585276093505955186241303081555994448...</td>\n",
       "      <td>0.00136</td>\n",
       "    </tr>\n",
       "    <tr>\n",
       "      <th>4336293</th>\n",
       "      <td>122</td>\n",
       "      <td>24</td>\n",
       "      <td>0</td>\n",
       "      <td>6947525354238971725415747244068607354311259469...</td>\n",
       "      <td>0.00057</td>\n",
       "    </tr>\n",
       "    <tr>\n",
       "      <th>4336294</th>\n",
       "      <td>165</td>\n",
       "      <td>24</td>\n",
       "      <td>0</td>\n",
       "      <td>1331609026229136247371348718113494757862107324...</td>\n",
       "      <td>0.00018</td>\n",
       "    </tr>\n",
       "    <tr>\n",
       "      <th>4336295</th>\n",
       "      <td>293</td>\n",
       "      <td>16</td>\n",
       "      <td>0</td>\n",
       "      <td>2883223022009173266046917526716328905546455741...</td>\n",
       "      <td>0.00015</td>\n",
       "    </tr>\n",
       "  </tbody>\n",
       "</table>\n",
       "</div>"
      ],
      "text/plain": [
       "         CAN_ID  DLC  Label  \\\n",
       "4336291     160   24      0   \n",
       "4336292     234   24      0   \n",
       "4336293     122   24      0   \n",
       "4336294     165   24      0   \n",
       "4336295     293   16      0   \n",
       "\n",
       "                                                      data      IAT  \n",
       "4336291  1030549594212114139270000041241972001156878436...  0.00000  \n",
       "4336292  2188470486585276093505955186241303081555994448...  0.00136  \n",
       "4336293  6947525354238971725415747244068607354311259469...  0.00057  \n",
       "4336294  1331609026229136247371348718113494757862107324...  0.00018  \n",
       "4336295  2883223022009173266046917526716328905546455741...  0.00015  "
      ]
     },
     "execution_count": 13,
     "metadata": {},
     "output_type": "execute_result"
    }
   ],
   "source": [
    "merged_df.head()"
   ]
  },
  {
   "cell_type": "code",
   "execution_count": 14,
   "id": "a4958798",
   "metadata": {},
   "outputs": [
    {
     "data": {
      "text/plain": [
       "0    5490129\n",
       "3     988241\n",
       "2     506506\n",
       "1     135726\n",
       "Name: Label, dtype: int64"
      ]
     },
     "execution_count": 14,
     "metadata": {},
     "output_type": "execute_result"
    }
   ],
   "source": [
    "merged_df['Label'].value_counts()"
   ]
  },
  {
   "cell_type": "code",
   "execution_count": 15,
   "id": "29c88421",
   "metadata": {},
   "outputs": [],
   "source": [
    "X = merged_df[['CAN_ID', 'DLC', 'data', 'IAT']]\n",
    "y = merged_df['Label']"
   ]
  },
  {
   "cell_type": "code",
   "execution_count": 16,
   "id": "9ab0daea",
   "metadata": {},
   "outputs": [],
   "source": [
    "## Function to create sequences for datapoints for LSTM model\n",
    "def sequencify(dataset, target, start, end, window):\n",
    "  \n",
    "    X = []\n",
    "    y = []\n",
    "    \n",
    "    start = start + window \n",
    "    if end is None:\n",
    "        end = len(dataset)\n",
    "        \n",
    "    for i in tqdm(range(start, end+1)):\n",
    "        indices = range(i-window, i) \n",
    "        X.append(dataset[indices])\n",
    "        \n",
    "        indicey = i -1\n",
    "        y.append(target[indicey])\n",
    "\t\t\t\n",
    "    return np.array(X), np.array(y)"
   ]
  },
  {
   "cell_type": "code",
   "execution_count": 17,
   "id": "3f78f127",
   "metadata": {},
   "outputs": [
    {
     "name": "stderr",
     "output_type": "stream",
     "text": [
      "100%|██████████| 7120593/7120593 [01:40<00:00, 71089.73it/s]\n"
     ]
    }
   ],
   "source": [
    "X_seq, y_seq = sequencify(X.values, y.values, start = 0, end = None, window = 10)"
   ]
  },
  {
   "cell_type": "code",
   "execution_count": 16,
   "id": "9454295b",
   "metadata": {},
   "outputs": [],
   "source": [
    "#Train and test splitting\n",
    "X_train, X_test, y_train, y_test = train_test_split(X, y, test_size = 0.3, shuffle = True)\n",
    "\n",
    "X_train_seq, X_test_seq, y_train_seq, y_test_seq = train_test_split(X_seq, y_seq, \n",
    "                                                    test_size = 0.3, stratify = y_seq)\n",
    "\n",
    "\n",
    "#Data Standardization\n",
    "scaler = StandardScaler()\n",
    "X_train = scaler.fit_transform(X_train)\n",
    "X_test = scaler.transform(X_test)\n",
    "\n",
    "mean = np.mean(X_train_seq.astype(np.float64),axis=0)\n",
    "std = np.std(X_train_seq.astype(np.float64), axis=0)\n",
    "\n",
    "X_train_seq -= mean\n",
    "X_train_seq /= std\n",
    "X_test_seq -= mean\n",
    "X_test_seq /= std"
   ]
  },
  {
   "cell_type": "code",
   "execution_count": 17,
   "id": "4fadeff4",
   "metadata": {},
   "outputs": [],
   "source": [
    "y_train = y_train.values\n",
    "y_test = y_test.values"
   ]
  },
  {
   "cell_type": "code",
   "execution_count": 20,
   "id": "f725c424",
   "metadata": {},
   "outputs": [],
   "source": [
    "strategy = tf.distribute.MirroredStrategy()"
   ]
  },
  {
   "cell_type": "code",
   "execution_count": 21,
   "id": "cf3b6c8d",
   "metadata": {},
   "outputs": [],
   "source": [
    "batch_size = 512 * strategy.num_replicas_in_sync"
   ]
  },
  {
   "cell_type": "code",
   "execution_count": 22,
   "id": "2af02500",
   "metadata": {},
   "outputs": [
    {
     "name": "stdout",
     "output_type": "stream",
     "text": [
      "-----MLP-------\n",
      "INFO:tensorflow:Reduce to /job:localhost/replica:0/task:0/device:CPU:0 then broadcast to ('/job:localhost/replica:0/task:0/device:CPU:0',).\n",
      "INFO:tensorflow:Reduce to /job:localhost/replica:0/task:0/device:CPU:0 then broadcast to ('/job:localhost/replica:0/task:0/device:CPU:0',).\n",
      "Train on 3987536 samples, validate on 996885 samples\n",
      "Epoch 1/100\n",
      "INFO:tensorflow:batch_all_reduce: 6 all-reduces with algorithm = nccl, num_packs = 1, agg_small_grads_max_bytes = 0 and agg_small_grads_max_group = 10\n",
      "INFO:tensorflow:Reduce to /job:localhost/replica:0/task:0/device:CPU:0 then broadcast to ('/job:localhost/replica:0/task:0/device:CPU:0',).\n",
      "INFO:tensorflow:Reduce to /job:localhost/replica:0/task:0/device:CPU:0 then broadcast to ('/job:localhost/replica:0/task:0/device:CPU:0',).\n",
      "INFO:tensorflow:Reduce to /job:localhost/replica:0/task:0/device:CPU:0 then broadcast to ('/job:localhost/replica:0/task:0/device:CPU:0',).\n",
      "INFO:tensorflow:Reduce to /job:localhost/replica:0/task:0/device:CPU:0 then broadcast to ('/job:localhost/replica:0/task:0/device:CPU:0',).\n",
      "INFO:tensorflow:batch_all_reduce: 6 all-reduces with algorithm = nccl, num_packs = 1, agg_small_grads_max_bytes = 0 and agg_small_grads_max_group = 10\n",
      "INFO:tensorflow:Reduce to /job:localhost/replica:0/task:0/device:CPU:0 then broadcast to ('/job:localhost/replica:0/task:0/device:CPU:0',).\n",
      "INFO:tensorflow:Reduce to /job:localhost/replica:0/task:0/device:CPU:0 then broadcast to ('/job:localhost/replica:0/task:0/device:CPU:0',).\n",
      "INFO:tensorflow:Reduce to /job:localhost/replica:0/task:0/device:CPU:0 then broadcast to ('/job:localhost/replica:0/task:0/device:CPU:0',).\n",
      "INFO:tensorflow:Reduce to /job:localhost/replica:0/task:0/device:CPU:0 then broadcast to ('/job:localhost/replica:0/task:0/device:CPU:0',).\n",
      "3987536/3987536 [==============================] - 26s 7us/sample - loss: 0.0532 - accuracy: 0.9862 - val_loss: 0.0213 - val_accuracy: 0.9946\n",
      "Epoch 2/100\n",
      "3987536/3987536 [==============================] - 20s 5us/sample - loss: 0.0302 - accuracy: 0.9959 - val_loss: 0.0141 - val_accuracy: 0.9966\n",
      "Epoch 3/100\n",
      "3987536/3987536 [==============================] - 19s 5us/sample - loss: 0.0145 - accuracy: 0.9968 - val_loss: 0.0139 - val_accuracy: 0.9971\n",
      "Epoch 4/100\n",
      "3987536/3987536 [==============================] - 19s 5us/sample - loss: 0.0133 - accuracy: 0.9972 - val_loss: 0.0119 - val_accuracy: 0.9979\n",
      "Epoch 5/100\n",
      "3987536/3987536 [==============================] - 18s 4us/sample - loss: 0.0123 - accuracy: 0.9975 - val_loss: 0.0131 - val_accuracy: 0.9983\n",
      "Epoch 6/100\n",
      "3987536/3987536 [==============================] - 17s 4us/sample - loss: 0.0119 - accuracy: 0.9977 - val_loss: 0.0105 - val_accuracy: 0.9981\n",
      "Epoch 7/100\n",
      "3987536/3987536 [==============================] - 16s 4us/sample - loss: 0.0249 - accuracy: 0.9975 - val_loss: 0.0121 - val_accuracy: 0.9974\n",
      "Epoch 8/100\n",
      "3987536/3987536 [==============================] - 18s 4us/sample - loss: 0.0114 - accuracy: 0.9978 - val_loss: 0.0103 - val_accuracy: 0.9981\n",
      "Epoch 9/100\n",
      "3987536/3987536 [==============================] - 18s 4us/sample - loss: 0.0127 - accuracy: 0.9977 - val_loss: 0.0103 - val_accuracy: 0.9981\n",
      "Epoch 10/100\n",
      "3987536/3987536 [==============================] - 18s 5us/sample - loss: 0.0107 - accuracy: 0.9980 - val_loss: 0.0105 - val_accuracy: 0.9984\n",
      "Epoch 11/100\n",
      "3987536/3987536 [==============================] - 18s 5us/sample - loss: 0.0125 - accuracy: 0.9978 - val_loss: 0.0155 - val_accuracy: 0.9946\n",
      "Epoch 12/100\n",
      "3987536/3987536 [==============================] - 18s 5us/sample - loss: 0.0182 - accuracy: 0.9981 - val_loss: 0.0097 - val_accuracy: 0.9982\n",
      "Epoch 13/100\n",
      "3987536/3987536 [==============================] - 18s 5us/sample - loss: 0.0112 - accuracy: 0.9980 - val_loss: 0.0094 - val_accuracy: 0.9984\n",
      "Epoch 14/100\n",
      "3987536/3987536 [==============================] - 18s 4us/sample - loss: 0.0106 - accuracy: 0.9981 - val_loss: 0.0100 - val_accuracy: 0.9983\n",
      "Epoch 15/100\n",
      "3987536/3987536 [==============================] - 17s 4us/sample - loss: 0.0098 - accuracy: 0.9982 - val_loss: 0.0095 - val_accuracy: 0.9983\n",
      "Epoch 16/100\n",
      "3987536/3987536 [==============================] - 17s 4us/sample - loss: 0.0105 - accuracy: 0.9981 - val_loss: 0.0088 - val_accuracy: 0.9983\n",
      "Epoch 17/100\n",
      "3987536/3987536 [==============================] - 16s 4us/sample - loss: 0.0109 - accuracy: 0.9980 - val_loss: 0.0089 - val_accuracy: 0.9983\n",
      "Epoch 18/100\n",
      "3987536/3987536 [==============================] - 19s 5us/sample - loss: 0.0094 - accuracy: 0.9982 - val_loss: 0.0090 - val_accuracy: 0.9985\n",
      "Epoch 19/100\n",
      "3987536/3987536 [==============================] - 20s 5us/sample - loss: 0.0114 - accuracy: 0.9981 - val_loss: 0.0089 - val_accuracy: 0.9985\n",
      "Epoch 20/100\n",
      "3987536/3987536 [==============================] - 21s 5us/sample - loss: 0.0110 - accuracy: 0.9981 - val_loss: 0.0088 - val_accuracy: 0.9984\n",
      "Epoch 21/100\n",
      "3987536/3987536 [==============================] - 20s 5us/sample - loss: 0.0088 - accuracy: 0.9984 - val_loss: 0.0084 - val_accuracy: 0.9986\n",
      "Epoch 22/100\n",
      "3987536/3987536 [==============================] - 20s 5us/sample - loss: 0.0112 - accuracy: 0.9981 - val_loss: 0.0088 - val_accuracy: 0.9984\n",
      "Epoch 23/100\n",
      "3987536/3987536 [==============================] - 20s 5us/sample - loss: 0.0085 - accuracy: 0.9984 - val_loss: 0.0104 - val_accuracy: 0.9978\n",
      "Epoch 24/100\n",
      "3987536/3987536 [==============================] - 19s 5us/sample - loss: 0.0099 - accuracy: 0.9983 - val_loss: 0.0076 - val_accuracy: 0.9987\n",
      "Epoch 25/100\n",
      "3987536/3987536 [==============================] - 18s 5us/sample - loss: 0.0087 - accuracy: 0.9984 - val_loss: 0.2555 - val_accuracy: 0.9822\n",
      "Epoch 26/100\n",
      "3987536/3987536 [==============================] - 17s 4us/sample - loss: 0.0090 - accuracy: 0.9984 - val_loss: 0.0080 - val_accuracy: 0.9986\n",
      "Epoch 27/100\n",
      "3987536/3987536 [==============================] - 17s 4us/sample - loss: 0.0100 - accuracy: 0.9983 - val_loss: 0.0076 - val_accuracy: 0.9986\n",
      "Epoch 28/100\n",
      "3987536/3987536 [==============================] - 17s 4us/sample - loss: 0.0080 - accuracy: 0.9985 - val_loss: 0.0078 - val_accuracy: 0.9986\n",
      "Epoch 29/100\n",
      "3987536/3987536 [==============================] - 16s 4us/sample - loss: 0.0100 - accuracy: 0.9984 - val_loss: 0.0079 - val_accuracy: 0.9985\n",
      "Epoch 30/100\n",
      "3987536/3987536 [==============================] - 17s 4us/sample - loss: 0.0109 - accuracy: 0.9985 - val_loss: 0.0074 - val_accuracy: 0.9986\n",
      "Epoch 31/100\n",
      "3987536/3987536 [==============================] - 16s 4us/sample - loss: 0.0095 - accuracy: 0.9984 - val_loss: 0.0073 - val_accuracy: 0.9987\n",
      "Epoch 32/100\n",
      "3987536/3987536 [==============================] - 20s 5us/sample - loss: 0.0093 - accuracy: 0.9984 - val_loss: 0.0074 - val_accuracy: 0.9986\n",
      "Epoch 33/100\n",
      "3987536/3987536 [==============================] - 20s 5us/sample - loss: 0.0079 - accuracy: 0.9985 - val_loss: 0.0095 - val_accuracy: 0.9986\n",
      "Epoch 34/100\n",
      "3987536/3987536 [==============================] - 20s 5us/sample - loss: 0.0109 - accuracy: 0.9983 - val_loss: 0.0070 - val_accuracy: 0.9987\n",
      "Epoch 35/100\n",
      "3987536/3987536 [==============================] - 20s 5us/sample - loss: 0.0076 - accuracy: 0.9986 - val_loss: 0.0071 - val_accuracy: 0.9987\n",
      "Epoch 36/100\n",
      "3987536/3987536 [==============================] - 21s 5us/sample - loss: 0.0103 - accuracy: 0.9984 - val_loss: 0.0079 - val_accuracy: 0.9983\n",
      "Epoch 37/100\n",
      "3987536/3987536 [==============================] - 20s 5us/sample - loss: 0.0074 - accuracy: 0.9986 - val_loss: 0.0075 - val_accuracy: 0.9986\n",
      "Epoch 38/100\n",
      "3987536/3987536 [==============================] - 20s 5us/sample - loss: 0.0092 - accuracy: 0.9985 - val_loss: 0.0072 - val_accuracy: 0.9987\n",
      "Epoch 39/100\n",
      "3987536/3987536 [==============================] - 19s 5us/sample - loss: 0.0074 - accuracy: 0.9986 - val_loss: 0.0069 - val_accuracy: 0.9988\n",
      "Epoch 40/100\n",
      "3987536/3987536 [==============================] - 18s 4us/sample - loss: 0.0099 - accuracy: 0.9985 - val_loss: 0.0083 - val_accuracy: 0.9989\n",
      "Epoch 41/100\n",
      "3987536/3987536 [==============================] - 17s 4us/sample - loss: 0.0073 - accuracy: 0.9986 - val_loss: 0.0067 - val_accuracy: 0.9988\n",
      "Epoch 42/100\n",
      "3987536/3987536 [==============================] - 17s 4us/sample - loss: 0.0086 - accuracy: 0.9985 - val_loss: 0.0064 - val_accuracy: 0.9988\n",
      "Epoch 43/100\n",
      "3987536/3987536 [==============================] - 16s 4us/sample - loss: 0.0071 - accuracy: 0.9987 - val_loss: 0.0226 - val_accuracy: 0.9909\n",
      "Epoch 44/100\n",
      "3987536/3987536 [==============================] - 16s 4us/sample - loss: 0.0094 - accuracy: 0.9985 - val_loss: 0.0065 - val_accuracy: 0.9988\n",
      "Epoch 45/100\n",
      "3987536/3987536 [==============================] - 17s 4us/sample - loss: 0.0089 - accuracy: 0.9984 - val_loss: 0.0076 - val_accuracy: 0.9983\n",
      "Epoch 46/100\n",
      "3987536/3987536 [==============================] - 19s 5us/sample - loss: 0.0099 - accuracy: 0.9987 - val_loss: 0.0068 - val_accuracy: 0.9988\n",
      "Epoch 47/100\n",
      "3987536/3987536 [==============================] - 19s 5us/sample - loss: 0.0079 - accuracy: 0.9986 - val_loss: 0.0066 - val_accuracy: 0.9988\n",
      "Epoch 48/100\n",
      "3987536/3987536 [==============================] - 18s 5us/sample - loss: 0.0069 - accuracy: 0.9987 - val_loss: 0.0066 - val_accuracy: 0.9988\n",
      "Epoch 49/100\n",
      "3987536/3987536 [==============================] - 19s 5us/sample - loss: 0.0081 - accuracy: 0.9986 - val_loss: 0.0063 - val_accuracy: 0.9988\n",
      "Epoch 50/100\n",
      "3987536/3987536 [==============================] - 18s 5us/sample - loss: 0.0088 - accuracy: 0.9985 - val_loss: 0.0065 - val_accuracy: 0.9988\n",
      "Epoch 51/100\n",
      "3987536/3987536 [==============================] - 18s 5us/sample - loss: 0.0068 - accuracy: 0.9987 - val_loss: 0.0062 - val_accuracy: 0.9988\n",
      "Epoch 52/100\n",
      "3987536/3987536 [==============================] - 20s 5us/sample - loss: 0.0098 - accuracy: 0.9985 - val_loss: 0.0065 - val_accuracy: 0.9988\n",
      "Epoch 53/100\n",
      "3987536/3987536 [==============================] - 18s 5us/sample - loss: 0.0068 - accuracy: 0.9987 - val_loss: 0.0066 - val_accuracy: 0.9988\n",
      "Epoch 54/100\n",
      "3987536/3987536 [==============================] - 19s 5us/sample - loss: 0.0081 - accuracy: 0.9986 - val_loss: 0.0096 - val_accuracy: 0.9978\n",
      "Epoch 55/100\n",
      "3987536/3987536 [==============================] - 18s 4us/sample - loss: 0.0069 - accuracy: 0.9987 - val_loss: 0.0066 - val_accuracy: 0.9987\n",
      "Epoch 56/100\n",
      "3987536/3987536 [==============================] - 17s 4us/sample - loss: 0.0083 - accuracy: 0.9985 - val_loss: 0.0069 - val_accuracy: 0.9987\n",
      "Epoch 57/100\n",
      "3987536/3987536 [==============================] - 17s 4us/sample - loss: 0.0068 - accuracy: 0.9987 - val_loss: 0.0072 - val_accuracy: 0.9984\n",
      "Epoch 58/100\n",
      "3987536/3987536 [==============================] - 17s 4us/sample - loss: 0.0081 - accuracy: 0.9986 - val_loss: 0.0067 - val_accuracy: 0.9988\n",
      "Epoch 59/100\n",
      "3987536/3987536 [==============================] - 16s 4us/sample - loss: 0.0068 - accuracy: 0.9987 - val_loss: 0.0064 - val_accuracy: 0.9988\n",
      "Epoch 60/100\n",
      "3987536/3987536 [==============================] - 17s 4us/sample - loss: 0.0068 - accuracy: 0.9987 - val_loss: 0.0070 - val_accuracy: 0.9985\n",
      "Epoch 61/100\n",
      "3987536/3987536 [==============================] - 16s 4us/sample - loss: 0.0090 - accuracy: 0.9985 - val_loss: 0.0063 - val_accuracy: 0.9988\n",
      "-----MLP-------\n",
      "ACCURACY:  0.998783342797263\n",
      "CLASSIFICATION REPORT:\n",
      "               precision    recall  f1-score   support\n",
      "\n",
      "           0       1.00      1.00      1.00   1646884\n",
      "           1       0.98      1.00      0.99     40854\n",
      "           2       1.00      0.99      0.99    151819\n",
      "           3       1.00      1.00      1.00    296624\n",
      "\n",
      "    accuracy                           1.00   2136181\n",
      "   macro avg       1.00      1.00      1.00   2136181\n",
      "weighted avg       1.00      1.00      1.00   2136181\n",
      "\n"
     ]
    }
   ],
   "source": [
    "##MLP\n",
    "\n",
    "print(\"-----MLP-------\")\n",
    "\n",
    "with strategy.scope():\n",
    "    mlp = Sequential()\n",
    "    mlp.add(Input(shape = (4)))\n",
    "    mlp.add(Dense(128, activation = 'relu'))\n",
    "    mlp.add(Dense(128, activation = 'relu'))\n",
    "    mlp.add(Dense(4))\n",
    "\n",
    "    mlp.compile(optimizer='adam',\n",
    "                    loss=SparseCategoricalCrossentropy(from_logits=True),\n",
    "                    metrics=['accuracy'])\n",
    "\n",
    "    es = EarlyStopping(monitor = 'val_loss', patience = 10, restore_best_weights = True)\n",
    "\n",
    "    mlp_hist = mlp.fit(X_train, y_train, epochs=100, callbacks = [es], validation_split=0.2, batch_size = batch_size)\n",
    "\n",
    "##MLP\n",
    "print(\"-----MLP-------\")\n",
    "\n",
    "mlp_preds = mlp.predict(X_test)\n",
    "mlp_preds = mlp_preds.argmax(axis = 1)\n",
    "\n",
    "print(\"ACCURACY: \", accuracy_score(y_test, mlp_preds))\n",
    "print(\"CLASSIFICATION REPORT:\\n\", classification_report(y_test, mlp_preds))"
   ]
  },
  {
   "cell_type": "code",
   "execution_count": 23,
   "id": "6fca5432",
   "metadata": {},
   "outputs": [
    {
     "data": {
      "image/png": "[encoded data removed]",
      "text/plain": [
       "<Figure size 432x288 with 1 Axes>"
      ]
     },
     "metadata": {
      "needs_background": "light"
     },
     "output_type": "display_data"
    }
   ],
   "source": [
    "plt.plot(mlp_hist.history['loss'], label = 'Loss')\n",
    "plt.plot(mlp_hist.history['val_loss'], label = 'Validation Loss')\n",
    "plt.title('MLP Loss and Validation Loss Curves')\n",
    "\n",
    "plt.legend(loc = 'best')\n",
    "plt.show()"
   ]
  },
  {
   "cell_type": "code",
   "execution_count": 24,
   "id": "113dedde",
   "metadata": {},
   "outputs": [],
   "source": [
    "X_train_seq = X_train_seq.astype(np.float64)\n",
    "X_test_seq = X_test_seq.astype(np.float64)"
   ]
  },
  {
   "cell_type": "code",
   "execution_count": 25,
   "id": "a9c9fd58",
   "metadata": {},
   "outputs": [
    {
     "name": "stdout",
     "output_type": "stream",
     "text": [
      "-----LSTM-------\n",
      "Train on 3987532 samples, validate on 996883 samples\n",
      "Epoch 1/1000\n",
      "INFO:tensorflow:batch_all_reduce: 5 all-reduces with algorithm = nccl, num_packs = 1, agg_small_grads_max_bytes = 0 and agg_small_grads_max_group = 10\n",
      "INFO:tensorflow:batch_all_reduce: 5 all-reduces with algorithm = nccl, num_packs = 1, agg_small_grads_max_bytes = 0 and agg_small_grads_max_group = 10\n",
      "3987532/3987532 [==============================] - 97s 24us/sample - loss: 0.0667 - accuracy: 0.9757 - val_loss: 0.0355 - val_accuracy: 0.9862\n",
      "Epoch 2/1000\n",
      "3987532/3987532 [==============================] - 88s 22us/sample - loss: 0.0315 - accuracy: 0.9882 - val_loss: 0.0280 - val_accuracy: 0.9900\n",
      "Epoch 3/1000\n",
      "3987532/3987532 [==============================] - 87s 22us/sample - loss: 0.0266 - accuracy: 0.9901 - val_loss: 0.0258 - val_accuracy: 0.9901\n",
      "Epoch 4/1000\n",
      "3987532/3987532 [==============================] - 89s 22us/sample - loss: 0.0235 - accuracy: 0.9912 - val_loss: 0.0266 - val_accuracy: 0.9911\n",
      "Epoch 5/1000\n",
      "3987532/3987532 [==============================] - 96s 24us/sample - loss: 0.0213 - accuracy: 0.9922 - val_loss: 0.0195 - val_accuracy: 0.9930\n",
      "Epoch 6/1000\n",
      "3987532/3987532 [==============================] - 91s 23us/sample - loss: 0.0191 - accuracy: 0.9930 - val_loss: 0.0203 - val_accuracy: 0.9928\n",
      "Epoch 7/1000\n",
      "3987532/3987532 [==============================] - 89s 22us/sample - loss: 0.0172 - accuracy: 0.9938 - val_loss: 0.0157 - val_accuracy: 0.9941\n",
      "Epoch 8/1000\n",
      "3987532/3987532 [==============================] - 96s 24us/sample - loss: 0.0156 - accuracy: 0.9944 - val_loss: 0.0207 - val_accuracy: 0.9926\n",
      "Epoch 9/1000\n",
      "3987532/3987532 [==============================] - 89s 22us/sample - loss: 0.0143 - accuracy: 0.9949 - val_loss: 0.0133 - val_accuracy: 0.9954\n",
      "Epoch 10/1000\n",
      "3987532/3987532 [==============================] - 88s 22us/sample - loss: 0.0131 - accuracy: 0.9954 - val_loss: 0.0129 - val_accuracy: 0.9955\n",
      "Epoch 11/1000\n",
      "3987532/3987532 [==============================] - 92s 23us/sample - loss: 0.0121 - accuracy: 0.9958 - val_loss: 0.0120 - val_accuracy: 0.9961\n",
      "Epoch 12/1000\n",
      "3987532/3987532 [==============================] - 92s 23us/sample - loss: 0.0113 - accuracy: 0.9961 - val_loss: 0.0120 - val_accuracy: 0.9960\n",
      "Epoch 13/1000\n",
      "3987532/3987532 [==============================] - 91s 23us/sample - loss: 0.0106 - accuracy: 0.9964 - val_loss: 0.0098 - val_accuracy: 0.9967\n",
      "Epoch 14/1000\n",
      "3987532/3987532 [==============================] - 89s 22us/sample - loss: 0.0099 - accuracy: 0.9967 - val_loss: 0.0131 - val_accuracy: 0.9955\n",
      "Epoch 15/1000\n",
      "3987532/3987532 [==============================] - 89s 22us/sample - loss: 0.0093 - accuracy: 0.9969 - val_loss: 0.0093 - val_accuracy: 0.9969\n",
      "Epoch 16/1000\n",
      "3987532/3987532 [==============================] - 90s 23us/sample - loss: 0.0089 - accuracy: 0.9971 - val_loss: 0.0108 - val_accuracy: 0.9966\n",
      "Epoch 17/1000\n",
      "3987532/3987532 [==============================] - 90s 23us/sample - loss: 0.0085 - accuracy: 0.9972 - val_loss: 0.0088 - val_accuracy: 0.9970\n",
      "Epoch 18/1000\n",
      "3987532/3987532 [==============================] - 88s 22us/sample - loss: 0.0082 - accuracy: 0.9973 - val_loss: 0.0077 - val_accuracy: 0.9976\n",
      "Epoch 19/1000\n",
      "3987532/3987532 [==============================] - 87s 22us/sample - loss: 0.0078 - accuracy: 0.9975 - val_loss: 0.0087 - val_accuracy: 0.9971\n",
      "Epoch 20/1000\n",
      "3987532/3987532 [==============================] - 89s 22us/sample - loss: 0.0075 - accuracy: 0.9976 - val_loss: 0.0077 - val_accuracy: 0.9975\n",
      "Epoch 21/1000\n",
      "3987532/3987532 [==============================] - 90s 23us/sample - loss: 0.0072 - accuracy: 0.9976 - val_loss: 0.0075 - val_accuracy: 0.9975\n",
      "Epoch 22/1000\n",
      "3987532/3987532 [==============================] - 89s 22us/sample - loss: 0.0070 - accuracy: 0.9977 - val_loss: 0.0076 - val_accuracy: 0.9976\n",
      "Epoch 23/1000\n",
      "3987532/3987532 [==============================] - 90s 23us/sample - loss: 0.0067 - accuracy: 0.9978 - val_loss: 0.0075 - val_accuracy: 0.9976\n",
      "Epoch 24/1000\n",
      "3987532/3987532 [==============================] - 90s 23us/sample - loss: 0.0064 - accuracy: 0.9979 - val_loss: 0.0078 - val_accuracy: 0.9973\n",
      "Epoch 25/1000\n",
      "3987532/3987532 [==============================] - 88s 22us/sample - loss: 0.0063 - accuracy: 0.9979 - val_loss: 0.0080 - val_accuracy: 0.9973\n",
      "Epoch 26/1000\n",
      "3987532/3987532 [==============================] - 87s 22us/sample - loss: 0.0062 - accuracy: 0.9980 - val_loss: 0.0071 - val_accuracy: 0.9978\n",
      "Epoch 27/1000\n",
      "3987532/3987532 [==============================] - 88s 22us/sample - loss: 0.0059 - accuracy: 0.9980 - val_loss: 0.0079 - val_accuracy: 0.9974\n",
      "Epoch 28/1000\n",
      "3987532/3987532 [==============================] - 90s 22us/sample - loss: 0.0058 - accuracy: 0.9981 - val_loss: 0.0078 - val_accuracy: 0.9975\n",
      "Epoch 29/1000\n",
      "3987532/3987532 [==============================] - 90s 23us/sample - loss: 0.0095 - accuracy: 0.9982 - val_loss: 0.0068 - val_accuracy: 0.9978\n",
      "Epoch 30/1000\n",
      "3987532/3987532 [==============================] - 90s 22us/sample - loss: 0.0055 - accuracy: 0.9982 - val_loss: 0.0067 - val_accuracy: 0.9979\n",
      "Epoch 31/1000\n",
      "3987532/3987532 [==============================] - 90s 22us/sample - loss: 0.0054 - accuracy: 0.9982 - val_loss: 0.0070 - val_accuracy: 0.9978\n",
      "Epoch 32/1000\n",
      "3987532/3987532 [==============================] - 88s 22us/sample - loss: 0.0052 - accuracy: 0.9983 - val_loss: 0.0073 - val_accuracy: 0.9976\n",
      "Epoch 33/1000\n",
      "3987532/3987532 [==============================] - 87s 22us/sample - loss: 0.0051 - accuracy: 0.9983 - val_loss: 0.0088 - val_accuracy: 0.9976\n",
      "Epoch 34/1000\n",
      "3987532/3987532 [==============================] - 88s 22us/sample - loss: 0.0132 - accuracy: 0.9983 - val_loss: 0.0088 - val_accuracy: 0.9973\n",
      "Epoch 35/1000\n",
      "3987532/3987532 [==============================] - 89s 22us/sample - loss: 0.0047 - accuracy: 0.9984 - val_loss: 0.0112 - val_accuracy: 0.9967\n",
      "Epoch 36/1000\n",
      "3987532/3987532 [==============================] - 90s 22us/sample - loss: 0.0048 - accuracy: 0.9984 - val_loss: 0.0080 - val_accuracy: 0.9977\n",
      "Epoch 37/1000\n",
      "3987532/3987532 [==============================] - 89s 22us/sample - loss: 0.0045 - accuracy: 0.9985 - val_loss: 0.0067 - val_accuracy: 0.9980\n",
      "Epoch 38/1000\n",
      "3987532/3987532 [==============================] - 89s 22us/sample - loss: 0.0046 - accuracy: 0.9985 - val_loss: 0.0090 - val_accuracy: 0.9979\n",
      "Epoch 39/1000\n",
      "3987532/3987532 [==============================] - 89s 22us/sample - loss: 0.0043 - accuracy: 0.9985 - val_loss: 0.0076 - val_accuracy: 0.9978\n",
      "Epoch 40/1000\n",
      "3987532/3987532 [==============================] - 86s 22us/sample - loss: 0.0043 - accuracy: 0.9986 - val_loss: 0.0074 - val_accuracy: 0.9978\n",
      "Epoch 41/1000\n",
      "3987532/3987532 [==============================] - 87s 22us/sample - loss: 0.0044 - accuracy: 0.9986 - val_loss: 0.0078 - val_accuracy: 0.9975\n",
      "Epoch 42/1000\n",
      "3987532/3987532 [==============================] - 90s 22us/sample - loss: 0.0050 - accuracy: 0.9986 - val_loss: 0.0085 - val_accuracy: 0.9975\n",
      "Epoch 43/1000\n",
      "3987532/3987532 [==============================] - 89s 22us/sample - loss: 0.0040 - accuracy: 0.9987 - val_loss: 0.0079 - val_accuracy: 0.9975\n",
      "Epoch 44/1000\n",
      "3987532/3987532 [==============================] - 90s 23us/sample - loss: 0.0040 - accuracy: 0.9987 - val_loss: 0.0075 - val_accuracy: 0.9979\n",
      "Epoch 45/1000\n",
      "3987532/3987532 [==============================] - 89s 22us/sample - loss: 0.0037 - accuracy: 0.9988 - val_loss: 0.0081 - val_accuracy: 0.9978\n",
      "Epoch 46/1000\n",
      "3987532/3987532 [==============================] - 89s 22us/sample - loss: 0.0036 - accuracy: 0.9988 - val_loss: 0.0077 - val_accuracy: 0.9977\n",
      "Epoch 47/1000\n",
      "3987532/3987532 [==============================] - 87s 22us/sample - loss: 0.0035 - accuracy: 0.9988 - val_loss: 0.0080 - val_accuracy: 0.9977\n",
      "-----LSTM-------\n",
      "ACCURACY:  0.9979496090681582\n",
      "CLASSIFICATION REPORT:\n",
      "               precision    recall  f1-score   support\n",
      "\n",
      "           0       1.00      1.00      1.00   1647036\n",
      "           1       0.98      0.99      0.99     40718\n",
      "           2       0.99      0.99      0.99    151952\n",
      "           3       1.00      1.00      1.00    296472\n",
      "\n",
      "    accuracy                           1.00   2136178\n",
      "   macro avg       0.99      0.99      0.99   2136178\n",
      "weighted avg       1.00      1.00      1.00   2136178\n",
      "\n"
     ]
    }
   ],
   "source": [
    "##LSTM\n",
    "\n",
    "print(\"-----LSTM-------\")\n",
    "\n",
    "\n",
    "with strategy.scope():\n",
    "    lstm = Sequential()\n",
    "\n",
    "    lstm.add(Input(shape = X_train_seq.shape[1:]))\n",
    "    lstm.add(LSTM(128, activation = 'relu'))\n",
    "    lstm.add(Dense(4, activation = 'softmax'))\n",
    "\n",
    "    lstm.compile(\n",
    "        loss = SparseCategoricalCrossentropy(from_logits = False),\n",
    "        optimizer = Adam(learning_rate = 0.001),\n",
    "        metrics = ['accuracy'])\n",
    "\n",
    "    es = EarlyStopping(monitor = 'val_loss', patience = 10, restore_best_weights = True)\n",
    "\n",
    "    lstm_hist = lstm.fit(X_train_seq, y_train_seq, batch_size = batch_size, validation_split = 0.2,\n",
    "            callbacks = [es], epochs = 1000)\n",
    "\n",
    "print(\"-----LSTM-------\")\n",
    "\n",
    "lstm_preds = lstm.predict(X_test_seq, batch_size = batch_size)\n",
    "lstm_preds = lstm_preds.argmax(axis = 1)\n",
    "\n",
    "print(\"ACCURACY: \", accuracy_score(y_test_seq, lstm_preds))\n",
    "print(\"CLASSIFICATION REPORT:\\n\", classification_report(y_test_seq, lstm_preds))"
   ]
  },
  {
   "cell_type": "code",
   "execution_count": 26,
   "id": "2f6e9008",
   "metadata": {},
   "outputs": [
    {
     "data": {
      "image/png": "[encoded data removed]",
      "text/plain": [
       "<Figure size 432x288 with 1 Axes>"
      ]
     },
     "metadata": {
      "needs_background": "light"
     },
     "output_type": "display_data"
    }
   ],
   "source": [
    "plt.plot(lstm_hist.history['loss'], label = 'Loss')\n",
    "plt.plot(lstm_hist.history['val_loss'], label = 'Validation Loss')\n",
    "plt.title('LSTM Loss and Validation Loss Curves')\n",
    "\n",
    "plt.legend(loc = 'best')\n",
    "plt.show()"
   ]
  },
  {
   "cell_type": "code",
   "execution_count": 18,
   "id": "72e640f8",
   "metadata": {},
   "outputs": [
    {
     "name": "stdout",
     "output_type": "stream",
     "text": [
      "-------XGBOOST-------\n",
      "ACCURACY:  0.9999171418526801\n",
      "CLASSIFICATION REPORT:\n",
      "               precision    recall  f1-score   support\n",
      "\n",
      "           0       1.00      1.00      1.00   1647254\n",
      "           1       1.00      1.00      1.00     40724\n",
      "           2       1.00      1.00      1.00    152080\n",
      "           3       1.00      1.00      1.00    296123\n",
      "\n",
      "    accuracy                           1.00   2136181\n",
      "   macro avg       1.00      1.00      1.00   2136181\n",
      "weighted avg       1.00      1.00      1.00   2136181\n",
      "\n"
     ]
    }
   ],
   "source": [
    "## XGBOOST\n",
    "\n",
    "xgb = XGBClassifier()\n",
    "xgb.fit(X_train, y_train)\n",
    "xgb_preds = xgb.predict(X_test)\n",
    "\n",
    "print(\"-------XGBOOST-------\")\n",
    "print(\"ACCURACY: \", accuracy_score(y_test, xgb_preds))\n",
    "print(\"CLASSIFICATION REPORT:\\n\", classification_report(y_test, xgb_preds))"
   ]
  },
  {
   "cell_type": "code",
   "execution_count": 27,
   "id": "20f4fa03",
   "metadata": {},
   "outputs": [
    {
     "name": "stdout",
     "output_type": "stream",
     "text": [
      "-------DECISION TREE--------\n",
      "ACCURACY:  0.9964511434190267\n",
      "CLASSIFICATION REPORT:\n",
      "               precision    recall  f1-score   support\n",
      "\n",
      "           0       1.00      1.00      1.00   1646884\n",
      "           1       0.90      1.00      0.95     40854\n",
      "           2       1.00      0.98      0.99    151819\n",
      "           3       1.00      1.00      1.00    296624\n",
      "\n",
      "    accuracy                           1.00   2136181\n",
      "   macro avg       0.97      0.99      0.98   2136181\n",
      "weighted avg       1.00      1.00      1.00   2136181\n",
      "\n",
      "-------RANDOM FOREST-------\n",
      "ACCURACY:  0.9794685000943272\n"
     ]
    },
    {
     "name": "stderr",
     "output_type": "stream",
     "text": [
      "/home/apps/anaconda3_2018/4.6.9/lib/python3.6/site-packages/sklearn/metrics/_classification.py:1221: UndefinedMetricWarning: Precision and F-score are ill-defined and being set to 0.0 in labels with no predicted samples. Use `zero_division` parameter to control this behavior.\n",
      "  _warn_prf(average, modifier, msg_start, len(result))\n"
     ]
    },
    {
     "name": "stdout",
     "output_type": "stream",
     "text": [
      "CLASSIFICATION REPORT:\n",
      "               precision    recall  f1-score   support\n",
      "\n",
      "           0       0.97      1.00      0.99   1646884\n",
      "           1       0.00      0.00      0.00     40854\n",
      "           2       1.00      0.98      0.99    151819\n",
      "           3       1.00      1.00      1.00    296624\n",
      "\n",
      "    accuracy                           0.98   2136181\n",
      "   macro avg       0.74      0.75      0.74   2136181\n",
      "weighted avg       0.96      0.98      0.97   2136181\n",
      "\n"
     ]
    }
   ],
   "source": [
    "## DECISION TREE\n",
    "\n",
    "dt = DecisionTreeClassifier(max_depth = 4)\n",
    "dt.fit(X_train, y_train)\n",
    "dt_preds = dt.predict(X_test)\n",
    "\n",
    "print(\"-------DECISION TREE--------\")\n",
    "print(\"ACCURACY: \", accuracy_score(y_test, dt_preds))\n",
    "print(\"CLASSIFICATION REPORT:\\n\", classification_report(y_test, dt_preds))\n",
    "\n",
    "\n",
    "## RANDOM FOREST\n",
    "\n",
    "rf = RandomForestClassifier(n_estimators=100, max_depth=4)\n",
    "rf.fit(X_train, y_train)\n",
    "rf_preds = rf.predict(X_test)\n",
    "\n",
    "print(\"-------RANDOM FOREST-------\")\n",
    "print(\"ACCURACY: \", accuracy_score(y_test, rf_preds))\n",
    "print(\"CLASSIFICATION REPORT:\\n\", classification_report(y_test, rf_preds))"
   ]
  },
  {
   "cell_type": "code",
   "execution_count": null,
   "id": "bcf91b7b",
   "metadata": {},
   "outputs": [],
   "source": []
  }
 ],
 "metadata": {
  "kernelspec": {
   "display_name": "Python 3 (ipykernel)",
   "language": "python",
   "name": "python3"
  },
  "language_info": {
   "codemirror_mode": {
    "name": "ipython",
    "version": 3
   },
   "file_extension": ".py",
   "mimetype": "text/x-python",
   "name": "python",
   "nbconvert_exporter": "python",
   "pygments_lexer": "ipython3",
   "version": "3.9.16"
  }
 },
 "nbformat": 4,
 "nbformat_minor": 5
}
