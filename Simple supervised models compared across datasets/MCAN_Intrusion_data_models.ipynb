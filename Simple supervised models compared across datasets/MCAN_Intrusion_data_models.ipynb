{
 "cells": [
  {
   "cell_type": "code",
   "execution_count": 1,
   "id": "95495d1d",
   "metadata": {},
   "outputs": [],
   "source": [
    "import os\n",
    "import pandas as pd\n",
    "import numpy as np\n",
    "import matplotlib.pyplot as plt\n",
    "from tqdm import tqdm\n",
    "from tensorflow.keras.layers import LSTM, Dense, Dropout, Input\n",
    "from tensorflow.keras.models import Sequential\n",
    "from tensorflow.keras.losses import SparseCategoricalCrossentropy\n",
    "from tensorflow.keras.optimizers import Adam\n",
    "from tensorflow.keras.callbacks import EarlyStopping\n",
    "from sklearn import svm\n",
    "from sklearn.ensemble import RandomForestClassifier\n",
    "from sklearn.tree import DecisionTreeClassifier, export_text, export_graphviz\n",
    "from sklearn.metrics import classification_report, confusion_matrix, accuracy_score\n",
    "from sklearn.model_selection import KFold, cross_val_score, train_test_split\n",
    "from sklearn.preprocessing import StandardScaler\n",
    "from xgboost import XGBClassifier"
   ]
  },
  {
   "cell_type": "code",
   "execution_count": 18,
   "id": "ed8982ed",
   "metadata": {},
   "outputs": [
    {
     "name": "stdout",
     "output_type": "stream",
     "text": [
      "['g80_mcan_fuzzing_data.csv', 'g80_mcan_ddos_data.csv', 'g80_mcan_normal_data.csv', 'README.txt']\n"
     ]
    }
   ],
   "source": [
    "data_folder = '../M-CAN Intrusion Dataset/'\n",
    "print(os.listdir(data_folder))"
   ]
  },
  {
   "cell_type": "code",
   "execution_count": 19,
   "id": "e12d909b",
   "metadata": {},
   "outputs": [],
   "source": [
    "dos_data_path = os.path.join(data_folder,'g80_mcan_ddos_data.csv')\n",
    "fuzzy_data_path = os.path.join(data_folder, 'g80_mcan_fuzzing_data.csv')\n",
    "normal_data_path = os.path.join(data_folder, 'g80_mcan_normal_data.csv')"
   ]
  },
  {
   "cell_type": "code",
   "execution_count": 20,
   "id": "00fe8bd9",
   "metadata": {},
   "outputs": [],
   "source": [
    "##Function to convert hexadecimal to decimal \n",
    "hex_to_dec = lambda x: int(str(x), 16)\n",
    "\n",
    "\n",
    "def read_data(data_path):\n",
    "    \n",
    "    data = pd.read_csv(data_path)    \n",
    "    \n",
    "    ## Removing spaces within the payload column entries\n",
    "    data['Payload'] = data['Payload'].str.replace(' ','')\n",
    "    \n",
    "    ## Converting hexadecimal columns to decimals\n",
    "    data['ID'] = data['ID'].apply(hex_to_dec)\n",
    "    data['Payload'] = data['Payload'].apply(hex_to_dec)\n",
    "    return data\n",
    "    "
   ]
  },
  {
   "cell_type": "code",
   "execution_count": 21,
   "id": "c509541a",
   "metadata": {},
   "outputs": [],
   "source": [
    "dos_data = read_data(dos_data_path)\n",
    "fuzzy_data = read_data(fuzzy_data_path)\n",
    "normal_data = read_data(normal_data_path)"
   ]
  },
  {
   "cell_type": "code",
   "execution_count": 22,
   "id": "f1f8988d",
   "metadata": {},
   "outputs": [],
   "source": [
    "##Merging datasets\n",
    "merged_df = pd.concat([dos_data, fuzzy_data, normal_data], axis=0, ignore_index=True)"
   ]
  },
  {
   "cell_type": "code",
   "execution_count": 23,
   "id": "e473e271",
   "metadata": {},
   "outputs": [],
   "source": [
    "merged_df.sort_values(by = ['Timestamp'], inplace = True)\n",
    "\n",
    "##Removing duplicates\n",
    "merged_df.drop_duplicates(inplace = True)\n",
    "\n",
    "##Creating IAT feature column\n",
    "merged_df = merged_df.assign(IAT=merged_df['Timestamp'].diff().fillna(0))\n",
    "\n",
    "merged_df.drop(columns = ['Timestamp'], inplace = True)"
   ]
  },
  {
   "cell_type": "code",
   "execution_count": 24,
   "id": "d5a81971",
   "metadata": {},
   "outputs": [
    {
     "data": {
      "text/html": [
       "<div>\n",
       "<style scoped>\n",
       "    .dataframe tbody tr th:only-of-type {\n",
       "        vertical-align: middle;\n",
       "    }\n",
       "\n",
       "    .dataframe tbody tr th {\n",
       "        vertical-align: top;\n",
       "    }\n",
       "\n",
       "    .dataframe thead th {\n",
       "        text-align: right;\n",
       "    }\n",
       "</style>\n",
       "<table border=\"1\" class=\"dataframe\">\n",
       "  <thead>\n",
       "    <tr style=\"text-align: right;\">\n",
       "      <th></th>\n",
       "      <th>ID</th>\n",
       "      <th>DLC</th>\n",
       "      <th>Payload</th>\n",
       "      <th>label</th>\n",
       "      <th>IAT</th>\n",
       "    </tr>\n",
       "  </thead>\n",
       "  <tbody>\n",
       "    <tr>\n",
       "      <th>0</th>\n",
       "      <td>290</td>\n",
       "      <td>8</td>\n",
       "      <td>9151314442816856063</td>\n",
       "      <td>0.0</td>\n",
       "      <td>0.00000</td>\n",
       "    </tr>\n",
       "    <tr>\n",
       "      <th>1217541</th>\n",
       "      <td>829</td>\n",
       "      <td>8</td>\n",
       "      <td>50331648</td>\n",
       "      <td>0.0</td>\n",
       "      <td>0.00957</td>\n",
       "    </tr>\n",
       "    <tr>\n",
       "      <th>1217542</th>\n",
       "      <td>1409</td>\n",
       "      <td>8</td>\n",
       "      <td>0</td>\n",
       "      <td>0.0</td>\n",
       "      <td>0.01071</td>\n",
       "    </tr>\n",
       "    <tr>\n",
       "      <th>1217543</th>\n",
       "      <td>466</td>\n",
       "      <td>8</td>\n",
       "      <td>16375088258004025344</td>\n",
       "      <td>0.0</td>\n",
       "      <td>0.00122</td>\n",
       "    </tr>\n",
       "    <tr>\n",
       "      <th>1217544</th>\n",
       "      <td>1393</td>\n",
       "      <td>8</td>\n",
       "      <td>9151314442816847872</td>\n",
       "      <td>0.0</td>\n",
       "      <td>0.00124</td>\n",
       "    </tr>\n",
       "  </tbody>\n",
       "</table>\n",
       "</div>"
      ],
      "text/plain": [
       "           ID  DLC               Payload  label      IAT\n",
       "0         290    8   9151314442816856063    0.0  0.00000\n",
       "1217541   829    8              50331648    0.0  0.00957\n",
       "1217542  1409    8                     0    0.0  0.01071\n",
       "1217543   466    8  16375088258004025344    0.0  0.00122\n",
       "1217544  1393    8   9151314442816847872    0.0  0.00124"
      ]
     },
     "execution_count": 24,
     "metadata": {},
     "output_type": "execute_result"
    }
   ],
   "source": [
    "merged_df.head()"
   ]
  },
  {
   "cell_type": "code",
   "execution_count": 25,
   "id": "d3891d81",
   "metadata": {},
   "outputs": [
    {
     "data": {
      "text/plain": [
       "(1282700, 5)"
      ]
     },
     "execution_count": 25,
     "metadata": {},
     "output_type": "execute_result"
    }
   ],
   "source": [
    "merged_df.shape"
   ]
  },
  {
   "cell_type": "code",
   "execution_count": 26,
   "id": "0aab0bb0",
   "metadata": {},
   "outputs": [
    {
     "data": {
      "text/plain": [
       "0.0    817540\n",
       "1.0    465160\n",
       "Name: label, dtype: int64"
      ]
     },
     "execution_count": 26,
     "metadata": {},
     "output_type": "execute_result"
    }
   ],
   "source": [
    "merged_df['label'].value_counts()"
   ]
  },
  {
   "cell_type": "code",
   "execution_count": 27,
   "id": "8907954e",
   "metadata": {},
   "outputs": [],
   "source": [
    "X = merged_df.drop('label', axis = 1)\n",
    "y = merged_df['label']\n",
    "\n",
    "X_train, X_test, y_train, y_test = train_test_split(X.values, y.values, test_size = 0.3)"
   ]
  },
  {
   "cell_type": "code",
   "execution_count": 28,
   "id": "a5017f8e",
   "metadata": {},
   "outputs": [],
   "source": [
    "## Function to create sequencified dataset for LSTM model\n",
    "\n",
    "def sequencify(dataset, target, start, end, window):\n",
    "    \n",
    "    X = []\n",
    "    y = []\n",
    "    \n",
    "    start = start + window \n",
    "    \n",
    "    if end is None:\n",
    "        end = len(dataset)\n",
    "        \n",
    "    for i in range(start, end+1):\n",
    "        indices = range(i-window, i) \n",
    "        X.append(dataset[indices])\n",
    "        \n",
    "        indicey = i -1\n",
    "        y.append(target[indicey])\n",
    "\n",
    "    return np.array(X), np.array(y)"
   ]
  },
  {
   "cell_type": "code",
   "execution_count": 29,
   "id": "834da682",
   "metadata": {},
   "outputs": [],
   "source": [
    "X_seq, y_seq = sequencify(X.values, y.values, start = 0, end = None, window = 10)"
   ]
  },
  {
   "cell_type": "code",
   "execution_count": 30,
   "id": "b27d96e9",
   "metadata": {},
   "outputs": [],
   "source": [
    "\n",
    "train_samples = int(np.floor(X_seq.shape[0] * 0.7))\n",
    "\n",
    "X_train_seq = X_seq[:train_samples,:]\n",
    "y_train_seq = y_seq[:train_samples]\n",
    "\n",
    "X_test_seq = X_seq[train_samples:,:]\n",
    "y_test_seq = y_seq[train_samples:]"
   ]
  },
  {
   "cell_type": "code",
   "execution_count": 31,
   "id": "d5144957",
   "metadata": {},
   "outputs": [
    {
     "name": "stdout",
     "output_type": "stream",
     "text": [
      "(897883, 10, 4)\n",
      "(384808, 10, 4)\n"
     ]
    }
   ],
   "source": [
    "print(X_train_seq.shape)\n",
    "print(X_test_seq.shape)"
   ]
  },
  {
   "cell_type": "code",
   "execution_count": 32,
   "id": "3ea5d468",
   "metadata": {},
   "outputs": [],
   "source": [
    "## Scaling 2D data and sequencified data\n",
    "scaler = StandardScaler()\n",
    "\n",
    "X_train = scaler.fit_transform(X_train)\n",
    "X_test = scaler.transform(X_test)\n",
    "\n",
    "\n",
    "mean = X_train_seq.mean(axis=0)\n",
    "std = X_train_seq.std(axis=0)\n",
    "\n",
    "X_train_seq -= mean\n",
    "X_train_seq /= std\n",
    "X_test_seq -= mean\n",
    "X_test_seq /= std"
   ]
  },
  {
   "cell_type": "code",
   "execution_count": 25,
   "id": "82679e76",
   "metadata": {},
   "outputs": [
    {
     "name": "stdout",
     "output_type": "stream",
     "text": [
      "-----MLP-------\n",
      "Train on 719498 samples, validate on 179875 samples\n",
      "Epoch 1/100\n",
      "719498/719498 [==============================] - 2s 2us/sample - loss: 0.3588 - accuracy: 0.9313 - val_loss: 0.0482 - val_accuracy: 0.9921\n",
      "Epoch 2/100\n",
      "719498/719498 [==============================] - 0s 1us/sample - loss: 0.0280 - accuracy: 0.9924 - val_loss: 0.0173 - val_accuracy: 0.9935\n",
      "Epoch 3/100\n",
      "719498/719498 [==============================] - 0s 1us/sample - loss: 0.0146 - accuracy: 0.9939 - val_loss: 0.0124 - val_accuracy: 0.9944\n",
      "Epoch 4/100\n",
      "719498/719498 [==============================] - 0s 1us/sample - loss: 0.0117 - accuracy: 0.9945 - val_loss: 0.0106 - val_accuracy: 0.9949\n",
      "Epoch 5/100\n",
      "719498/719498 [==============================] - 0s 1us/sample - loss: 0.0104 - accuracy: 0.9950 - val_loss: 0.0096 - val_accuracy: 0.9956\n",
      "Epoch 6/100\n",
      "719498/719498 [==============================] - 0s 1us/sample - loss: 0.0095 - accuracy: 0.9957 - val_loss: 0.0090 - val_accuracy: 0.9961\n",
      "Epoch 7/100\n",
      "719498/719498 [==============================] - 0s 1us/sample - loss: 0.0089 - accuracy: 0.9960 - val_loss: 0.0085 - val_accuracy: 0.9961\n",
      "Epoch 8/100\n",
      "719498/719498 [==============================] - 0s 1us/sample - loss: 0.0085 - accuracy: 0.9962 - val_loss: 0.0080 - val_accuracy: 0.9963\n",
      "Epoch 9/100\n",
      "719498/719498 [==============================] - 0s 1us/sample - loss: 0.0081 - accuracy: 0.9964 - val_loss: 0.0077 - val_accuracy: 0.9964\n",
      "Epoch 10/100\n",
      "719498/719498 [==============================] - 0s 1us/sample - loss: 0.0078 - accuracy: 0.9965 - val_loss: 0.0075 - val_accuracy: 0.9965\n",
      "Epoch 11/100\n",
      "719498/719498 [==============================] - 0s 1us/sample - loss: 0.0075 - accuracy: 0.9966 - val_loss: 0.0074 - val_accuracy: 0.9966\n",
      "Epoch 12/100\n",
      "719498/719498 [==============================] - 0s 1us/sample - loss: 0.0072 - accuracy: 0.9967 - val_loss: 0.0073 - val_accuracy: 0.9967\n",
      "Epoch 13/100\n",
      "719498/719498 [==============================] - 0s 1us/sample - loss: 0.0070 - accuracy: 0.9969 - val_loss: 0.0065 - val_accuracy: 0.9970\n",
      "Epoch 14/100\n",
      "719498/719498 [==============================] - 0s 1us/sample - loss: 0.0067 - accuracy: 0.9970 - val_loss: 0.0065 - val_accuracy: 0.9972\n",
      "Epoch 15/100\n",
      "719498/719498 [==============================] - 0s 1us/sample - loss: 0.0065 - accuracy: 0.9971 - val_loss: 0.0061 - val_accuracy: 0.9974\n",
      "Epoch 16/100\n",
      "719498/719498 [==============================] - 0s 1us/sample - loss: 0.0063 - accuracy: 0.9973 - val_loss: 0.0061 - val_accuracy: 0.9972\n",
      "Epoch 17/100\n",
      "719498/719498 [==============================] - 0s 1us/sample - loss: 0.0061 - accuracy: 0.9974 - val_loss: 0.0058 - val_accuracy: 0.9976\n",
      "Epoch 18/100\n",
      "719498/719498 [==============================] - 0s 1us/sample - loss: 0.0059 - accuracy: 0.9975 - val_loss: 0.0056 - val_accuracy: 0.9977\n",
      "Epoch 19/100\n",
      "719498/719498 [==============================] - 0s 1us/sample - loss: 0.0057 - accuracy: 0.9976 - val_loss: 0.0054 - val_accuracy: 0.9978\n",
      "Epoch 20/100\n",
      "719498/719498 [==============================] - 0s 1us/sample - loss: 0.0056 - accuracy: 0.9976 - val_loss: 0.0053 - val_accuracy: 0.9978\n",
      "Epoch 21/100\n",
      "719498/719498 [==============================] - 0s 1us/sample - loss: 0.0055 - accuracy: 0.9976 - val_loss: 0.0052 - val_accuracy: 0.9980\n",
      "Epoch 22/100\n",
      "719498/719498 [==============================] - 0s 1us/sample - loss: 0.0054 - accuracy: 0.9978 - val_loss: 0.0050 - val_accuracy: 0.9980\n",
      "Epoch 23/100\n",
      "719498/719498 [==============================] - 0s 1us/sample - loss: 0.0053 - accuracy: 0.9978 - val_loss: 0.0049 - val_accuracy: 0.9979\n",
      "Epoch 24/100\n",
      "719498/719498 [==============================] - 0s 1us/sample - loss: 0.0052 - accuracy: 0.9978 - val_loss: 0.0048 - val_accuracy: 0.9981\n",
      "Epoch 25/100\n",
      "719498/719498 [==============================] - 0s 1us/sample - loss: 0.0050 - accuracy: 0.9979 - val_loss: 0.0046 - val_accuracy: 0.9981\n",
      "Epoch 26/100\n",
      "719498/719498 [==============================] - 0s 1us/sample - loss: 0.0049 - accuracy: 0.9980 - val_loss: 0.0046 - val_accuracy: 0.9981\n",
      "Epoch 27/100\n",
      "719498/719498 [==============================] - 0s 1us/sample - loss: 0.0048 - accuracy: 0.9980 - val_loss: 0.0048 - val_accuracy: 0.9978\n",
      "Epoch 28/100\n",
      "719498/719498 [==============================] - 0s 1us/sample - loss: 0.0048 - accuracy: 0.9980 - val_loss: 0.0045 - val_accuracy: 0.9981\n",
      "Epoch 29/100\n",
      "719498/719498 [==============================] - 0s 1us/sample - loss: 0.0047 - accuracy: 0.9981 - val_loss: 0.0043 - val_accuracy: 0.9983\n",
      "Epoch 30/100\n",
      "719498/719498 [==============================] - 0s 1us/sample - loss: 0.0045 - accuracy: 0.9982 - val_loss: 0.0042 - val_accuracy: 0.9983\n",
      "Epoch 31/100\n",
      "719498/719498 [==============================] - 0s 1us/sample - loss: 0.0044 - accuracy: 0.9983 - val_loss: 0.0042 - val_accuracy: 0.9983\n",
      "Epoch 32/100\n",
      "719498/719498 [==============================] - 0s 1us/sample - loss: 0.0045 - accuracy: 0.9982 - val_loss: 0.0040 - val_accuracy: 0.9984\n",
      "Epoch 33/100\n",
      "719498/719498 [==============================] - 0s 1us/sample - loss: 0.0042 - accuracy: 0.9984 - val_loss: 0.0039 - val_accuracy: 0.9985\n",
      "Epoch 34/100\n",
      "719498/719498 [==============================] - 0s 1us/sample - loss: 0.0042 - accuracy: 0.9984 - val_loss: 0.0038 - val_accuracy: 0.9985\n",
      "Epoch 35/100\n",
      "719498/719498 [==============================] - 0s 1us/sample - loss: 0.0041 - accuracy: 0.9984 - val_loss: 0.0039 - val_accuracy: 0.9984\n",
      "Epoch 36/100\n",
      "719498/719498 [==============================] - 0s 1us/sample - loss: 0.0042 - accuracy: 0.9984 - val_loss: 0.0040 - val_accuracy: 0.9984\n",
      "Epoch 37/100\n",
      "719498/719498 [==============================] - 0s 1us/sample - loss: 0.0040 - accuracy: 0.9985 - val_loss: 0.0036 - val_accuracy: 0.9986\n",
      "Epoch 38/100\n",
      "719498/719498 [==============================] - 0s 1us/sample - loss: 0.0039 - accuracy: 0.9985 - val_loss: 0.0035 - val_accuracy: 0.9987\n",
      "Epoch 39/100\n",
      "719498/719498 [==============================] - 0s 1us/sample - loss: 0.0038 - accuracy: 0.9986 - val_loss: 0.0034 - val_accuracy: 0.9987\n",
      "Epoch 40/100\n",
      "719498/719498 [==============================] - 0s 1us/sample - loss: 0.0037 - accuracy: 0.9986 - val_loss: 0.0037 - val_accuracy: 0.9986\n",
      "Epoch 41/100\n",
      "719498/719498 [==============================] - 0s 1us/sample - loss: 0.0036 - accuracy: 0.9987 - val_loss: 0.0033 - val_accuracy: 0.9987\n",
      "Epoch 42/100\n",
      "719498/719498 [==============================] - 0s 1us/sample - loss: 0.0036 - accuracy: 0.9987 - val_loss: 0.0032 - val_accuracy: 0.9988\n",
      "Epoch 43/100\n",
      "719498/719498 [==============================] - 0s 1us/sample - loss: 0.0035 - accuracy: 0.9988 - val_loss: 0.0033 - val_accuracy: 0.9988\n",
      "Epoch 44/100\n",
      "719498/719498 [==============================] - 0s 1us/sample - loss: 0.0035 - accuracy: 0.9988 - val_loss: 0.0032 - val_accuracy: 0.9989\n",
      "Epoch 45/100\n",
      "719498/719498 [==============================] - 0s 1us/sample - loss: 0.0035 - accuracy: 0.9988 - val_loss: 0.0030 - val_accuracy: 0.9989\n",
      "Epoch 46/100\n",
      "719498/719498 [==============================] - 0s 1us/sample - loss: 0.0035 - accuracy: 0.9988 - val_loss: 0.0030 - val_accuracy: 0.9990\n",
      "Epoch 47/100\n",
      "719498/719498 [==============================] - 0s 1us/sample - loss: 0.0034 - accuracy: 0.9988 - val_loss: 0.0030 - val_accuracy: 0.9990\n",
      "Epoch 48/100\n",
      "719498/719498 [==============================] - 0s 1us/sample - loss: 0.0033 - accuracy: 0.9988 - val_loss: 0.0030 - val_accuracy: 0.9991\n",
      "Epoch 49/100\n",
      "719498/719498 [==============================] - 0s 1us/sample - loss: 0.0032 - accuracy: 0.9989 - val_loss: 0.0033 - val_accuracy: 0.9988\n",
      "Epoch 50/100\n",
      "719498/719498 [==============================] - 0s 1us/sample - loss: 0.0033 - accuracy: 0.9989 - val_loss: 0.0030 - val_accuracy: 0.9990\n",
      "Epoch 51/100\n",
      "719498/719498 [==============================] - 0s 1us/sample - loss: 0.0032 - accuracy: 0.9989 - val_loss: 0.0028 - val_accuracy: 0.9991\n",
      "Epoch 52/100\n",
      "719498/719498 [==============================] - 0s 1us/sample - loss: 0.0031 - accuracy: 0.9990 - val_loss: 0.0028 - val_accuracy: 0.9992\n",
      "Epoch 53/100\n",
      "719498/719498 [==============================] - 0s 1us/sample - loss: 0.0031 - accuracy: 0.9989 - val_loss: 0.0027 - val_accuracy: 0.9991\n",
      "Epoch 54/100\n",
      "719498/719498 [==============================] - 0s 1us/sample - loss: 0.0031 - accuracy: 0.9989 - val_loss: 0.0028 - val_accuracy: 0.9990\n",
      "Epoch 55/100\n",
      "719498/719498 [==============================] - 0s 1us/sample - loss: 0.0030 - accuracy: 0.9990 - val_loss: 0.0027 - val_accuracy: 0.9990\n",
      "Epoch 56/100\n",
      "719498/719498 [==============================] - 0s 1us/sample - loss: 0.0029 - accuracy: 0.9991 - val_loss: 0.0027 - val_accuracy: 0.9990\n",
      "Epoch 57/100\n",
      "719498/719498 [==============================] - 0s 1us/sample - loss: 0.0029 - accuracy: 0.9991 - val_loss: 0.0026 - val_accuracy: 0.9991\n",
      "Epoch 58/100\n",
      "719498/719498 [==============================] - 0s 1us/sample - loss: 0.0030 - accuracy: 0.9990 - val_loss: 0.0027 - val_accuracy: 0.9992\n",
      "Epoch 59/100\n",
      "719498/719498 [==============================] - 0s 1us/sample - loss: 0.0029 - accuracy: 0.9991 - val_loss: 0.0031 - val_accuracy: 0.9988\n",
      "Epoch 60/100\n",
      "719498/719498 [==============================] - 0s 1us/sample - loss: 0.0029 - accuracy: 0.9991 - val_loss: 0.0030 - val_accuracy: 0.9989\n",
      "Epoch 61/100\n",
      "719498/719498 [==============================] - 0s 1us/sample - loss: 0.0029 - accuracy: 0.9991 - val_loss: 0.0025 - val_accuracy: 0.9992\n",
      "Epoch 62/100\n",
      "719498/719498 [==============================] - 0s 1us/sample - loss: 0.0028 - accuracy: 0.9991 - val_loss: 0.0024 - val_accuracy: 0.9992\n",
      "Epoch 63/100\n",
      "719498/719498 [==============================] - 0s 1us/sample - loss: 0.0028 - accuracy: 0.9991 - val_loss: 0.0025 - val_accuracy: 0.9991\n",
      "Epoch 64/100\n",
      "719498/719498 [==============================] - 0s 1us/sample - loss: 0.0028 - accuracy: 0.9991 - val_loss: 0.0025 - val_accuracy: 0.9992\n",
      "Epoch 65/100\n",
      "719498/719498 [==============================] - 0s 1us/sample - loss: 0.0027 - accuracy: 0.9991 - val_loss: 0.0026 - val_accuracy: 0.9992\n",
      "Epoch 66/100\n",
      "719498/719498 [==============================] - 0s 1us/sample - loss: 0.0027 - accuracy: 0.9991 - val_loss: 0.0025 - val_accuracy: 0.9993\n",
      "Epoch 67/100\n",
      "719498/719498 [==============================] - 0s 1us/sample - loss: 0.0028 - accuracy: 0.9991 - val_loss: 0.0024 - val_accuracy: 0.9993\n",
      "Epoch 68/100\n",
      "719498/719498 [==============================] - 0s 1us/sample - loss: 0.0026 - accuracy: 0.9992 - val_loss: 0.0024 - val_accuracy: 0.9992\n",
      "Epoch 69/100\n",
      "719498/719498 [==============================] - 0s 1us/sample - loss: 0.0027 - accuracy: 0.9991 - val_loss: 0.0029 - val_accuracy: 0.9989\n",
      "Epoch 70/100\n",
      "719498/719498 [==============================] - 0s 1us/sample - loss: 0.0026 - accuracy: 0.9991 - val_loss: 0.0022 - val_accuracy: 0.9993\n",
      "Epoch 71/100\n",
      "719498/719498 [==============================] - 0s 1us/sample - loss: 0.0026 - accuracy: 0.9992 - val_loss: 0.0024 - val_accuracy: 0.9992\n",
      "Epoch 72/100\n",
      "719498/719498 [==============================] - 0s 1us/sample - loss: 0.0026 - accuracy: 0.9992 - val_loss: 0.0025 - val_accuracy: 0.9993\n",
      "Epoch 73/100\n",
      "719498/719498 [==============================] - 0s 1us/sample - loss: 0.0027 - accuracy: 0.9991 - val_loss: 0.0023 - val_accuracy: 0.9992\n",
      "Epoch 74/100\n",
      "719498/719498 [==============================] - 0s 1us/sample - loss: 0.0026 - accuracy: 0.9991 - val_loss: 0.0024 - val_accuracy: 0.9992\n",
      "Epoch 75/100\n",
      "719498/719498 [==============================] - 0s 1us/sample - loss: 0.0026 - accuracy: 0.9992 - val_loss: 0.0022 - val_accuracy: 0.9993\n",
      "Epoch 76/100\n",
      "719498/719498 [==============================] - 0s 1us/sample - loss: 0.0025 - accuracy: 0.9992 - val_loss: 0.0022 - val_accuracy: 0.9993\n",
      "Epoch 77/100\n",
      "719498/719498 [==============================] - 0s 1us/sample - loss: 0.0026 - accuracy: 0.9992 - val_loss: 0.0023 - val_accuracy: 0.9993\n",
      "Epoch 78/100\n",
      "719498/719498 [==============================] - 0s 1us/sample - loss: 0.0025 - accuracy: 0.9992 - val_loss: 0.0022 - val_accuracy: 0.9993\n",
      "Epoch 79/100\n",
      "719498/719498 [==============================] - 0s 1us/sample - loss: 0.0025 - accuracy: 0.9992 - val_loss: 0.0024 - val_accuracy: 0.9992\n",
      "Epoch 80/100\n",
      "719498/719498 [==============================] - 0s 1us/sample - loss: 0.0026 - accuracy: 0.9991 - val_loss: 0.0030 - val_accuracy: 0.9989\n",
      "Epoch 81/100\n",
      "719498/719498 [==============================] - 0s 1us/sample - loss: 0.0028 - accuracy: 0.9991 - val_loss: 0.0046 - val_accuracy: 0.9985\n"
     ]
    }
   ],
   "source": [
    "##MLP\n",
    "\n",
    "print(\"-----MLP-------\")\n",
    "\n",
    "mlp = Sequential()\n",
    "mlp.add(Input(shape = (4)))\n",
    "mlp.add(Dense(128, activation = 'relu'))\n",
    "mlp.add(Dense(128, activation = 'relu'))\n",
    "mlp.add(Dense(4))\n",
    "\n",
    "mlp.compile(optimizer='adam',\n",
    "                loss=SparseCategoricalCrossentropy(from_logits=True),\n",
    "                metrics=['accuracy'])\n",
    "\n",
    "es = EarlyStopping(monitor = 'val_loss', patience = 5, restore_best_weights = True)\n",
    "\n",
    "mlp_hist = mlp.fit(X_train, y_train, epochs=100, callbacks = [es], validation_split=0.2, batch_size = 8192)"
   ]
  },
  {
   "cell_type": "code",
   "execution_count": 26,
   "id": "22aba108",
   "metadata": {},
   "outputs": [
    {
     "data": {
      "image/png": "[encoded data removed]",
      "text/plain": [
       "<Figure size 432x288 with 1 Axes>"
      ]
     },
     "metadata": {
      "needs_background": "light"
     },
     "output_type": "display_data"
    }
   ],
   "source": [
    "plt.plot(mlp_hist.history['loss'], label = 'Loss')\n",
    "plt.plot(mlp_hist.history['val_loss'], label = 'Validation Loss')\n",
    "\n",
    "plt.title('MLP Loss curves')\n",
    "plt.legend(loc = 'best')\n",
    "plt.show()"
   ]
  },
  {
   "cell_type": "code",
   "execution_count": 27,
   "id": "ead95974",
   "metadata": {},
   "outputs": [
    {
     "name": "stdout",
     "output_type": "stream",
     "text": [
      "-----MLP-------\n",
      "ACCURACY:  0.999260596815118\n",
      "CLASSIFICATION REPORT:\n",
      "               precision    recall  f1-score   support\n",
      "\n",
      "         0.0       1.00      1.00      1.00    246183\n",
      "         1.0       1.00      1.00      1.00    139263\n",
      "\n",
      "    accuracy                           1.00    385446\n",
      "   macro avg       1.00      1.00      1.00    385446\n",
      "weighted avg       1.00      1.00      1.00    385446\n",
      "\n"
     ]
    }
   ],
   "source": [
    "##MLP\n",
    "print(\"-----MLP-------\")\n",
    "\n",
    "mlp_preds = mlp.predict(X_test, batch_size = 8196)\n",
    "mlp_preds = mlp_preds.argmax(axis = 1)\n",
    "\n",
    "print(\"ACCURACY: \", accuracy_score(y_test, mlp_preds))\n",
    "print(\"CLASSIFICATION REPORT:\\n\", classification_report(y_test, mlp_preds))"
   ]
  },
  {
   "cell_type": "code",
   "execution_count": 28,
   "id": "f7e7ceac",
   "metadata": {},
   "outputs": [
    {
     "name": "stdout",
     "output_type": "stream",
     "text": [
      "-----LSTM-------\n",
      "Train on 719493 samples, validate on 179874 samples\n",
      "Epoch 1/1000\n",
      "719493/719493 [==============================] - 9s 12us/sample - loss: 0.3077 - accuracy: 0.9417 - val_loss: 0.0798 - val_accuracy: 0.9863\n",
      "Epoch 2/1000\n",
      "719493/719493 [==============================] - 7s 9us/sample - loss: 0.0832 - accuracy: 0.9760 - val_loss: 0.0726 - val_accuracy: 0.9722\n",
      "Epoch 3/1000\n",
      "719493/719493 [==============================] - 7s 9us/sample - loss: 0.0493 - accuracy: 0.9867 - val_loss: 0.0225 - val_accuracy: 0.9926\n",
      "Epoch 4/1000\n",
      "719493/719493 [==============================] - 7s 9us/sample - loss: 0.0182 - accuracy: 0.9947 - val_loss: 0.0186 - val_accuracy: 0.9931\n",
      "Epoch 5/1000\n",
      "719493/719493 [==============================] - 7s 9us/sample - loss: 0.0120 - accuracy: 0.9961 - val_loss: 0.0103 - val_accuracy: 0.9962\n",
      "Epoch 6/1000\n",
      "719493/719493 [==============================] - 7s 9us/sample - loss: 0.0553 - accuracy: 0.9897 - val_loss: 0.1502 - val_accuracy: 0.9689\n",
      "Epoch 7/1000\n",
      "719493/719493 [==============================] - 7s 9us/sample - loss: 0.0763 - accuracy: 0.9794 - val_loss: 0.0358 - val_accuracy: 0.9955\n",
      "Epoch 8/1000\n",
      "719493/719493 [==============================] - 7s 9us/sample - loss: 0.0160 - accuracy: 0.9947 - val_loss: 0.0110 - val_accuracy: 0.9956\n",
      "Epoch 9/1000\n",
      "719493/719493 [==============================] - 7s 9us/sample - loss: 0.0212 - accuracy: 0.9939 - val_loss: 0.0180 - val_accuracy: 0.9951\n",
      "Epoch 10/1000\n",
      "719493/719493 [==============================] - 7s 9us/sample - loss: 0.0109 - accuracy: 0.9963 - val_loss: 0.0097 - val_accuracy: 0.9962\n",
      "Epoch 11/1000\n",
      "719493/719493 [==============================] - 7s 9us/sample - loss: 0.0085 - accuracy: 0.9971 - val_loss: 0.0083 - val_accuracy: 0.9974\n",
      "Epoch 12/1000\n",
      "719493/719493 [==============================] - 7s 9us/sample - loss: 0.0075 - accuracy: 0.9976 - val_loss: 0.0075 - val_accuracy: 0.9977\n",
      "Epoch 13/1000\n",
      "719493/719493 [==============================] - 7s 9us/sample - loss: 0.0070 - accuracy: 0.9978 - val_loss: 0.0098 - val_accuracy: 0.9965\n",
      "Epoch 14/1000\n",
      "719493/719493 [==============================] - 7s 9us/sample - loss: 0.0217 - accuracy: 0.9944 - val_loss: 0.0084 - val_accuracy: 0.9972\n",
      "Epoch 15/1000\n",
      "719493/719493 [==============================] - 7s 9us/sample - loss: 0.0071 - accuracy: 0.9978 - val_loss: 0.0068 - val_accuracy: 0.9982\n",
      "Epoch 16/1000\n",
      "719493/719493 [==============================] - 7s 9us/sample - loss: 0.0061 - accuracy: 0.9982 - val_loss: 0.0064 - val_accuracy: 0.9981\n",
      "Epoch 17/1000\n",
      "719493/719493 [==============================] - 7s 9us/sample - loss: 0.0056 - accuracy: 0.9983 - val_loss: 0.0056 - val_accuracy: 0.9983\n",
      "Epoch 18/1000\n",
      "719493/719493 [==============================] - 7s 9us/sample - loss: 0.0051 - accuracy: 0.9985 - val_loss: 0.0055 - val_accuracy: 0.9984\n",
      "Epoch 19/1000\n",
      "719493/719493 [==============================] - 7s 9us/sample - loss: 0.0048 - accuracy: 0.9986 - val_loss: 0.0050 - val_accuracy: 0.9985\n",
      "Epoch 20/1000\n",
      "719493/719493 [==============================] - 7s 9us/sample - loss: 0.0048 - accuracy: 0.9985 - val_loss: 0.0050 - val_accuracy: 0.9986\n",
      "Epoch 21/1000\n",
      "719493/719493 [==============================] - 7s 9us/sample - loss: 0.0045 - accuracy: 0.9987 - val_loss: 0.0049 - val_accuracy: 0.9986\n",
      "Epoch 22/1000\n",
      "719493/719493 [==============================] - 7s 9us/sample - loss: 0.0043 - accuracy: 0.9987 - val_loss: 0.0045 - val_accuracy: 0.9987\n",
      "Epoch 23/1000\n",
      "719493/719493 [==============================] - 7s 9us/sample - loss: 0.0041 - accuracy: 0.9987 - val_loss: 0.0042 - val_accuracy: 0.9988\n",
      "Epoch 24/1000\n",
      "719493/719493 [==============================] - 7s 9us/sample - loss: 0.0385 - accuracy: 0.9898 - val_loss: 0.0319 - val_accuracy: 0.9887\n",
      "Epoch 25/1000\n",
      "719493/719493 [==============================] - 7s 9us/sample - loss: 0.0157 - accuracy: 0.9953 - val_loss: 0.0099 - val_accuracy: 0.9971\n",
      "Epoch 26/1000\n",
      "719493/719493 [==============================] - 7s 9us/sample - loss: 0.0081 - accuracy: 0.9975 - val_loss: 0.0072 - val_accuracy: 0.9981\n",
      "Epoch 27/1000\n",
      "719493/719493 [==============================] - 7s 9us/sample - loss: 0.0065 - accuracy: 0.9982 - val_loss: 0.0062 - val_accuracy: 0.9984\n",
      "Epoch 28/1000\n",
      "719493/719493 [==============================] - 7s 9us/sample - loss: 0.0056 - accuracy: 0.9985 - val_loss: 0.0054 - val_accuracy: 0.9985\n"
     ]
    }
   ],
   "source": [
    "##LSTM\n",
    "\n",
    "print(\"-----LSTM-------\")\n",
    "\n",
    "lstm = Sequential()\n",
    "\n",
    "lstm.add(Input(shape = X_train_seq.shape[1:]))\n",
    "lstm.add(LSTM(128, activation = 'relu'))\n",
    "lstm.add(Dense(4, activation = 'softmax'))\n",
    "\n",
    "lstm.compile(\n",
    "    loss = SparseCategoricalCrossentropy(from_logits = False),\n",
    "    optimizer = Adam(learning_rate = 0.001),\n",
    "    metrics = ['accuracy'])\n",
    "\n",
    "lstm_hist = lstm.fit(X_train_seq, y_train_seq, batch_size = 8196, validation_split = 0.2,\n",
    "        callbacks = [es], epochs = 1000)"
   ]
  },
  {
   "cell_type": "code",
   "execution_count": 29,
   "id": "6bc05b99",
   "metadata": {},
   "outputs": [
    {
     "data": {
      "image/png": "[encoded data removed]",
      "text/plain": [
       "<Figure size 432x288 with 1 Axes>"
      ]
     },
     "metadata": {
      "needs_background": "light"
     },
     "output_type": "display_data"
    }
   ],
   "source": [
    "plt.plot(lstm_hist.history['loss'], label = 'Loss')\n",
    "plt.plot(lstm_hist.history['val_loss'], label = 'Validation Loss')\n",
    "\n",
    "plt.title('LSTM Loss curves')\n",
    "plt.legend(loc = 'best')\n",
    "plt.show()"
   ]
  },
  {
   "cell_type": "code",
   "execution_count": 30,
   "id": "fabe4ac7",
   "metadata": {},
   "outputs": [
    {
     "name": "stdout",
     "output_type": "stream",
     "text": [
      "-----LSTM-------\n",
      "ACCURACY:  0.9988169456962508\n",
      "CLASSIFICATION REPORT:\n",
      "               precision    recall  f1-score   support\n",
      "\n",
      "         0.0       1.00      1.00      1.00    243082\n",
      "         1.0       1.00      1.00      1.00    142361\n",
      "\n",
      "    accuracy                           1.00    385443\n",
      "   macro avg       1.00      1.00      1.00    385443\n",
      "weighted avg       1.00      1.00      1.00    385443\n",
      "\n"
     ]
    }
   ],
   "source": [
    "print(\"-----LSTM-------\")\n",
    "\n",
    "lstm_preds = lstm.predict(X_test_seq, batch_size=4096)\n",
    "lstm_preds = lstm_preds.argmax(axis = 1)\n",
    "\n",
    "print(\"ACCURACY: \", accuracy_score(y_test_seq, lstm_preds))\n",
    "print(\"CLASSIFICATION REPORT:\\n\", classification_report(y_test_seq, lstm_preds))"
   ]
  },
  {
   "cell_type": "code",
   "execution_count": 33,
   "id": "58bb8345",
   "metadata": {},
   "outputs": [
    {
     "name": "stdout",
     "output_type": "stream",
     "text": [
      "-------XGBOOST-------\n",
      "ACCURACY:  0.9999688157792157\n",
      "CLASSIFICATION REPORT:\n",
      "               precision    recall  f1-score   support\n",
      "\n",
      "         0.0       1.00      1.00      1.00    245671\n",
      "         1.0       1.00      1.00      1.00    139139\n",
      "\n",
      "    accuracy                           1.00    384810\n",
      "   macro avg       1.00      1.00      1.00    384810\n",
      "weighted avg       1.00      1.00      1.00    384810\n",
      "\n",
      "-------DECISION TREE--------\n",
      "ACCURACY:  0.9956446038304618\n",
      "CLASSIFICATION REPORT:\n",
      "               precision    recall  f1-score   support\n",
      "\n",
      "         0.0       0.99      1.00      1.00    245671\n",
      "         1.0       1.00      0.99      0.99    139139\n",
      "\n",
      "    accuracy                           1.00    384810\n",
      "   macro avg       1.00      0.99      1.00    384810\n",
      "weighted avg       1.00      1.00      1.00    384810\n",
      "\n",
      "-------RANDOM FOREST-------\n",
      "ACCURACY:  0.9985603284737923\n",
      "CLASSIFICATION REPORT:\n",
      "               precision    recall  f1-score   support\n",
      "\n",
      "         0.0       1.00      1.00      1.00    245671\n",
      "         1.0       1.00      1.00      1.00    139139\n",
      "\n",
      "    accuracy                           1.00    384810\n",
      "   macro avg       1.00      1.00      1.00    384810\n",
      "weighted avg       1.00      1.00      1.00    384810\n",
      "\n"
     ]
    }
   ],
   "source": [
    "## XGBOOST\n",
    "\n",
    "xgb = XGBClassifier()\n",
    "xgb.fit(X_train, y_train)\n",
    "xgb_preds = xgb.predict(X_test)\n",
    "\n",
    "print(\"-------XGBOOST-------\")\n",
    "print(\"ACCURACY: \", accuracy_score(y_test, xgb_preds))\n",
    "print(\"CLASSIFICATION REPORT:\\n\", classification_report(y_test, xgb_preds))\n",
    "\n",
    "\n",
    "## DECISION TREE\n",
    "\n",
    "dt = DecisionTreeClassifier(max_depth = 4)\n",
    "dt.fit(X_train, y_train)\n",
    "dt_preds = dt.predict(X_test)\n",
    "\n",
    "print(\"-------DECISION TREE--------\")\n",
    "print(\"ACCURACY: \", accuracy_score(y_test, dt_preds))\n",
    "print(\"CLASSIFICATION REPORT:\\n\", classification_report(y_test, dt_preds))\n",
    "\n",
    "\n",
    "## RANDOM FOREST\n",
    "\n",
    "rf = RandomForestClassifier(n_estimators=100, max_depth=4)\n",
    "rf.fit(X_train, y_train)\n",
    "rf_preds = rf.predict(X_test)\n",
    "\n",
    "print(\"-------RANDOM FOREST-------\")\n",
    "print(\"ACCURACY: \", accuracy_score(y_test, rf_preds))\n",
    "print(\"CLASSIFICATION REPORT:\\n\", classification_report(y_test, rf_preds))"
   ]
  },
  {
   "cell_type": "code",
   "execution_count": null,
   "id": "a4d012fe",
   "metadata": {},
   "outputs": [],
   "source": []
  }
 ],
 "metadata": {
  "kernelspec": {
   "display_name": "Python 3 (ipykernel)",
   "language": "python",
   "name": "python3"
  },
  "language_info": {
   "codemirror_mode": {
    "name": "ipython",
    "version": 3
   },
   "file_extension": ".py",
   "mimetype": "text/x-python",
   "name": "python",
   "nbconvert_exporter": "python",
   "pygments_lexer": "ipython3",
   "version": "3.9.16"
  }
 },
 "nbformat": 4,
 "nbformat_minor": 5
}
