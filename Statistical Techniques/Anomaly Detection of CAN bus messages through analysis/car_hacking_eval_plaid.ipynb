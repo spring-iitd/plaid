{
 "cells": [
  {
   "cell_type": "code",
   "execution_count": 1,
   "metadata": {},
   "outputs": [],
   "source": [
    "import numpy as np\n",
    "import pandas as pd\n",
    "import matplotlib.pyplot as plt\n",
    "import seaborn as sns\n",
    "import os\n",
    "from sklearn.model_selection import train_test_split\n",
    "from tqdm import tqdm\n",
    "import time\n",
    "import copy\n",
    "from sklearn.metrics import accuracy_score, f1_score\n",
    "from sklearn.metrics import classification_report\n",
    "from sklearn.metrics import confusion_matrix\n",
    "import seaborn as sns"
   ]
  },
  {
   "cell_type": "code",
   "execution_count": 2,
   "metadata": {},
   "outputs": [],
   "source": [
    "normal_data_path = 'Adversarial_traffic_None.csv'\n",
    "attack_data_path = 'Adversarial_traffic_Both.csv'"
   ]
  },
  {
   "cell_type": "code",
   "execution_count": 3,
   "metadata": {},
   "outputs": [],
   "source": [
    "benign_data = pd.read_csv(normal_data_path)"
   ]
  },
  {
   "cell_type": "code",
   "execution_count": 4,
   "metadata": {},
   "outputs": [
    {
     "data": {
      "application/vnd.microsoft.datawrangler.viewer.v0+json": {
       "columns": [
        {
         "name": "index",
         "rawType": "int64",
         "type": "integer"
        },
        {
         "name": "Timestamp",
         "rawType": "float64",
         "type": "float"
        },
        {
         "name": "ID",
         "rawType": "object",
         "type": "string"
        },
        {
         "name": "DLC",
         "rawType": "int64",
         "type": "integer"
        },
        {
         "name": "Data1",
         "rawType": "object",
         "type": "string"
        },
        {
         "name": "Data2",
         "rawType": "object",
         "type": "string"
        },
        {
         "name": "Data3",
         "rawType": "object",
         "type": "string"
        },
        {
         "name": "Data4",
         "rawType": "object",
         "type": "string"
        },
        {
         "name": "Data5",
         "rawType": "object",
         "type": "string"
        },
        {
         "name": "Data6",
         "rawType": "object",
         "type": "string"
        },
        {
         "name": "Data7",
         "rawType": "object",
         "type": "string"
        },
        {
         "name": "Data8",
         "rawType": "object",
         "type": "string"
        },
        {
         "name": "Label",
         "rawType": "int64",
         "type": "integer"
        }
       ],
       "conversionMethod": "pd.DataFrame",
       "ref": "fd1d993a-823c-4abe-9402-0e06cc3fba3b",
       "rows": [
        [
         "0",
         "0.0",
         "000",
         "8",
         "00",
         "00",
         "00",
         "00",
         "00",
         "00",
         "00",
         "00",
         "1"
        ],
        [
         "1",
         "0.00546",
         "000",
         "8",
         "00",
         "00",
         "00",
         "00",
         "00",
         "00",
         "00",
         "00",
         "1"
        ],
        [
         "2",
         "0.011176",
         "140",
         "8",
         "00",
         "00",
         "00",
         "00",
         "1c",
         "07",
         "26",
         "28",
         "0"
        ],
        [
         "3",
         "0.016722",
         "000",
         "8",
         "00",
         "00",
         "00",
         "00",
         "00",
         "00",
         "00",
         "00",
         "1"
        ],
        [
         "4",
         "0.01696",
         "316",
         "8",
         "05",
         "21",
         "74",
         "09",
         "21",
         "20",
         "00",
         "6f",
         "0"
        ]
       ],
       "shape": {
        "columns": 12,
        "rows": 5
       }
      },
      "text/html": [
       "<div>\n",
       "<style scoped>\n",
       "    .dataframe tbody tr th:only-of-type {\n",
       "        vertical-align: middle;\n",
       "    }\n",
       "\n",
       "    .dataframe tbody tr th {\n",
       "        vertical-align: top;\n",
       "    }\n",
       "\n",
       "    .dataframe thead th {\n",
       "        text-align: right;\n",
       "    }\n",
       "</style>\n",
       "<table border=\"1\" class=\"dataframe\">\n",
       "  <thead>\n",
       "    <tr style=\"text-align: right;\">\n",
       "      <th></th>\n",
       "      <th>Timestamp</th>\n",
       "      <th>ID</th>\n",
       "      <th>DLC</th>\n",
       "      <th>Data1</th>\n",
       "      <th>Data2</th>\n",
       "      <th>Data3</th>\n",
       "      <th>Data4</th>\n",
       "      <th>Data5</th>\n",
       "      <th>Data6</th>\n",
       "      <th>Data7</th>\n",
       "      <th>Data8</th>\n",
       "      <th>Label</th>\n",
       "    </tr>\n",
       "  </thead>\n",
       "  <tbody>\n",
       "    <tr>\n",
       "      <th>0</th>\n",
       "      <td>0.000000</td>\n",
       "      <td>000</td>\n",
       "      <td>8</td>\n",
       "      <td>00</td>\n",
       "      <td>00</td>\n",
       "      <td>00</td>\n",
       "      <td>00</td>\n",
       "      <td>00</td>\n",
       "      <td>00</td>\n",
       "      <td>00</td>\n",
       "      <td>00</td>\n",
       "      <td>1</td>\n",
       "    </tr>\n",
       "    <tr>\n",
       "      <th>1</th>\n",
       "      <td>0.005460</td>\n",
       "      <td>000</td>\n",
       "      <td>8</td>\n",
       "      <td>00</td>\n",
       "      <td>00</td>\n",
       "      <td>00</td>\n",
       "      <td>00</td>\n",
       "      <td>00</td>\n",
       "      <td>00</td>\n",
       "      <td>00</td>\n",
       "      <td>00</td>\n",
       "      <td>1</td>\n",
       "    </tr>\n",
       "    <tr>\n",
       "      <th>2</th>\n",
       "      <td>0.011176</td>\n",
       "      <td>140</td>\n",
       "      <td>8</td>\n",
       "      <td>00</td>\n",
       "      <td>00</td>\n",
       "      <td>00</td>\n",
       "      <td>00</td>\n",
       "      <td>1c</td>\n",
       "      <td>07</td>\n",
       "      <td>26</td>\n",
       "      <td>28</td>\n",
       "      <td>0</td>\n",
       "    </tr>\n",
       "    <tr>\n",
       "      <th>3</th>\n",
       "      <td>0.016722</td>\n",
       "      <td>000</td>\n",
       "      <td>8</td>\n",
       "      <td>00</td>\n",
       "      <td>00</td>\n",
       "      <td>00</td>\n",
       "      <td>00</td>\n",
       "      <td>00</td>\n",
       "      <td>00</td>\n",
       "      <td>00</td>\n",
       "      <td>00</td>\n",
       "      <td>1</td>\n",
       "    </tr>\n",
       "    <tr>\n",
       "      <th>4</th>\n",
       "      <td>0.016960</td>\n",
       "      <td>316</td>\n",
       "      <td>8</td>\n",
       "      <td>05</td>\n",
       "      <td>21</td>\n",
       "      <td>74</td>\n",
       "      <td>09</td>\n",
       "      <td>21</td>\n",
       "      <td>20</td>\n",
       "      <td>00</td>\n",
       "      <td>6f</td>\n",
       "      <td>0</td>\n",
       "    </tr>\n",
       "  </tbody>\n",
       "</table>\n",
       "</div>"
      ],
      "text/plain": [
       "   Timestamp   ID  DLC Data1 Data2 Data3 Data4 Data5 Data6 Data7 Data8  Label\n",
       "0   0.000000  000    8    00    00    00    00    00    00    00    00      1\n",
       "1   0.005460  000    8    00    00    00    00    00    00    00    00      1\n",
       "2   0.011176  140    8    00    00    00    00    1c    07    26    28      0\n",
       "3   0.016722  000    8    00    00    00    00    00    00    00    00      1\n",
       "4   0.016960  316    8    05    21    74    09    21    20    00    6f      0"
      ]
     },
     "execution_count": 4,
     "metadata": {},
     "output_type": "execute_result"
    }
   ],
   "source": [
    "benign_data.rename(columns={\"TS\" : \"Timestamp\"}, inplace=True)\n",
    "benign_data.head()"
   ]
  },
  {
   "cell_type": "code",
   "execution_count": 5,
   "metadata": {},
   "outputs": [],
   "source": [
    "def data_len(df):\n",
    "    if 'Timestamp' in df.columns:\n",
    "        # Ensure the Timestamp column is sorted\n",
    "        df = df.sort_values(by='Timestamp')\n",
    "        \n",
    "        # Compute time difference\n",
    "        time_diff = df['Timestamp'].iloc[-1] - df['Timestamp'].iloc[0]\n",
    "        \n",
    "        # Convert to HH:MM:SS:Milliseconds format\n",
    "        hours, remainder = divmod(time_diff, 3600)\n",
    "        minutes, remainder = divmod(remainder, 60)\n",
    "        seconds, milliseconds = divmod(remainder, 1)\n",
    "        \n",
    "        time_str = f\"{int(hours):02}:{int(minutes):02}:{int(seconds):02}:{int(milliseconds * 1000):03}\"\n",
    "        \n",
    "        return time_str\n",
    "    else:\n",
    "        return \"Timestamp column not found in dataframe\""
   ]
  },
  {
   "cell_type": "code",
   "execution_count": 6,
   "metadata": {},
   "outputs": [],
   "source": [
    "attack_data = pd.read_csv(attack_data_path)\n",
    "attack_data['Label'].replace({2:1, 3:1}, inplace=True)"
   ]
  },
  {
   "cell_type": "code",
   "execution_count": null,
   "metadata": {},
   "outputs": [
    {
     "data": {
      "application/vnd.microsoft.datawrangler.viewer.v0+json": {
       "columns": [
        {
         "name": "index",
         "rawType": "int64",
         "type": "integer"
        },
        {
         "name": "Timestamp",
         "rawType": "float64",
         "type": "float"
        },
        {
         "name": "ID",
         "rawType": "object",
         "type": "string"
        },
        {
         "name": "DLC",
         "rawType": "int64",
         "type": "integer"
        },
        {
         "name": "Payload",
         "rawType": "object",
         "type": "string"
        },
        {
         "name": "label",
         "rawType": "int64",
         "type": "integer"
        }
       ],
       "conversionMethod": "pd.DataFrame",
       "ref": "a4530f02-fa25-4cc2-9076-1b2150da65d7",
       "rows": [
        [
         "0",
         "0.0",
         "2fb",
         "8",
         "de3de7fc77d18619",
         "1"
        ],
        [
         "1",
         "0.005492",
         "643",
         "8",
         "de5f417c9b4d34db",
         "1"
        ],
        [
         "2",
         "0.01124",
         "140",
         "8",
         "000000001c072628",
         "0"
        ],
        [
         "3",
         "0.016786",
         "6df",
         "8",
         "05b06567dfdff49d",
         "1"
        ],
        [
         "4",
         "0.017052",
         "316",
         "8",
         "052174092120006f",
         "0"
        ]
       ],
       "shape": {
        "columns": 5,
        "rows": 5
       }
      },
      "text/html": [
       "<div>\n",
       "<style scoped>\n",
       "    .dataframe tbody tr th:only-of-type {\n",
       "        vertical-align: middle;\n",
       "    }\n",
       "\n",
       "    .dataframe tbody tr th {\n",
       "        vertical-align: top;\n",
       "    }\n",
       "\n",
       "    .dataframe thead th {\n",
       "        text-align: right;\n",
       "    }\n",
       "</style>\n",
       "<table border=\"1\" class=\"dataframe\">\n",
       "  <thead>\n",
       "    <tr style=\"text-align: right;\">\n",
       "      <th></th>\n",
       "      <th>Timestamp</th>\n",
       "      <th>ID</th>\n",
       "      <th>DLC</th>\n",
       "      <th>Payload</th>\n",
       "      <th>label</th>\n",
       "    </tr>\n",
       "  </thead>\n",
       "  <tbody>\n",
       "    <tr>\n",
       "      <th>0</th>\n",
       "      <td>0.000000</td>\n",
       "      <td>2fb</td>\n",
       "      <td>8</td>\n",
       "      <td>de3de7fc77d18619</td>\n",
       "      <td>1</td>\n",
       "    </tr>\n",
       "    <tr>\n",
       "      <th>1</th>\n",
       "      <td>0.005492</td>\n",
       "      <td>643</td>\n",
       "      <td>8</td>\n",
       "      <td>de5f417c9b4d34db</td>\n",
       "      <td>1</td>\n",
       "    </tr>\n",
       "    <tr>\n",
       "      <th>2</th>\n",
       "      <td>0.011240</td>\n",
       "      <td>140</td>\n",
       "      <td>8</td>\n",
       "      <td>000000001c072628</td>\n",
       "      <td>0</td>\n",
       "    </tr>\n",
       "    <tr>\n",
       "      <th>3</th>\n",
       "      <td>0.016786</td>\n",
       "      <td>6df</td>\n",
       "      <td>8</td>\n",
       "      <td>05b06567dfdff49d</td>\n",
       "      <td>1</td>\n",
       "    </tr>\n",
       "    <tr>\n",
       "      <th>4</th>\n",
       "      <td>0.017052</td>\n",
       "      <td>316</td>\n",
       "      <td>8</td>\n",
       "      <td>052174092120006f</td>\n",
       "      <td>0</td>\n",
       "    </tr>\n",
       "  </tbody>\n",
       "</table>\n",
       "</div>"
      ],
      "text/plain": [
       "   Timestamp   ID  DLC           Payload  label\n",
       "0   0.000000  2fb    8  de3de7fc77d18619      1\n",
       "1   0.005492  643    8  de5f417c9b4d34db      1\n",
       "2   0.011240  140    8  000000001c072628      0\n",
       "3   0.016786  6df    8  05b06567dfdff49d      1\n",
       "4   0.017052  316    8  052174092120006f      0"
      ]
     },
     "execution_count": 7,
     "metadata": {},
     "output_type": "execute_result"
    }
   ],
   "source": [
    "def construct_payload(row):\n",
    "    dlc = int(row[\"DLC\"])  # Number of valid data columns\n",
    "    data_values = [row[f\"Data{i}\"] for i in range(1, dlc + 1) if f\"Data{i}\" in row]\n",
    "    return \"\".join(map(str, data_values))\n",
    "\n",
    "benign_data[\"Payload\"] = benign_data.apply(construct_payload, axis=1)\n",
    "attack_data[\"Payload\"] = attack_data.apply(construct_payload, axis=1)\n",
    "# Keep only the required columns\n",
    "benign_data = benign_data[[\"Timestamp\", \"ID\", \"DLC\", \"Payload\", \"Label\"]]\n",
    "attack_data = attack_data[[\"TS\", \"ID\", \"DLC\", \"Payload\", \"Label\"]]\n",
    "## Rename the columns to Timestamp, ID, DLC, Data, and Label\n",
    "attack_data.columns = [\"Timestamp\", \"ID\", \"DLC\", \"Payload\", \"label\"]\n",
    "\n",
    "# Save the transformed data\n",
    "# data.to_csv(\"transformed_file.csv\", index=False)\n",
    "\n",
    "# Display the transformed DataFrame\n",
    "\n",
    "attack_data.head()"
   ]
  },
  {
   "cell_type": "code",
   "execution_count": 8,
   "metadata": {},
   "outputs": [
    {
     "data": {
      "application/vnd.microsoft.datawrangler.viewer.v0+json": {
       "columns": [
        {
         "name": "index",
         "rawType": "int64",
         "type": "integer"
        },
        {
         "name": "Timestamp",
         "rawType": "float64",
         "type": "float"
        },
        {
         "name": "ID",
         "rawType": "object",
         "type": "string"
        },
        {
         "name": "DLC",
         "rawType": "int64",
         "type": "integer"
        },
        {
         "name": "Payload",
         "rawType": "object",
         "type": "string"
        },
        {
         "name": "Label",
         "rawType": "int64",
         "type": "integer"
        }
       ],
       "conversionMethod": "pd.DataFrame",
       "ref": "75fecf17-ffe9-481d-b1ef-062f49804369",
       "rows": [
        [
         "0",
         "0.0",
         "000",
         "8",
         "0000000000000000",
         "1"
        ],
        [
         "1",
         "0.00546",
         "000",
         "8",
         "0000000000000000",
         "1"
        ],
        [
         "2",
         "0.011176",
         "140",
         "8",
         "000000001c072628",
         "0"
        ],
        [
         "3",
         "0.016722",
         "000",
         "8",
         "0000000000000000",
         "1"
        ],
        [
         "4",
         "0.01696",
         "316",
         "8",
         "052174092120006f",
         "0"
        ],
        [
         "5",
         "0.022128",
         "000",
         "8",
         "0000000000000000",
         "1"
        ],
        [
         "6",
         "0.027804",
         "000",
         "8",
         "0000000000000000",
         "1"
        ],
        [
         "7",
         "0.030108",
         "000",
         "8",
         "0000000000000000",
         "1"
        ],
        [
         "8",
         "0.03036",
         "440",
         "8",
         "ff000000ffd40800",
         "0"
        ],
        [
         "9",
         "0.030606",
         "000",
         "8",
         "0000000000000000",
         "1"
        ],
        [
         "10",
         "0.036324",
         "329",
         "8",
         "40be7f1411200014",
         "0"
        ],
        [
         "11",
         "0.04179",
         "131",
         "8",
         "ee7f0000427f0a8b",
         "0"
        ],
        [
         "12",
         "0.042038",
         "000",
         "8",
         "0000000000000000",
         "1"
        ],
        [
         "13",
         "0.04229",
         "140",
         "8",
         "0000000024002a69",
         "0"
        ],
        [
         "14",
         "0.042538",
         "000",
         "8",
         "0000000000000000",
         "1"
        ],
        [
         "15",
         "0.048258",
         "000",
         "8",
         "0000000000000000",
         "1"
        ],
        [
         "16",
         "0.053956",
         "430",
         "8",
         "0000000000000000",
         "0"
        ],
        [
         "17",
         "0.059396",
         "1f1",
         "8",
         "0800000000000000",
         "0"
        ],
        [
         "18",
         "0.059644",
         "000",
         "8",
         "0000000000000000",
         "1"
        ],
        [
         "19",
         "0.059896",
         "153",
         "8",
         "002110ff00ff0000",
         "0"
        ],
        [
         "20",
         "0.06014",
         "000",
         "8",
         "0000000000000000",
         "1"
        ],
        [
         "21",
         "0.060394",
         "002",
         "8",
         "0000000000090c80",
         "0"
        ],
        [
         "22",
         "0.06064",
         "130",
         "8",
         "0a8000ff29800c82",
         "0"
        ],
        [
         "23",
         "0.066352",
         "000",
         "8",
         "0000000000000000",
         "1"
        ],
        [
         "24",
         "0.072056",
         "690",
         "8",
         "00000000a0220000",
         "0"
        ],
        [
         "25",
         "0.077392",
         "000",
         "8",
         "0000000000000000",
         "1"
        ],
        [
         "26",
         "0.083092",
         "350",
         "8",
         "0520d468780000e1",
         "0"
        ],
        [
         "27",
         "0.083114",
         "000",
         "8",
         "0000000000000000",
         "1"
        ],
        [
         "28",
         "0.093832",
         "000",
         "8",
         "0000000000000000",
         "1"
        ],
        [
         "29",
         "0.09926",
         "000",
         "8",
         "0000000000000000",
         "1"
        ],
        [
         "30",
         "0.09951",
         "545",
         "8",
         "d800008900000000",
         "0"
        ],
        [
         "31",
         "0.104896",
         "370",
         "8",
         "0020000000000000",
         "0"
        ],
        [
         "32",
         "0.105144",
         "000",
         "8",
         "0000000000000000",
         "1"
        ],
        [
         "33",
         "0.105406",
         "430",
         "8",
         "0000000000000000",
         "0"
        ],
        [
         "34",
         "0.105652",
         "000",
         "8",
         "0000000000000000",
         "1"
        ],
        [
         "35",
         "0.1059",
         "43f",
         "8",
         "004060ff7ed50800",
         "0"
        ],
        [
         "36",
         "0.106146",
         "000",
         "8",
         "0000000000000000",
         "1"
        ],
        [
         "37",
         "0.1064",
         "440",
         "8",
         "ff000000ffd50800",
         "0"
        ],
        [
         "38",
         "0.112092",
         "000",
         "8",
         "0000000000000000",
         "1"
        ],
        [
         "39",
         "0.112092",
         "260",
         "8",
         "19212130088e6a0b",
         "0"
        ],
        [
         "40",
         "0.11234",
         "000",
         "8",
         "0000000000000000",
         "1"
        ],
        [
         "41",
         "0.112582",
         "2a0",
         "8",
         "04009a1d9702bd00",
         "0"
        ],
        [
         "42",
         "0.11283",
         "000",
         "8",
         "0000000000000000",
         "1"
        ],
        [
         "43",
         "0.11332",
         "000",
         "8",
         "0000000000000000",
         "1"
        ],
        [
         "44",
         "0.113578",
         "370",
         "8",
         "0020000000000000",
         "0"
        ],
        [
         "45",
         "0.113826",
         "000",
         "8",
         "0000000000000000",
         "1"
        ],
        [
         "46",
         "0.114088",
         "430",
         "8",
         "0000000000000000",
         "0"
        ],
        [
         "47",
         "0.114334",
         "000",
         "8",
         "0000000000000000",
         "1"
        ],
        [
         "48",
         "0.114582",
         "43f",
         "8",
         "004060ff7ed30800",
         "0"
        ],
        [
         "49",
         "0.120042",
         "545",
         "8",
         "d800008900000000",
         "0"
        ]
       ],
       "shape": {
        "columns": 5,
        "rows": 72759
       }
      },
      "text/html": [
       "<div>\n",
       "<style scoped>\n",
       "    .dataframe tbody tr th:only-of-type {\n",
       "        vertical-align: middle;\n",
       "    }\n",
       "\n",
       "    .dataframe tbody tr th {\n",
       "        vertical-align: top;\n",
       "    }\n",
       "\n",
       "    .dataframe thead th {\n",
       "        text-align: right;\n",
       "    }\n",
       "</style>\n",
       "<table border=\"1\" class=\"dataframe\">\n",
       "  <thead>\n",
       "    <tr style=\"text-align: right;\">\n",
       "      <th></th>\n",
       "      <th>Timestamp</th>\n",
       "      <th>ID</th>\n",
       "      <th>DLC</th>\n",
       "      <th>Payload</th>\n",
       "      <th>Label</th>\n",
       "    </tr>\n",
       "  </thead>\n",
       "  <tbody>\n",
       "    <tr>\n",
       "      <th>0</th>\n",
       "      <td>0.000000</td>\n",
       "      <td>000</td>\n",
       "      <td>8</td>\n",
       "      <td>0000000000000000</td>\n",
       "      <td>1</td>\n",
       "    </tr>\n",
       "    <tr>\n",
       "      <th>1</th>\n",
       "      <td>0.005460</td>\n",
       "      <td>000</td>\n",
       "      <td>8</td>\n",
       "      <td>0000000000000000</td>\n",
       "      <td>1</td>\n",
       "    </tr>\n",
       "    <tr>\n",
       "      <th>2</th>\n",
       "      <td>0.011176</td>\n",
       "      <td>140</td>\n",
       "      <td>8</td>\n",
       "      <td>000000001c072628</td>\n",
       "      <td>0</td>\n",
       "    </tr>\n",
       "    <tr>\n",
       "      <th>3</th>\n",
       "      <td>0.016722</td>\n",
       "      <td>000</td>\n",
       "      <td>8</td>\n",
       "      <td>0000000000000000</td>\n",
       "      <td>1</td>\n",
       "    </tr>\n",
       "    <tr>\n",
       "      <th>4</th>\n",
       "      <td>0.016960</td>\n",
       "      <td>316</td>\n",
       "      <td>8</td>\n",
       "      <td>052174092120006f</td>\n",
       "      <td>0</td>\n",
       "    </tr>\n",
       "    <tr>\n",
       "      <th>...</th>\n",
       "      <td>...</td>\n",
       "      <td>...</td>\n",
       "      <td>...</td>\n",
       "      <td>...</td>\n",
       "      <td>...</td>\n",
       "    </tr>\n",
       "    <tr>\n",
       "      <th>72754</th>\n",
       "      <td>68.506834</td>\n",
       "      <td>18f</td>\n",
       "      <td>8</td>\n",
       "      <td>fe58000000410000</td>\n",
       "      <td>0</td>\n",
       "    </tr>\n",
       "    <tr>\n",
       "      <th>72755</th>\n",
       "      <td>68.507064</td>\n",
       "      <td>260</td>\n",
       "      <td>8</td>\n",
       "      <td>1a222230088f6d04</td>\n",
       "      <td>0</td>\n",
       "    </tr>\n",
       "    <tr>\n",
       "      <th>72756</th>\n",
       "      <td>68.507300</td>\n",
       "      <td>2a0</td>\n",
       "      <td>8</td>\n",
       "      <td>04009a1d9702bd00</td>\n",
       "      <td>0</td>\n",
       "    </tr>\n",
       "    <tr>\n",
       "      <th>72757</th>\n",
       "      <td>68.507536</td>\n",
       "      <td>329</td>\n",
       "      <td>8</td>\n",
       "      <td>40b67f1411200014</td>\n",
       "      <td>0</td>\n",
       "    </tr>\n",
       "    <tr>\n",
       "      <th>72758</th>\n",
       "      <td>68.507782</td>\n",
       "      <td>545</td>\n",
       "      <td>8</td>\n",
       "      <td>d800008900000000</td>\n",
       "      <td>0</td>\n",
       "    </tr>\n",
       "  </tbody>\n",
       "</table>\n",
       "<p>72759 rows × 5 columns</p>\n",
       "</div>"
      ],
      "text/plain": [
       "       Timestamp   ID  DLC           Payload  Label\n",
       "0       0.000000  000    8  0000000000000000      1\n",
       "1       0.005460  000    8  0000000000000000      1\n",
       "2       0.011176  140    8  000000001c072628      0\n",
       "3       0.016722  000    8  0000000000000000      1\n",
       "4       0.016960  316    8  052174092120006f      0\n",
       "...          ...  ...  ...               ...    ...\n",
       "72754  68.506834  18f    8  fe58000000410000      0\n",
       "72755  68.507064  260    8  1a222230088f6d04      0\n",
       "72756  68.507300  2a0    8  04009a1d9702bd00      0\n",
       "72757  68.507536  329    8  40b67f1411200014      0\n",
       "72758  68.507782  545    8  d800008900000000      0\n",
       "\n",
       "[72759 rows x 5 columns]"
      ]
     },
     "execution_count": 8,
     "metadata": {},
     "output_type": "execute_result"
    }
   ],
   "source": [
    "benign_data"
   ]
  },
  {
   "cell_type": "code",
   "execution_count": 9,
   "metadata": {},
   "outputs": [
    {
     "name": "stdout",
     "output_type": "stream",
     "text": [
      " Length of benign data: 00:01:08:507\n",
      " Length of attack data: 00:01:06:877\n"
     ]
    }
   ],
   "source": [
    "print(f\" Length of benign data: {data_len(benign_data)}\")\n",
    "print(f\" Length of attack data: {data_len(attack_data)}\")"
   ]
  },
  {
   "cell_type": "code",
   "execution_count": 10,
   "metadata": {},
   "outputs": [],
   "source": [
    "hex_to_dec = lambda x: int(str(x), 16) if isinstance(x, str) else x\n",
    "\n",
    "def transform_data(data):\n",
    "\n",
    "    data['ID'] = data['ID'].apply(hex_to_dec)\n",
    "    data['Payload'] = data['Payload'].apply(hex_to_dec)\n",
    "\n",
    "    return data\n",
    "\n",
    "# Function to handle conversion\n",
    "def convert_hex_column(column):\n",
    "    def convert_value(value):\n",
    "        try:\n",
    "            # Try to convert using hex_to_dec\n",
    "            return hex_to_dec(value)\n",
    "        except ValueError:\n",
    "            # If ValueError occurs, it means the value is in scientific notation\n",
    "            return int(float(value))\n",
    "    \n",
    "    return column.apply(convert_value)\n",
    "\n",
    "\n",
    "benign_data = transform_data(benign_data)\n",
    "attack_data = transform_data(attack_data)"
   ]
  },
  {
   "cell_type": "code",
   "execution_count": 11,
   "metadata": {},
   "outputs": [
    {
     "data": {
      "text/plain": [
       "'00:01:08:507'"
      ]
     },
     "execution_count": 11,
     "metadata": {},
     "output_type": "execute_result"
    }
   ],
   "source": [
    "data_len(benign_data)"
   ]
  },
  {
   "cell_type": "code",
   "execution_count": 12,
   "metadata": {},
   "outputs": [],
   "source": [
    "train_data, val_data = train_test_split(benign_data, test_size=0.8, shuffle=False)"
   ]
  },
  {
   "cell_type": "code",
   "execution_count": 13,
   "metadata": {},
   "outputs": [
    {
     "data": {
      "application/vnd.microsoft.datawrangler.viewer.v0+json": {
       "columns": [
        {
         "name": "index",
         "rawType": "int64",
         "type": "integer"
        },
        {
         "name": "Timestamp",
         "rawType": "float64",
         "type": "float"
        },
        {
         "name": "ID",
         "rawType": "int64",
         "type": "integer"
        },
        {
         "name": "DLC",
         "rawType": "int64",
         "type": "integer"
        },
        {
         "name": "Payload",
         "rawType": "uint64",
         "type": "integer"
        },
        {
         "name": "Label",
         "rawType": "int64",
         "type": "integer"
        }
       ],
       "conversionMethod": "pd.DataFrame",
       "ref": "9e250a50-ac22-434e-8b37-df7d994c579f",
       "rows": [
        [
         "0",
         "0.0",
         "0",
         "8",
         "0",
         "1"
        ],
        [
         "1",
         "0.00546",
         "0",
         "8",
         "0",
         "1"
        ],
        [
         "2",
         "0.011176",
         "320",
         "8",
         "470230568",
         "0"
        ],
        [
         "3",
         "0.016722",
         "0",
         "8",
         "0",
         "1"
        ],
        [
         "4",
         "0.01696",
         "790",
         "8",
         "369704226980364399",
         "0"
        ],
        [
         "5",
         "0.022128",
         "0",
         "8",
         "0",
         "1"
        ],
        [
         "6",
         "0.027804",
         "0",
         "8",
         "0",
         "1"
        ],
        [
         "7",
         "0.030108",
         "0",
         "8",
         "0",
         "1"
        ],
        [
         "8",
         "0.03036",
         "1088",
         "8",
         "18374686483963709440",
         "0"
        ],
        [
         "9",
         "0.030606",
         "0",
         "8",
         "0",
         "1"
        ],
        [
         "10",
         "0.036324",
         "809",
         "8",
         "4665305988165795860",
         "0"
        ],
        [
         "11",
         "0.04179",
         "305",
         "8",
         "17185454704184724107",
         "0"
        ],
        [
         "12",
         "0.042038",
         "0",
         "8",
         "0",
         "1"
        ],
        [
         "13",
         "0.04229",
         "320",
         "8",
         "603990633",
         "0"
        ],
        [
         "14",
         "0.042538",
         "0",
         "8",
         "0",
         "1"
        ],
        [
         "15",
         "0.048258",
         "0",
         "8",
         "0",
         "1"
        ],
        [
         "16",
         "0.053956",
         "1072",
         "8",
         "0",
         "0"
        ],
        [
         "17",
         "0.059396",
         "497",
         "8",
         "576460752303423488",
         "0"
        ],
        [
         "18",
         "0.059644",
         "0",
         "8",
         "0",
         "1"
        ],
        [
         "19",
         "0.059896",
         "339",
         "8",
         "9307361650868224",
         "0"
        ],
        [
         "20",
         "0.06014",
         "0",
         "8",
         "0",
         "1"
        ],
        [
         "21",
         "0.060394",
         "2",
         "8",
         "593024",
         "0"
        ],
        [
         "22",
         "0.06064",
         "304",
         "8",
         "756605833311161474",
         "0"
        ],
        [
         "23",
         "0.066352",
         "0",
         "8",
         "0",
         "1"
        ],
        [
         "24",
         "0.072056",
         "1680",
         "8",
         "2686582784",
         "0"
        ],
        [
         "25",
         "0.077392",
         "0",
         "8",
         "0",
         "1"
        ],
        [
         "26",
         "0.083092",
         "848",
         "8",
         "369528714599334113",
         "0"
        ],
        [
         "27",
         "0.083114",
         "0",
         "8",
         "0",
         "1"
        ],
        [
         "28",
         "0.093832",
         "0",
         "8",
         "0",
         "1"
        ],
        [
         "29",
         "0.09926",
         "0",
         "8",
         "0",
         "1"
        ],
        [
         "30",
         "0.09951",
         "1349",
         "8",
         "15564440900602953728",
         "0"
        ],
        [
         "31",
         "0.104896",
         "880",
         "8",
         "9007199254740992",
         "0"
        ],
        [
         "32",
         "0.105144",
         "0",
         "8",
         "0",
         "1"
        ],
        [
         "33",
         "0.105406",
         "1072",
         "8",
         "0",
         "0"
        ],
        [
         "34",
         "0.105652",
         "0",
         "8",
         "0",
         "1"
        ],
        [
         "35",
         "0.1059",
         "1087",
         "8",
         "18121048970299392",
         "0"
        ],
        [
         "36",
         "0.106146",
         "0",
         "8",
         "0",
         "1"
        ],
        [
         "37",
         "0.1064",
         "1088",
         "8",
         "18374686483963774976",
         "0"
        ],
        [
         "38",
         "0.112092",
         "0",
         "8",
         "0",
         "1"
        ],
        [
         "39",
         "0.112092",
         "608",
         "8",
         "1810765015365347851",
         "0"
        ],
        [
         "40",
         "0.11234",
         "0",
         "8",
         "0",
         "1"
        ],
        [
         "41",
         "0.112582",
         "672",
         "8",
         "288399828029979904",
         "0"
        ],
        [
         "42",
         "0.11283",
         "0",
         "8",
         "0",
         "1"
        ],
        [
         "43",
         "0.11332",
         "0",
         "8",
         "0",
         "1"
        ],
        [
         "44",
         "0.113578",
         "880",
         "8",
         "9007199254740992",
         "0"
        ],
        [
         "45",
         "0.113826",
         "0",
         "8",
         "0",
         "1"
        ],
        [
         "46",
         "0.114088",
         "1072",
         "8",
         "0",
         "0"
        ],
        [
         "47",
         "0.114334",
         "0",
         "8",
         "0",
         "1"
        ],
        [
         "48",
         "0.114582",
         "1087",
         "8",
         "18121048970168320",
         "0"
        ],
        [
         "49",
         "0.120042",
         "1349",
         "8",
         "15564440900602953728",
         "0"
        ]
       ],
       "shape": {
        "columns": 5,
        "rows": 14551
       }
      },
      "text/html": [
       "<div>\n",
       "<style scoped>\n",
       "    .dataframe tbody tr th:only-of-type {\n",
       "        vertical-align: middle;\n",
       "    }\n",
       "\n",
       "    .dataframe tbody tr th {\n",
       "        vertical-align: top;\n",
       "    }\n",
       "\n",
       "    .dataframe thead th {\n",
       "        text-align: right;\n",
       "    }\n",
       "</style>\n",
       "<table border=\"1\" class=\"dataframe\">\n",
       "  <thead>\n",
       "    <tr style=\"text-align: right;\">\n",
       "      <th></th>\n",
       "      <th>Timestamp</th>\n",
       "      <th>ID</th>\n",
       "      <th>DLC</th>\n",
       "      <th>Payload</th>\n",
       "      <th>Label</th>\n",
       "    </tr>\n",
       "  </thead>\n",
       "  <tbody>\n",
       "    <tr>\n",
       "      <th>0</th>\n",
       "      <td>0.000000</td>\n",
       "      <td>0</td>\n",
       "      <td>8</td>\n",
       "      <td>0</td>\n",
       "      <td>1</td>\n",
       "    </tr>\n",
       "    <tr>\n",
       "      <th>1</th>\n",
       "      <td>0.005460</td>\n",
       "      <td>0</td>\n",
       "      <td>8</td>\n",
       "      <td>0</td>\n",
       "      <td>1</td>\n",
       "    </tr>\n",
       "    <tr>\n",
       "      <th>2</th>\n",
       "      <td>0.011176</td>\n",
       "      <td>320</td>\n",
       "      <td>8</td>\n",
       "      <td>470230568</td>\n",
       "      <td>0</td>\n",
       "    </tr>\n",
       "    <tr>\n",
       "      <th>3</th>\n",
       "      <td>0.016722</td>\n",
       "      <td>0</td>\n",
       "      <td>8</td>\n",
       "      <td>0</td>\n",
       "      <td>1</td>\n",
       "    </tr>\n",
       "    <tr>\n",
       "      <th>4</th>\n",
       "      <td>0.016960</td>\n",
       "      <td>790</td>\n",
       "      <td>8</td>\n",
       "      <td>369704226980364399</td>\n",
       "      <td>0</td>\n",
       "    </tr>\n",
       "    <tr>\n",
       "      <th>...</th>\n",
       "      <td>...</td>\n",
       "      <td>...</td>\n",
       "      <td>...</td>\n",
       "      <td>...</td>\n",
       "      <td>...</td>\n",
       "    </tr>\n",
       "    <tr>\n",
       "      <th>14546</th>\n",
       "      <td>17.818404</td>\n",
       "      <td>1088</td>\n",
       "      <td>8</td>\n",
       "      <td>18374686483962333184</td>\n",
       "      <td>0</td>\n",
       "    </tr>\n",
       "    <tr>\n",
       "      <th>14547</th>\n",
       "      <td>17.818646</td>\n",
       "      <td>1349</td>\n",
       "      <td>8</td>\n",
       "      <td>15564440866243215360</td>\n",
       "      <td>0</td>\n",
       "    </tr>\n",
       "    <tr>\n",
       "      <th>14548</th>\n",
       "      <td>17.818888</td>\n",
       "      <td>1264</td>\n",
       "      <td>8</td>\n",
       "      <td>549762748691</td>\n",
       "      <td>0</td>\n",
       "    </tr>\n",
       "    <tr>\n",
       "      <th>14549</th>\n",
       "      <td>17.819834</td>\n",
       "      <td>704</td>\n",
       "      <td>8</td>\n",
       "      <td>1441151880758558720</td>\n",
       "      <td>0</td>\n",
       "    </tr>\n",
       "    <tr>\n",
       "      <th>14550</th>\n",
       "      <td>17.823876</td>\n",
       "      <td>2</td>\n",
       "      <td>8</td>\n",
       "      <td>264658</td>\n",
       "      <td>0</td>\n",
       "    </tr>\n",
       "  </tbody>\n",
       "</table>\n",
       "<p>14551 rows × 5 columns</p>\n",
       "</div>"
      ],
      "text/plain": [
       "       Timestamp    ID  DLC               Payload  Label\n",
       "0       0.000000     0    8                     0      1\n",
       "1       0.005460     0    8                     0      1\n",
       "2       0.011176   320    8             470230568      0\n",
       "3       0.016722     0    8                     0      1\n",
       "4       0.016960   790    8    369704226980364399      0\n",
       "...          ...   ...  ...                   ...    ...\n",
       "14546  17.818404  1088    8  18374686483962333184      0\n",
       "14547  17.818646  1349    8  15564440866243215360      0\n",
       "14548  17.818888  1264    8          549762748691      0\n",
       "14549  17.819834   704    8   1441151880758558720      0\n",
       "14550  17.823876     2    8                264658      0\n",
       "\n",
       "[14551 rows x 5 columns]"
      ]
     },
     "execution_count": 13,
     "metadata": {},
     "output_type": "execute_result"
    }
   ],
   "source": [
    "train_data"
   ]
  },
  {
   "cell_type": "code",
   "execution_count": 14,
   "metadata": {},
   "outputs": [
    {
     "name": "stdout",
     "output_type": "stream",
     "text": [
      "There are 27 unique keys in this dataset\n"
     ]
    },
    {
     "name": "stderr",
     "output_type": "stream",
     "text": [
      "100%|██████████| 14550/14550 [00:00<00:00, 3297872.10it/s]"
     ]
    },
    {
     "name": "stdout",
     "output_type": "stream",
     "text": [
      "Function execution time for dataset with 14551 items : 0.0646 seconds\n"
     ]
    },
    {
     "name": "stderr",
     "output_type": "stream",
     "text": [
      "\n"
     ]
    }
   ],
   "source": [
    "def create_transition_matrix(data):\n",
    "\n",
    "    start_time = time.time() \n",
    "\n",
    "    id_list = data['ID'].to_list()\n",
    "\n",
    "    unique_ids = list(set(id_list))\n",
    "\n",
    "    print(f\"There are {len(unique_ids)} unique keys in this dataset\")\n",
    "\n",
    "    transition_matrix = {key : [False] * len(unique_ids) for key in unique_ids}\n",
    "\n",
    "    for i in tqdm(range(len(id_list) - 1)):\n",
    "        ##Extracting ID pair to check in transition matrix\n",
    "        first_id = id_list[i]\n",
    "        second_id = id_list[i+1]\n",
    "\n",
    "        if transition_matrix[first_id][unique_ids.index(second_id)]:\n",
    "            continue\n",
    "        else:\n",
    "            transition_matrix[first_id][unique_ids.index(second_id)] = True\n",
    "\n",
    "    end_time = time.time()\n",
    "    execution_time = end_time - start_time\n",
    "\n",
    "    print(f\"Function execution time for dataset with {len(id_list)} items : {execution_time:.4f} seconds\")\n",
    "\n",
    "    return transition_matrix, unique_ids\n",
    "\n",
    "ch_tm, ch_unique_ids = create_transition_matrix(train_data)"
   ]
  },
  {
   "cell_type": "code",
   "execution_count": 15,
   "metadata": {},
   "outputs": [],
   "source": [
    "# ch_val_tm, ch_val_unique_ids = create_transition_matrix(val_data)"
   ]
  },
  {
   "cell_type": "code",
   "execution_count": 16,
   "metadata": {},
   "outputs": [],
   "source": [
    "def validation(val_data, transition_matrix, unique_ids):\n",
    "\n",
    "    \"\"\"\n",
    "        val_data : validation data \n",
    "        transition_matrix: transition matrix\n",
    "        unique_ids: list of unique ids in training data\n",
    "    \"\"\"\n",
    "    \n",
    "    ##SHOULD I MAKE IT MORE EFFICIENT BY DOING ID verification first?\n",
    "\n",
    "\n",
    "    start_time = time.time() \n",
    "\n",
    "    fpr_count = 0\n",
    "\n",
    "    keys = transition_matrix.keys()\n",
    "\n",
    "    val_data_ids = val_data['ID'].to_list()\n",
    "\n",
    "    for i in tqdm(range(len(val_data_ids) - 1)):\n",
    "\n",
    "        first_id = val_data_ids[i]\n",
    "        second_id = val_data_ids[i+1]\n",
    "\n",
    "        ## Check if both keys are in transition matrix\n",
    "\n",
    "        if (first_id in list(keys)) and (second_id in list(keys)):\n",
    "\n",
    "            ##Check if transition is valid\n",
    "            if transition_matrix[first_id][unique_ids.index(second_id)]:\n",
    "                continue\n",
    "            else: \n",
    "                ## If not valid, then increase False Positive Rate Count, and update the matrix\n",
    "                fpr_count += 1\n",
    "                transition_matrix[first_id][unique_ids.index(second_id)] = True\n",
    "        \n",
    "        else:\n",
    "            raise ValueError(f\"{first_id} or {second_id} ID Not Found, Exiting Validation Process\")\n",
    "            \n",
    "    \n",
    "    ## Calculate False Positive Rate\n",
    "    fpr = fpr_count / len(val_data_ids)\n",
    "    print(f\"False Positive Rate: {fpr:.4f}\")\n",
    "        \n",
    "    end_time = time.time()\n",
    "    execution_time = end_time - start_time\n",
    "\n",
    "\n",
    "    print(f\"Function execution time for dataset with {len(val_data_ids)} items : {execution_time:.4f} seconds\")\n",
    "\n",
    "    return transition_matrix"
   ]
  },
  {
   "cell_type": "code",
   "execution_count": 17,
   "metadata": {},
   "outputs": [
    {
     "name": "stderr",
     "output_type": "stream",
     "text": [
      "100%|██████████| 58207/58207 [00:00<00:00, 1174089.65it/s]"
     ]
    },
    {
     "name": "stdout",
     "output_type": "stream",
     "text": [
      "False Positive Rate: 0.0018\n",
      "Function execution time for dataset with 58208 items : 0.0844 seconds\n"
     ]
    },
    {
     "name": "stderr",
     "output_type": "stream",
     "text": [
      "\n"
     ]
    }
   ],
   "source": [
    "validated_ch_tm = copy.deepcopy(ch_tm)\n",
    "validated_ch_tm = validation(val_data, validated_ch_tm, ch_unique_ids)"
   ]
  },
  {
   "cell_type": "code",
   "execution_count": 18,
   "metadata": {},
   "outputs": [],
   "source": [
    "def visualize_dict_as_matrix(data_dict, plot_title = None, cell_size=20, grid_color='black', grid_width=1):\n",
    "    \"\"\"\n",
    "    Convert a dictionary with boolean lists into a visual matrix image.\n",
    "    \n",
    "    Parameters:\n",
    "    - data_dict: Dictionary where each value is a list of boolean values\n",
    "    - cell_size: Size of each cell in pixels (higher value = higher resolution)\n",
    "    - grid_color: Color of the grid lines\n",
    "    - grid_width: Width of the grid lines\n",
    "    \n",
    "    Returns:\n",
    "    - Displays and saves the matrix visualization\n",
    "    \"\"\"\n",
    "    # Verify all lists are the same length and match the number of keys\n",
    "    keys = list(data_dict.keys())\n",
    "    n = len(keys)\n",
    "    if any(len(data_dict[key]) != n for key in keys):\n",
    "        raise ValueError(\"All lists must have the same length as the number of keys\")\n",
    "\n",
    "    # Create an n×n matrix filled with boolean values from the dictionary\n",
    "    matrix = np.zeros((n, n), dtype=bool)\n",
    "    \n",
    "    # Fill the matrix with values from the dictionary\n",
    "    for i, key in enumerate(keys):\n",
    "        matrix[i] = data_dict[key]\n",
    "    \n",
    "    # Calculate figure size and resolution\n",
    "    figsize = (n * cell_size / 100, n * cell_size / 100)\n",
    "    dpi = 100\n",
    "    \n",
    "    # Create a figure and axis\n",
    "    fig, ax = plt.subplots(figsize=figsize, dpi=dpi)\n",
    "    \n",
    "    # Create the heatmap (red for False, green for True)\n",
    "    cmap = plt.matplotlib.colors.ListedColormap(['red', 'green'])\n",
    "    \n",
    "    # Plot the matrix\n",
    "    im = ax.imshow(matrix, cmap=cmap, interpolation='none')\n",
    "    \n",
    "    # Add grid lines\n",
    "    for i in range(n+1):\n",
    "        ax.axhline(i-0.5, color=grid_color, linewidth=grid_width)\n",
    "        ax.axvline(i-0.5, color=grid_color, linewidth=grid_width)\n",
    "    \n",
    "    # Remove ticks but keep labels if needed\n",
    "    ax.set_xticks(np.arange(n))\n",
    "    ax.set_yticks(np.arange(n))\n",
    "    ax.set_xticklabels(keys)\n",
    "    ax.set_yticklabels(keys)\n",
    "    \n",
    "    # Set title and labels\n",
    "    if plot_title:\n",
    "        ax.set_title(plot_title)\n",
    "    \n",
    "    # Optional: customize tick parameters\n",
    "    plt.setp(ax.get_xticklabels(), rotation=45, ha=\"right\", rotation_mode=\"anchor\")\n",
    "    \n",
    "    # Adjust layout\n",
    "    plt.tight_layout()\n",
    "    \n",
    "    # Save the figure\n",
    "    # plt.savefig('matrix_visualization.png', bbox_inches='tight', dpi=dpi*2)\n",
    "    \n",
    "    # Display the figure\n",
    "    plt.show()\n",
    "    \n",
    "    return fig, ax"
   ]
  },
  {
   "cell_type": "code",
   "execution_count": 19,
   "metadata": {},
   "outputs": [
    {
     "data": {
      "image/png": "[encoded data removed]",
      "text/plain": [
       "<Figure size 540x540 with 1 Axes>"
      ]
     },
     "metadata": {},
     "output_type": "display_data"
    },
    {
     "data": {
      "text/plain": [
       "(<Figure size 540x540 with 1 Axes>,\n",
       " <Axes: title={'center': 'Training Transition Matrix'}>)"
      ]
     },
     "execution_count": 19,
     "metadata": {},
     "output_type": "execute_result"
    }
   ],
   "source": [
    "visualize_dict_as_matrix(ch_tm, \"Training Transition Matrix\")"
   ]
  },
  {
   "cell_type": "code",
   "execution_count": 20,
   "metadata": {},
   "outputs": [
    {
     "data": {
      "image/png": "[encoded data removed]",
      "text/plain": [
       "<Figure size 540x540 with 1 Axes>"
      ]
     },
     "metadata": {},
     "output_type": "display_data"
    },
    {
     "data": {
      "text/plain": [
       "(<Figure size 540x540 with 1 Axes>,\n",
       " <Axes: title={'center': 'Validation Transition Matrix'}>)"
      ]
     },
     "execution_count": 20,
     "metadata": {},
     "output_type": "execute_result"
    }
   ],
   "source": [
    "visualize_dict_as_matrix(validated_ch_tm, \"Validation Transition Matrix\")"
   ]
  },
  {
   "cell_type": "code",
   "execution_count": 21,
   "metadata": {},
   "outputs": [],
   "source": [
    "def shift_columns(df):\n",
    "    \n",
    "    for dlc in [2,5,6]:\n",
    "\n",
    "        df.loc[df['DLC'] == dlc, df.columns[3:]] = df.loc[df['DLC'] == dlc, df.columns[3:]].shift(periods=8-dlc, axis='columns', fill_value='00')\n",
    "\n",
    "    return df\n",
    "\n",
    "def read_ch_data(data_path):\n",
    "    \n",
    "    columns = ['Timestamp','ID', 'DLC', 'data0', 'data1', 'data2', 'data3', 'data4', \n",
    "           'data5', 'data6', 'data7', 'label']\n",
    "    \n",
    "    data = pd.read_csv(data_path, names = columns)\n",
    "\n",
    "    data = shift_columns(data)\n",
    "    \n",
    "    ##Replacing all NaNs with '00' \n",
    "    data = data.replace(np.NaN, '00')\n",
    "    \n",
    "    ##Joining all data columns to put all data in one column\n",
    "    data_cols = ['data0', 'data1', 'data2', 'data3', 'data4', 'data5', 'data6', 'data7']\n",
    "    \n",
    "    ##The data column is in hexadecimal\n",
    "    data['Payload'] = data[data_cols].apply(''.join, axis=1)\n",
    "    data.drop(columns = data_cols, inplace = True, axis = 1)\n",
    "        \n",
    "    data = data.assign(IAT=data['Timestamp'].diff().fillna(0))\n",
    "    data = data[['Timestamp', 'ID','DLC','Payload', 'IAT', 'label']]\n",
    "    data['label'].replace({'R' : 0, 'T' : 1}, inplace = True)\n",
    "    \n",
    "    return data"
   ]
  },
  {
   "cell_type": "code",
   "execution_count": 22,
   "metadata": {},
   "outputs": [
    {
     "name": "stderr",
     "output_type": "stream",
     "text": [
      "100%|██████████| 80500/80500 [00:00<00:00, 382737.52it/s]\n"
     ]
    },
    {
     "name": "stdout",
     "output_type": "stream",
     "text": [
      "              precision    recall  f1-score   support\n",
      "\n",
      "      Normal       0.82      1.00      0.90     60576\n",
      "      Attack       1.00      0.31      0.48     19925\n",
      "\n",
      "    accuracy                           0.83     80501\n",
      "   macro avg       0.91      0.66      0.69     80501\n",
      "weighted avg       0.86      0.83      0.79     80501\n",
      "\n",
      "Accuracy: 0.8296\n",
      "F1 Score: 0.4752\n",
      "True Positive Rate (TPR / Recall): 0.3117\n",
      "False Positive Rate (FPR): 0.0000\n",
      "False Negative Rate (FNR): 0.6883\n",
      "True Negative Rate (TNR / Specificity): 1.0000\n"
     ]
    },
    {
     "data": {
      "image/png": "[encoded data removed]",
      "text/plain": [
       "<Figure size 600x500 with 2 Axes>"
      ]
     },
     "metadata": {},
     "output_type": "display_data"
    },
    {
     "name": "stdout",
     "output_type": "stream",
     "text": [
      "Evaluation time for dataset with 80501 items: 0.4986 seconds\n",
      "Condition 1: 94\n",
      "Condition 2: 0\n"
     ]
    }
   ],
   "source": [
    "def test(test_data, validated_tm, training_unique_ids):\n",
    "\n",
    "    start_time = time.time() \n",
    "\n",
    "\n",
    "    condition_1 = 0\n",
    "    condition_2 = 0\n",
    "\n",
    "    test_data_ids = test_data['ID'].to_list()\n",
    "    predicted_labels = []\n",
    "\n",
    "    # print(f\"Test data length {len(test_data_ids)}\")\n",
    "\n",
    "    for i in tqdm(range(len(test_data_ids) - 1)):\n",
    "        \n",
    "        # print(f\"i: {i} i+1 : {i+1}\")\n",
    "\n",
    "        first_id = test_data_ids[i]\n",
    "        second_id = test_data_ids[i+1]\n",
    "\n",
    "        ## Check if both ids are in the transition matrix\n",
    "        if (first_id in training_unique_ids) and (second_id in training_unique_ids):\n",
    "\n",
    "            ##Check if transition is valid\n",
    "            if validated_tm[first_id][training_unique_ids.index(second_id)]:\n",
    "                predicted_labels.append(0)\n",
    "            else: \n",
    "                predicted_labels.append(1)\n",
    "                condition_1 += 1\n",
    "                \n",
    "        \n",
    "        else:\n",
    "            if first_id not in training_unique_ids:\n",
    "                predicted_labels.append(1)\n",
    "            else:\n",
    "                predicted_labels.append(0)\n",
    "\n",
    "        true_labels = test_data['label'].to_numpy()\n",
    "    predicted_labels.append(0)\n",
    "    predicted_labels = np.array(predicted_labels)\n",
    "\n",
    "    # Print classification report\n",
    "    print(classification_report(true_labels, predicted_labels, target_names=['Normal', 'Attack'], zero_division=0))\n",
    "\n",
    "    # Compute confusion matrix: [[TN, FP], [FN, TP]]\n",
    "    cm = confusion_matrix(true_labels, predicted_labels)\n",
    "    TN, FP, FN, TP = cm.ravel()\n",
    "\n",
    "    # Calculate metrics\n",
    "    accuracy = accuracy_score(true_labels, predicted_labels)\n",
    "    f1 = f1_score(true_labels, predicted_labels)\n",
    "    tpr = TP / (TP + FN) if (TP + FN) > 0 else 0  # Sensitivity, Recall\n",
    "    fpr = FP / (FP + TN) if (FP + TN) > 0 else 0\n",
    "    fnr = FN / (FN + TP) if (FN + TP) > 0 else 0\n",
    "    tnr = TN / (TN + FP) if (TN + FP) > 0 else 0  # Specificity\n",
    "\n",
    "    # Print metrics\n",
    "    print(f\"Accuracy: {accuracy:.4f}\")\n",
    "    print(f\"F1 Score: {f1:.4f}\")\n",
    "    print(f\"True Positive Rate (TPR / Recall): {tpr:.4f}\")\n",
    "    print(f\"False Positive Rate (FPR): {fpr:.4f}\")\n",
    "    print(f\"False Negative Rate (FNR): {fnr:.4f}\")\n",
    "    print(f\"True Negative Rate (TNR / Specificity): {tnr:.4f}\")\n",
    "\n",
    "    # Plot confusion matrix\n",
    "    plt.figure(figsize=(6, 5))\n",
    "    sns.heatmap(cm, annot=True, fmt='d', cmap='Blues', xticklabels=['Normal', 'Attack'], yticklabels=['Normal', 'Attack'])\n",
    "    plt.xlabel('Predicted Label')\n",
    "    plt.ylabel('True Label')\n",
    "    plt.title('Confusion Matrix')\n",
    "    plt.tight_layout()\n",
    "    plt.show()\n",
    "    \n",
    "    end_time = time.time()\n",
    "\n",
    "    print(\"Evaluation time for dataset with {} items: {:.4f} seconds\".format(len(test_data_ids), end_time - start_time))\n",
    "    print(f\"Condition 1: {condition_1}\")\n",
    "    print(f\"Condition 2: {condition_2}\")\n",
    "\n",
    "\n",
    "test(attack_data, validated_ch_tm, ch_unique_ids)"
   ]
  },
  {
   "cell_type": "code",
   "execution_count": null,
   "metadata": {},
   "outputs": [],
   "source": []
  }
 ],
 "metadata": {
  "kernelspec": {
   "display_name": "pt",
   "language": "python",
   "name": "python3"
  },
  "language_info": {
   "codemirror_mode": {
    "name": "ipython",
    "version": 3
   },
   "file_extension": ".py",
   "mimetype": "text/x-python",
   "name": "python",
   "nbconvert_exporter": "python",
   "pygments_lexer": "ipython3",
   "version": "3.9.18"
  }
 },
 "nbformat": 4,
 "nbformat_minor": 2
}
