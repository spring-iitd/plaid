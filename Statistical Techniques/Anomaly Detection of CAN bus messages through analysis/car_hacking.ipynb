{
 "cells": [
  {
   "cell_type": "code",
   "execution_count": 1,
   "metadata": {},
   "outputs": [],
   "source": [
    "import numpy as np\n",
    "import pandas as pd\n",
    "import matplotlib.pyplot as plt\n",
    "import seaborn as sns\n",
    "import os\n",
    "from sklearn.model_selection import train_test_split\n",
    "from tqdm import tqdm\n",
    "import time\n",
    "import copy\n",
    "from sklearn.metrics import accuracy_score, f1_score\n",
    "from sklearn.metrics import classification_report\n",
    "from sklearn.metrics import confusion_matrix\n",
    "import seaborn as sns"
   ]
  },
  {
   "cell_type": "code",
   "execution_count": 2,
   "metadata": {},
   "outputs": [],
   "source": [
    "data_dir = '../../Smart Attack Algorithm/data/Car Hacking Dataset/' \n",
    "normal_data_path = os.path.join(data_dir, 'benign_data.csv')"
   ]
  },
  {
   "cell_type": "code",
   "execution_count": 3,
   "metadata": {},
   "outputs": [],
   "source": [
    "benign_data = pd.read_csv(normal_data_path)"
   ]
  },
  {
   "cell_type": "code",
   "execution_count": 4,
   "metadata": {},
   "outputs": [
    {
     "data": {
      "application/vnd.microsoft.datawrangler.viewer.v0+json": {
       "columns": [
        {
         "name": "index",
         "rawType": "int64",
         "type": "integer"
        },
        {
         "name": "Timestamp",
         "rawType": "float64",
         "type": "float"
        },
        {
         "name": "ID",
         "rawType": "object",
         "type": "string"
        },
        {
         "name": "DLC",
         "rawType": "int64",
         "type": "integer"
        },
        {
         "name": "Payload",
         "rawType": "object",
         "type": "string"
        },
        {
         "name": "label",
         "rawType": "int64",
         "type": "integer"
        }
       ],
       "conversionMethod": "pd.DataFrame",
       "ref": "ee16baff-300c-4820-9641-99a6ab0cf13e",
       "rows": [
        [
         "0",
         "1479121434.850202",
         "0350",
         "8",
         "052884666d0000a2",
         "0"
        ],
        [
         "1",
         "1479121434.850423",
         "02c0",
         "8",
         "1400000000000000",
         "0"
        ],
        [
         "2",
         "1479121434.850977",
         "0430",
         "8",
         "0000000000000000",
         "0"
        ],
        [
         "3",
         "1479121434.851215",
         "04b1",
         "8",
         "0000000000000000",
         "0"
        ],
        [
         "4",
         "1479121434.851463",
         "01f1",
         "8",
         "0000000000000000",
         "0"
        ]
       ],
       "shape": {
        "columns": 5,
        "rows": 5
       }
      },
      "text/html": [
       "<div>\n",
       "<style scoped>\n",
       "    .dataframe tbody tr th:only-of-type {\n",
       "        vertical-align: middle;\n",
       "    }\n",
       "\n",
       "    .dataframe tbody tr th {\n",
       "        vertical-align: top;\n",
       "    }\n",
       "\n",
       "    .dataframe thead th {\n",
       "        text-align: right;\n",
       "    }\n",
       "</style>\n",
       "<table border=\"1\" class=\"dataframe\">\n",
       "  <thead>\n",
       "    <tr style=\"text-align: right;\">\n",
       "      <th></th>\n",
       "      <th>Timestamp</th>\n",
       "      <th>ID</th>\n",
       "      <th>DLC</th>\n",
       "      <th>Payload</th>\n",
       "      <th>label</th>\n",
       "    </tr>\n",
       "  </thead>\n",
       "  <tbody>\n",
       "    <tr>\n",
       "      <th>0</th>\n",
       "      <td>1.479121e+09</td>\n",
       "      <td>0350</td>\n",
       "      <td>8</td>\n",
       "      <td>052884666d0000a2</td>\n",
       "      <td>0</td>\n",
       "    </tr>\n",
       "    <tr>\n",
       "      <th>1</th>\n",
       "      <td>1.479121e+09</td>\n",
       "      <td>02c0</td>\n",
       "      <td>8</td>\n",
       "      <td>1400000000000000</td>\n",
       "      <td>0</td>\n",
       "    </tr>\n",
       "    <tr>\n",
       "      <th>2</th>\n",
       "      <td>1.479121e+09</td>\n",
       "      <td>0430</td>\n",
       "      <td>8</td>\n",
       "      <td>0000000000000000</td>\n",
       "      <td>0</td>\n",
       "    </tr>\n",
       "    <tr>\n",
       "      <th>3</th>\n",
       "      <td>1.479121e+09</td>\n",
       "      <td>04b1</td>\n",
       "      <td>8</td>\n",
       "      <td>0000000000000000</td>\n",
       "      <td>0</td>\n",
       "    </tr>\n",
       "    <tr>\n",
       "      <th>4</th>\n",
       "      <td>1.479121e+09</td>\n",
       "      <td>01f1</td>\n",
       "      <td>8</td>\n",
       "      <td>0000000000000000</td>\n",
       "      <td>0</td>\n",
       "    </tr>\n",
       "  </tbody>\n",
       "</table>\n",
       "</div>"
      ],
      "text/plain": [
       "      Timestamp    ID  DLC           Payload  label\n",
       "0  1.479121e+09  0350    8  052884666d0000a2      0\n",
       "1  1.479121e+09  02c0    8  1400000000000000      0\n",
       "2  1.479121e+09  0430    8  0000000000000000      0\n",
       "3  1.479121e+09  04b1    8  0000000000000000      0\n",
       "4  1.479121e+09  01f1    8  0000000000000000      0"
      ]
     },
     "execution_count": 4,
     "metadata": {},
     "output_type": "execute_result"
    }
   ],
   "source": [
    "benign_data.head()"
   ]
  },
  {
   "cell_type": "code",
   "execution_count": 5,
   "metadata": {},
   "outputs": [],
   "source": [
    "def data_len(df):\n",
    "    if 'Timestamp' in df.columns:\n",
    "        # Ensure the Timestamp column is sorted\n",
    "        df = df.sort_values(by='Timestamp')\n",
    "        \n",
    "        # Compute time difference\n",
    "        time_diff = df['Timestamp'].iloc[-1] - df['Timestamp'].iloc[0]\n",
    "        \n",
    "        # Convert to HH:MM:SS:Milliseconds format\n",
    "        hours, remainder = divmod(time_diff, 3600)\n",
    "        minutes, remainder = divmod(remainder, 60)\n",
    "        seconds, milliseconds = divmod(remainder, 1)\n",
    "        \n",
    "        time_str = f\"{int(hours):02}:{int(minutes):02}:{int(seconds):02}:{int(milliseconds * 1000):03}\"\n",
    "        \n",
    "        return time_str\n",
    "    else:\n",
    "        return \"Timestamp column not found in dataframe\""
   ]
  },
  {
   "cell_type": "code",
   "execution_count": 6,
   "metadata": {},
   "outputs": [],
   "source": [
    "hex_to_dec = lambda x: int(str(x), 16) if isinstance(x, str) else x\n",
    "\n",
    "def transform_data(data):\n",
    "\n",
    "    data['ID'] = data['ID'].apply(hex_to_dec)\n",
    "    data['Payload'] = data['Payload'].apply(hex_to_dec)\n",
    "\n",
    "    return data\n",
    "\n",
    "# Function to handle conversion\n",
    "def convert_hex_column(column):\n",
    "    def convert_value(value):\n",
    "        try:\n",
    "            # Try to convert using hex_to_dec\n",
    "            return hex_to_dec(value)\n",
    "        except ValueError:\n",
    "            # If ValueError occurs, it means the value is in scientific notation\n",
    "            return int(float(value))\n",
    "    \n",
    "    return column.apply(convert_value)\n",
    "\n",
    "\n",
    "benign_data = transform_data(benign_data)\n"
   ]
  },
  {
   "cell_type": "code",
   "execution_count": 7,
   "metadata": {},
   "outputs": [
    {
     "data": {
      "text/plain": [
       "'00:08:26:436'"
      ]
     },
     "execution_count": 7,
     "metadata": {},
     "output_type": "execute_result"
    }
   ],
   "source": [
    "data_len(benign_data)"
   ]
  },
  {
   "cell_type": "code",
   "execution_count": 8,
   "metadata": {},
   "outputs": [],
   "source": [
    "train_data, val_data = train_test_split(benign_data, test_size=0.8, shuffle=False)"
   ]
  },
  {
   "cell_type": "code",
   "execution_count": 9,
   "metadata": {},
   "outputs": [
    {
     "data": {
      "application/vnd.microsoft.datawrangler.viewer.v0+json": {
       "columns": [
        {
         "name": "index",
         "rawType": "int64",
         "type": "integer"
        },
        {
         "name": "Timestamp",
         "rawType": "float64",
         "type": "float"
        },
        {
         "name": "ID",
         "rawType": "int64",
         "type": "integer"
        },
        {
         "name": "DLC",
         "rawType": "int64",
         "type": "integer"
        },
        {
         "name": "Payload",
         "rawType": "uint64",
         "type": "integer"
        },
        {
         "name": "label",
         "rawType": "int64",
         "type": "integer"
        }
       ],
       "conversionMethod": "pd.DataFrame",
       "ref": "10603843-6bc2-4028-b46c-8aa4289e2652",
       "rows": [
        [
         "0",
         "1479121434.850202",
         "848",
         "8",
         "371692544708313250",
         "0"
        ],
        [
         "1",
         "1479121434.850423",
         "704",
         "8",
         "1441151880758558720",
         "0"
        ],
        [
         "2",
         "1479121434.850977",
         "1072",
         "8",
         "0",
         "0"
        ],
        [
         "3",
         "1479121434.851215",
         "1201",
         "8",
         "0",
         "0"
        ],
        [
         "4",
         "1479121434.851463",
         "497",
         "8",
         "0",
         "0"
        ],
        [
         "5",
         "1479121434.851711",
         "339",
         "8",
         "1095233372160",
         "0"
        ],
        [
         "6",
         "1479121434.851963",
         "2",
         "8",
         "10",
         "0"
        ],
        [
         "7",
         "1479121434.852202",
         "399",
         "8",
         "18317828534380003328",
         "0"
        ],
        [
         "8",
         "1479121434.852443",
         "304",
         "8",
         "252202674911445149",
         "0"
        ],
        [
         "9",
         "1479121434.852687",
         "305",
         "8",
         "36028797782261911",
         "0"
        ],
        [
         "10",
         "1479121434.852938",
         "320",
         "8",
         "337649894",
         "0"
        ],
        [
         "11",
         "1479121434.853167",
         "608",
         "8",
         "1955727931050323513",
         "0"
        ],
        [
         "12",
         "1479121434.853403",
         "672",
         "8",
         "6917646799956401408",
         "0"
        ],
        [
         "13",
         "1479121434.853633",
         "790",
         "8",
         "370566244147069053",
         "0"
        ],
        [
         "14",
         "1479121434.853867",
         "809",
         "8",
         "9779986690480275476",
         "0"
        ],
        [
         "15",
         "1479121434.854108",
         "1349",
         "8",
         "15564440904897921024",
         "0"
        ],
        [
         "16",
         "1479121434.85429",
         "688",
         "5",
         "609868580610",
         "0"
        ],
        [
         "17",
         "1479121434.854947",
         "1087",
         "8",
         "18121048359438336",
         "0"
        ],
        [
         "18",
         "1479121434.855198",
         "880",
         "8",
         "9007199254740992",
         "0"
        ],
        [
         "19",
         "1479121434.855439",
         "1088",
         "8",
         "18374686483956893696",
         "0"
        ],
        [
         "20",
         "1479121434.860027",
         "704",
         "8",
         "1441151880758558720",
         "0"
        ],
        [
         "21",
         "1479121434.860229",
         "848",
         "8",
         "371710136894357682",
         "0"
        ],
        [
         "22",
         "1479121434.860841",
         "1264",
         "8",
         "549760992020",
         "0"
        ],
        [
         "23",
         "1479121434.861088",
         "2",
         "8",
         "279",
         "0"
        ],
        [
         "24",
         "1479121434.861332",
         "339",
         "8",
         "1095233372160",
         "0"
        ],
        [
         "25",
         "1479121434.861704",
         "790",
         "8",
         "370566244147069053",
         "0"
        ],
        [
         "26",
         "1479121434.861945",
         "399",
         "8",
         "18317828534380003328",
         "0"
        ],
        [
         "27",
         "1479121434.86218",
         "608",
         "8",
         "1955727931050323462",
         "0"
        ],
        [
         "28",
         "1479121434.862421",
         "304",
         "8",
         "468375456790348191",
         "0"
        ],
        [
         "29",
         "1479121434.862659",
         "305",
         "8",
         "684547143855178029",
         "0"
        ],
        [
         "30",
         "1479121434.862901",
         "320",
         "8",
         "371204600",
         "0"
        ],
        [
         "31",
         "1479121434.86314",
         "672",
         "8",
         "117772315319552",
         "0"
        ],
        [
         "32",
         "1479121434.863375",
         "809",
         "8",
         "9779986690480275476",
         "0"
        ],
        [
         "33",
         "1479121434.86362",
         "1349",
         "8",
         "15564440900602953728",
         "0"
        ],
        [
         "34",
         "1479121434.864254",
         "688",
         "5",
         "609868580627",
         "0"
        ],
        [
         "35",
         "1479121434.864975",
         "1087",
         "8",
         "18121048359307264",
         "0"
        ],
        [
         "36",
         "1479121434.865226",
         "880",
         "8",
         "9007199254740992",
         "0"
        ],
        [
         "37",
         "1479121434.865464",
         "1088",
         "8",
         "18374686483956762624",
         "0"
        ],
        [
         "38",
         "1479121434.869396",
         "1520",
         "2",
         "62464",
         "0"
        ],
        [
         "39",
         "1479121434.869976",
         "704",
         "8",
         "1441151880758558720",
         "0"
        ],
        [
         "40",
         "1479121434.870212",
         "848",
         "8",
         "371727729080402050",
         "0"
        ],
        [
         "41",
         "1479121434.870969",
         "1072",
         "8",
         "0",
         "0"
        ],
        [
         "42",
         "1479121434.871216",
         "1201",
         "8",
         "0",
         "0"
        ],
        [
         "43",
         "1479121434.871467",
         "497",
         "8",
         "0",
         "0"
        ],
        [
         "44",
         "1479121434.871712",
         "339",
         "8",
         "1095233372160",
         "0"
        ],
        [
         "45",
         "1479121434.871964",
         "2",
         "8",
         "560",
         "0"
        ],
        [
         "46",
         "1479121434.872204",
         "399",
         "8",
         "18317828534380003328",
         "0"
        ],
        [
         "47",
         "1479121434.872437",
         "608",
         "8",
         "1955727931050323479",
         "0"
        ],
        [
         "48",
         "1479121434.872674",
         "672",
         "8",
         "2305960781529013504",
         "0"
        ],
        [
         "49",
         "1479121434.872908",
         "790",
         "8",
         "370553050007535741",
         "0"
        ]
       ],
       "shape": {
        "columns": 5,
        "rows": 197774
       }
      },
      "text/html": [
       "<div>\n",
       "<style scoped>\n",
       "    .dataframe tbody tr th:only-of-type {\n",
       "        vertical-align: middle;\n",
       "    }\n",
       "\n",
       "    .dataframe tbody tr th {\n",
       "        vertical-align: top;\n",
       "    }\n",
       "\n",
       "    .dataframe thead th {\n",
       "        text-align: right;\n",
       "    }\n",
       "</style>\n",
       "<table border=\"1\" class=\"dataframe\">\n",
       "  <thead>\n",
       "    <tr style=\"text-align: right;\">\n",
       "      <th></th>\n",
       "      <th>Timestamp</th>\n",
       "      <th>ID</th>\n",
       "      <th>DLC</th>\n",
       "      <th>Payload</th>\n",
       "      <th>label</th>\n",
       "    </tr>\n",
       "  </thead>\n",
       "  <tbody>\n",
       "    <tr>\n",
       "      <th>0</th>\n",
       "      <td>1.479121e+09</td>\n",
       "      <td>848</td>\n",
       "      <td>8</td>\n",
       "      <td>371692544708313250</td>\n",
       "      <td>0</td>\n",
       "    </tr>\n",
       "    <tr>\n",
       "      <th>1</th>\n",
       "      <td>1.479121e+09</td>\n",
       "      <td>704</td>\n",
       "      <td>8</td>\n",
       "      <td>1441151880758558720</td>\n",
       "      <td>0</td>\n",
       "    </tr>\n",
       "    <tr>\n",
       "      <th>2</th>\n",
       "      <td>1.479121e+09</td>\n",
       "      <td>1072</td>\n",
       "      <td>8</td>\n",
       "      <td>0</td>\n",
       "      <td>0</td>\n",
       "    </tr>\n",
       "    <tr>\n",
       "      <th>3</th>\n",
       "      <td>1.479121e+09</td>\n",
       "      <td>1201</td>\n",
       "      <td>8</td>\n",
       "      <td>0</td>\n",
       "      <td>0</td>\n",
       "    </tr>\n",
       "    <tr>\n",
       "      <th>4</th>\n",
       "      <td>1.479121e+09</td>\n",
       "      <td>497</td>\n",
       "      <td>8</td>\n",
       "      <td>0</td>\n",
       "      <td>0</td>\n",
       "    </tr>\n",
       "    <tr>\n",
       "      <th>...</th>\n",
       "      <td>...</td>\n",
       "      <td>...</td>\n",
       "      <td>...</td>\n",
       "      <td>...</td>\n",
       "      <td>...</td>\n",
       "    </tr>\n",
       "    <tr>\n",
       "      <th>197769</th>\n",
       "      <td>1.479122e+09</td>\n",
       "      <td>1088</td>\n",
       "      <td>8</td>\n",
       "      <td>18375543003512179035</td>\n",
       "      <td>0</td>\n",
       "    </tr>\n",
       "    <tr>\n",
       "      <th>197770</th>\n",
       "      <td>1.479122e+09</td>\n",
       "      <td>2</td>\n",
       "      <td>8</td>\n",
       "      <td>65883</td>\n",
       "      <td>0</td>\n",
       "    </tr>\n",
       "    <tr>\n",
       "      <th>197771</th>\n",
       "      <td>1.479122e+09</td>\n",
       "      <td>339</td>\n",
       "      <td>8</td>\n",
       "      <td>1095233372160</td>\n",
       "      <td>0</td>\n",
       "    </tr>\n",
       "    <tr>\n",
       "      <th>197772</th>\n",
       "      <td>1.479122e+09</td>\n",
       "      <td>304</td>\n",
       "      <td>8</td>\n",
       "      <td>18266038235715010892</td>\n",
       "      <td>0</td>\n",
       "    </tr>\n",
       "    <tr>\n",
       "      <th>197773</th>\n",
       "      <td>1.479122e+09</td>\n",
       "      <td>305</td>\n",
       "      <td>8</td>\n",
       "      <td>8610882488647942550</td>\n",
       "      <td>0</td>\n",
       "    </tr>\n",
       "  </tbody>\n",
       "</table>\n",
       "<p>197774 rows × 5 columns</p>\n",
       "</div>"
      ],
      "text/plain": [
       "           Timestamp    ID  DLC               Payload  label\n",
       "0       1.479121e+09   848    8    371692544708313250      0\n",
       "1       1.479121e+09   704    8   1441151880758558720      0\n",
       "2       1.479121e+09  1072    8                     0      0\n",
       "3       1.479121e+09  1201    8                     0      0\n",
       "4       1.479121e+09   497    8                     0      0\n",
       "...              ...   ...  ...                   ...    ...\n",
       "197769  1.479122e+09  1088    8  18375543003512179035      0\n",
       "197770  1.479122e+09     2    8                 65883      0\n",
       "197771  1.479122e+09   339    8         1095233372160      0\n",
       "197772  1.479122e+09   304    8  18266038235715010892      0\n",
       "197773  1.479122e+09   305    8   8610882488647942550      0\n",
       "\n",
       "[197774 rows x 5 columns]"
      ]
     },
     "execution_count": 9,
     "metadata": {},
     "output_type": "execute_result"
    }
   ],
   "source": [
    "train_data"
   ]
  },
  {
   "cell_type": "code",
   "execution_count": 10,
   "metadata": {},
   "outputs": [
    {
     "name": "stdout",
     "output_type": "stream",
     "text": [
      "There are 27 unique keys in this dataset\n"
     ]
    },
    {
     "name": "stderr",
     "output_type": "stream",
     "text": [
      "100%|██████████| 197773/197773 [00:00<00:00, 2473189.38it/s]"
     ]
    },
    {
     "name": "stdout",
     "output_type": "stream",
     "text": [
      "Function execution time for dataset with 197774 items : 0.1027 seconds\n"
     ]
    },
    {
     "name": "stderr",
     "output_type": "stream",
     "text": [
      "\n"
     ]
    }
   ],
   "source": [
    "def create_transition_matrix(data):\n",
    "\n",
    "    start_time = time.time() \n",
    "\n",
    "    id_list = data['ID'].to_list()\n",
    "\n",
    "    unique_ids = list(set(id_list))\n",
    "\n",
    "    print(f\"There are {len(unique_ids)} unique keys in this dataset\")\n",
    "\n",
    "    transition_matrix = {key : [False] * len(unique_ids) for key in unique_ids}\n",
    "\n",
    "    for i in tqdm(range(len(id_list) - 1)):\n",
    "        ##Extracting ID pair to check in transition matrix\n",
    "        first_id = id_list[i]\n",
    "        second_id = id_list[i+1]\n",
    "\n",
    "        if transition_matrix[first_id][unique_ids.index(second_id)]:\n",
    "            continue\n",
    "        else:\n",
    "            transition_matrix[first_id][unique_ids.index(second_id)] = True\n",
    "\n",
    "    end_time = time.time()\n",
    "    execution_time = end_time - start_time\n",
    "\n",
    "    print(f\"Function execution time for dataset with {len(id_list)} items : {execution_time:.4f} seconds\")\n",
    "\n",
    "    return transition_matrix, unique_ids\n",
    "\n",
    "ch_tm, ch_unique_ids = create_transition_matrix(train_data)"
   ]
  },
  {
   "cell_type": "code",
   "execution_count": 11,
   "metadata": {},
   "outputs": [],
   "source": [
    "# ch_val_tm, ch_val_unique_ids = create_transition_matrix(val_data)"
   ]
  },
  {
   "cell_type": "code",
   "execution_count": 12,
   "metadata": {},
   "outputs": [],
   "source": [
    "def validation(val_data, transition_matrix, unique_ids):\n",
    "\n",
    "    \"\"\"\n",
    "        val_data : validation data \n",
    "        transition_matrix: transition matrix\n",
    "        unique_ids: list of unique ids in training data\n",
    "    \"\"\"\n",
    "    \n",
    "    ##SHOULD I MAKE IT MORE EFFICIENT BY DOING ID verification first?\n",
    "\n",
    "\n",
    "    start_time = time.time() \n",
    "\n",
    "    fpr_count = 0\n",
    "\n",
    "    keys = transition_matrix.keys()\n",
    "\n",
    "    val_data_ids = val_data['ID'].to_list()\n",
    "\n",
    "    for i in tqdm(range(len(val_data_ids) - 1)):\n",
    "\n",
    "        first_id = val_data_ids[i]\n",
    "        second_id = val_data_ids[i+1]\n",
    "\n",
    "        ## Check if both keys are in transition matrix\n",
    "\n",
    "        if (first_id in list(keys)) and (second_id in list(keys)):\n",
    "\n",
    "            ##Check if transition is valid\n",
    "            if transition_matrix[first_id][unique_ids.index(second_id)]:\n",
    "                continue\n",
    "            else: \n",
    "                ## If not valid, then increase False Positive Rate Count, and update the matrix\n",
    "                fpr_count += 1\n",
    "                transition_matrix[first_id][unique_ids.index(second_id)] = True\n",
    "        \n",
    "        else:\n",
    "            raise ValueError(f\"{first_id} or {second_id} ID Not Found, Exiting Validation Process\")\n",
    "            \n",
    "    \n",
    "    ## Calculate False Positive Rate\n",
    "    fpr = fpr_count / len(val_data_ids)\n",
    "    print(f\"False Positive Rate: {fpr:.4f}\")\n",
    "        \n",
    "    end_time = time.time()\n",
    "    execution_time = end_time - start_time\n",
    "\n",
    "\n",
    "    print(f\"Function execution time for dataset with {len(val_data_ids)} items : {execution_time:.4f} seconds\")\n",
    "\n",
    "    return transition_matrix"
   ]
  },
  {
   "cell_type": "code",
   "execution_count": 13,
   "metadata": {},
   "outputs": [
    {
     "name": "stderr",
     "output_type": "stream",
     "text": [
      "100%|██████████| 791096/791096 [00:00<00:00, 1397227.07it/s]"
     ]
    },
    {
     "name": "stdout",
     "output_type": "stream",
     "text": [
      "False Positive Rate: 0.0000\n",
      "Function execution time for dataset with 791097 items : 0.5763 seconds\n"
     ]
    },
    {
     "name": "stderr",
     "output_type": "stream",
     "text": [
      "\n"
     ]
    }
   ],
   "source": [
    "validated_ch_tm = copy.deepcopy(ch_tm)\n",
    "validated_ch_tm = validation(val_data, validated_ch_tm, ch_unique_ids)"
   ]
  },
  {
   "cell_type": "code",
   "execution_count": 14,
   "metadata": {},
   "outputs": [],
   "source": [
    "def visualize_dict_as_matrix(data_dict, plot_title = None, cell_size=20, grid_color='black', grid_width=1):\n",
    "    \"\"\"\n",
    "    Convert a dictionary with boolean lists into a visual matrix image.\n",
    "    \n",
    "    Parameters:\n",
    "    - data_dict: Dictionary where each value is a list of boolean values\n",
    "    - cell_size: Size of each cell in pixels (higher value = higher resolution)\n",
    "    - grid_color: Color of the grid lines\n",
    "    - grid_width: Width of the grid lines\n",
    "    \n",
    "    Returns:\n",
    "    - Displays and saves the matrix visualization\n",
    "    \"\"\"\n",
    "    # Verify all lists are the same length and match the number of keys\n",
    "    keys = list(data_dict.keys())\n",
    "    n = len(keys)\n",
    "    if any(len(data_dict[key]) != n for key in keys):\n",
    "        raise ValueError(\"All lists must have the same length as the number of keys\")\n",
    "\n",
    "    # Create an n×n matrix filled with boolean values from the dictionary\n",
    "    matrix = np.zeros((n, n), dtype=bool)\n",
    "    \n",
    "    # Fill the matrix with values from the dictionary\n",
    "    for i, key in enumerate(keys):\n",
    "        matrix[i] = data_dict[key]\n",
    "    \n",
    "    # Calculate figure size and resolution\n",
    "    figsize = (n * cell_size / 100, n * cell_size / 100)\n",
    "    dpi = 100\n",
    "    \n",
    "    # Create a figure and axis\n",
    "    fig, ax = plt.subplots(figsize=figsize, dpi=dpi)\n",
    "    \n",
    "    # Create the heatmap (red for False, green for True)\n",
    "    cmap = plt.matplotlib.colors.ListedColormap(['red', 'green'])\n",
    "    \n",
    "    # Plot the matrix\n",
    "    im = ax.imshow(matrix, cmap=cmap, interpolation='none')\n",
    "    \n",
    "    # Add grid lines\n",
    "    for i in range(n+1):\n",
    "        ax.axhline(i-0.5, color=grid_color, linewidth=grid_width)\n",
    "        ax.axvline(i-0.5, color=grid_color, linewidth=grid_width)\n",
    "    \n",
    "    # Remove ticks but keep labels if needed\n",
    "    ax.set_xticks(np.arange(n))\n",
    "    ax.set_yticks(np.arange(n))\n",
    "    ax.set_xticklabels(keys)\n",
    "    ax.set_yticklabels(keys)\n",
    "    \n",
    "    # Set title and labels\n",
    "    if plot_title:\n",
    "        ax.set_title(plot_title)\n",
    "    \n",
    "    # Optional: customize tick parameters\n",
    "    plt.setp(ax.get_xticklabels(), rotation=45, ha=\"right\", rotation_mode=\"anchor\")\n",
    "    \n",
    "    # Adjust layout\n",
    "    plt.tight_layout()\n",
    "    \n",
    "    # Save the figure\n",
    "    # plt.savefig('matrix_visualization.png', bbox_inches='tight', dpi=dpi*2)\n",
    "    \n",
    "    # Display the figure\n",
    "    plt.show()\n",
    "    \n",
    "    return fig, ax"
   ]
  },
  {
   "cell_type": "code",
   "execution_count": 15,
   "metadata": {},
   "outputs": [
    {
     "data": {
      "image/png": "[encoded data removed]",
      "text/plain": [
       "<Figure size 540x540 with 1 Axes>"
      ]
     },
     "metadata": {},
     "output_type": "display_data"
    },
    {
     "data": {
      "text/plain": [
       "(<Figure size 540x540 with 1 Axes>,\n",
       " <Axes: title={'center': 'Training Transition Matrix'}>)"
      ]
     },
     "execution_count": 15,
     "metadata": {},
     "output_type": "execute_result"
    }
   ],
   "source": [
    "visualize_dict_as_matrix(ch_tm, \"Training Transition Matrix\")"
   ]
  },
  {
   "cell_type": "code",
   "execution_count": 16,
   "metadata": {},
   "outputs": [
    {
     "data": {
      "image/png": "[encoded data removed]",
      "text/plain": [
       "<Figure size 540x540 with 1 Axes>"
      ]
     },
     "metadata": {},
     "output_type": "display_data"
    },
    {
     "data": {
      "text/plain": [
       "(<Figure size 540x540 with 1 Axes>,\n",
       " <Axes: title={'center': 'Validation Transition Matrix'}>)"
      ]
     },
     "execution_count": 16,
     "metadata": {},
     "output_type": "execute_result"
    }
   ],
   "source": [
    "visualize_dict_as_matrix(validated_ch_tm, \"Validation Transition Matrix\")"
   ]
  },
  {
   "cell_type": "code",
   "execution_count": 17,
   "metadata": {},
   "outputs": [],
   "source": [
    "def shift_columns(df):\n",
    "    \n",
    "    for dlc in [2,5,6]:\n",
    "\n",
    "        df.loc[df['DLC'] == dlc, df.columns[3:]] = df.loc[df['DLC'] == dlc, df.columns[3:]].shift(periods=8-dlc, axis='columns', fill_value='00')\n",
    "\n",
    "    return df\n",
    "\n",
    "def read_ch_data(data_path):\n",
    "    \n",
    "    columns = ['Timestamp','ID', 'DLC', 'data0', 'data1', 'data2', 'data3', 'data4', \n",
    "           'data5', 'data6', 'data7', 'label']\n",
    "    \n",
    "    data = pd.read_csv(data_path, names = columns)\n",
    "\n",
    "    data = shift_columns(data)\n",
    "    \n",
    "    ##Replacing all NaNs with '00' \n",
    "    data = data.replace(np.NaN, '00')\n",
    "    \n",
    "    ##Joining all data columns to put all data in one column\n",
    "    data_cols = ['data0', 'data1', 'data2', 'data3', 'data4', 'data5', 'data6', 'data7']\n",
    "    \n",
    "    ##The data column is in hexadecimal\n",
    "    data['Payload'] = data[data_cols].apply(''.join, axis=1)\n",
    "    data.drop(columns = data_cols, inplace = True, axis = 1)\n",
    "        \n",
    "    data = data.assign(IAT=data['Timestamp'].diff().fillna(0))\n",
    "    data = data[['Timestamp', 'ID','DLC','Payload', 'IAT', 'label']]\n",
    "    data['label'].replace({'R' : 0, 'T' : 1}, inplace = True)\n",
    "    \n",
    "    return data"
   ]
  },
  {
   "cell_type": "code",
   "execution_count": 18,
   "metadata": {},
   "outputs": [
    {
     "data": {
      "application/vnd.microsoft.datawrangler.viewer.v0+json": {
       "columns": [
        {
         "name": "index",
         "rawType": "int64",
         "type": "integer"
        },
        {
         "name": "Timestamp",
         "rawType": "float64",
         "type": "float"
        },
        {
         "name": "ID",
         "rawType": "int64",
         "type": "integer"
        },
        {
         "name": "DLC",
         "rawType": "int64",
         "type": "integer"
        },
        {
         "name": "Payload",
         "rawType": "uint64",
         "type": "integer"
        },
        {
         "name": "IAT",
         "rawType": "float64",
         "type": "float"
        },
        {
         "name": "label",
         "rawType": "int64",
         "type": "integer"
        }
       ],
       "conversionMethod": "pd.DataFrame",
       "ref": "4ae973c6-9739-4628-ad7e-d94a44f87eee",
       "rows": [
        [
         "0",
         "1478198376.389427",
         "790",
         "8",
         "369691032840896623",
         "0.0",
         "0"
        ],
        [
         "1",
         "1478198376.389636",
         "399",
         "8",
         "18328243108518297600",
         "0.0002090930938720703",
         "0"
        ],
        [
         "2",
         "1478198376.389864",
         "608",
         "8",
         "1810766114876976442",
         "0.00022792816162109375",
         "0"
        ],
        [
         "3",
         "1478198376.390096",
         "672",
         "8",
         "7205928855671061760",
         "0.0002319812774658203",
         "0"
        ],
        [
         "4",
         "1478198376.390333",
         "809",
         "8",
         "4664461563235663892",
         "0.00023698806762695312",
         "0"
        ]
       ],
       "shape": {
        "columns": 6,
        "rows": 5
       }
      },
      "text/html": [
       "<div>\n",
       "<style scoped>\n",
       "    .dataframe tbody tr th:only-of-type {\n",
       "        vertical-align: middle;\n",
       "    }\n",
       "\n",
       "    .dataframe tbody tr th {\n",
       "        vertical-align: top;\n",
       "    }\n",
       "\n",
       "    .dataframe thead th {\n",
       "        text-align: right;\n",
       "    }\n",
       "</style>\n",
       "<table border=\"1\" class=\"dataframe\">\n",
       "  <thead>\n",
       "    <tr style=\"text-align: right;\">\n",
       "      <th></th>\n",
       "      <th>Timestamp</th>\n",
       "      <th>ID</th>\n",
       "      <th>DLC</th>\n",
       "      <th>Payload</th>\n",
       "      <th>IAT</th>\n",
       "      <th>label</th>\n",
       "    </tr>\n",
       "  </thead>\n",
       "  <tbody>\n",
       "    <tr>\n",
       "      <th>0</th>\n",
       "      <td>1.478198e+09</td>\n",
       "      <td>790</td>\n",
       "      <td>8</td>\n",
       "      <td>369691032840896623</td>\n",
       "      <td>0.000000</td>\n",
       "      <td>0</td>\n",
       "    </tr>\n",
       "    <tr>\n",
       "      <th>1</th>\n",
       "      <td>1.478198e+09</td>\n",
       "      <td>399</td>\n",
       "      <td>8</td>\n",
       "      <td>18328243108518297600</td>\n",
       "      <td>0.000209</td>\n",
       "      <td>0</td>\n",
       "    </tr>\n",
       "    <tr>\n",
       "      <th>2</th>\n",
       "      <td>1.478198e+09</td>\n",
       "      <td>608</td>\n",
       "      <td>8</td>\n",
       "      <td>1810766114876976442</td>\n",
       "      <td>0.000228</td>\n",
       "      <td>0</td>\n",
       "    </tr>\n",
       "    <tr>\n",
       "      <th>3</th>\n",
       "      <td>1.478198e+09</td>\n",
       "      <td>672</td>\n",
       "      <td>8</td>\n",
       "      <td>7205928855671061760</td>\n",
       "      <td>0.000232</td>\n",
       "      <td>0</td>\n",
       "    </tr>\n",
       "    <tr>\n",
       "      <th>4</th>\n",
       "      <td>1.478198e+09</td>\n",
       "      <td>809</td>\n",
       "      <td>8</td>\n",
       "      <td>4664461563235663892</td>\n",
       "      <td>0.000237</td>\n",
       "      <td>0</td>\n",
       "    </tr>\n",
       "  </tbody>\n",
       "</table>\n",
       "</div>"
      ],
      "text/plain": [
       "      Timestamp   ID  DLC               Payload       IAT  label\n",
       "0  1.478198e+09  790    8    369691032840896623  0.000000      0\n",
       "1  1.478198e+09  399    8  18328243108518297600  0.000209      0\n",
       "2  1.478198e+09  608    8   1810766114876976442  0.000228      0\n",
       "3  1.478198e+09  672    8   7205928855671061760  0.000232      0\n",
       "4  1.478198e+09  809    8   4664461563235663892  0.000237      0"
      ]
     },
     "execution_count": 18,
     "metadata": {},
     "output_type": "execute_result"
    }
   ],
   "source": [
    "dos_dataset_path =os.path.join(data_dir, 'DoS_dataset.csv')\n",
    "dos_dataset = read_ch_data(dos_dataset_path)\n",
    "dos_dataset = transform_data(dos_dataset)\n",
    "dos_dataset.head()"
   ]
  },
  {
   "cell_type": "code",
   "execution_count": 19,
   "metadata": {},
   "outputs": [
    {
     "data": {
      "text/plain": [
       "'00:47:12:669'"
      ]
     },
     "execution_count": 19,
     "metadata": {},
     "output_type": "execute_result"
    }
   ],
   "source": [
    "data_len(dos_dataset)"
   ]
  },
  {
   "cell_type": "code",
   "execution_count": 20,
   "metadata": {},
   "outputs": [],
   "source": [
    "# test_data_ids = dos_dataset['ID'].to_list()\n",
    "# predicted_labels = []\n",
    "\n",
    "# # print(f\"Test data length {len(test_data_ids)}\")\n",
    "\n",
    "# for i in tqdm(range(len(test_data_ids) - 1)):\n",
    "    \n",
    "#     # print(f\"i: {i} i+1 : {i+1}\")\n",
    "\n",
    "#     first_id = test_data_ids[i]\n",
    "#     second_id = test_data_ids[i+1]\n",
    "\n",
    "#     ## Check if both ids are in the transition matrix\n",
    "#     if (first_id in ch_unique_ids) and (second_id in ch_unique_ids):\n",
    "\n",
    "#         ##Check if transition is valid\n",
    "#         if validated_ch_tm[first_id][ch_unique_ids.index(second_id)]:\n",
    "#             predicted_labels.append(0)\n",
    "#         else: \n",
    "#             predicted_labels.append(1)\n",
    "    \n",
    "#     else:\n",
    "#         if first_id not in ch_unique_ids:\n",
    "#             predicted_labels.append(1)\n",
    "#         else:\n",
    "#             predicted_labels.append(0)\n",
    "    \n",
    "#     predicted_labels.append(0)\n",
    "\n",
    "#     true_labels = dos_dataset['label'].to_numpy()\n",
    "# predicted_labels = np.array(predicted_labels)\n",
    "\n",
    "\n"
   ]
  },
  {
   "cell_type": "code",
   "execution_count": 21,
   "metadata": {},
   "outputs": [
    {
     "name": "stderr",
     "output_type": "stream",
     "text": [
      "100%|██████████| 3665770/3665770 [00:07<00:00, 488232.40it/s]\n"
     ]
    },
    {
     "name": "stdout",
     "output_type": "stream",
     "text": [
      "              precision    recall  f1-score   support\n",
      "\n",
      "      Normal       1.00      0.99      0.99   3078250\n",
      "      Attack       0.95      1.00      0.97    587521\n",
      "\n",
      "    accuracy                           0.99   3665771\n",
      "   macro avg       0.98      1.00      0.98   3665771\n",
      "weighted avg       0.99      0.99      0.99   3665771\n",
      "\n",
      "Accuracy: 0.9916\n",
      "F1 Score: 0.9745\n",
      "True Positive Rate (TPR / Recall): 1.0000\n",
      "False Positive Rate (FPR): 0.0100\n",
      "False Negative Rate (FNR): 0.0000\n",
      "True Negative Rate (TNR / Specificity): 0.9900\n"
     ]
    },
    {
     "data": {
      "image/png": "[encoded data removed]",
      "text/plain": [
       "<Figure size 600x500 with 2 Axes>"
      ]
     },
     "metadata": {},
     "output_type": "display_data"
    },
    {
     "name": "stdout",
     "output_type": "stream",
     "text": [
      "Evaluation time for dataset with 3665771 items: 11.8345 seconds\n"
     ]
    }
   ],
   "source": [
    "def test(test_data, validated_tm, training_unique_ids):\n",
    "\n",
    "    start_time = time.time() \n",
    "\n",
    "    test_data_ids = test_data['ID'].to_list()\n",
    "    predicted_labels = []\n",
    "\n",
    "    # print(f\"Test data length {len(test_data_ids)}\")\n",
    "\n",
    "    for i in tqdm(range(len(test_data_ids) - 1)):\n",
    "        \n",
    "        # print(f\"i: {i} i+1 : {i+1}\")\n",
    "\n",
    "        first_id = test_data_ids[i]\n",
    "        second_id = test_data_ids[i+1]\n",
    "\n",
    "        ## Check if both ids are in the transition matrix\n",
    "        if (first_id in training_unique_ids) and (second_id in training_unique_ids):\n",
    "\n",
    "            ##Check if transition is valid\n",
    "            if validated_tm[first_id][training_unique_ids.index(second_id)]:\n",
    "                predicted_labels.append(0)\n",
    "            else: \n",
    "                predicted_labels.append(1)\n",
    "        \n",
    "        else:\n",
    "            if first_id not in training_unique_ids:\n",
    "                predicted_labels.append(1)\n",
    "            else:\n",
    "                predicted_labels.append(0)\n",
    "\n",
    "        true_labels = test_data['label'].to_numpy()\n",
    "    predicted_labels.append(0)\n",
    "    predicted_labels = np.array(predicted_labels)\n",
    "\n",
    "    # Print classification report\n",
    "    print(classification_report(true_labels, predicted_labels, target_names=['Normal', 'Attack'], zero_division=0))\n",
    "\n",
    "    # Compute confusion matrix: [[TN, FP], [FN, TP]]\n",
    "    cm = confusion_matrix(true_labels, predicted_labels)\n",
    "    TN, FP, FN, TP = cm.ravel()\n",
    "\n",
    "    # Calculate metrics\n",
    "    accuracy = accuracy_score(true_labels, predicted_labels)\n",
    "    f1 = f1_score(true_labels, predicted_labels)\n",
    "    tpr = TP / (TP + FN) if (TP + FN) > 0 else 0  # Sensitivity, Recall\n",
    "    fpr = FP / (FP + TN) if (FP + TN) > 0 else 0\n",
    "    fnr = FN / (FN + TP) if (FN + TP) > 0 else 0\n",
    "    tnr = TN / (TN + FP) if (TN + FP) > 0 else 0  # Specificity\n",
    "\n",
    "    # Print metrics\n",
    "    print(f\"Accuracy: {accuracy:.4f}\")\n",
    "    print(f\"F1 Score: {f1:.4f}\")\n",
    "    print(f\"True Positive Rate (TPR / Recall): {tpr:.4f}\")\n",
    "    print(f\"False Positive Rate (FPR): {fpr:.4f}\")\n",
    "    print(f\"False Negative Rate (FNR): {fnr:.4f}\")\n",
    "    print(f\"True Negative Rate (TNR / Specificity): {tnr:.4f}\")\n",
    "\n",
    "    # Plot confusion matrix\n",
    "    plt.figure(figsize=(6, 5))\n",
    "    sns.heatmap(cm, annot=True, fmt='d', cmap='Blues', xticklabels=['Normal', 'Attack'], yticklabels=['Normal', 'Attack'])\n",
    "    plt.xlabel('Predicted Label')\n",
    "    plt.ylabel('True Label')\n",
    "    plt.title('Confusion Matrix')\n",
    "    plt.tight_layout()\n",
    "    plt.show()\n",
    "    \n",
    "    end_time = time.time()\n",
    "\n",
    "    print(\"Evaluation time for dataset with {} items: {:.4f} seconds\".format(len(test_data_ids), end_time - start_time))\n",
    "\n",
    "test(dos_dataset, validated_ch_tm, ch_unique_ids)"
   ]
  },
  {
   "cell_type": "code",
   "execution_count": null,
   "metadata": {},
   "outputs": [],
   "source": []
  }
 ],
 "metadata": {
  "kernelspec": {
   "display_name": "pt",
   "language": "python",
   "name": "python3"
  },
  "language_info": {
   "codemirror_mode": {
    "name": "ipython",
    "version": 3
   },
   "file_extension": ".py",
   "mimetype": "text/x-python",
   "name": "python",
   "nbconvert_exporter": "python",
   "pygments_lexer": "ipython3",
   "version": "3.9.18"
  }
 },
 "nbformat": 4,
 "nbformat_minor": 2
}
