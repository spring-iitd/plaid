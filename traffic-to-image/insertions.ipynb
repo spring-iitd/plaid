{
 "cells": [
  {
   "cell_type": "code",
   "execution_count": 1,
   "metadata": {},
   "outputs": [],
   "source": [
    "import numpy as np\n",
    "import pandas as pd\n",
    "import re"
   ]
  },
  {
   "cell_type": "code",
   "execution_count": 2,
   "metadata": {},
   "outputs": [],
   "source": [
    "def calculate_crc(data):\n",
    "    crc = 0x0000\n",
    "    poly = 0x4599  # CRC-15 polynomial\n",
    "\n",
    "    for bit in data:\n",
    "        crc ^= (int(bit) & 0x01) << 14  # XOR with the current bit shifted left by 14 bits\n",
    "\n",
    "        for _ in range(15):\n",
    "            if crc & 0x8000:\n",
    "                crc = (crc << 1) ^ poly\n",
    "            else:\n",
    "                crc <<= 1\n",
    "\n",
    "        crc &= 0x7FFF  # Ensure 15 bits\n",
    "\n",
    "    return crc"
   ]
  },
  {
   "cell_type": "code",
   "execution_count": 3,
   "metadata": {},
   "outputs": [],
   "source": [
    "def stuff_bits(binary_string):\n",
    "    result = ''\n",
    "    count = 0  # Initialize a count for consecutive 0's\n",
    "    \n",
    "    for bit in binary_string:\n",
    "        result += bit  # Append the current bit to the result string\n",
    "        if bit == '0':\n",
    "            count += 1  # Increment the count if the current bit is 0\n",
    "            if count == 5:\n",
    "                result += '1'  # Insert a 1 after 5 consecutive 0's\n",
    "                count = 0  # Reset the count after inserting the 1\n",
    "        else:\n",
    "            count = 0  # Reset the count if the current bit is not 0\n",
    "    \n",
    "    return result"
   ]
  },
  {
   "cell_type": "code",
   "execution_count": 4,
   "metadata": {},
   "outputs": [],
   "source": [
    "def hex_to_bits(hex_value, num_bits):\n",
    "    return bin(int(hex_value, 16))[2:].zfill(num_bits)\n",
    "\n",
    "def convert_to_binary_string(can_id, dlc, data):\n",
    "    start_of_frame = '0'\n",
    "    can_id_bits = stuff_bits(hex_to_bits(can_id, 11))\n",
    "    rtr_bit = '0'\n",
    "    ide_bit = '0'\n",
    "    control_r0_bit = '0'\n",
    "    control_stuff_bit = '1'\n",
    "    dlc_bits = bin(dlc)[2:].zfill(4)\n",
    "    data_bits = ''.join(hex_to_bits(hex_byte, 8) for hex_byte in data)\n",
    "    padding_bits = '0' * (8 * (8 - dlc))  # Fill missing data bytes with zeros\n",
    "    data_bit_total = stuff_bits(data_bits+padding_bits)\n",
    "    crc_bit =stuff_bits(bin(calculate_crc(start_of_frame+can_id_bits +rtr_bit+ide_bit+control_r0_bit+control_stuff_bit+ dlc_bits + data_bit_total))[2:].zfill(15))\n",
    "    crc_delimiter = '1'\n",
    "    ack_bit = '0'\n",
    "    ack_delimiter = '1'\n",
    "    end_of_frame_bits = '1'*7\n",
    "    inter_Frame_spacing_bits = '1'*3\n",
    "    return start_of_frame+can_id_bits +rtr_bit+ide_bit+control_r0_bit+ control_stuff_bit+dlc_bits + data_bit_total+crc_bit + crc_delimiter+ack_bit +ack_delimiter+ end_of_frame_bits+inter_Frame_spacing_bits\n",
    "     \n"
   ]
  },
  {
   "cell_type": "code",
   "execution_count": 5,
   "metadata": {},
   "outputs": [
    {
     "data": {
      "text/plain": [
       "[1479121434.850202,\n",
       " '00110101000000011000000001101001010001000010001100110011011010000010000010000010101000100111111101001101011111111111']"
      ]
     },
     "execution_count": 5,
     "metadata": {},
     "output_type": "execute_result"
    }
   ],
   "source": [
    "input_filename = \"D:\\IIT-Delhi\\Semester-3\\JCD892-M.Tech Major Project Part-1\\Implementation\\Datasets/vv.txt\"\n",
    "data_array = []\n",
    "with open(input_filename, 'r') as input_file:\n",
    "    for line in input_file:\n",
    "        line=re.sub(r\"Timestamp:\\s+(\\d+\\.\\d+)\\s+ID:\\s+([\\da-f]{4})\\s+\\d+\\s+DLC:\\s+(\\d)\\s+(\\s+[\\da-f]{2})*\", r\"\\1 \\2 \\3 \\4\", line)\n",
    "        parts = line.strip().split(' ')\n",
    "        timestamp = float(parts[0])\n",
    "        can_id = parts[1]   \n",
    "        dlc = int(parts[2])\n",
    "        data = parts[3:3 + dlc]\n",
    "\n",
    "        converted_data = convert_to_binary_string(can_id, dlc, data)\n",
    "        data_array.append([timestamp, converted_data])\n"
   ]
  },
  {
   "cell_type": "code",
   "execution_count": 16,
   "metadata": {},
   "outputs": [],
   "source": [
    "from PIL import Image\n",
    "import numpy as np\n",
    "data_rate=512000 #512kbps\n",
    "# number_of_bits_in_each_frame=114\n",
    "# frame_duration=number_of_bits_in_each_frame/data_rate\n",
    "total_bits_per_image=128*128\n",
    "def create_image(binary_matrix):\n",
    "    width = len(binary_matrix[0])\n",
    "    height = len(binary_matrix)\n",
    "    # pixel_mapping={'3':150,'2':100,'0':0,'1':255}\n",
    "    color_mapping = {\n",
    "        '3': (255, 0, 0),  # Red\n",
    "        '2': (0, 255, 0),  # Blue\n",
    "        '1': (255, 255, 255),  # White\n",
    "        '0': (0, 0, 0)  # Black\n",
    "    }\n",
    "    image_data = [color_mapping[value] for row in binary_matrix for value in row]\n",
    "    image = Image.new('RGB', (width, height))\n",
    "    image.putdata(image_data)\n",
    "    return image\n",
    "def calculate_interframe_bits(timestamp_difference, data_rate,i):\n",
    "    length_of_frame = len(data_array[i])\n",
    "    frame_duration=length_of_frame/data_rate\n",
    "    interframe_time = timestamp_difference - frame_duration\n",
    "    interframe_bits = int(data_rate * interframe_time)\n",
    "    return '2' * interframe_bits\n"
   ]
  },
  {
   "cell_type": "code",
   "execution_count": null,
   "metadata": {},
   "outputs": [],
   "source": [
    "binary_matrix = []\n",
    "a = [['0' for _ in range(128)] for _ in range(128)]\n",
    "i = 0\n",
    "x = 0\n",
    "y = 0\n",
    "\n",
    "while i < len(data_array):\n",
    "    bin_str = data_array[i][1]\n",
    "    for bit in bin_str:\n",
    "        a[x][y] = bit\n",
    "        if y == 127:\n",
    "            x += 1\n",
    "            y = 0\n",
    "        else:\n",
    "            y += 1\n",
    "        if x == 128:\n",
    "            binary_matrix.append(a)\n",
    "            a = [['0' for _ in range(128)] for _ in range(128)]\n",
    "            x = 0\n",
    "            y = 0\n",
    "        \n",
    "        \n",
    "        \n",
    "    if i < len(data_array) - 1:\n",
    "        timestamp_difference = data_array[i+1][0] - data_array[i][0]\n",
    "        interframe_bits = calculate_interframe_bits(timestamp_difference, data_rate,i)\n",
    "        for bit in interframe_bits:\n",
    "            a[x][y] = bit\n",
    "            if y == 127:\n",
    "                x += 1\n",
    "                y = 0\n",
    "            else:\n",
    "                y += 1\n",
    "            if x == 128:\n",
    "                binary_matrix.append(a)\n",
    "                a = [['0' for _ in range(128)] for _ in range(128)]\n",
    "                x = 0\n",
    "                y = 0\n",
    "    while y < 128 and y>0 :\n",
    "        a[x][y] = '3'\n",
    "        if y == 127:\n",
    "            x += 1\n",
    "            if x == 128:\n",
    "                binary_matrix.append(a)\n",
    "                a = [['0' for _ in range(128)] for _ in range(128)]\n",
    "                x=0\n",
    "                y=0\n",
    "            y=0\n",
    "            break \n",
    "        y+=1    \n",
    "\n",
    "    i += 1"
   ]
  },
  {
   "cell_type": "code",
   "execution_count": 7,
   "metadata": {},
   "outputs": [],
   "source": [
    "img_matrix=[]\n",
    "size_of_binary_matrix=len(binary_matrix)\n",
    "for i in  range (size_of_binary_matrix):\n",
    "    img_matrix.append(create_image(binary_matrix[i]))"
   ]
  },
  {
   "cell_type": "code",
   "execution_count": 8,
   "metadata": {},
   "outputs": [
    {
     "name": "stdout",
     "output_type": "stream",
     "text": [
      "Images saved\n"
     ]
    }
   ],
   "source": [
    "import os\n",
    "output_folder=\"D:\\IIT-Delhi\\Semester-3\\JCD892-M.Tech Major Project Part-1\\Implementation\\Temp_Datasets\\Car_Hacking_Dataset\\Output_Dataset\\images-new-today\"\n",
    "for i,img in enumerate(img_matrix):\n",
    "    img_path=os.path.join(output_folder,f\"image_{i+1}.png\")\n",
    "    img.save(img_path)\n",
    "print(\"Images saved\")"
   ]
  },
  {
   "cell_type": "code",
   "execution_count": 9,
   "metadata": {},
   "outputs": [],
   "source": [
    "import pandas as pd\n",
    "import numpy as np\n",
    "import warnings\n",
    "from sklearn.model_selection import train_test_split\n",
    "from keras.models import Sequential\n",
    "from keras.layers import Conv1D,Conv2D,MaxPooling2D\n",
    "from keras.layers import MaxPool1D\n",
    "from keras.layers import Flatten\n",
    "from keras.layers import Dense\n",
    "from keras.optimizers import Adam\n",
    "import tensorflow as tf\n",
    "from PIL import Image\n",
    "from keras.models import Sequential\n",
    "from keras.layers import Conv1D, MaxPool1D, Flatten, Dense, Dropout, BatchNormalization\n",
    "from keras.optimizers import Adam\n",
    "from keras.callbacks import EarlyStopping\n",
    "from sklearn.model_selection import train_test_split\n",
    "from sklearn.metrics import classification_report,roc_auc_score\n",
    "warnings.filterwarnings(\"ignore\")"
   ]
  },
  {
   "cell_type": "code",
   "execution_count": 10,
   "metadata": {},
   "outputs": [],
   "source": [
    "model=Sequential()\n",
    "model.add(Conv2D(filters=64,kernel_size=(3,3),padding=\"same\",activation=\"relu\",input_shape=(128,128,3)))\n",
    "model.add(MaxPooling2D(pool_size=(2,2),padding=\"valid\",strides=2))\n",
    "model.add(Conv2D(filters=256,kernel_size=(3,3),padding=\"same\",activation=\"relu\"))\n",
    "model.add(MaxPooling2D(pool_size=(2,2),padding=\"valid\",strides=2))\n",
    "model.add(Dropout(0.9))\n",
    "model.add(Flatten())\n",
    "model.add(Dense(units=16,activation=\"relu\"))\n",
    "model.add(Dense(units=1,activation=\"sigmoid\"))\n",
    "adam = Adam(learning_rate=0.001)\n",
    "model.compile(optimizer=adam,loss=\"binary_crossentropy\",metrics=[\"accuracy\"])"
   ]
  },
  {
   "cell_type": "code",
   "execution_count": 11,
   "metadata": {},
   "outputs": [],
   "source": [
    "image_array_list = [np.array(img) for img in img_matrix]\n",
    "final_array = np.stack(image_array_list)"
   ]
  },
  {
   "cell_type": "code",
   "execution_count": 12,
   "metadata": {},
   "outputs": [
    {
     "data": {
      "text/plain": [
       "(212, 128, 128, 3)"
      ]
     },
     "execution_count": 12,
     "metadata": {},
     "output_type": "execute_result"
    }
   ],
   "source": [
    "final_array.shape"
   ]
  },
  {
   "cell_type": "code",
   "execution_count": 13,
   "metadata": {},
   "outputs": [
    {
     "data": {
      "text/plain": [
       "array([[0, 0, 0, 0, 0, 0, 0, 0, 0, 0, 0, 0, 0, 0, 0, 0, 0, 0, 0, 0, 0, 0,\n",
       "        0, 0, 0, 0, 0, 0, 0, 0, 0, 0, 0, 0, 0, 0, 0, 0, 0, 0, 0, 0, 0, 0,\n",
       "        0, 0, 0, 0, 0, 0, 0, 0, 0, 0, 0, 0, 0, 0, 0, 0, 0, 0, 0, 0, 0, 0,\n",
       "        0, 0, 0, 0, 0, 0, 0, 0, 0, 0, 0, 0, 0, 0, 0, 0, 0, 0, 0, 0, 0, 0,\n",
       "        0, 0, 0, 0, 0, 0, 0, 0, 0, 0, 0, 0, 0, 0, 0, 0, 0, 0, 0, 0, 0, 0,\n",
       "        0, 0, 0, 0, 0, 0, 0, 0, 0, 0, 0, 0, 0, 0, 0, 0, 0, 0, 0, 0, 0, 0,\n",
       "        0, 0, 0, 0, 0, 0, 0, 0, 0, 0, 0, 0, 0, 0, 0, 0, 0, 0, 0, 0, 0, 0,\n",
       "        0, 0, 0, 0, 0, 0, 0, 0, 0, 0, 0, 0, 0, 0, 0, 0, 0, 0, 0, 0, 0, 0,\n",
       "        0, 0, 0, 0, 0, 0, 0, 0, 0, 0, 0, 0, 0, 0, 0, 0, 0, 0, 0, 0, 0, 0,\n",
       "        0, 0, 0, 0, 0, 0, 0, 0, 0, 0, 0, 0, 0, 0]])"
      ]
     },
     "execution_count": 13,
     "metadata": {},
     "output_type": "execute_result"
    }
   ],
   "source": [
    "y = np.array([0]*len(final_array))\n",
    "y.reshape(1,len(y))"
   ]
  },
  {
   "cell_type": "code",
   "execution_count": 14,
   "metadata": {},
   "outputs": [],
   "source": [
    "# X_train,X_test,y_train,y_test=train_test_split(final_array,y,test_size=0.2,random_state=True)\n",
    "# X_train,X_validation,y_train,y_validation=train_test_split(X_train,y_train,test_size=0.2,random_state=True)"
   ]
  },
  {
   "cell_type": "code",
   "execution_count": 15,
   "metadata": {},
   "outputs": [],
   "source": [
    "X_train = final_array\n",
    "y_train = y"
   ]
  },
  {
   "cell_type": "code",
   "execution_count": 16,
   "metadata": {},
   "outputs": [
    {
     "name": "stdout",
     "output_type": "stream",
     "text": [
      "Epoch 1/3\n"
     ]
    },
    {
     "name": "stdout",
     "output_type": "stream",
     "text": [
      "7/7 [==============================] - 11s 1s/step - loss: 2.8927 - accuracy: 0.9387\n",
      "Epoch 2/3\n",
      "7/7 [==============================] - 11s 1s/step - loss: 0.0000e+00 - accuracy: 1.0000\n",
      "Epoch 3/3\n",
      "7/7 [==============================] - 9s 1s/step - loss: 0.0000e+00 - accuracy: 1.0000\n"
     ]
    }
   ],
   "source": [
    "history = model.fit(X_train, y_train, epochs=3)"
   ]
  },
  {
   "cell_type": "code",
   "execution_count": 39,
   "metadata": {},
   "outputs": [],
   "source": [
    "import numpy as np\n",
    "import pandas as pd\n",
    "import re"
   ]
  },
  {
   "cell_type": "code",
   "execution_count": 40,
   "metadata": {},
   "outputs": [],
   "source": [
    "input_filename = \"D:\\IIT-Delhi\\Semester-3\\JCD892-M.Tech Major Project Part-1\\Implementation\\Temp_Datasets\\Car_Hacking_Dataset\\Input_Dataset\\DoS_datset_insertions.csv\"\n",
    "data_array1 = []\n",
    "frame_type = []\n",
    "with open(input_filename, 'r') as input_file:\n",
    "    for line in input_file:\n",
    "        # line=re.sub(r\"Timestamp:\\s+(\\d+\\.\\d+)\\s+ID:\\s+([\\da-f]{4})\\s+\\d+\\s+DLC:\\s+(\\d)\\s+(\\s+[\\da-f]{2})*\", r\"\\1 \\2 \\3 \\4\", line)\n",
    "        parts = line.strip().split(',')\n",
    "        timestamp = float(parts[0])\n",
    "        can_id = parts[1]   \n",
    "        dlc = int(parts[2])\n",
    "        data = parts[3:3 + dlc]\n",
    "        frame_type.append(0 if parts[-1]=='R' else 1)\n",
    "        converted_data = convert_to_binary_string(can_id, dlc, data)\n",
    "        data_array1.append([timestamp, converted_data])\n",
    "\n"
   ]
  },
  {
   "cell_type": "code",
   "execution_count": 41,
   "metadata": {},
   "outputs": [],
   "source": [
    "from PIL import Image\n",
    "import numpy as np\n",
    "data_rate=512000 #512kbps\n",
    "# number_of_bits_in_each_frame=114\n",
    "# frame_duration=number_of_bits_in_each_frame/data_rate\n",
    "total_bits_per_image=128*128\n",
    "def create_image_new(binary_matrix):\n",
    "    width = len(binary_matrix[0])\n",
    "    height = len(binary_matrix)\n",
    "    # pixel_mapping={'3':150,'2':100,'0':0,'1':255}\n",
    "    color_mapping = {\n",
    "        '3': (255, 0, 0),  # Red\n",
    "        '2': (0, 255, 0),  # Blue\n",
    "        '1': (255, 255, 255),  # White\n",
    "        '0': (0, 0, 0)  # Black\n",
    "    }\n",
    "    image_data = [color_mapping[value] for row in binary_matrix for value in row]\n",
    "    image = Image.new('RGB', (width, height))\n",
    "    image.putdata(image_data)\n",
    "    return image\n",
    "def calculate_interframe_bits_new(timestamp_difference, data_rate,i):\n",
    "    length_of_frame = len(data_array1[i])\n",
    "    frame_duration=length_of_frame/data_rate\n",
    "    interframe_time = timestamp_difference - frame_duration\n",
    "    interframe_bits = int(data_rate * interframe_time)\n",
    "    return '2' * interframe_bits\n"
   ]
  },
  {
   "cell_type": "code",
   "execution_count": 42,
   "metadata": {},
   "outputs": [],
   "source": [
    "\n",
    "binary_matrix1 = []\n",
    "y1=[]\n",
    "a = [['0' for _ in range(128)] for _ in range(128)]\n",
    "i = 0\n",
    "x = 0\n",
    "y = 0\n",
    "flag = 0\n",
    "while i < len(data_array1):\n",
    "    bin_str = data_array1[i][1]\n",
    "    if frame_type[i]==1:\n",
    "        flag =  1\n",
    "    for bit in bin_str:\n",
    "        a[x][y] = bit\n",
    "        if y == 127:\n",
    "            x += 1\n",
    "            y = 0\n",
    "        else:\n",
    "            y += 1\n",
    "        if x == 128:\n",
    "            binary_matrix1.append(a)\n",
    "            y1.append(1 if flag == 1 else 0)\n",
    "            falg = 0\n",
    "            a = [['0' for _ in range(128)] for _ in range(128)]\n",
    "            x = 0\n",
    "            y = 0\n",
    "        \n",
    "        \n",
    "        \n",
    "    if i < len(data_array1) - 1:\n",
    "        timestamp_difference = data_array1[i+1][0] - data_array1[i][0]\n",
    "        interframe_bits = calculate_interframe_bits_new(timestamp_difference, data_rate,i)\n",
    "        for bit in interframe_bits:\n",
    "            a[x][y] = bit\n",
    "            if y == 127:\n",
    "                x += 1\n",
    "                y = 0\n",
    "            else:\n",
    "                y += 1\n",
    "            if x == 128:\n",
    "                binary_matrix1.append(a)\n",
    "                y1.append(1 if flag == 1 else 0)\n",
    "                flag = 0\n",
    "                a = [['0' for _ in range(128)] for _ in range(128)]\n",
    "                x = 0\n",
    "                y = 0\n",
    "    while y < 128 and y>0 :\n",
    "        a[x][y] = '3'\n",
    "        if y == 127:\n",
    "            x += 1\n",
    "            if x == 128:\n",
    "                binary_matrix1.append(a)\n",
    "                y1.append(1 if flag == 1 else 0)\n",
    "                falg = 0\n",
    "                a = [['0' for _ in range(128)] for _ in range(128)]\n",
    "                x=0\n",
    "                y=0\n",
    "            y=0\n",
    "            break \n",
    "        y+=1    \n",
    "\n",
    "    i += 1\n",
    "\n",
    "\n"
   ]
  },
  {
   "cell_type": "code",
   "execution_count": 26,
   "metadata": {},
   "outputs": [
    {
     "data": {
      "text/plain": [
       "286"
      ]
     },
     "execution_count": 26,
     "metadata": {},
     "output_type": "execute_result"
    }
   ],
   "source": []
  },
  {
   "cell_type": "code",
   "execution_count": 43,
   "metadata": {},
   "outputs": [
    {
     "name": "stdout",
     "output_type": "stream",
     "text": [
      "Images saved\n"
     ]
    }
   ],
   "source": [
    "img_matrix1=[]\n",
    "size_of_binary_matrix1=len(binary_matrix1)\n",
    "for i in  range (size_of_binary_matrix1):\n",
    "    img_matrix1.append(create_image(binary_matrix1[i]))\n",
    "    # output_folder=\"D:\\IIT-Delhi\\Semester-3\\JCD892-M.Tech Major Project Part-1\\Implementation\\Temp_Datasets\\Car_Hacking_Dataset\\Output_Dataset/test\"\n",
    "    # for i,img in enumerate(img_matrix1):\n",
    "    # img_path=os.path.join(output_folder,f\"image_{i+1}.png\")\n",
    "    # img.save(img_path)\n",
    "print(\"Images saved\")\n",
    "image_array_list1 = [np.array(img) for img in img_matrix1]\n",
    "final_array1 = np.stack(image_array_list1)"
   ]
  },
  {
   "cell_type": "code",
   "execution_count": 44,
   "metadata": {},
   "outputs": [
    {
     "data": {
      "text/plain": [
       "6749"
      ]
     },
     "execution_count": 44,
     "metadata": {},
     "output_type": "execute_result"
    }
   ],
   "source": [
    "y_label = np.array(y1)\n",
    "len(y_label)"
   ]
  },
  {
   "cell_type": "code",
   "execution_count": 45,
   "metadata": {},
   "outputs": [
    {
     "data": {
      "text/plain": [
       "3868"
      ]
     },
     "execution_count": 45,
     "metadata": {},
     "output_type": "execute_result"
    }
   ],
   "source": [
    "np.count_nonzero(y1)"
   ]
  },
  {
   "cell_type": "code",
   "execution_count": 46,
   "metadata": {},
   "outputs": [],
   "source": [
    "import pandas as pd\n",
    "import numpy as np\n",
    "import warnings\n",
    "from sklearn.model_selection import train_test_split\n",
    "from keras.models import Sequential\n",
    "from keras.layers import Conv1D,Conv2D,MaxPooling2D\n",
    "from keras.layers import MaxPool1D\n",
    "from keras.layers import Flatten\n",
    "from keras.layers import Dense\n",
    "from keras.optimizers import Adam\n",
    "import tensorflow as tf\n",
    "from PIL import Image\n",
    "from keras.models import Sequential\n",
    "from keras.layers import Conv1D, MaxPool1D, Flatten, Dense, Dropout, BatchNormalization\n",
    "from keras.optimizers import Adam\n",
    "from keras.callbacks import EarlyStopping\n",
    "from sklearn.model_selection import train_test_split\n",
    "from sklearn.metrics import classification_report,roc_auc_score\n",
    "warnings.filterwarnings(\"ignore\")"
   ]
  },
  {
   "cell_type": "code",
   "execution_count": 47,
   "metadata": {},
   "outputs": [],
   "source": [
    "model=Sequential()\n",
    "model.add(Conv2D(filters=64,kernel_size=(3,3),padding=\"same\",activation=\"relu\",input_shape=(128,128,3)))\n",
    "model.add(MaxPooling2D(pool_size=(2,2),padding=\"valid\",strides=2))\n",
    "model.add(Conv2D(filters=256,kernel_size=(3,3),padding=\"same\",activation=\"relu\"))\n",
    "model.add(MaxPooling2D(pool_size=(2,2),padding=\"valid\",strides=2))\n",
    "model.add(Dropout(0.9))\n",
    "model.add(Flatten())\n",
    "model.add(Dense(units=16,activation=\"relu\"))\n",
    "model.add(Dense(units=1,activation=\"sigmoid\"))\n",
    "adam = Adam(learning_rate=0.001)\n",
    "model.compile(optimizer=adam,loss=\"binary_crossentropy\",metrics=[\"accuracy\"])"
   ]
  },
  {
   "cell_type": "code",
   "execution_count": 48,
   "metadata": {},
   "outputs": [
    {
     "name": "stdout",
     "output_type": "stream",
     "text": [
      "(6749,)\n"
     ]
    }
   ],
   "source": [
    "y_label.reshape(1,len(y_label))\n",
    "print(y_label.shape)\n"
   ]
  },
  {
   "cell_type": "code",
   "execution_count": 49,
   "metadata": {},
   "outputs": [],
   "source": [
    "X_train,X_test,y_train,y_test=train_test_split(final_array1,y_label,test_size=0.2)"
   ]
  },
  {
   "cell_type": "code",
   "execution_count": 50,
   "metadata": {},
   "outputs": [
    {
     "name": "stdout",
     "output_type": "stream",
     "text": [
      "Epoch 1/15\n",
      "169/169 [==============================] - 291s 2s/step - loss: 2.4849 - accuracy: 0.5631\n",
      "Epoch 2/15\n",
      "169/169 [==============================] - 315s 2s/step - loss: 0.6859 - accuracy: 0.5766\n",
      "Epoch 3/15\n",
      "169/169 [==============================] - 320s 2s/step - loss: 0.6849 - accuracy: 0.5764\n",
      "Epoch 4/15\n",
      "169/169 [==============================] - 313s 2s/step - loss: 0.6824 - accuracy: 0.5766\n",
      "Epoch 5/15\n",
      "169/169 [==============================] - 312s 2s/step - loss: 0.6818 - accuracy: 0.5766\n",
      "Epoch 6/15\n",
      "169/169 [==============================] - 307s 2s/step - loss: 0.6816 - accuracy: 0.5766\n",
      "Epoch 7/15\n",
      "129/169 [=====================>........] - ETA: 1:11 - loss: 0.6824 - accuracy: 0.5734"
     ]
    },
    {
     "ename": "KeyboardInterrupt",
     "evalue": "",
     "output_type": "error",
     "traceback": [
      "\u001b[1;31m---------------------------------------------------------------------------\u001b[0m",
      "\u001b[1;31mKeyboardInterrupt\u001b[0m                         Traceback (most recent call last)",
      "\u001b[1;32md:\\IIT-Delhi\\Semester-3\\JCD892-M.Tech Major Project Part-1\\Implementation\\insertions.ipynb Cell 30\u001b[0m line \u001b[0;36m<cell line: 1>\u001b[1;34m()\u001b[0m\n\u001b[1;32m----> <a href='vscode-notebook-cell:/d%3A/IIT-Delhi/Semester-3/JCD892-M.Tech%20Major%20Project%20Part-1/Implementation/insertions.ipynb#X45sZmlsZQ%3D%3D?line=0'>1</a>\u001b[0m history \u001b[39m=\u001b[39m model\u001b[39m.\u001b[39;49mfit(X_train, y_train, epochs\u001b[39m=\u001b[39;49m\u001b[39m15\u001b[39;49m)\n\u001b[0;32m      <a href='vscode-notebook-cell:/d%3A/IIT-Delhi/Semester-3/JCD892-M.Tech%20Major%20Project%20Part-1/Implementation/insertions.ipynb#X45sZmlsZQ%3D%3D?line=1'>2</a>\u001b[0m loss, accuracy \u001b[39m=\u001b[39m model\u001b[39m.\u001b[39mevaluate(X_test, y_test)\n",
      "File \u001b[1;32mc:\\Users\\jamma\\AppData\\Local\\Programs\\Python\\Python310\\lib\\site-packages\\keras\\utils\\traceback_utils.py:65\u001b[0m, in \u001b[0;36mfilter_traceback.<locals>.error_handler\u001b[1;34m(*args, **kwargs)\u001b[0m\n\u001b[0;32m     63\u001b[0m filtered_tb \u001b[39m=\u001b[39m \u001b[39mNone\u001b[39;00m\n\u001b[0;32m     64\u001b[0m \u001b[39mtry\u001b[39;00m:\n\u001b[1;32m---> 65\u001b[0m     \u001b[39mreturn\u001b[39;00m fn(\u001b[39m*\u001b[39margs, \u001b[39m*\u001b[39m\u001b[39m*\u001b[39mkwargs)\n\u001b[0;32m     66\u001b[0m \u001b[39mexcept\u001b[39;00m \u001b[39mException\u001b[39;00m \u001b[39mas\u001b[39;00m e:\n\u001b[0;32m     67\u001b[0m     filtered_tb \u001b[39m=\u001b[39m _process_traceback_frames(e\u001b[39m.\u001b[39m__traceback__)\n",
      "File \u001b[1;32mc:\\Users\\jamma\\AppData\\Local\\Programs\\Python\\Python310\\lib\\site-packages\\keras\\engine\\training.py:1685\u001b[0m, in \u001b[0;36mModel.fit\u001b[1;34m(self, x, y, batch_size, epochs, verbose, callbacks, validation_split, validation_data, shuffle, class_weight, sample_weight, initial_epoch, steps_per_epoch, validation_steps, validation_batch_size, validation_freq, max_queue_size, workers, use_multiprocessing)\u001b[0m\n\u001b[0;32m   1677\u001b[0m \u001b[39mwith\u001b[39;00m tf\u001b[39m.\u001b[39mprofiler\u001b[39m.\u001b[39mexperimental\u001b[39m.\u001b[39mTrace(\n\u001b[0;32m   1678\u001b[0m     \u001b[39m\"\u001b[39m\u001b[39mtrain\u001b[39m\u001b[39m\"\u001b[39m,\n\u001b[0;32m   1679\u001b[0m     epoch_num\u001b[39m=\u001b[39mepoch,\n\u001b[1;32m   (...)\u001b[0m\n\u001b[0;32m   1682\u001b[0m     _r\u001b[39m=\u001b[39m\u001b[39m1\u001b[39m,\n\u001b[0;32m   1683\u001b[0m ):\n\u001b[0;32m   1684\u001b[0m     callbacks\u001b[39m.\u001b[39mon_train_batch_begin(step)\n\u001b[1;32m-> 1685\u001b[0m     tmp_logs \u001b[39m=\u001b[39m \u001b[39mself\u001b[39;49m\u001b[39m.\u001b[39;49mtrain_function(iterator)\n\u001b[0;32m   1686\u001b[0m     \u001b[39mif\u001b[39;00m data_handler\u001b[39m.\u001b[39mshould_sync:\n\u001b[0;32m   1687\u001b[0m         context\u001b[39m.\u001b[39masync_wait()\n",
      "File \u001b[1;32mc:\\Users\\jamma\\AppData\\Local\\Programs\\Python\\Python310\\lib\\site-packages\\tensorflow\\python\\util\\traceback_utils.py:150\u001b[0m, in \u001b[0;36mfilter_traceback.<locals>.error_handler\u001b[1;34m(*args, **kwargs)\u001b[0m\n\u001b[0;32m    148\u001b[0m filtered_tb \u001b[39m=\u001b[39m \u001b[39mNone\u001b[39;00m\n\u001b[0;32m    149\u001b[0m \u001b[39mtry\u001b[39;00m:\n\u001b[1;32m--> 150\u001b[0m   \u001b[39mreturn\u001b[39;00m fn(\u001b[39m*\u001b[39margs, \u001b[39m*\u001b[39m\u001b[39m*\u001b[39mkwargs)\n\u001b[0;32m    151\u001b[0m \u001b[39mexcept\u001b[39;00m \u001b[39mException\u001b[39;00m \u001b[39mas\u001b[39;00m e:\n\u001b[0;32m    152\u001b[0m   filtered_tb \u001b[39m=\u001b[39m _process_traceback_frames(e\u001b[39m.\u001b[39m__traceback__)\n",
      "File \u001b[1;32mc:\\Users\\jamma\\AppData\\Local\\Programs\\Python\\Python310\\lib\\site-packages\\tensorflow\\python\\eager\\polymorphic_function\\polymorphic_function.py:894\u001b[0m, in \u001b[0;36mFunction.__call__\u001b[1;34m(self, *args, **kwds)\u001b[0m\n\u001b[0;32m    891\u001b[0m compiler \u001b[39m=\u001b[39m \u001b[39m\"\u001b[39m\u001b[39mxla\u001b[39m\u001b[39m\"\u001b[39m \u001b[39mif\u001b[39;00m \u001b[39mself\u001b[39m\u001b[39m.\u001b[39m_jit_compile \u001b[39melse\u001b[39;00m \u001b[39m\"\u001b[39m\u001b[39mnonXla\u001b[39m\u001b[39m\"\u001b[39m\n\u001b[0;32m    893\u001b[0m \u001b[39mwith\u001b[39;00m OptionalXlaContext(\u001b[39mself\u001b[39m\u001b[39m.\u001b[39m_jit_compile):\n\u001b[1;32m--> 894\u001b[0m   result \u001b[39m=\u001b[39m \u001b[39mself\u001b[39m\u001b[39m.\u001b[39m_call(\u001b[39m*\u001b[39margs, \u001b[39m*\u001b[39m\u001b[39m*\u001b[39mkwds)\n\u001b[0;32m    896\u001b[0m new_tracing_count \u001b[39m=\u001b[39m \u001b[39mself\u001b[39m\u001b[39m.\u001b[39mexperimental_get_tracing_count()\n\u001b[0;32m    897\u001b[0m without_tracing \u001b[39m=\u001b[39m (tracing_count \u001b[39m==\u001b[39m new_tracing_count)\n",
      "File \u001b[1;32mc:\\Users\\jamma\\AppData\\Local\\Programs\\Python\\Python310\\lib\\site-packages\\tensorflow\\python\\eager\\polymorphic_function\\polymorphic_function.py:926\u001b[0m, in \u001b[0;36mFunction._call\u001b[1;34m(self, *args, **kwds)\u001b[0m\n\u001b[0;32m    923\u001b[0m   \u001b[39mself\u001b[39m\u001b[39m.\u001b[39m_lock\u001b[39m.\u001b[39mrelease()\n\u001b[0;32m    924\u001b[0m   \u001b[39m# In this case we have created variables on the first call, so we run the\u001b[39;00m\n\u001b[0;32m    925\u001b[0m   \u001b[39m# defunned version which is guaranteed to never create variables.\u001b[39;00m\n\u001b[1;32m--> 926\u001b[0m   \u001b[39mreturn\u001b[39;00m \u001b[39mself\u001b[39m\u001b[39m.\u001b[39m_no_variable_creation_fn(\u001b[39m*\u001b[39margs, \u001b[39m*\u001b[39m\u001b[39m*\u001b[39mkwds)  \u001b[39m# pylint: disable=not-callable\u001b[39;00m\n\u001b[0;32m    927\u001b[0m \u001b[39melif\u001b[39;00m \u001b[39mself\u001b[39m\u001b[39m.\u001b[39m_variable_creation_fn \u001b[39mis\u001b[39;00m \u001b[39mnot\u001b[39;00m \u001b[39mNone\u001b[39;00m:\n\u001b[0;32m    928\u001b[0m   \u001b[39m# Release the lock early so that multiple threads can perform the call\u001b[39;00m\n\u001b[0;32m    929\u001b[0m   \u001b[39m# in parallel.\u001b[39;00m\n\u001b[0;32m    930\u001b[0m   \u001b[39mself\u001b[39m\u001b[39m.\u001b[39m_lock\u001b[39m.\u001b[39mrelease()\n",
      "File \u001b[1;32mc:\\Users\\jamma\\AppData\\Local\\Programs\\Python\\Python310\\lib\\site-packages\\tensorflow\\python\\eager\\polymorphic_function\\tracing_compiler.py:143\u001b[0m, in \u001b[0;36mTracingCompiler.__call__\u001b[1;34m(self, *args, **kwargs)\u001b[0m\n\u001b[0;32m    140\u001b[0m \u001b[39mwith\u001b[39;00m \u001b[39mself\u001b[39m\u001b[39m.\u001b[39m_lock:\n\u001b[0;32m    141\u001b[0m   (concrete_function,\n\u001b[0;32m    142\u001b[0m    filtered_flat_args) \u001b[39m=\u001b[39m \u001b[39mself\u001b[39m\u001b[39m.\u001b[39m_maybe_define_function(args, kwargs)\n\u001b[1;32m--> 143\u001b[0m \u001b[39mreturn\u001b[39;00m concrete_function\u001b[39m.\u001b[39;49m_call_flat(\n\u001b[0;32m    144\u001b[0m     filtered_flat_args, captured_inputs\u001b[39m=\u001b[39;49mconcrete_function\u001b[39m.\u001b[39;49mcaptured_inputs)\n",
      "File \u001b[1;32mc:\\Users\\jamma\\AppData\\Local\\Programs\\Python\\Python310\\lib\\site-packages\\tensorflow\\python\\eager\\polymorphic_function\\monomorphic_function.py:1757\u001b[0m, in \u001b[0;36mConcreteFunction._call_flat\u001b[1;34m(self, args, captured_inputs, cancellation_manager)\u001b[0m\n\u001b[0;32m   1753\u001b[0m possible_gradient_type \u001b[39m=\u001b[39m gradients_util\u001b[39m.\u001b[39mPossibleTapeGradientTypes(args)\n\u001b[0;32m   1754\u001b[0m \u001b[39mif\u001b[39;00m (possible_gradient_type \u001b[39m==\u001b[39m gradients_util\u001b[39m.\u001b[39mPOSSIBLE_GRADIENT_TYPES_NONE\n\u001b[0;32m   1755\u001b[0m     \u001b[39mand\u001b[39;00m executing_eagerly):\n\u001b[0;32m   1756\u001b[0m   \u001b[39m# No tape is watching; skip to running the function.\u001b[39;00m\n\u001b[1;32m-> 1757\u001b[0m   \u001b[39mreturn\u001b[39;00m \u001b[39mself\u001b[39m\u001b[39m.\u001b[39m_build_call_outputs(\u001b[39mself\u001b[39;49m\u001b[39m.\u001b[39;49m_inference_function\u001b[39m.\u001b[39;49mcall(\n\u001b[0;32m   1758\u001b[0m       ctx, args, cancellation_manager\u001b[39m=\u001b[39;49mcancellation_manager))\n\u001b[0;32m   1759\u001b[0m forward_backward \u001b[39m=\u001b[39m \u001b[39mself\u001b[39m\u001b[39m.\u001b[39m_select_forward_and_backward_functions(\n\u001b[0;32m   1760\u001b[0m     args,\n\u001b[0;32m   1761\u001b[0m     possible_gradient_type,\n\u001b[0;32m   1762\u001b[0m     executing_eagerly)\n\u001b[0;32m   1763\u001b[0m forward_function, args_with_tangents \u001b[39m=\u001b[39m forward_backward\u001b[39m.\u001b[39mforward()\n",
      "File \u001b[1;32mc:\\Users\\jamma\\AppData\\Local\\Programs\\Python\\Python310\\lib\\site-packages\\tensorflow\\python\\eager\\polymorphic_function\\monomorphic_function.py:381\u001b[0m, in \u001b[0;36m_EagerDefinedFunction.call\u001b[1;34m(self, ctx, args, cancellation_manager)\u001b[0m\n\u001b[0;32m    379\u001b[0m \u001b[39mwith\u001b[39;00m _InterpolateFunctionError(\u001b[39mself\u001b[39m):\n\u001b[0;32m    380\u001b[0m   \u001b[39mif\u001b[39;00m cancellation_manager \u001b[39mis\u001b[39;00m \u001b[39mNone\u001b[39;00m:\n\u001b[1;32m--> 381\u001b[0m     outputs \u001b[39m=\u001b[39m execute\u001b[39m.\u001b[39;49mexecute(\n\u001b[0;32m    382\u001b[0m         \u001b[39mstr\u001b[39;49m(\u001b[39mself\u001b[39;49m\u001b[39m.\u001b[39;49msignature\u001b[39m.\u001b[39;49mname),\n\u001b[0;32m    383\u001b[0m         num_outputs\u001b[39m=\u001b[39;49m\u001b[39mself\u001b[39;49m\u001b[39m.\u001b[39;49m_num_outputs,\n\u001b[0;32m    384\u001b[0m         inputs\u001b[39m=\u001b[39;49margs,\n\u001b[0;32m    385\u001b[0m         attrs\u001b[39m=\u001b[39;49mattrs,\n\u001b[0;32m    386\u001b[0m         ctx\u001b[39m=\u001b[39;49mctx)\n\u001b[0;32m    387\u001b[0m   \u001b[39melse\u001b[39;00m:\n\u001b[0;32m    388\u001b[0m     outputs \u001b[39m=\u001b[39m execute\u001b[39m.\u001b[39mexecute_with_cancellation(\n\u001b[0;32m    389\u001b[0m         \u001b[39mstr\u001b[39m(\u001b[39mself\u001b[39m\u001b[39m.\u001b[39msignature\u001b[39m.\u001b[39mname),\n\u001b[0;32m    390\u001b[0m         num_outputs\u001b[39m=\u001b[39m\u001b[39mself\u001b[39m\u001b[39m.\u001b[39m_num_outputs,\n\u001b[1;32m   (...)\u001b[0m\n\u001b[0;32m    393\u001b[0m         ctx\u001b[39m=\u001b[39mctx,\n\u001b[0;32m    394\u001b[0m         cancellation_manager\u001b[39m=\u001b[39mcancellation_manager)\n",
      "File \u001b[1;32mc:\\Users\\jamma\\AppData\\Local\\Programs\\Python\\Python310\\lib\\site-packages\\tensorflow\\python\\eager\\execute.py:52\u001b[0m, in \u001b[0;36mquick_execute\u001b[1;34m(op_name, num_outputs, inputs, attrs, ctx, name)\u001b[0m\n\u001b[0;32m     50\u001b[0m \u001b[39mtry\u001b[39;00m:\n\u001b[0;32m     51\u001b[0m   ctx\u001b[39m.\u001b[39mensure_initialized()\n\u001b[1;32m---> 52\u001b[0m   tensors \u001b[39m=\u001b[39m pywrap_tfe\u001b[39m.\u001b[39;49mTFE_Py_Execute(ctx\u001b[39m.\u001b[39;49m_handle, device_name, op_name,\n\u001b[0;32m     53\u001b[0m                                       inputs, attrs, num_outputs)\n\u001b[0;32m     54\u001b[0m \u001b[39mexcept\u001b[39;00m core\u001b[39m.\u001b[39m_NotOkStatusException \u001b[39mas\u001b[39;00m e:\n\u001b[0;32m     55\u001b[0m   \u001b[39mif\u001b[39;00m name \u001b[39mis\u001b[39;00m \u001b[39mnot\u001b[39;00m \u001b[39mNone\u001b[39;00m:\n",
      "\u001b[1;31mKeyboardInterrupt\u001b[0m: "
     ]
    }
   ],
   "source": [
    "history = model.fit(X_train, y_train, epochs=15)\n",
    "loss, accuracy = model.evaluate(X_test, y_test)"
   ]
  },
  {
   "cell_type": "code",
   "execution_count": 1,
   "metadata": {},
   "outputs": [
    {
     "ename": "NameError",
     "evalue": "name 'model' is not defined",
     "output_type": "error",
     "traceback": [
      "\u001b[1;31m---------------------------------------------------------------------------\u001b[0m",
      "\u001b[1;31mNameError\u001b[0m                                 Traceback (most recent call last)",
      "\u001b[1;32md:\\IIT-Delhi\\Semester-3\\JCD892-M.Tech Major Project Part-1\\Implementation\\insertions.ipynb Cell 31\u001b[0m line \u001b[0;36m<cell line: 1>\u001b[1;34m()\u001b[0m\n\u001b[1;32m----> <a href='vscode-notebook-cell:/d%3A/IIT-Delhi/Semester-3/JCD892-M.Tech%20Major%20Project%20Part-1/Implementation/insertions.ipynb#X30sZmlsZQ%3D%3D?line=0'>1</a>\u001b[0m loss, accuracy \u001b[39m=\u001b[39m model\u001b[39m.\u001b[39mevaluate(X_test, y_test)\n",
      "\u001b[1;31mNameError\u001b[0m: name 'model' is not defined"
     ]
    }
   ],
   "source": [
    "loss, accuracy = model.evaluate(X_test, y_test)"
   ]
  },
  {
   "cell_type": "code",
   "execution_count": 37,
   "metadata": {},
   "outputs": [
    {
     "name": "stdout",
     "output_type": "stream",
     "text": [
      "2/2 [==============================] - 1s 397ms/step\n"
     ]
    }
   ],
   "source": []
  },
  {
   "cell_type": "code",
   "execution_count": 38,
   "metadata": {},
   "outputs": [
    {
     "name": "stdout",
     "output_type": "stream",
     "text": [
      "2/2 [==============================] - 1s 381ms/step\n",
      "              precision    recall  f1-score   support\n",
      "\n",
      "      Normal       0.00      0.00      0.00        13\n",
      "      Attack       0.78      1.00      0.87        45\n",
      "\n",
      "    accuracy                           0.78        58\n",
      "   macro avg       0.39      0.50      0.44        58\n",
      "weighted avg       0.60      0.78      0.68        58\n",
      "\n"
     ]
    }
   ],
   "source": [
    "from sklearn.metrics import classification_report,roc_auc_score,auc,roc_curve\n",
    "y_score=model.predict(X_test)\n",
    "y_pred=np.round(y_score)\n",
    "target_names = [\"Normal\",\"Attack\"]\n",
    "print(classification_report(y_test, y_pred,target_names=target_names))"
   ]
  },
  {
   "cell_type": "code",
   "execution_count": 32,
   "metadata": {},
   "outputs": [
    {
     "name": "stdout",
     "output_type": "stream",
     "text": [
      "[[0.]\n",
      " [0.]\n",
      " [0.]\n",
      " [0.]\n",
      " [0.]\n",
      " [0.]\n",
      " [0.]\n",
      " [0.]\n",
      " [0.]\n",
      " [0.]\n",
      " [0.]\n",
      " [0.]\n",
      " [0.]\n",
      " [0.]\n",
      " [0.]\n",
      " [0.]\n",
      " [0.]\n",
      " [0.]\n",
      " [0.]\n",
      " [0.]\n",
      " [0.]\n",
      " [0.]\n",
      " [0.]\n",
      " [0.]\n",
      " [0.]\n",
      " [0.]\n",
      " [0.]\n",
      " [0.]\n",
      " [0.]\n",
      " [0.]\n",
      " [0.]\n",
      " [0.]\n",
      " [0.]\n",
      " [0.]\n",
      " [0.]\n",
      " [0.]\n",
      " [0.]\n",
      " [0.]\n",
      " [0.]\n",
      " [0.]\n",
      " [0.]\n",
      " [0.]\n",
      " [0.]\n",
      " [0.]\n",
      " [0.]\n",
      " [0.]\n",
      " [0.]\n",
      " [0.]\n",
      " [0.]\n",
      " [0.]\n",
      " [0.]\n",
      " [0.]\n",
      " [0.]\n",
      " [0.]\n",
      " [0.]\n",
      " [0.]\n",
      " [0.]\n",
      " [0.]\n",
      " [0.]\n",
      " [0.]\n",
      " [0.]\n",
      " [0.]\n",
      " [0.]\n",
      " [0.]\n",
      " [0.]\n",
      " [0.]\n",
      " [0.]\n",
      " [0.]\n",
      " [0.]\n",
      " [0.]\n",
      " [0.]\n",
      " [0.]\n",
      " [0.]\n",
      " [0.]\n",
      " [0.]\n",
      " [0.]\n",
      " [0.]\n",
      " [0.]\n",
      " [0.]\n",
      " [0.]\n",
      " [0.]\n",
      " [0.]\n",
      " [0.]\n",
      " [0.]\n",
      " [0.]\n",
      " [0.]\n",
      " [0.]\n",
      " [0.]\n",
      " [0.]\n",
      " [0.]\n",
      " [0.]\n",
      " [0.]\n",
      " [0.]\n",
      " [0.]\n",
      " [0.]\n",
      " [0.]\n",
      " [0.]\n",
      " [0.]\n",
      " [0.]\n",
      " [0.]]\n"
     ]
    }
   ],
   "source": [
    "print(y_pred)"
   ]
  }
 ],
 "metadata": {
  "kernelspec": {
   "display_name": "Python 3",
   "language": "python",
   "name": "python3"
  },
  "language_info": {
   "codemirror_mode": {
    "name": "ipython",
    "version": 3
   },
   "file_extension": ".py",
   "mimetype": "text/x-python",
   "name": "python",
   "nbconvert_exporter": "python",
   "pygments_lexer": "ipython3",
   "version": "3.9.16"
  },
  "orig_nbformat": 4
 },
 "nbformat": 4,
 "nbformat_minor": 2
}
