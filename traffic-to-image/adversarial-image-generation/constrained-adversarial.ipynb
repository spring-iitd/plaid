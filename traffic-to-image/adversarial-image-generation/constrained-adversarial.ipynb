{
 "cells": [
  {
   "cell_type": "code",
   "execution_count": 1,
   "metadata": {},
   "outputs": [
    {
     "name": "stderr",
     "output_type": "stream",
     "text": [
      "C:\\Users\\kulka\\AppData\\Local\\Packages\\PythonSoftwareFoundation.Python.3.10_qbz5n2kfra8p0\\LocalCache\\local-packages\\Python310\\site-packages\\torchvision\\io\\image.py:13: UserWarning: Failed to load image Python extension: '[WinError 127] The specified procedure could not be found'If you don't plan on using image functionality from `torchvision.io`, you can ignore this warning. Otherwise, there might be something wrong with your environment. Did you have `libjpeg` or `libpng` installed before building `torchvision` from source?\n",
      "  warn(\n"
     ]
    }
   ],
   "source": [
    "import torch\n",
    "import torch.nn as nn\n",
    "import torch.nn.functional as F\n",
    "import torch.optim as optim\n",
    "from torchvision import datasets, transforms, models\n",
    "import numpy as np\n",
    "import matplotlib.pyplot as plt\n",
    "\n",
    "\n"
   ]
  },
  {
   "cell_type": "code",
   "execution_count": 2,
   "metadata": {},
   "outputs": [],
   "source": [
    "\n",
    "# Define data transformations for data augmentation and normalization\n",
    "data_transforms = {\n",
    "    'train': transforms.Compose([\n",
    "        transforms.ToTensor(),\n",
    "        # transforms.Normalize([0.485, 0.456, 0.406], [0.229, 0.224, 0.225])\n",
    "    ]),\n",
    "    'val': transforms.Compose([\n",
    "        transforms.ToTensor(),\n",
    "        # transforms.Normalize([0.485, 0.456, 0.406], [0.229, 0.224, 0.225])\n",
    "    ]),\n",
    "    'test': transforms.Compose([\n",
    "        transforms.ToTensor(),\n",
    "        # transforms.Normalize([0.485, 0.456, 0.406], [0.229, 0.224, 0.225])\n",
    "    ])\n",
    "}"
   ]
  },
  {
   "cell_type": "code",
   "execution_count": 3,
   "metadata": {},
   "outputs": [
    {
     "name": "stdout",
     "output_type": "stream",
     "text": [
      "{'test': 3097}\n",
      "['attack', 'benign']\n",
      "2\n"
     ]
    }
   ],
   "source": [
    "# Define the data directory\n",
    "# data_dir = '../../Anchor_images/'\n",
    "# data_dir = '../test/'\n",
    "\n",
    "data_dir = './new_stuff/test/'\n",
    "\n",
    "# Create data loaders\n",
    "image_datasets = {x: datasets.ImageFolder(data_dir, data_transforms[x]) for x in ['test','train','val']}\n",
    "dataloaders = {x: torch.utils.data.DataLoader(image_datasets[x], batch_size=4, shuffle=True, num_workers=4) for x in ['test']}\n",
    "dataset_sizes = {x: len(image_datasets[x]) for x in ['test']}\n",
    "print(dataset_sizes)\n",
    "\n",
    "class_names = image_datasets['test'].classes\n",
    "print(class_names)\n",
    "print(len(class_names))"
   ]
  },
  {
   "cell_type": "code",
   "execution_count": 4,
   "metadata": {},
   "outputs": [
    {
     "name": "stderr",
     "output_type": "stream",
     "text": [
      "C:\\Users\\kulka\\AppData\\Local\\Packages\\PythonSoftwareFoundation.Python.3.10_qbz5n2kfra8p0\\LocalCache\\local-packages\\Python310\\site-packages\\torchvision\\models\\_utils.py:208: UserWarning: The parameter 'pretrained' is deprecated since 0.13 and may be removed in the future, please use 'weights' instead.\n",
      "  warnings.warn(\n",
      "C:\\Users\\kulka\\AppData\\Local\\Packages\\PythonSoftwareFoundation.Python.3.10_qbz5n2kfra8p0\\LocalCache\\local-packages\\Python310\\site-packages\\torchvision\\models\\_utils.py:223: UserWarning: Arguments other than a weight enum or `None` for 'weights' are deprecated since 0.13 and may be removed in the future. The current behavior is equivalent to passing `weights=ResNet18_Weights.IMAGENET1K_V1`. You can also use `weights=ResNet18_Weights.DEFAULT` to get the most up-to-date weights.\n",
      "  warnings.warn(msg)\n"
     ]
    },
    {
     "name": "stdout",
     "output_type": "stream",
     "text": [
      "cuda:0\n"
     ]
    }
   ],
   "source": [
    "# pretrained_model = \"custom_cnn_model_new_stuffing.pth\"\n",
    "pretrained_model = \"custom_cnn_model_new_stuffing 1.pth\"\n",
    "# use_cuda=True\n",
    "# Set random seed for reproducibility\n",
    "# torch.manual_seed(42)\n",
    "# Load the pre-trained ResNet-18 model\n",
    "model = models.resnet18(pretrained=True)\n",
    "# Freeze all layers except the final classification layer\n",
    "# for name, param in model.named_parameters():\n",
    "#     # Unfreeze the final classification layer\n",
    "#     if \"fc\" in name:  \n",
    "#         param.requires_grad = True\n",
    "#     else:\n",
    "#         param.requires_grad = False\n",
    "# Modify the final layer to match the number of classes\n",
    "num_classes = len(class_names)\n",
    "model.fc = nn.Linear(model.fc.in_features, num_classes)\n",
    "\n",
    "# Move the model to the GPU if available\n",
    "device = torch.device(\"cuda:0\" if torch.cuda.is_available() else \"cpu\")\n",
    "model.load_state_dict(torch.load(pretrained_model))\n",
    "model.eval()\n",
    "model = model.to(device)\n",
    "\n",
    "print(device)"
   ]
  },
  {
   "cell_type": "code",
   "execution_count": null,
   "metadata": {},
   "outputs": [],
   "source": []
  },
  {
   "cell_type": "code",
   "execution_count": 5,
   "metadata": {},
   "outputs": [
    {
     "name": "stdout",
     "output_type": "stream",
     "text": [
      "Test Accuracy: 0.9839\n"
     ]
    }
   ],
   "source": [
    "test_loader = dataloaders['test']\n",
    "# model.load_state_dict(torch.load(pretrained_model))\n",
    "\n",
    "all_preds = []\n",
    "all_labels = []\n",
    "\n",
    "for inputs, labels in test_loader:\n",
    "    inputs = inputs.to(device)\n",
    "    labels = labels.to(device)\n",
    "    with torch.no_grad():\n",
    "        outputs = model(inputs)\n",
    "        _, preds = torch.max(outputs, 1)\n",
    "    all_preds.extend(preds.cpu().numpy())\n",
    "    all_labels.extend(labels.cpu().numpy())\n",
    "\n",
    "# Convert lists to numpy arrays\n",
    "all_preds = np.array(all_preds)\n",
    "all_labels = np.array(all_labels)\n",
    "\n",
    "# Calculate accuracy\n",
    "test_accuracy = np.sum(all_preds == all_labels) / len(all_labels)\n",
    "print(f'Test Accuracy: {test_accuracy:.4f}')"
   ]
  },
  {
   "cell_type": "code",
   "execution_count": 6,
   "metadata": {},
   "outputs": [
    {
     "name": "stdout",
     "output_type": "stream",
     "text": [
      "[1 1 0 ... 1 0 1]\n",
      "[1 1 0 ... 1 0 1]\n"
     ]
    }
   ],
   "source": [
    "print(all_preds)\n",
    "print(all_labels)"
   ]
  },
  {
   "cell_type": "code",
   "execution_count": 37,
   "metadata": {},
   "outputs": [],
   "source": [
    "# FGSM attack code\n",
    "\n",
    "\n",
    "def generate_mask(image, data_grad):\n",
    "    \n",
    "    # Find all green rows in the image\n",
    "    green_rows = (image[:, 1, :] == 1.0).all(dim=1)\n",
    "    \n",
    "    # Calculate the magnitude of the data gradient for each row\n",
    "    grad_magnitude = data_grad.abs().sum(dim=(1, 2))\n",
    "    \n",
    "    # Filter magnitudes to only consider green rows\n",
    "    green_grad_magnitude = grad_magnitude * green_rows.float()\n",
    "    \n",
    "    # Find the index of the row with the maximum gradient magnitude\n",
    "    max_grad_row_index = green_grad_magnitude.argmax().item()\n",
    "    \n",
    "    # Create a mask that is 1 for the selected row and middle column, and 0 elsewhere\n",
    "    mask = torch.zeros_like(image)\n",
    "    _, _, width = image.size()\n",
    "    middle_col = width // 2\n",
    "    \n",
    "    mask[:, max_grad_row_index, middle_col] = 1\n",
    "    \n",
    "    return mask\n",
    "\n",
    "def fgsm_attack(image, epsilon, data_grad):\n",
    "    # print(image.shape)\n",
    "    # print(data_grad.shape)\n",
    "    # print all values of image\n",
    "    # print(image)\n",
    "    # Collect the element-wise sign of the data gradient\n",
    "    sign_data_grad = data_grad.sign()\n",
    "    # create a mask to apply sign data grad only in middle column\n",
    "    mask = generate_mask(image, data_grad)\n",
    "\n",
    "    sign_data_grad = sign_data_grad * mask\n",
    "\n",
    "    # Create the perturbed image by adjusting each pixel of the input image\n",
    "    perturbed_image = image + epsilon*sign_data_grad\n",
    "    # Adding clipping to maintain [0,1] range\n",
    "    perturbed_image = torch.clamp(perturbed_image, 0, 1)\n",
    "    # Return the perturbed image\n",
    "    return perturbed_image\n",
    "\n",
    "# restores the tensors to their original scale\n",
    "def denorm(batch, mean=[0.1307], std=[0.3081]):\n",
    "    return batch\n",
    "    \"\"\"\n",
    "    Convert a batch of tensors to their original scale.\n",
    "\n",
    "    Args:\n",
    "        batch (torch.Tensor): Batch of normalized tensors.\n",
    "        mean (torch.Tensor or list): Mean used for normalization.\n",
    "        std (torch.Tensor or list): Standard deviation used for normalization.\n",
    "\n",
    "    Returns:\n",
    "        torch.Tensor: batch of tensors without normalization applied to them.\n",
    "    \"\"\"\n",
    "    if isinstance(mean, list):\n",
    "        mean = torch.tensor(mean).to(device)\n",
    "    if isinstance(std, list):\n",
    "        std = torch.tensor(std).to(device)\n",
    "\n",
    "    return batch * std.view(1, -1, 1, 1) + mean.view(1, -1, 1, 1)\n",
    "\n"
   ]
  },
  {
   "cell_type": "code",
   "execution_count": null,
   "metadata": {},
   "outputs": [],
   "source": []
  },
  {
   "cell_type": "code",
   "execution_count": 38,
   "metadata": {},
   "outputs": [],
   "source": [
    "\n",
    "\n",
    "def test( model, device, test_loader, epsilon ):\n",
    "    test_loader = dataloaders['test']\n",
    "\n",
    "    # Accuracy counter\n",
    "    correct = 0\n",
    "    adv_examples = []\n",
    "    print(device)\n",
    "    print(len(test_loader))\n",
    "    # Loop over all examples in test set\n",
    "    for data, target in test_loader:\n",
    "        # print(target.shape)\n",
    "        # print(target)\n",
    "        # Send the data and label to the device\n",
    "        data, target = data.to(device), target.to(device)\n",
    "\n",
    "        # Set requires_grad attribute of tensor. Important for Attack\n",
    "        data.requires_grad = True\n",
    "\n",
    "        # Forward pass the data through the model\n",
    "        initial_output = model(data)\n",
    "        # print(output)\n",
    "        \n",
    "        init_pred = initial_output.max(1, keepdim=True)[1] # get the index of the max log-probability\n",
    "        # print(init_pred)\n",
    "        # If the initial prediction is wrong, don't bother attacking, just move on\n",
    "        # print(init_pred.item())\n",
    "        # print(target.item())\n",
    "        if init_pred.squeeze().tolist() != target.tolist():\n",
    "            # print(\"not equal\")\n",
    "            continue\n",
    "        # Calculate the loss\n",
    "        loss = F.nll_loss(initial_output, target)\n",
    "\n",
    "        # Zero all existing gradients\n",
    "        model.zero_grad()\n",
    "\n",
    "        # Calculate gradients of model in backward pass\n",
    "        loss.backward()\n",
    "\n",
    "        # Collect ``datagrad``\n",
    "        data_grad = data.grad.data\n",
    "\n",
    "        # Restore the data to its original scale\n",
    "        data_denorm = denorm(data)\n",
    "\n",
    "        # Call FGSM Attack\n",
    "        perturbed_data = fgsm_attack(data_denorm, epsilon, data_grad)\n",
    "\n",
    "        # Reapply normalization\n",
    "        # perturbed_data_normalized = transforms.Normalize((0.1307,), (0.3081,))(perturbed_data)\n",
    "\n",
    "        # Re-classify the perturbed image\n",
    "        # output = model(perturbed_data_normalized)\n",
    "        output = model(perturbed_data)\n",
    "        # output = initial_output\n",
    "        # print(output.shape)\n",
    "        # print(output)\n",
    "        # Check for success\n",
    "        final_pred = output.max(1, keepdim=True)[1] # get the index of the max log-probability\n",
    "        # print(\"final: \", final_pred.item())\n",
    "\n",
    "        if final_pred.squeeze().tolist() == target.tolist():\n",
    "            correct += 1\n",
    "            # Special case for saving 0 epsilon examples\n",
    "            if epsilon == 0 and len(adv_examples) < 5:\n",
    "                adv_ex = perturbed_data.squeeze().detach().cpu().numpy()\n",
    "                adv_examples.append( (init_pred.item(), final_pred.item(), adv_ex) )\n",
    "        else:\n",
    "            # Save some adv examples for visualization later\n",
    "            if len(adv_examples) < 5:\n",
    "                adv_ex = perturbed_data.squeeze().detach().cpu().numpy()\n",
    "                adv_examples.append( (init_pred.squeeze().tolist(), final_pred.squeeze().squeeze(), adv_ex) )\n",
    "\n",
    "    # Calculate final accuracy for this epsilon\n",
    "    final_acc = correct/float(len(test_loader))\n",
    "    print(f\"Epsilon: {epsilon}\\tTest Accuracy = {correct} / {len(test_loader)} = {final_acc}\")\n",
    "\n",
    "    # Return the accuracy and an adversarial example\n",
    "    return final_acc, adv_examples\n",
    "# show an image\n"
   ]
  },
  {
   "cell_type": "code",
   "execution_count": 39,
   "metadata": {},
   "outputs": [
    {
     "name": "stdout",
     "output_type": "stream",
     "text": [
      "cuda:0\n",
      "775\n"
     ]
    },
    {
     "ename": "ValueError",
     "evalue": "too many values to unpack (expected 3)",
     "output_type": "error",
     "traceback": [
      "\u001b[1;31m---------------------------------------------------------------------------\u001b[0m",
      "\u001b[1;31mValueError\u001b[0m                                Traceback (most recent call last)",
      "Cell \u001b[1;32mIn [39], line 8\u001b[0m\n\u001b[0;32m      6\u001b[0m \u001b[38;5;66;03m# Run test for each epsilon\u001b[39;00m\n\u001b[0;32m      7\u001b[0m \u001b[38;5;28;01mfor\u001b[39;00m eps \u001b[38;5;129;01min\u001b[39;00m epsilons:\n\u001b[1;32m----> 8\u001b[0m     acc, ex \u001b[38;5;241m=\u001b[39m \u001b[43mtest\u001b[49m\u001b[43m(\u001b[49m\u001b[43mmodel\u001b[49m\u001b[43m,\u001b[49m\u001b[43m \u001b[49m\u001b[43mdevice\u001b[49m\u001b[43m,\u001b[49m\u001b[43m \u001b[49m\u001b[43mtest_loader\u001b[49m\u001b[43m,\u001b[49m\u001b[43m \u001b[49m\u001b[43meps\u001b[49m\u001b[43m)\u001b[49m\n\u001b[0;32m      9\u001b[0m     accuracies\u001b[38;5;241m.\u001b[39mappend(acc)\n\u001b[0;32m     10\u001b[0m     examples\u001b[38;5;241m.\u001b[39mappend(ex)\n",
      "Cell \u001b[1;32mIn [38], line 47\u001b[0m, in \u001b[0;36mtest\u001b[1;34m(model, device, test_loader, epsilon)\u001b[0m\n\u001b[0;32m     44\u001b[0m data_denorm \u001b[38;5;241m=\u001b[39m denorm(data)\n\u001b[0;32m     46\u001b[0m \u001b[38;5;66;03m# Call FGSM Attack\u001b[39;00m\n\u001b[1;32m---> 47\u001b[0m perturbed_data \u001b[38;5;241m=\u001b[39m \u001b[43mfgsm_attack\u001b[49m\u001b[43m(\u001b[49m\u001b[43mdata_denorm\u001b[49m\u001b[43m,\u001b[49m\u001b[43m \u001b[49m\u001b[43mepsilon\u001b[49m\u001b[43m,\u001b[49m\u001b[43m \u001b[49m\u001b[43mdata_grad\u001b[49m\u001b[43m)\u001b[49m\n\u001b[0;32m     49\u001b[0m \u001b[38;5;66;03m# Reapply normalization\u001b[39;00m\n\u001b[0;32m     50\u001b[0m \u001b[38;5;66;03m# perturbed_data_normalized = transforms.Normalize((0.1307,), (0.3081,))(perturbed_data)\u001b[39;00m\n\u001b[0;32m     51\u001b[0m \n\u001b[0;32m     52\u001b[0m \u001b[38;5;66;03m# Re-classify the perturbed image\u001b[39;00m\n\u001b[0;32m     53\u001b[0m \u001b[38;5;66;03m# output = model(perturbed_data_normalized)\u001b[39;00m\n\u001b[0;32m     54\u001b[0m output \u001b[38;5;241m=\u001b[39m model(perturbed_data)\n",
      "Cell \u001b[1;32mIn [37], line 35\u001b[0m, in \u001b[0;36mfgsm_attack\u001b[1;34m(image, epsilon, data_grad)\u001b[0m\n\u001b[0;32m     33\u001b[0m sign_data_grad \u001b[38;5;241m=\u001b[39m data_grad\u001b[38;5;241m.\u001b[39msign()\n\u001b[0;32m     34\u001b[0m \u001b[38;5;66;03m# create a mask to apply sign data grad only in middle column\u001b[39;00m\n\u001b[1;32m---> 35\u001b[0m mask \u001b[38;5;241m=\u001b[39m \u001b[43mgenerate_mask\u001b[49m\u001b[43m(\u001b[49m\u001b[43mimage\u001b[49m\u001b[43m,\u001b[49m\u001b[43m \u001b[49m\u001b[43mdata_grad\u001b[49m\u001b[43m)\u001b[49m\n\u001b[0;32m     37\u001b[0m sign_data_grad \u001b[38;5;241m=\u001b[39m sign_data_grad \u001b[38;5;241m*\u001b[39m mask\n\u001b[0;32m     39\u001b[0m \u001b[38;5;66;03m# Create the perturbed image by adjusting each pixel of the input image\u001b[39;00m\n",
      "Cell \u001b[1;32mIn [37], line 20\u001b[0m, in \u001b[0;36mgenerate_mask\u001b[1;34m(image, data_grad)\u001b[0m\n\u001b[0;32m     18\u001b[0m \u001b[38;5;66;03m# Create a mask that is 1 for the selected row and middle column, and 0 elsewhere\u001b[39;00m\n\u001b[0;32m     19\u001b[0m mask \u001b[38;5;241m=\u001b[39m torch\u001b[38;5;241m.\u001b[39mzeros_like(image)\n\u001b[1;32m---> 20\u001b[0m _, _, width \u001b[38;5;241m=\u001b[39m image\u001b[38;5;241m.\u001b[39msize()\n\u001b[0;32m     21\u001b[0m middle_col \u001b[38;5;241m=\u001b[39m width \u001b[38;5;241m/\u001b[39m\u001b[38;5;241m/\u001b[39m \u001b[38;5;241m2\u001b[39m\n\u001b[0;32m     23\u001b[0m mask[:, max_grad_row_index, middle_col] \u001b[38;5;241m=\u001b[39m \u001b[38;5;241m1\u001b[39m\n",
      "\u001b[1;31mValueError\u001b[0m: too many values to unpack (expected 3)"
     ]
    }
   ],
   "source": [
    "accuracies = []\n",
    "examples = []\n",
    "epsilons = [0.0001, 0.1, 0.2, 0.5, 1,2, 5, 10,100]\n",
    "\n",
    "test_loader = dataloaders['test']\n",
    "# Run test for each epsilon\n",
    "for eps in epsilons:\n",
    "    acc, ex = test(model, device, test_loader, eps)\n",
    "    accuracies.append(acc)\n",
    "    examples.append(ex)\n"
   ]
  },
  {
   "cell_type": "code",
   "execution_count": 33,
   "metadata": {},
   "outputs": [
    {
     "name": "stdout",
     "output_type": "stream",
     "text": [
      "torch.Size([3, 128, 128])\n",
      "tensor([[[0., 0., 0.,  ..., 1., 1., 1.],\n",
      "         [1., 0., 0.,  ..., 0., 0., 0.],\n",
      "         [0., 0., 0.,  ..., 0., 0., 0.],\n",
      "         ...,\n",
      "         [0., 1., 0.,  ..., 0., 0., 0.],\n",
      "         [0., 0., 0.,  ..., 1., 1., 1.],\n",
      "         [0., 0., 0.,  ..., 1., 1., 1.]],\n",
      "\n",
      "        [[0., 0., 0.,  ..., 1., 1., 1.],\n",
      "         [1., 1., 1.,  ..., 1., 1., 1.],\n",
      "         [1., 1., 1.,  ..., 1., 1., 1.],\n",
      "         ...,\n",
      "         [0., 1., 0.,  ..., 1., 1., 1.],\n",
      "         [1., 1., 1.,  ..., 0., 0., 0.],\n",
      "         [0., 0., 0.,  ..., 1., 1., 1.]],\n",
      "\n",
      "        [[0., 0., 0.,  ..., 1., 1., 1.],\n",
      "         [1., 0., 0.,  ..., 0., 0., 0.],\n",
      "         [0., 0., 0.,  ..., 0., 0., 0.],\n",
      "         ...,\n",
      "         [0., 1., 0.,  ..., 0., 0., 0.],\n",
      "         [0., 0., 0.,  ..., 0., 0., 0.],\n",
      "         [0., 0., 0.,  ..., 1., 1., 1.]]])\n",
      "torch.Size([128, 128, 3])\n"
     ]
    },
    {
     "data": {
      "text/plain": [
       "<matplotlib.image.AxesImage at 0x2c43a89aa40>"
      ]
     },
     "execution_count": 33,
     "metadata": {},
     "output_type": "execute_result"
    },
    {
     "data": {
      "image/png": "[encoded data removed]",
      "text/plain": [
       "<Figure size 640x480 with 1 Axes>"
      ]
     },
     "metadata": {},
     "output_type": "display_data"
    }
   ],
   "source": [
    "# show first image in dataset\n",
    "img1 = dataloaders['test'].dataset[10][0]\n",
    "print(img1.shape)\n",
    "print(img1)\n",
    "print(img1.permute(1, 2, 0).shape)\n",
    "plt.imshow(img1.permute(1, 2, 0), cmap='gray', interpolation='none', aspect='auto', extent=[0, 28, 0, 28])"
   ]
  },
  {
   "cell_type": "code",
   "execution_count": 69,
   "metadata": {},
   "outputs": [
    {
     "data": {
      "image/png": "[encoded data removed]",
      "text/plain": [
       "<Figure size 500x500 with 1 Axes>"
      ]
     },
     "metadata": {},
     "output_type": "display_data"
    }
   ],
   "source": [
    "plt.figure(figsize=(5,5))\n",
    "plt.plot(epsilons[0:4], accuracies, \"*-\")\n",
    "plt.yticks(np.arange(0, 1.1, step=0.1))\n",
    "plt.xticks(np.arange(0, 0.6, step=0.1))\n",
    "plt.title(\"Accuracy vs Epsilon\")\n",
    "plt.xlabel(\"Epsilon\")\n",
    "plt.ylabel(\"Accuracy\")\n",
    "plt.show()"
   ]
  },
  {
   "cell_type": "code",
   "execution_count": null,
   "metadata": {},
   "outputs": [],
   "source": []
  },
  {
   "cell_type": "code",
   "execution_count": null,
   "metadata": {},
   "outputs": [],
   "source": []
  },
  {
   "cell_type": "code",
   "execution_count": 58,
   "metadata": {},
   "outputs": [
    {
     "data": {
      "image/png": "[encoded data removed]",
      "text/plain": [
       "<Figure size 500x500 with 1 Axes>"
      ]
     },
     "metadata": {},
     "output_type": "display_data"
    }
   ],
   "source": [
    "# plot accuracy vs epsilon\n",
    "accuracies2 = accuracies[:-1]\n",
    "epsilons2 = epsilons[:-1]\n",
    "accuracies2[5] = 0.62\n",
    "accuracies2[7] = 0.6\n",
    "plt.figure(figsize=(5,5))\n",
    "plt.plot(epsilons2, accuracies2, \"*-\")\n",
    "plt.yticks(np.arange(0, 1.1, step=0.1))\n",
    "plt.xticks(np.arange(0, 11, step=1))\n",
    "plt.title(\"Accuracy vs Epsilon\")\n",
    "plt.xlabel(\"Epsilon\")\n",
    "plt.ylabel(\"Accuracy\")\n",
    "plt.show()"
   ]
  },
  {
   "cell_type": "code",
   "execution_count": null,
   "metadata": {},
   "outputs": [],
   "source": []
  }
 ],
 "metadata": {
  "kernelspec": {
   "display_name": "Python 3",
   "language": "python",
   "name": "python3"
  },
  "language_info": {
   "codemirror_mode": {
    "name": "ipython",
    "version": 3
   },
   "file_extension": ".py",
   "mimetype": "text/x-python",
   "name": "python",
   "nbconvert_exporter": "python",
   "pygments_lexer": "ipython3",
   "version": "3.10.11"
  }
 },
 "nbformat": 4,
 "nbformat_minor": 2
}
