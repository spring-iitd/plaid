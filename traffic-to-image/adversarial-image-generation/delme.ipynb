{
 "cells": [
  {
   "cell_type": "code",
   "execution_count": 17,
   "metadata": {},
   "outputs": [
    {
     "name": "stdout",
     "output_type": "stream",
     "text": [
      "torch.Size([3, 32, 32])\n",
      "tensor([False, False, False])\n",
      "tensor([0., 0., 0.])\n",
      "0\n",
      "torch.Size([3, 32, 32])\n",
      "tensor([False, False, False])\n",
      "tensor([0., 0., 0.])\n",
      "0\n"
     ]
    },
    {
     "data": {
      "image/png": "[encoded data removed]",
      "text/plain": [
       "<Figure size 1200x400 with 3 Axes>"
      ]
     },
     "metadata": {},
     "output_type": "display_data"
    }
   ],
   "source": [
    "import torch\n",
    "import matplotlib.pyplot as plt\n",
    "\n",
    "# Function definitions from before\n",
    "def generate_mask(image, data_grad):\n",
    "    print(image.shape)\n",
    "    green_rows = (image[:, 1, :] == 1.0).all(dim=1)\n",
    "    print(green_rows)\n",
    "    grad_magnitude = data_grad.abs().sum(dim=(1, 2))\n",
    "    green_grad_magnitude = grad_magnitude * green_rows.float()\n",
    "    print(green_grad_magnitude)\n",
    "    max_grad_row_index = green_grad_magnitude.argmax().item()\n",
    "    mask = torch.zeros_like(image)\n",
    "    _, _, width = image.size()\n",
    "    middle_col = width // 2\n",
    "    print(max_grad_row_index)\n",
    "    mask[:, max_grad_row_index, :] = 1\n",
    "    return mask\n",
    "\n",
    "def fgsm_attack(image, epsilon, data_grad):\n",
    "    sign_data_grad = data_grad.sign()\n",
    "    mask = generate_mask(image, data_grad)\n",
    "    sign_data_grad = sign_data_grad * mask\n",
    "    perturbed_image = image + epsilon * sign_data_grad\n",
    "    perturbed_image = torch.clamp(perturbed_image, 0, 1)\n",
    "    return perturbed_image\n",
    "\n",
    "def visualize_image(image, title=\"Image\"):\n",
    "    image = image.permute(1, 2, 0).cpu().numpy()  # Convert to HxWxC format for matplotlib\n",
    "    plt.imshow(image)\n",
    "    plt.title(title)\n",
    "    plt.axis('off')\n",
    "\n",
    "def test_generate_mask_and_visualize(image, data_grad):\n",
    "    mask = generate_mask(image, data_grad)\n",
    "    \n",
    "    plt.figure(figsize=(12, 4))\n",
    "    plt.subplot(1, 3, 1)\n",
    "    visualize_image(image, title=\"Original Image\")\n",
    "    \n",
    "    plt.subplot(1, 3, 2)\n",
    "    visualize_image(mask, title=\"Generated Mask\")\n",
    "    \n",
    "    epsilon = 0.1\n",
    "    perturbed_image = fgsm_attack(image, epsilon, data_grad)\n",
    "    \n",
    "    plt.subplot(1, 3, 3)\n",
    "    visualize_image(perturbed_image, title=\"Perturbed Image\")\n",
    "    \n",
    "    plt.show()\n",
    "\n",
    "# Generating a sample image and data gradient\n",
    "# Creating a dummy image with random values and a specific green row\n",
    "image = torch.rand((3, 32, 32))  # Random image with 3 channels and 32x32 size\n",
    "# make first row [0,1,0]\n",
    "for _ in image:\n",
    "    for i in range(32):\n",
    "        image[:,7, i] = torch.tensor([0.0, 1.0, 0.0])\n",
    "for _ in image:\n",
    "    for i in range(32):\n",
    "        image[:, 10, i] = torch.tensor([0.0, 1.0, 0.0])\n",
    "# Creating a dummy data gradient with random values\n",
    "data_grad = torch.randn((3, 32, 32))\n",
    "\n",
    "# Running the test function\n",
    "test_generate_mask_and_visualize(image, data_grad)\n"
   ]
  },
  {
   "cell_type": "code",
   "execution_count": null,
   "metadata": {},
   "outputs": [],
   "source": []
  }
 ],
 "metadata": {
  "kernelspec": {
   "display_name": "Python 3",
   "language": "python",
   "name": "python3"
  },
  "language_info": {
   "codemirror_mode": {
    "name": "ipython",
    "version": 3
   },
   "file_extension": ".py",
   "mimetype": "text/x-python",
   "name": "python",
   "nbconvert_exporter": "python",
   "pygments_lexer": "ipython3",
   "version": "3.10.11"
  }
 },
 "nbformat": 4,
 "nbformat_minor": 2
}
