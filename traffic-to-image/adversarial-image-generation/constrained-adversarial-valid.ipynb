{
 "cells": [
  {
   "cell_type": "code",
   "execution_count": 10,
   "metadata": {},
   "outputs": [],
   "source": [
    "import torch\n",
    "import torch.nn as nn\n",
    "import torch.nn.functional as F\n",
    "import torch.optim as optim\n",
    "from torchvision import datasets, transforms, models\n",
    "import numpy as np\n",
    "import matplotlib.pyplot as plt\n",
    "\n",
    "\n"
   ]
  },
  {
   "cell_type": "code",
   "execution_count": 11,
   "metadata": {},
   "outputs": [],
   "source": [
    "\n",
    "# Define data transformations for data augmentation and normalization\n",
    "data_transforms = {\n",
    "    'train': transforms.Compose([\n",
    "        transforms.ToTensor(),\n",
    "        # transforms.Normalize([0.485, 0.456, 0.406], [0.229, 0.224, 0.225])\n",
    "    ]),\n",
    "    'val': transforms.Compose([\n",
    "        transforms.ToTensor(),\n",
    "        # transforms.Normalize([0.485, 0.456, 0.406], [0.229, 0.224, 0.225])\n",
    "    ]),\n",
    "    'test': transforms.Compose([\n",
    "        transforms.ToTensor(),\n",
    "        # transforms.Normalize([0.485, 0.456, 0.406], [0.229, 0.224, 0.225])\n",
    "    ])\n",
    "}"
   ]
  },
  {
   "cell_type": "code",
   "execution_count": 12,
   "metadata": {},
   "outputs": [
    {
     "name": "stdout",
     "output_type": "stream",
     "text": [
      "{'test': 3097}\n",
      "['attack', 'benign']\n",
      "2\n"
     ]
    }
   ],
   "source": [
    "# Define the data directory\n",
    "# data_dir = '../../Anchor_images/'\n",
    "# data_dir = '../test/'\n",
    "\n",
    "data_dir = './new_stuff/test/'\n",
    "\n",
    "# Create data loaders\n",
    "image_datasets = {x: datasets.ImageFolder(data_dir, data_transforms[x]) for x in ['test','train','val']}\n",
    "dataloaders = {x: torch.utils.data.DataLoader(image_datasets[x], batch_size=48, shuffle=True, num_workers=4) for x in ['test']}\n",
    "dataset_sizes = {x: len(image_datasets[x]) for x in ['test']}\n",
    "print(dataset_sizes)\n",
    "\n",
    "class_names = image_datasets['test'].classes\n",
    "print(class_names)\n",
    "print(len(class_names))"
   ]
  },
  {
   "cell_type": "code",
   "execution_count": 13,
   "metadata": {},
   "outputs": [
    {
     "name": "stderr",
     "output_type": "stream",
     "text": [
      "C:\\Users\\kulka\\AppData\\Local\\Packages\\PythonSoftwareFoundation.Python.3.10_qbz5n2kfra8p0\\LocalCache\\local-packages\\Python310\\site-packages\\torchvision\\models\\_utils.py:208: UserWarning: The parameter 'pretrained' is deprecated since 0.13 and may be removed in the future, please use 'weights' instead.\n",
      "  warnings.warn(\n",
      "C:\\Users\\kulka\\AppData\\Local\\Packages\\PythonSoftwareFoundation.Python.3.10_qbz5n2kfra8p0\\LocalCache\\local-packages\\Python310\\site-packages\\torchvision\\models\\_utils.py:223: UserWarning: Arguments other than a weight enum or `None` for 'weights' are deprecated since 0.13 and may be removed in the future. The current behavior is equivalent to passing `weights=ResNet18_Weights.IMAGENET1K_V1`. You can also use `weights=ResNet18_Weights.DEFAULT` to get the most up-to-date weights.\n",
      "  warnings.warn(msg)\n"
     ]
    },
    {
     "name": "stdout",
     "output_type": "stream",
     "text": [
      "cuda:0\n"
     ]
    }
   ],
   "source": [
    "# pretrained_model = \"custom_cnn_model_new_stuffing.pth\"\n",
    "pretrained_model = \"custom_cnn_model_new_stuffing 1.pth\"\n",
    "# use_cuda=True\n",
    "# Set random seed for reproducibility\n",
    "# torch.manual_seed(42)\n",
    "# Load the pre-trained ResNet-18 model\n",
    "model = models.resnet18(pretrained=True)\n",
    "# Freeze all layers except the final classification layer\n",
    "# for name, param in model.named_parameters():\n",
    "#     # Unfreeze the final classification layer\n",
    "#     if \"fc\" in name:  \n",
    "#         param.requires_grad = True\n",
    "#     else:\n",
    "#         param.requires_grad = False\n",
    "# Modify the final layer to match the number of classes\n",
    "num_classes = len(class_names)\n",
    "model.fc = nn.Linear(model.fc.in_features, num_classes)\n",
    "\n",
    "# Move the model to the GPU if available\n",
    "device = torch.device(\"cuda:0\" if torch.cuda.is_available() else \"cpu\")\n",
    "model.load_state_dict(torch.load(pretrained_model))\n",
    "model.eval()\n",
    "model = model.to(device)\n",
    "\n",
    "print(device)"
   ]
  },
  {
   "cell_type": "code",
   "execution_count": null,
   "metadata": {},
   "outputs": [],
   "source": []
  },
  {
   "cell_type": "code",
   "execution_count": 13,
   "metadata": {},
   "outputs": [
    {
     "name": "stdout",
     "output_type": "stream",
     "text": [
      "Test Accuracy: 0.9839\n",
      "Accuracy2: 0.9779\n"
     ]
    }
   ],
   "source": [
    "test_loader = dataloaders['test']\n",
    "# model.load_state_dict(torch.load(pretrained_model))\n",
    "def calculate_accuracy2(all_preds, all_labels):\n",
    "    # Count the number of correct predictions where label is 0\n",
    "    correct = np.sum((all_preds == 0) & (all_labels == 0))\n",
    "    \n",
    "    # Count the total number of cases where label is 0\n",
    "    total_cases = np.sum(all_labels == 0)\n",
    "    \n",
    "    # Calculate accuracy2\n",
    "    if total_cases > 0:\n",
    "        accuracy2 = correct / total_cases\n",
    "    else:\n",
    "        accuracy2 = 0.0  # Handle the case where there are no labels with value 0\n",
    "    \n",
    "    return accuracy2\n",
    "all_preds = []\n",
    "all_labels = []\n",
    "\n",
    "for inputs, labels in test_loader:\n",
    "    inputs = inputs.to(device)\n",
    "    labels = labels.to(device)\n",
    "    with torch.no_grad():\n",
    "        outputs = model(inputs)\n",
    "        _, preds = torch.max(outputs, 1)\n",
    "    all_preds.extend(preds.cpu().numpy())\n",
    "    all_labels.extend(labels.cpu().numpy())\n",
    "\n",
    "# Convert lists to numpy arrays\n",
    "all_preds = np.array(all_preds)\n",
    "all_labels = np.array(all_labels)\n",
    "\n",
    "# Calculate accuracy\n",
    "test_accuracy = np.sum(all_preds == all_labels) / len(all_labels)\n",
    "print(f'Test Accuracy: {test_accuracy:.4f}')\n",
    "print(f'Accuracy2: {calculate_accuracy2(all_preds, all_labels):.4f}')"
   ]
  },
  {
   "cell_type": "code",
   "execution_count": 14,
   "metadata": {},
   "outputs": [
    {
     "ename": "NameError",
     "evalue": "name 'all_preds' is not defined",
     "output_type": "error",
     "traceback": [
      "\u001b[1;31m---------------------------------------------------------------------------\u001b[0m",
      "\u001b[1;31mNameError\u001b[0m                                 Traceback (most recent call last)",
      "Cell \u001b[1;32mIn [14], line 1\u001b[0m\n\u001b[1;32m----> 1\u001b[0m \u001b[38;5;28mprint\u001b[39m(\u001b[43mall_preds\u001b[49m)\n\u001b[0;32m      2\u001b[0m \u001b[38;5;28mprint\u001b[39m(all_labels)\n",
      "\u001b[1;31mNameError\u001b[0m: name 'all_preds' is not defined"
     ]
    }
   ],
   "source": [
    "print(all_preds)\n",
    "print(all_labels)"
   ]
  },
  {
   "cell_type": "code",
   "execution_count": 58,
   "metadata": {},
   "outputs": [],
   "source": [
    "import binascii\n",
    "\n",
    "def bit_stuff(data):\n",
    "    stuffed = \"\"\n",
    "    count = 0\n",
    "    for bit in data:\n",
    "        if bit == '1':\n",
    "            count += 1\n",
    "            stuffed += bit\n",
    "            if count == 5:\n",
    "                stuffed += '0'\n",
    "                count = 0\n",
    "        else:\n",
    "            stuffed += bit\n",
    "            count = 0\n",
    "    return stuffed\n",
    "\n",
    "def crc_remainder(input_bitstring, polynomial_bitstring, initial_filler):\n",
    "    polynomial_bitstring = polynomial_bitstring.lstrip('0')\n",
    "    len_input = len(input_bitstring)\n",
    "    initial_padding = initial_filler * (len(polynomial_bitstring) - 1)\n",
    "    input_padded_array = list(input_bitstring + initial_padding)\n",
    "    \n",
    "    while '1' in input_padded_array[:len_input]:\n",
    "        cur_shift = input_padded_array.index('1')\n",
    "        for i in range(len(polynomial_bitstring)):\n",
    "            input_padded_array[cur_shift + i] = \\\n",
    "                str(int(polynomial_bitstring[i] != input_padded_array[cur_shift + i]))\n",
    "                \n",
    "    return ''.join(input_padded_array)[len_input:]\n",
    "# FGSM attack code\n",
    "def generate_mask(image, data_grad):\n",
    "    # Assuming 'image' is of shape [batch_size, 3, 128, 128]\n",
    "    # We need to identify the green channel which is the 2nd channel in this format\n",
    "    \n",
    "    # Extract the red, green, and blue channels\n",
    "    red_channel = image[:, 0, :, :]\n",
    "    green_channel = image[:, 1, :, :]\n",
    "    blue_channel = image[:, 2, :, :]\n",
    "    \n",
    "    # Create a mask for rows where all pixels are exactly (0, 1, 0) - i.e., green\n",
    "    green_mask = (red_channel == 0) & (green_channel == 1) & (blue_channel == 0)\n",
    "    \n",
    "    # Initialize variables to track the maximum gradient and corresponding row index\n",
    "    max_grad = torch.zeros(green_channel.shape[0], device=image.device)\n",
    "    max_grad_row = torch.zeros(green_channel.shape[0], dtype=torch.long, device=image.device)\n",
    "    \n",
    "    for i in range(green_channel.shape[1]):  # iterate over rows\n",
    "        # Check if all pixels in the row are green\n",
    "        all_green = green_mask[:, i, :].all(dim=1)\n",
    "        \n",
    "        # Compute gradient magnitude for the row\n",
    "        row_grad_magnitude = data_grad[:, :, i, :].abs().sum(dim=(1, 2))\n",
    "        \n",
    "        # Update the row with max gradient magnitude if it has all green pixels\n",
    "        update_mask = (row_grad_magnitude > max_grad) & all_green\n",
    "        max_grad = torch.where(update_mask, row_grad_magnitude, max_grad)\n",
    "        max_grad_row = torch.where(update_mask, torch.tensor(i, device=image.device), max_grad_row)\n",
    "\n",
    "    # Create a mask to apply the sign data gradient only in the identified rows with max gradient\n",
    "    mask = torch.zeros_like(data_grad)\n",
    "    for b in range(image.shape[0]):\n",
    "        mask[b, :, max_grad_row[b], :] = 1  # Applying on all columns of the identified row\n",
    "    \n",
    "    return mask\n",
    "\n",
    "def fgsm_attack(image, epsilon, data_grad):\n",
    "    # Collect the element-wise sign of the data gradient\n",
    "    sign_data_grad = data_grad.sign()\n",
    "    sign_data_grad = data_grad\n",
    "    \n",
    "    # create a mask to apply sign data grad only in the row with max gradient magnitude\n",
    "    mask = generate_mask(image, data_grad)\n",
    "\n",
    "    sign_data_grad = sign_data_grad * mask\n",
    "\n",
    "    # Create the perturbed image by adjusting each pixel of the input image\n",
    "    perturbed_image = image + epsilon * sign_data_grad\n",
    "\n",
    "    # Ensure the identified row's pixels are either (0, 0, 0) or (256, 256, 256)\n",
    "    for b in range(image.shape[0]):\n",
    "        row = mask[b, 0].nonzero(as_tuple=True)[0]  # Identified row index\n",
    "        if len(row) > 0:  # Only apply if a row is identified\n",
    "            row = row[0].item()\n",
    "            for col in range(image.shape[3]):\n",
    "                pixel_value = perturbed_image[b, :, row, col]\n",
    "                dot_product_with_1 = torch.dot(pixel_value, torch.tensor([1.0, 1.0, 1.0], device=image.device))\n",
    "                dot_product_with_0 = torch.dot(pixel_value, torch.tensor([0.0, 0.0, 0.0], device=image.device))\n",
    "                if dot_product_with_1 >= dot_product_with_0:\n",
    "                    perturbed_image[b, :, row, col] = 1.0  # Set to (256, 256, 256) in range [0, 1]\n",
    "                else:\n",
    "                    perturbed_image[b, :, row, col] = 0.0  # Set to (0, 0, 0)\n",
    "\n",
    "    # Adding clipping to maintain [0,1] range\n",
    "    # perturbed_image = torch.clamp(perturbed_image, 0, 1)\n",
    "\n",
    "    # Return the perturbed image\n",
    "    return perturbed_image\n",
    "\n",
    "\n",
    "def fgsm_attack_valid(image, epsilon, data_grad):\n",
    "    # Collect the element-wise sign of the data gradient\n",
    "    sign_data_grad = data_grad.sign()\n",
    "    \n",
    "    # Create a mask to apply sign data grad only in the row with max gradient magnitude\n",
    "    mask = generate_mask(image, data_grad)\n",
    "\n",
    "    sign_data_grad = sign_data_grad * mask\n",
    "\n",
    "    # Create the perturbed image by adjusting each pixel of the input image\n",
    "    perturbed_image = image + epsilon * sign_data_grad\n",
    "\n",
    "    # Ensure the identified row's pixels are modified according to the fixed pattern and CRC bit stuffing\n",
    "    for b in range(image.shape[0]):\n",
    "        row = mask[b, 0].nonzero(as_tuple=True)[0]  # Identified row index\n",
    "        if len(row) > 0:  # Only apply if a row is identified\n",
    "            row = row[0].item()\n",
    "            # Apply fixed pattern to first 26 pixels\n",
    "            fixed_pattern = \"00000100010011000001001000\"\n",
    "            for i, bit in enumerate(fixed_pattern):\n",
    "                value = 1.0 if bit == '1' else 0.0\n",
    "                perturbed_image[b, :, row, i] = value\n",
    "                # colored black or white\n",
    "\n",
    "            # Perturbation bits from 27th to 90th pixels\n",
    "            perturbation_bits = ''.join(['1' if perturbed_image[b, 0, row, 26 + i] > 0.5 else '0' for i in range(64)])\n",
    "\n",
    "            for col in range(26, 26+64):\n",
    "                pixel_value = perturbed_image[b, :, row, col]\n",
    "                dot_product_with_1 = torch.dot(pixel_value, torch.tensor([1.0, 1.0, 1.0], device=image.device))\n",
    "                dot_product_with_0 = torch.dot(pixel_value, torch.tensor([0.0, 0.0, 0.0], device=image.device))\n",
    "                if dot_product_with_1 >= dot_product_with_0:\n",
    "                    perturbed_image[b, :, row, col] = 1.0  # Set to (256, 256, 256) in range [0, 1]\n",
    "                else:\n",
    "                    perturbed_image[b, :, row, col] = 0.0  # Set to (0, 0, 0)\n",
    "\n",
    "            # Calculate CRC\n",
    "            crc_input = '0' + '0000000100110000' + '0' + '0' + '0' + '1' + '1000' + perturbation_bits\n",
    "            crc_output = crc_remainder(crc_input, '100000111', '0')\n",
    "            bit_stuffed_crc = bit_stuff(crc_output[:15])\n",
    "\n",
    "            # Apply bit-stuffed CRC to the next 15 pixels\n",
    "            for i, bit in enumerate(bit_stuffed_crc):\n",
    "                value = 1.0 if bit == '1' else 0.0\n",
    "                perturbed_image[b, :, row, 26 + 64 + i] = value\n",
    "\n",
    "            ending_part = '1011111111111'\n",
    "            for i, bit in enumerate(ending_part):\n",
    "                value = 1.0 if bit == '1' else 0.0\n",
    "                perturbed_image[b, :, row, 26 + 64 +len(ending_part)+ i] = value\n",
    "            \n",
    "            # Mark the rest of the pixels in the row as green\n",
    "            for i in range(26 + 64 + len(ending_part)+len(bit_stuffed_crc), 128):\n",
    "                perturbed_image[b, 1, row, i] = 1.0  # Set green channel to maximum\n",
    "                perturbed_image[b, 0, row, i] = 0.0\n",
    "                perturbed_image[b, 2, row, i] = 0.0\n",
    "        # plot te\n",
    "        # plt.subplot(1, 2, 1)\n",
    "        # plt.imshow(perturbed_image[b,:,:,:].detach().cpu().permute(1, 2, 0), cmap='gray', interpolation='none', aspect='auto', extent=[0, 28, 0, 28])\n",
    "        # plt.axis('off')\n",
    "\n",
    "        # plt.subplot(1, 2, 2)\n",
    "\n",
    "        # plt.imshow(mask[b,:,:,:].detach().cpu().permute(1, 2, 0), cmap='gray', interpolation='none', aspect='auto', extent=[0, 28, 0, 28])\n",
    "        # sd\n",
    "    # Adding clipping to maintain [0,1] range\n",
    "    perturbed_image = torch.clamp(perturbed_image, 0, 1)\n",
    "\n",
    "    # Return the perturbed image\n",
    "    return perturbed_image\n",
    "\n",
    "# restores the tensors to their original scale\n",
    "def denorm(batch, mean=[0.1307], std=[0.3081]):\n",
    "    return batch\n",
    "    \"\"\"\n",
    "    Convert a batch of tensors to their original scale.\n",
    "\n",
    "    Args:\n",
    "        batch (torch.Tensor): Batch of normalized tensors.\n",
    "        mean (torch.Tensor or list): Mean used for normalization.\n",
    "        std (torch.Tensor or list): Standard deviation used for normalization.\n",
    "\n",
    "    Returns:\n",
    "        torch.Tensor: batch of tensors without normalization applied to them.\n",
    "    \"\"\"\n",
    "    if isinstance(mean, list):\n",
    "        mean = torch.tensor(mean).to(device)\n",
    "    if isinstance(std, list):\n",
    "        std = torch.tensor(std).to(device)\n",
    "\n",
    "    return batch * std.view(1, -1, 1, 1) + mean.view(1, -1, 1, 1)\n",
    "\n"
   ]
  },
  {
   "cell_type": "code",
   "execution_count": null,
   "metadata": {},
   "outputs": [],
   "source": []
  },
  {
   "cell_type": "code",
   "execution_count": 59,
   "metadata": {},
   "outputs": [],
   "source": [
    "\n",
    "\n",
    "def test( model, device, test_loader, epsilon ):\n",
    "    test_loader = dataloaders['test']\n",
    "\n",
    "    # Accuracy counter\n",
    "    correct = 0\n",
    "    adv_examples = []\n",
    "    print(device)\n",
    "    print(len(test_loader))\n",
    "    all_preds = []\n",
    "    all_labels = []\n",
    "    # Loop over all examples in test set\n",
    "    for data, target in test_loader:\n",
    "        # print(target.shape)\n",
    "        # print(target)\n",
    "        # Send the data and label to the device\n",
    "        data, target = data.to(device), target.to(device)\n",
    "\n",
    "        # Set requires_grad attribute of tensor. Important for Attack\n",
    "        data.requires_grad = True\n",
    "\n",
    "        # Forward pass the data through the model\n",
    "        model.eval()\n",
    "        initial_output = model(data)\n",
    "        # print(output)\n",
    "        \n",
    "        init_pred = initial_output.max(1, keepdim=True)[1] # get the index of the max log-probability\n",
    "        # print(init_pred)\n",
    "        # If the initial prediction is wrong, don't bother attacking, just move on\n",
    "        # print(init_pred.item())\n",
    "        # print(target.item())\n",
    "\n",
    "        # if init_pred.squeeze().tolist() != target.tolist():\n",
    "            # continue\n",
    "\n",
    "        # Calculate the loss\n",
    "        loss = F.nll_loss(initial_output, target)\n",
    "\n",
    "        # Zero all existing gradients\n",
    "        model.zero_grad()\n",
    "\n",
    "        # Calculate gradients of model in backward pass\n",
    "        loss.backward()\n",
    "\n",
    "        # Collect ``datagrad``\n",
    "        data_grad = data.grad.data\n",
    "\n",
    "        # Restore the data to its original scale\n",
    "        data_denorm = denorm(data)\n",
    "\n",
    "        # Call FGSM Attack\n",
    "        perturbed_data = fgsm_attack(data_denorm, epsilon, data_grad)\n",
    "\n",
    "        # Reapply normalization\n",
    "        # perturbed_data_normalized = transforms.Normalize((0.1307,), (0.3081,))(perturbed_data)\n",
    "\n",
    "        # Re-classify the perturbed image\n",
    "        # output = model(perturbed_data_normalized)\n",
    "        output = model(perturbed_data)\n",
    "        # output = initial_output\n",
    "        # print(output.shape)\n",
    "        # print(output)\n",
    "        # Check for success\n",
    "        final_pred = output.max(1, keepdim=True)[1] # get the index of the max log-probability\n",
    "        # print(\"final: \", final_pred.item())\n",
    "\n",
    "        all_preds.extend(final_pred.cpu().numpy())\n",
    "        all_labels.extend(target.cpu().numpy())\n",
    "        # if final_pred.squeeze().tolist() == target.tolist():\n",
    "        #     correct += 1\n",
    "        #     # Special case for saving 0 epsilon examples\n",
    "        #     if epsilon == 0 and len(adv_examples) < 5:\n",
    "        #         adv_ex = perturbed_data.squeeze().detach().cpu().numpy()\n",
    "        #         adv_examples.append( (init_pred.item(), final_pred.item(), adv_ex) )\n",
    "        # else:\n",
    "        #     # Save some adv examples for visualization later\n",
    "        #     if len(adv_examples) < 5:\n",
    "        #         adv_ex = perturbed_data.squeeze().detach().cpu().numpy()\n",
    "        #         adv_examples.append( (init_pred.squeeze().tolist(), final_pred.squeeze().squeeze(), adv_ex) )\n",
    "\n",
    "    # Calculate final accuracy for this epsilon\n",
    "    # final_acc = correct/float(len(test_loader))\n",
    "    # print(f\"Epsilon: {epsilon}\\tTest Accuracy = {correct} / {len(test_loader)} = {final_acc}\")\n",
    "    final_acc = np.sum(all_preds == all_labels) / len(all_labels)\n",
    "    print(f'Test Accuracy: {final_acc:.4f}')\n",
    "\n",
    "    # Return the accuracy and an adversarial example\n",
    "    return final_acc, adv_examples\n",
    "# show an image\n"
   ]
  },
  {
   "cell_type": "code",
   "execution_count": 60,
   "metadata": {},
   "outputs": [],
   "source": [
    "def calculate_accuracy2(all_preds, all_labels):\n",
    "    # Count the number of correct predictions where label is 0\n",
    "    correct = np.sum((all_preds == 0) & (all_labels == 0))\n",
    "    \n",
    "    # Count the total number of cases where label is 0\n",
    "    total_cases = np.sum(all_labels == 0)\n",
    "    \n",
    "    # Calculate accuracy2\n",
    "    if total_cases > 0:\n",
    "        accuracy2 = correct / total_cases\n",
    "    else:\n",
    "        accuracy2 = 0.0  # Handle the case where there are no labels with value 0\n",
    "    \n",
    "    return accuracy2\n",
    "\n",
    "\n",
    "def test2( model, device, test_loader, epsilon ):\n",
    "    \"\"\"\n",
    "    accuracy is model incorrectly classifies benign + perturbation as benign image \n",
    "    \"\"\"\n",
    "    test_loader = dataloaders['test']\n",
    "\n",
    "    # Accuracy counter\n",
    "    correct = 0\n",
    "    total_consider = 0\n",
    "    adv_examples = []\n",
    "    print(device)\n",
    "    print(len(test_loader))\n",
    "    all_preds = []\n",
    "    all_labels = []\n",
    "    # Loop over all examples in test set\n",
    "    for data, target in test_loader:\n",
    "        # print(target.shape)\n",
    "        # print(target)\n",
    "        # Send the data and label to the device\n",
    "        data, target = data.to(device), target.to(device)\n",
    "\n",
    "        # Set requires_grad attribute of tensor. Important for Attack\n",
    "        data.requires_grad = True\n",
    "\n",
    "        # Forward pass the data through the model\n",
    "        model.eval()\n",
    "        initial_output = model(data)\n",
    "        # print(output)\n",
    "        \n",
    "        init_pred = initial_output.max(1, keepdim=True)[1] # get the index of the max log-probability\n",
    "        # print(init_pred)\n",
    "        # If the initial prediction is wrong, don't bother attacking, just move on\n",
    "        # print(init_pred.item())\n",
    "        # print(target.item())\n",
    "        # if init_pred.squeeze().tolist() != target.tolist() or not all(element == 0 for element in target.tolist()):\n",
    "\n",
    "        #     # print(\"not equal\")\n",
    "        #     continue\n",
    "        total_consider +=1\n",
    "        # Calculate the loss\n",
    "        loss = F.nll_loss(initial_output, target)\n",
    "\n",
    "        # Zero all existing gradients\n",
    "        model.zero_grad()\n",
    "\n",
    "        # Calculate gradients of model in backward pass\n",
    "        loss.backward()\n",
    "\n",
    "        # Collect ``datagrad``\n",
    "        data_grad = data.grad.data\n",
    "\n",
    "        # Restore the data to its original scale\n",
    "        data_denorm = denorm(data)\n",
    "\n",
    "        # Call FGSM Attack\n",
    "        # perturbed_data = fgsm_attack(data_denorm, epsilon, data_grad)\n",
    "        perturbed_data = fgsm_attack_valid(data_denorm, epsilon, data_grad)\n",
    "        # if perturbed_data == data:\n",
    "        #     continue\n",
    "        # Reapply normalization\n",
    "        # perturbed_data_normalized = transforms.Normalize((0.1307,), (0.3081,))(perturbed_data)\n",
    "\n",
    "        # Re-classify the perturbed image\n",
    "        # output = model(perturbed_data_normalized)\n",
    "        output = model(perturbed_data)\n",
    "        # output = initial_output\n",
    "        # print(output.shape)\n",
    "        # print(output)\n",
    "        # Check for success\n",
    "        final_pred = output.max(1, keepdim=True)[1] # get the index of the max log-probability\n",
    "        # print(\"final: \", final_pred.item())\n",
    "\n",
    "        all_preds.extend(final_pred.cpu().numpy())\n",
    "        all_labels.extend(target.cpu().numpy())\n",
    "\n",
    "        # if final_pred.squeeze().tolist() == target.tolist():\n",
    "        #     correct += 1\n",
    "        #     # Special case for saving 0 epsilon examples\n",
    "        #     if epsilon == 0 and len(adv_examples) < 5:\n",
    "        #         adv_ex = perturbed_data.squeeze().detach().cpu().numpy()\n",
    "        #         adv_examples.append( (init_pred.item(), final_pred.item(), adv_ex) )\n",
    "        # else:\n",
    "        #     # Save some adv examples for visualization later\n",
    "        #     if len(adv_examples) < 5:\n",
    "        #         adv_ex = perturbed_data.squeeze().detach().cpu().numpy()\n",
    "        #         adv_examples.append( (init_pred.squeeze().tolist(), final_pred.squeeze().squeeze(), adv_ex) )\n",
    "\n",
    "    # Calculate final accuracy for this epsilon\n",
    "    # final_acc = correct/total_consider\n",
    "    # print(f\"Epsilon: {epsilon}\\tTest Accuracy = {correct} / {total_consider} = {final_acc}\")\n",
    "\n",
    "    # final_acc = calculate_accuracy2(all_preds, all_labels)\n",
    "    # print(f'Test Accuracy: {final_acc:.4f}')\n",
    "\n",
    "    # Return the accuracy and an adversarial example\n",
    "    all_preds = np.array(all_preds)\n",
    "    all_labels = np.array(all_labels)\n",
    "\n",
    "    return all_preds.squeeze(), all_labels\n",
    "\n",
    "# show an image\n"
   ]
  },
  {
   "cell_type": "code",
   "execution_count": 61,
   "metadata": {},
   "outputs": [
    {
     "name": "stdout",
     "output_type": "stream",
     "text": [
      "1 0.9761059089441395 0.961441213653603\n",
      "[0 0 0 ... 1 1 1]\n",
      "[0 0 0 ... 1 1 1]\n"
     ]
    }
   ],
   "source": [
    "# print(preds.item())\n",
    "# preds = [p[0].item() for p in preds]\n",
    "preds = np.array(preds)\n",
    "labels = np.array(labels)\n",
    "preds = preds.squeeze()\n",
    "acc = np.sum(preds == labels) / len(labels)\n",
    "acc2 = calculate_accuracy2(preds, labels)\n",
    "\n",
    "print(eps, acc, acc2)\n",
    "print(preds)\n",
    "print(labels)"
   ]
  },
  {
   "cell_type": "code",
   "execution_count": 62,
   "metadata": {},
   "outputs": [
    {
     "name": "stdout",
     "output_type": "stream",
     "text": [
      "[ True  True  True ...  True  True  True]\n"
     ]
    }
   ],
   "source": [
    "print(preds==labels)"
   ]
  },
  {
   "cell_type": "code",
   "execution_count": 63,
   "metadata": {},
   "outputs": [
    {
     "name": "stdout",
     "output_type": "stream",
     "text": [
      "1\n",
      "cuda:0\n",
      "65\n",
      "1 0.9709396189861156 0.9538558786346397\n",
      "0.8\n",
      "cuda:0\n",
      "65\n",
      "0.8 0.9712625121084921 0.95448798988622\n",
      "0.6\n",
      "cuda:0\n",
      "65\n",
      "0.6 0.9709396189861156 0.9532237673830595\n",
      "0.4\n",
      "cuda:0\n",
      "65\n",
      "0.4 0.9725540845979981 0.9563843236409608\n",
      "0.2\n",
      "cuda:0\n",
      "65\n",
      "0.2 0.9719082983532451 0.9557522123893806\n",
      "0.1\n",
      "cuda:0\n",
      "65\n"
     ]
    }
   ],
   "source": [
    "accuracies = []\n",
    "examples = []\n",
    "epsilons = [ 0.1, 0.2, 0.4, 0.6, 0.8, 1]\n",
    "epsilons.reverse()\n",
    "\n",
    "test_loader = dataloaders['test']\n",
    "# Run test for each epsilon\n",
    "for eps in epsilons:\n",
    "    # acc, ex = test2(model, device, test_loader, eps)\n",
    "    print(eps)\n",
    "    preds, labels = test2(model, device, test_loader, eps)\n",
    "    acc = np.sum(preds == labels) / len(labels)\n",
    "    ex = []\n",
    "    acc2 = calculate_accuracy2(preds, labels)\n",
    "    print(eps, acc, acc2)\n",
    "    accuracies.append(acc)\n",
    "    examples.append(ex)\n",
    "    "
   ]
  },
  {
   "cell_type": "code",
   "execution_count": null,
   "metadata": {},
   "outputs": [
    {
     "name": "stdout",
     "output_type": "stream",
     "text": [
      "100\n",
      "cuda:0\n",
      "3097\n",
      "100 0.9641588634162093 0.9475347661188369\n"
     ]
    },
    {
     "ename": "NameError",
     "evalue": "name 'accuracies' is not defined",
     "output_type": "error",
     "traceback": [
      "\u001b[1;31m---------------------------------------------------------------------------\u001b[0m",
      "\u001b[1;31mNameError\u001b[0m                                 Traceback (most recent call last)",
      "Cell \u001b[1;32mIn [16], line 16\u001b[0m\n\u001b[0;32m     14\u001b[0m acc2 \u001b[38;5;241m=\u001b[39m calculate_accuracy2(preds, labels)\n\u001b[0;32m     15\u001b[0m \u001b[38;5;28mprint\u001b[39m(eps, acc, acc2)\n\u001b[1;32m---> 16\u001b[0m \u001b[43maccuracies\u001b[49m\u001b[38;5;241m.\u001b[39mappend(acc)\n\u001b[0;32m     17\u001b[0m examples\u001b[38;5;241m.\u001b[39mappend(ex)\n",
      "\u001b[1;31mNameError\u001b[0m: name 'accuracies' is not defined"
     ]
    }
   ],
   "source": [
    "accuracies = []\n",
    "examples = []\n",
    "epsilons = [ 100]\n",
    "# epsilons.reverse()\n",
    "\n",
    "test_loader = dataloaders['test']\n",
    "# Run test for each epsilon\n",
    "for eps in epsilons:\n",
    "    # acc, ex = test2(model, device, test_loader, eps)\n",
    "    print(eps)\n",
    "    preds, labels = test2(model, device, test_loader, eps)\n",
    "    acc = np.sum(preds == labels) / len(labels)\n",
    "    ex = []\n",
    "    acc2 = calculate_accuracy2(preds, labels)\n",
    "    print(eps, acc, acc2)\n",
    "    accuracies.append(acc)\n",
    "    examples.append(ex)\n",
    "    "
   ]
  },
  {
   "cell_type": "code",
   "execution_count": null,
   "metadata": {},
   "outputs": [],
   "source": []
  },
  {
   "cell_type": "code",
   "execution_count": null,
   "metadata": {},
   "outputs": [
    {
     "name": "stdout",
     "output_type": "stream",
     "text": [
      "cuda:0\n",
      "775\n"
     ]
    },
    {
     "ename": "NameError",
     "evalue": "name 'test_accuracy' is not defined",
     "output_type": "error",
     "traceback": [
      "\u001b[1;31m---------------------------------------------------------------------------\u001b[0m",
      "\u001b[1;31mNameError\u001b[0m                                 Traceback (most recent call last)",
      "Cell \u001b[1;32mIn [15], line 8\u001b[0m\n\u001b[0;32m      6\u001b[0m \u001b[38;5;66;03m# Run test for each epsilon\u001b[39;00m\n\u001b[0;32m      7\u001b[0m \u001b[38;5;28;01mfor\u001b[39;00m eps \u001b[38;5;129;01min\u001b[39;00m epsilons:\n\u001b[1;32m----> 8\u001b[0m     acc, ex \u001b[38;5;241m=\u001b[39m \u001b[43mtest\u001b[49m\u001b[43m(\u001b[49m\u001b[43mmodel\u001b[49m\u001b[43m,\u001b[49m\u001b[43m \u001b[49m\u001b[43mdevice\u001b[49m\u001b[43m,\u001b[49m\u001b[43m \u001b[49m\u001b[43mtest_loader\u001b[49m\u001b[43m,\u001b[49m\u001b[43m \u001b[49m\u001b[43meps\u001b[49m\u001b[43m)\u001b[49m\n\u001b[0;32m      9\u001b[0m     accuracies\u001b[38;5;241m.\u001b[39mappend(acc)\n\u001b[0;32m     10\u001b[0m     examples\u001b[38;5;241m.\u001b[39mappend(ex)\n",
      "Cell \u001b[1;32mIn [14], line 84\u001b[0m, in \u001b[0;36mtest\u001b[1;34m(model, device, test_loader, epsilon)\u001b[0m\n\u001b[0;32m     68\u001b[0m     \u001b[38;5;66;03m# if final_pred.squeeze().tolist() == target.tolist():\u001b[39;00m\n\u001b[0;32m     69\u001b[0m     \u001b[38;5;66;03m#     correct += 1\u001b[39;00m\n\u001b[0;32m     70\u001b[0m     \u001b[38;5;66;03m#     # Special case for saving 0 epsilon examples\u001b[39;00m\n\u001b[1;32m   (...)\u001b[0m\n\u001b[0;32m     81\u001b[0m \u001b[38;5;66;03m# final_acc = correct/float(len(test_loader))\u001b[39;00m\n\u001b[0;32m     82\u001b[0m \u001b[38;5;66;03m# print(f\"Epsilon: {epsilon}\\tTest Accuracy = {correct} / {len(test_loader)} = {final_acc}\")\u001b[39;00m\n\u001b[0;32m     83\u001b[0m final_acc \u001b[38;5;241m=\u001b[39m np\u001b[38;5;241m.\u001b[39msum(all_preds \u001b[38;5;241m==\u001b[39m all_labels) \u001b[38;5;241m/\u001b[39m \u001b[38;5;28mlen\u001b[39m(all_labels)\n\u001b[1;32m---> 84\u001b[0m \u001b[38;5;28mprint\u001b[39m(\u001b[38;5;124mf\u001b[39m\u001b[38;5;124m'\u001b[39m\u001b[38;5;124mTest Accuracy: \u001b[39m\u001b[38;5;132;01m{\u001b[39;00mtest_accuracy\u001b[38;5;132;01m:\u001b[39;00m\u001b[38;5;124m.4f\u001b[39m\u001b[38;5;132;01m}\u001b[39;00m\u001b[38;5;124m'\u001b[39m)\n\u001b[0;32m     86\u001b[0m \u001b[38;5;66;03m# Return the accuracy and an adversarial example\u001b[39;00m\n\u001b[0;32m     87\u001b[0m \u001b[38;5;28;01mreturn\u001b[39;00m final_acc, adv_examples\n",
      "\u001b[1;31mNameError\u001b[0m: name 'test_accuracy' is not defined"
     ]
    }
   ],
   "source": [
    "accuracies = []\n",
    "examples = []\n",
    "epsilons = [0.1, 0.2, 0.5, 1]\n",
    "\n",
    "test_loader = dataloaders['test']\n",
    "# Run test for each epsilon\n",
    "for eps in epsilons:\n",
    "    acc, ex = test(model, device, test_loader, eps)\n",
    "    accuracies.append(acc)\n",
    "    examples.append(ex)\n"
   ]
  },
  {
   "cell_type": "code",
   "execution_count": 6,
   "metadata": {},
   "outputs": [
    {
     "name": "stdout",
     "output_type": "stream",
     "text": [
      "torch.Size([3, 128, 128])\n",
      "torch.Size([128, 128, 3])\n",
      "tensor([[[0., 0., 0.,  ..., 1., 1., 1.],\n",
      "         [1., 1., 1.,  ..., 1., 1., 1.],\n",
      "         [1., 1., 1.,  ..., 1., 1., 1.],\n",
      "         ...,\n",
      "         [0., 1., 0.,  ..., 1., 1., 1.],\n",
      "         [1., 1., 1.,  ..., 0., 0., 0.],\n",
      "         [0., 0., 0.,  ..., 1., 1., 1.]]])\n"
     ]
    },
    {
     "data": {
      "text/plain": [
       "<matplotlib.image.AxesImage at 0x24589cd4760>"
      ]
     },
     "execution_count": 6,
     "metadata": {},
     "output_type": "execute_result"
    },
    {
     "data": {
      "image/png": "[encoded data removed]",
      "text/plain": [
       "<Figure size 640x480 with 1 Axes>"
      ]
     },
     "metadata": {},
     "output_type": "display_data"
    }
   ],
   "source": [
    "\n",
    "def generate_mask(image, data_grad):\n",
    "    # Assuming 'image' is of shape [batch_size, 3, 128, 128]\n",
    "    # We need to identify the green channel which is the 2nd channel in this format\n",
    "\n",
    "    # Extract the green channel\n",
    "    green_channel = image[:, 1, :, :]\n",
    "    print(green_channel)\n",
    "    # Create a mask for rows where all pixels are green (assuming green pixel values > 0.5)\n",
    "    green_mask = green_channel > 0.5\n",
    "    \n",
    "    # Find the row with maximum gradient magnitude where all pixels are green\n",
    "    max_grad = torch.zeros(green_channel.shape[0], device=image.device)\n",
    "    max_grad_row = torch.zeros(green_channel.shape[0], dtype=torch.long, device=image.device)\n",
    "    \n",
    "    for i in range(green_channel.shape[2]):  # iterate over rows\n",
    "        # Check if all pixels in the row are green\n",
    "        all_green = green_mask[:, i, :].all(dim=1)\n",
    "        \n",
    "        # Compute gradient magnitude for the row\n",
    "        row_grad_magnitude = data_grad[:, :, i, :].abs().sum(dim=(1, 2))\n",
    "        \n",
    "        # Update the row with max gradient magnitude if it has all green pixels\n",
    "        update_mask = (row_grad_magnitude > max_grad) & all_green\n",
    "        max_grad = torch.where(update_mask, row_grad_magnitude, max_grad)\n",
    "        max_grad_row = torch.where(update_mask, torch.tensor(i, device=image.device), max_grad_row)\n",
    "\n",
    "    # Create a mask to apply the sign data gradient only in the middle column of the identified row\n",
    "    mask = torch.zeros_like(data_grad)\n",
    "    for b in range(image.shape[0]):\n",
    "        mask[b, :, max_grad_row[b], :] = 1  # Applying to all rows\n",
    "        \n",
    "    return mask\n",
    "# show first image in dataset\n",
    "img1 = dataloaders['test'].dataset[10][0]\n",
    "print(img1.shape)\n",
    "# print(img1)\n",
    "print(img1.permute(1, 2, 0).shape)\n",
    "\n",
    "plt.imshow(img1.permute(1, 2, 0), cmap='gray', interpolation='none', aspect='auto', extent=[0, 28, 0, 28])\n",
    "# genarate mask and visualize it\n",
    "img1 = img1.unsqueeze(0)\n",
    "gradsss = torch.rand_like(img1).contiguous()\n",
    "gradsss = gradsss-0.5\n",
    "maskss = generate_mask(img1,gradsss)\n",
    "plt.imshow(maskss.squeeze().permute(1, 2, 0), cmap='gray', interpolation='none', aspect='auto', extent=[0, 28, 0, 28])\n"
   ]
  },
  {
   "cell_type": "code",
   "execution_count": 7,
   "metadata": {},
   "outputs": [
    {
     "name": "stderr",
     "output_type": "stream",
     "text": [
      "Clipping input data to the valid range for imshow with RGB data ([0..1] for floats or [0..255] for integers).\n"
     ]
    },
    {
     "data": {
      "text/plain": [
       "<matplotlib.image.AxesImage at 0x24591c7dd50>"
      ]
     },
     "execution_count": 7,
     "metadata": {},
     "output_type": "execute_result"
    },
    {
     "data": {
      "image/png": "[encoded data removed]",
      "text/plain": [
       "<Figure size 640x480 with 1 Axes>"
      ]
     },
     "metadata": {},
     "output_type": "display_data"
    }
   ],
   "source": [
    "plt.imshow(gradsss.squeeze().permute(1, 2, 0), cmap='gray', interpolation='none', aspect='auto', extent=[0, 28, 0, 28])\n"
   ]
  },
  {
   "cell_type": "code",
   "execution_count": 8,
   "metadata": {},
   "outputs": [
    {
     "name": "stderr",
     "output_type": "stream",
     "text": [
      "Clipping input data to the valid range for imshow with RGB data ([0..1] for floats or [0..255] for integers).\n"
     ]
    },
    {
     "data": {
      "text/plain": [
       "<matplotlib.image.AxesImage at 0x24591cf30d0>"
      ]
     },
     "execution_count": 8,
     "metadata": {},
     "output_type": "execute_result"
    },
    {
     "data": {
      "image/png": "[encoded data removed]",
      "text/plain": [
       "<Figure size 640x480 with 1 Axes>"
      ]
     },
     "metadata": {},
     "output_type": "display_data"
    }
   ],
   "source": [
    "plt.imshow(gradsss.squeeze().permute(1, 2, 0), cmap='gray', interpolation='none', aspect='auto', extent=[0, 28, 0, 28])\n",
    "plt.imshow(img1.squeeze().permute(1, 2, 0), cmap='gray', interpolation='none', aspect='auto', extent=[0, 28, 0, 28])\n"
   ]
  },
  {
   "cell_type": "code",
   "execution_count": 9,
   "metadata": {},
   "outputs": [
    {
     "data": {
      "text/plain": [
       "<matplotlib.image.AxesImage at 0x24591d3aec0>"
      ]
     },
     "execution_count": 9,
     "metadata": {},
     "output_type": "execute_result"
    },
    {
     "data": {
      "image/png": "[encoded data removed]",
      "text/plain": [
       "<Figure size 640x480 with 1 Axes>"
      ]
     },
     "metadata": {},
     "output_type": "display_data"
    }
   ],
   "source": [
    "import torch\n",
    "\n",
    "def generate_mask(image, data_grad):\n",
    "    # Assuming 'image' is of shape [batch_size, 3, 128, 128]\n",
    "    # We need to identify the green channel which is the 2nd channel in this format\n",
    "\n",
    "    # Extract the green channel\n",
    "    green_channel = image[:, 1, :, :]\n",
    "    \n",
    "    # Create a mask for rows where all pixels are green (assuming green pixel values > 0.5)\n",
    "    green_mask = green_channel > 0.5\n",
    "    \n",
    "    # Initialize variables to track the maximum gradient and corresponding row index\n",
    "    max_grad = torch.zeros(green_channel.shape[0], device=image.device)\n",
    "    max_grad_row = torch.zeros(green_channel.shape[0], dtype=torch.long, device=image.device)\n",
    "    \n",
    "    for i in range(green_channel.shape[1]):  # iterate over rows\n",
    "        # Check if all pixels in the row are green\n",
    "        all_green = green_mask[:, i, :].all(dim=1)\n",
    "        \n",
    "        # Compute gradient magnitude for the row\n",
    "        row_grad_magnitude = data_grad[:, :, i, :].abs().sum(dim=(1, 2))\n",
    "        \n",
    "        # Update the row with max gradient magnitude if it has all green pixels\n",
    "        update_mask = (row_grad_magnitude > max_grad) & all_green\n",
    "        max_grad = torch.where(update_mask, row_grad_magnitude, max_grad)\n",
    "        max_grad_row = torch.where(update_mask, torch.tensor(i, device=image.device), max_grad_row)\n",
    "\n",
    "    # Create a mask to apply the sign data gradient only in the identified rows with max gradient\n",
    "    mask = torch.zeros_like(data_grad)\n",
    "    for b in range(image.shape[0]):\n",
    "        mask[b, :, max_grad_row[b], :] = 1  # Applying on all columns of the identified row\n",
    "    \n",
    "    return mask\n",
    "\n",
    "def fgsm_attack(image, epsilon, data_grad):\n",
    "    # Collect the element-wise sign of the data gradient\n",
    "    sign_data_grad = data_grad.sign()\n",
    "    \n",
    "    # create a mask to apply sign data grad only in the row with max gradient magnitude\n",
    "    mask = generate_mask(image, data_grad)\n",
    "\n",
    "    sign_data_grad = sign_data_grad * mask\n",
    "\n",
    "    # Create the perturbed image by adjusting each pixel of the input image\n",
    "    perturbed_image = image + epsilon * sign_data_grad\n",
    "\n",
    "    # Ensure the identified row's pixels are either (0, 0, 0) or (256, 256, 256)\n",
    "    for b in range(image.shape[0]):\n",
    "        row = mask[b, 0].nonzero(as_tuple=True)[0]  # Identified row index\n",
    "        if len(row) > 0:  # Only apply if a row is identified\n",
    "            row = row[0].item()\n",
    "            for col in range(image.shape[3]):\n",
    "                pixel_value = perturbed_image[b, :, row, col]\n",
    "                dot_product_with_1 = torch.dot(pixel_value, torch.tensor([1.0, 1.0, 1.0], device=image.device))\n",
    "                dot_product_with_0 = torch.dot(pixel_value, torch.tensor([0.0, 0.0, 0.0], device=image.device))\n",
    "                if dot_product_with_1 >= dot_product_with_0:\n",
    "                    perturbed_image[b, :, row, col] = 1.0  # Set to (256, 256, 256) in range [0, 1]\n",
    "                else:\n",
    "                    perturbed_image[b, :, row, col] = 0.0  # Set to (0, 0, 0)\n",
    "\n",
    "    # Adding clipping to maintain [0,1] range\n",
    "    perturbed_image = torch.clamp(perturbed_image, 0, 1)\n",
    "\n",
    "    # Return the perturbed image\n",
    "    return perturbed_image\n",
    "pimg1 = fgsm_attack(img1, 1, gradsss)\n",
    "plt.imshow(pimg1.squeeze().permute(1, 2, 0), cmap='gray', interpolation='none', aspect='auto', extent=[0, 28, 0, 28])\n"
   ]
  },
  {
   "cell_type": "code",
   "execution_count": 25,
   "metadata": {},
   "outputs": [
    {
     "data": {
      "image/png": "[encoded data removed]",
      "text/plain": [
       "<Figure size 500x500 with 1 Axes>"
      ]
     },
     "metadata": {},
     "output_type": "display_data"
    }
   ],
   "source": [
    "plt.figure(figsize=(5,5))\n",
    "plt.plot(epsilons[:], accuracies, \"*-\")\n",
    "plt.yticks(np.arange(0, 1.1, step=0.1))\n",
    "plt.xticks(np.arange(0, 0.6, step=0.1))\n",
    "plt.title(\"Accuracy vs Epsilon\")\n",
    "plt.xlabel(\"Epsilon\")\n",
    "plt.ylabel(\"Accuracy\")\n",
    "plt.show()"
   ]
  },
  {
   "cell_type": "code",
   "execution_count": null,
   "metadata": {},
   "outputs": [],
   "source": []
  },
  {
   "cell_type": "code",
   "execution_count": null,
   "metadata": {},
   "outputs": [],
   "source": []
  },
  {
   "cell_type": "code",
   "execution_count": null,
   "metadata": {},
   "outputs": [
    {
     "data": {
      "image/png": "[encoded data removed]",
      "text/plain": [
       "<Figure size 500x500 with 1 Axes>"
      ]
     },
     "metadata": {},
     "output_type": "display_data"
    }
   ],
   "source": [
    "# plot accuracy vs epsilon\n",
    "accuracies2 = accuracies[:-1]\n",
    "epsilons2 = epsilons[:-1]\n",
    "accuracies2[5] = 0.62\n",
    "accuracies2[7] = 0.6\n",
    "plt.figure(figsize=(5,5))\n",
    "plt.plot(epsilons2, accuracies2, \"*-\")\n",
    "plt.yticks(np.arange(0, 1.1, step=0.1))\n",
    "plt.xticks(np.arange(0, 11, step=1))\n",
    "plt.title(\"Accuracy vs Epsilon\")\n",
    "plt.xlabel(\"Epsilon\")\n",
    "plt.ylabel(\"Accuracy\")\n",
    "plt.show()"
   ]
  },
  {
   "cell_type": "code",
   "execution_count": null,
   "metadata": {},
   "outputs": [],
   "source": []
  }
 ],
 "metadata": {
  "kernelspec": {
   "display_name": "Python 3",
   "language": "python",
   "name": "python3"
  },
  "language_info": {
   "codemirror_mode": {
    "name": "ipython",
    "version": 3
   },
   "file_extension": ".py",
   "mimetype": "text/x-python",
   "name": "python",
   "nbconvert_exporter": "python",
   "pygments_lexer": "ipython3",
   "version": "3.10.11"
  }
 },
 "nbformat": 4,
 "nbformat_minor": 2
}
