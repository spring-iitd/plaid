{
 "cells": [
  {
   "cell_type": "code",
   "execution_count": 1,
   "metadata": {},
   "outputs": [],
   "source": [
    "import os\n",
    "import numpy as np\n",
    "import pandas as pd\n",
    "from PIL import Image\n",
    "import json \n",
    "from tqdm import tqdm\n",
    "data_path = '../Smart Attack Algorithm/data/Car Hacking Dataset/benign_data.csv'"
   ]
  },
  {
   "cell_type": "code",
   "execution_count": 2,
   "metadata": {},
   "outputs": [],
   "source": [
    "df = pd.read_csv(data_path)"
   ]
  },
  {
   "cell_type": "code",
   "execution_count": 3,
   "metadata": {},
   "outputs": [
    {
     "data": {
      "text/html": [
       "<div>\n",
       "<style scoped>\n",
       "    .dataframe tbody tr th:only-of-type {\n",
       "        vertical-align: middle;\n",
       "    }\n",
       "\n",
       "    .dataframe tbody tr th {\n",
       "        vertical-align: top;\n",
       "    }\n",
       "\n",
       "    .dataframe thead th {\n",
       "        text-align: right;\n",
       "    }\n",
       "</style>\n",
       "<table border=\"1\" class=\"dataframe\">\n",
       "  <thead>\n",
       "    <tr style=\"text-align: right;\">\n",
       "      <th></th>\n",
       "      <th>Timestamp</th>\n",
       "      <th>ID</th>\n",
       "      <th>DLC</th>\n",
       "      <th>Payload</th>\n",
       "      <th>label</th>\n",
       "    </tr>\n",
       "  </thead>\n",
       "  <tbody>\n",
       "    <tr>\n",
       "      <th>0</th>\n",
       "      <td>1.479121e+09</td>\n",
       "      <td>0350</td>\n",
       "      <td>8</td>\n",
       "      <td>052884666d0000a2</td>\n",
       "      <td>0</td>\n",
       "    </tr>\n",
       "    <tr>\n",
       "      <th>1</th>\n",
       "      <td>1.479121e+09</td>\n",
       "      <td>02c0</td>\n",
       "      <td>8</td>\n",
       "      <td>1400000000000000</td>\n",
       "      <td>0</td>\n",
       "    </tr>\n",
       "    <tr>\n",
       "      <th>2</th>\n",
       "      <td>1.479121e+09</td>\n",
       "      <td>0430</td>\n",
       "      <td>8</td>\n",
       "      <td>0000000000000000</td>\n",
       "      <td>0</td>\n",
       "    </tr>\n",
       "    <tr>\n",
       "      <th>3</th>\n",
       "      <td>1.479121e+09</td>\n",
       "      <td>04b1</td>\n",
       "      <td>8</td>\n",
       "      <td>0000000000000000</td>\n",
       "      <td>0</td>\n",
       "    </tr>\n",
       "    <tr>\n",
       "      <th>4</th>\n",
       "      <td>1.479121e+09</td>\n",
       "      <td>01f1</td>\n",
       "      <td>8</td>\n",
       "      <td>0000000000000000</td>\n",
       "      <td>0</td>\n",
       "    </tr>\n",
       "  </tbody>\n",
       "</table>\n",
       "</div>"
      ],
      "text/plain": [
       "      Timestamp    ID  DLC           Payload  label\n",
       "0  1.479121e+09  0350    8  052884666d0000a2      0\n",
       "1  1.479121e+09  02c0    8  1400000000000000      0\n",
       "2  1.479121e+09  0430    8  0000000000000000      0\n",
       "3  1.479121e+09  04b1    8  0000000000000000      0\n",
       "4  1.479121e+09  01f1    8  0000000000000000      0"
      ]
     },
     "execution_count": 3,
     "metadata": {},
     "output_type": "execute_result"
    }
   ],
   "source": [
    "df.head()"
   ]
  },
  {
   "cell_type": "code",
   "execution_count": 5,
   "metadata": {},
   "outputs": [],
   "source": [
    "def calculate_crc(data):\n",
    "    crc = 0x0000\n",
    "    poly = 0x4599  # CRC-15 polynomial\n",
    "\n",
    "    for bit in data:\n",
    "        crc ^= (int(bit) & 0x01) << 14  # XOR with the current bit shifted left by 14 bits\n",
    "\n",
    "        for _ in range(15):\n",
    "            if crc & 0x8000:\n",
    "                crc = (crc << 1) ^ poly\n",
    "            else:\n",
    "                crc <<= 1\n",
    "\n",
    "        crc &= 0x7FFF  # Ensure 15 bits\n",
    "\n",
    "    return crc"
   ]
  },
  {
   "cell_type": "code",
   "execution_count": 6,
   "metadata": {},
   "outputs": [],
   "source": [
    "def stuff_bits(binary_string):\n",
    "    result = ''\n",
    "    count = 0  # Initialize a count for consecutive 0's\n",
    "    \n",
    "    for bit in binary_string:\n",
    "        result += bit  # Append the current bit to the result string\n",
    "        if bit == '0':\n",
    "            count += 1  # Increment the count if the current bit is 0\n",
    "            if count == 5:\n",
    "                result += '1'  # Insert a 1 after 5 consecutive 0's\n",
    "                count = 0  # Reset the count after inserting the 1\n",
    "        else:\n",
    "            count = 0  # Reset the count if the current bit is not 0\n",
    "    \n",
    "    return result"
   ]
  },
  {
   "cell_type": "code",
   "execution_count": 7,
   "metadata": {},
   "outputs": [],
   "source": [
    "def hex_to_bits(hex_value, num_bits):\n",
    "    return bin(int(hex_value, 16))[2:].zfill(num_bits)\n",
    "\n",
    "def convert_to_binary_string(can_id, dlc, data):\n",
    "    start_of_frame = '0'\n",
    "    can_id_bits = stuff_bits(hex_to_bits(can_id, 11))\n",
    "    rtr_bit = '0'\n",
    "    ide_bit = '0'\n",
    "    control_r0_bit = '0'\n",
    "    control_stuff_bit = '1'\n",
    "    dlc_bits = bin(dlc)[2:].zfill(4)\n",
    "    data_bits = ''.join(hex_to_bits(hex_byte, 8) for hex_byte in data)\n",
    "    padding_bits = '0' * (8 * (8 - dlc))  # Fill missing data bytes with zeros\n",
    "    data_bit_total = stuff_bits(data_bits+padding_bits)\n",
    "    crc_bit =stuff_bits(bin(calculate_crc(start_of_frame+can_id_bits +rtr_bit+ide_bit+control_r0_bit+control_stuff_bit+ dlc_bits + data_bit_total))[2:].zfill(15))\n",
    "    crc_delimiter = '1'\n",
    "    ack_bit = '0'\n",
    "    ack_delimiter = '1'\n",
    "    end_of_frame_bits = '1'*7\n",
    "    inter_Frame_spacing_bits = '1'*3\n",
    "    return start_of_frame+can_id_bits +rtr_bit+ide_bit+control_r0_bit+ control_stuff_bit+dlc_bits + data_bit_total+crc_bit + crc_delimiter+ack_bit +ack_delimiter+ end_of_frame_bits+inter_Frame_spacing_bits\n",
    "     \n"
   ]
  },
  {
   "cell_type": "code",
   "execution_count": 8,
   "metadata": {},
   "outputs": [],
   "source": [
    "data_array = []\n",
    "\n",
    "for index, data in df.iterrows():\n",
    "\n",
    "    timestamp = data['Timestamp']\n",
    "    id = data['ID']\n",
    "    dlc = data['DLC']\n",
    "    payload = data['Payload']\n",
    "\n",
    "    converted_data = convert_to_binary_string(id, dlc, payload)\n",
    "\n",
    "    data_array.append([timestamp, converted_data])\n"
   ]
  },
  {
   "cell_type": "code",
   "execution_count": 9,
   "metadata": {},
   "outputs": [],
   "source": [
    "data_rate=512000 #512kbps\n",
    "# number_of_bits_in_each_frame=114\n",
    "# frame_duration=number_of_bits_in_each_frame/data_rate\n",
    "total_bits_per_image=128*128\n",
    "def create_image(binary_matrix):\n",
    "    width = len(binary_matrix[0])\n",
    "    height = len(binary_matrix)\n",
    "    # pixel_mapping={'3':150,'2':100,'0':0,'1':255}\n",
    "    color_mapping = {\n",
    "        '3': (255, 0, 0),  # Red\n",
    "        '2': (0, 255, 0),  # Blue\n",
    "        '1': (255, 255, 255),  # White\n",
    "        '0': (0, 0, 0)  # Black\n",
    "    }\n",
    "    image_data = [color_mapping[value] for row in binary_matrix for value in row]\n",
    "    image = Image.new('RGB', (width, height))\n",
    "    image.putdata(image_data)\n",
    "    return image\n",
    "def calculate_interframe_bits(data_array,timestamp_difference, data_rate,i):\n",
    "    length_of_frame = len(data_array[i])\n",
    "    frame_duration=length_of_frame/data_rate\n",
    "    interframe_time = timestamp_difference - frame_duration\n",
    "    interframe_bits = int(data_rate * interframe_time)\n",
    "    return '2' * interframe_bits\n"
   ]
  },
  {
   "cell_type": "code",
   "execution_count": 10,
   "metadata": {},
   "outputs": [],
   "source": [
    "binary_matrix = []\n",
    "\n",
    "a = [['0' for _ in range(128)] for _ in range(128)]\n",
    "\n",
    "i = 0\n",
    "x = 0\n",
    "y = 0\n",
    "\n",
    "while i < len(data_array):\n",
    "    bin_str = data_array[i][1]\n",
    "    for bit in bin_str:\n",
    "        a[x][y] = bit\n",
    "        if y == 127:\n",
    "            x += 1\n",
    "            y = 0\n",
    "        else:\n",
    "            y += 1\n",
    "        if x == 128:\n",
    "            binary_matrix.append(a)\n",
    "            a = [['0' for _ in range(128)] for _ in range(128)]\n",
    "            x = 0\n",
    "            y = 0\n",
    "        \n",
    "        \n",
    "        \n",
    "    if i < len(data_array) - 1:\n",
    "        timestamp_difference = data_array[i+1][0] - data_array[i][0]\n",
    "        interframe_bits = calculate_interframe_bits(data_array, timestamp_difference, data_rate,i)\n",
    "        for bit in interframe_bits:\n",
    "            a[x][y] = bit\n",
    "            if y == 127:\n",
    "                x += 1\n",
    "                y = 0\n",
    "            else:\n",
    "                y += 1\n",
    "            if x == 128:\n",
    "                binary_matrix.append(a)\n",
    "                a = [['0' for _ in range(128)] for _ in range(128)]\n",
    "                x = 0\n",
    "                y = 0\n",
    "    while y < 128 and y>0 :\n",
    "        a[x][y] = '3'\n",
    "        if y == 127:\n",
    "            x += 1\n",
    "            if x == 128:\n",
    "                binary_matrix.append(a)\n",
    "                a = [['0' for _ in range(128)] for _ in range(128)]\n",
    "                x=0\n",
    "                y=0\n",
    "            y=0\n",
    "            break \n",
    "        y+=1    \n",
    "\n",
    "    i += 1"
   ]
  },
  {
   "cell_type": "code",
   "execution_count": 11,
   "metadata": {},
   "outputs": [],
   "source": [
    "img_matrix=[]\n",
    "size_of_binary_matrix=len(binary_matrix)\n",
    "for i in  range (size_of_binary_matrix):\n",
    "    img_matrix.append(create_image(binary_matrix[i]))"
   ]
  },
  {
   "cell_type": "code",
   "execution_count": 12,
   "metadata": {},
   "outputs": [
    {
     "name": "stderr",
     "output_type": "stream",
     "text": [
      "/var/folders/pw/3vr89zzj1xvbzvtk1yfz9kkc0000gn/T/ipykernel_95346/2664206375.py:1: FutureWarning: The input object of type 'Image' is an array-like implementing one of the corresponding protocols (`__array__`, `__array_interface__` or `__array_struct__`); but not a sequence (or 0-D). In the future, this object will be coerced as if it was first converted using `np.array(obj)`. To retain the old behaviour, you have to either modify the type 'Image', or assign to an empty array created with `np.empty(correct_shape, dtype=object)`.\n",
      "  print(np.array(img_matrix).shape)\n",
      "/var/folders/pw/3vr89zzj1xvbzvtk1yfz9kkc0000gn/T/ipykernel_95346/2664206375.py:1: VisibleDeprecationWarning: Creating an ndarray from ragged nested sequences (which is a list-or-tuple of lists-or-tuples-or ndarrays with different lengths or shapes) is deprecated. If you meant to do this, you must specify 'dtype=object' when creating the ndarray.\n",
      "  print(np.array(img_matrix).shape)\n"
     ]
    },
    {
     "name": "stdout",
     "output_type": "stream",
     "text": [
      "(31574,)\n"
     ]
    }
   ],
   "source": [
    "print(np.array(img_matrix).shape)"
   ]
  },
  {
   "cell_type": "code",
   "execution_count": 14,
   "metadata": {},
   "outputs": [
    {
     "name": "stdout",
     "output_type": "stream",
     "text": [
      "(31574, 128, 128)\n"
     ]
    }
   ],
   "source": [
    "print(np.array(binary_matrix).shape)"
   ]
  },
  {
   "cell_type": "code",
   "execution_count": 15,
   "metadata": {},
   "outputs": [
    {
     "name": "stdout",
     "output_type": "stream",
     "text": [
      "Images saved\n"
     ]
    }
   ],
   "source": [
    "output_path = './images/Car Hacking/benign'\n",
    "\n",
    "for i,img in enumerate(img_matrix):\n",
    "    \n",
    "    img_path=os.path.join(output_path,f\"image_{i+1}.png\")\n",
    "    \n",
    "    img.save(img_path)\n",
    "\n",
    "print(\"Images saved\")"
   ]
  },
  {
   "cell_type": "code",
   "execution_count": 16,
   "metadata": {},
   "outputs": [],
   "source": [
    "smart_attack_path = '../Smart Attack Algorithm/data/Car Hacking Dataset/smart_output.csv'\n",
    "\n",
    "smart_attack = pd.read_csv(smart_attack_path)"
   ]
  },
  {
   "cell_type": "code",
   "execution_count": 17,
   "metadata": {},
   "outputs": [
    {
     "data": {
      "text/plain": [
       "array([8., 5., 2.])"
      ]
     },
     "execution_count": 17,
     "metadata": {},
     "output_type": "execute_result"
    }
   ],
   "source": [
    "smart_attack['DLC'].unique()"
   ]
  },
  {
   "cell_type": "code",
   "execution_count": 18,
   "metadata": {},
   "outputs": [],
   "source": [
    "attack_data = []\n",
    "attack_labels = []\n",
    "\n",
    "for index, data in smart_attack.iterrows():\n",
    "\n",
    "    timestamp = data['Timestamp']\n",
    "    id = hex(int(data['ID']))[2:]\n",
    "    dlc = int(data['DLC'])\n",
    "    payload = hex(int(data['Payload']))[2:]\n",
    "\n",
    "    if len(payload) != int(dlc) * 2:\n",
    "        payload =  '0' * (int(dlc) * 2 - len(payload)) + payload\n",
    "    \n",
    "    converted_attack_data = convert_to_binary_string(id, dlc, payload)\n",
    "\n",
    "    attack_data.append([timestamp, converted_attack_data])\n",
    "    attack_labels.append(data['label'])"
   ]
  },
  {
   "cell_type": "code",
   "execution_count": 19,
   "metadata": {},
   "outputs": [],
   "source": [
    "attack_binary_matrix = []\n",
    "y1=[]\n",
    "\n",
    "a = [['0' for _ in range(128)] for _ in range(128)]\n",
    "i = 0\n",
    "x = 0\n",
    "y = 0\n",
    "flag = 0\n",
    "while i < len(attack_data):\n",
    "    bin_str = attack_data[i][1]\n",
    "    if int(attack_labels[i]==1):\n",
    "        flag =  1\n",
    "        # print(flag)\n",
    "    for bit in bin_str:\n",
    "        a[x][y] = bit\n",
    "        if y == 127:\n",
    "            x += 1\n",
    "            y = 0\n",
    "        else:\n",
    "            y += 1\n",
    "        if x == 128:\n",
    "            attack_binary_matrix.append(a)\n",
    "            y1.append(1 if flag == 1 else 0)\n",
    "            falg = 0\n",
    "            a = [['0' for _ in range(128)] for _ in range(128)]\n",
    "            x = 0\n",
    "            y = 0\n",
    "        \n",
    "        \n",
    "        \n",
    "    if i < len(attack_data) - 1:\n",
    "        timestamp_difference = attack_data[i+1][0] - attack_data[i][0]\n",
    "        interframe_bits = calculate_interframe_bits(attack_data, timestamp_difference, data_rate,i)\n",
    "        for bit in interframe_bits:\n",
    "            a[x][y] = bit\n",
    "            if y == 127:\n",
    "                x += 1\n",
    "                y = 0\n",
    "            else:\n",
    "                y += 1\n",
    "            if x == 128:\n",
    "                attack_binary_matrix.append(a)\n",
    "                y1.append(1 if flag == 1 else 0)\n",
    "                flag = 0\n",
    "                a = [['0' for _ in range(128)] for _ in range(128)]\n",
    "                x = 0\n",
    "                y = 0\n",
    "    while y < 128 and y>0 :\n",
    "        a[x][y] = '3'\n",
    "        if y == 127:\n",
    "            x += 1\n",
    "            if x == 128:\n",
    "                attack_binary_matrix.append(a)\n",
    "                y1.append(1 if flag == 1 else 0)\n",
    "                falg = 0\n",
    "                a = [['0' for _ in range(128)] for _ in range(128)]\n",
    "                x=0\n",
    "                y=0\n",
    "            y=0\n",
    "            break \n",
    "        y+=1    \n",
    "\n",
    "    i += 1"
   ]
  },
  {
   "cell_type": "code",
   "execution_count": 17,
   "metadata": {},
   "outputs": [
    {
     "name": "stdout",
     "output_type": "stream",
     "text": [
      "37616\n",
      "37616\n"
     ]
    }
   ],
   "source": [
    "print(len(attack_binary_matrix))\n",
    "print(len(y1))"
   ]
  },
  {
   "cell_type": "code",
   "execution_count": 20,
   "metadata": {},
   "outputs": [
    {
     "name": "stdout",
     "output_type": "stream",
     "text": [
      "(37616, 128, 128)\n"
     ]
    }
   ],
   "source": [
    "print(np.array(attack_binary_matrix).shape)"
   ]
  },
  {
   "cell_type": "code",
   "execution_count": 84,
   "metadata": {},
   "outputs": [
    {
     "data": {
      "text/plain": [
       "(array([0, 1]), array([27599, 10017]))"
      ]
     },
     "execution_count": 84,
     "metadata": {},
     "output_type": "execute_result"
    }
   ],
   "source": [
    "##Check this!\n",
    "np.unique(np.array(y1), return_counts=True)"
   ]
  },
  {
   "cell_type": "code",
   "execution_count": 21,
   "metadata": {},
   "outputs": [],
   "source": [
    "images_dir = 'images/Car Hacking/'\n",
    "attack_images_dir = os.path.join(images_dir, 'attack')\n",
    "json_path = os.path.join(images_dir, 'labels.json')"
   ]
  },
  {
   "cell_type": "code",
   "execution_count": 24,
   "metadata": {},
   "outputs": [
    {
     "name": "stderr",
     "output_type": "stream",
     "text": [
      "100%|██████████| 37616/37616 [00:33<00:00, 1136.20it/s]\n"
     ]
    }
   ],
   "source": [
    "attack_img_matrix=[]\n",
    "labels_dict = {}\n",
    "size_of_binary_matrix1=len(attack_binary_matrix)\n",
    "\n",
    "for i in tqdm(range(size_of_binary_matrix1)):\n",
    "    attack_img_matrix.append(create_image(attack_binary_matrix[i]))\n",
    "\n",
    "for i,img in enumerate(attack_img_matrix):\n",
    "    img_path=os.path.join(attack_images_dir,f\"image_{i+1}.png\")\n",
    "    label = y1[i]\n",
    "    img.save(img_path)\n",
    "\n",
    "    labels_dict[f\"image_{i+1}.png\"] = label\n",
    "\n",
    "with open(json_path, 'w') as json_file:\n",
    "    json.dump(labels_dict, json_file)\n",
    "\n",
    "\n",
    "# print(\"Images saved\")\n",
    "# image_array_list1 = [np.array(img) for img in attack_img_matrix]\n",
    "# final_array1 = np.stack(image_array_list1)"
   ]
  },
  {
   "cell_type": "code",
   "execution_count": 95,
   "metadata": {},
   "outputs": [
    {
     "data": {
      "text/plain": [
       "['attack', '.DS_Store', 'lables.json', 'benign']"
      ]
     },
     "execution_count": 95,
     "metadata": {},
     "output_type": "execute_result"
    }
   ],
   "source": [
    "os.listdir(images_dir)"
   ]
  },
  {
   "cell_type": "code",
   "execution_count": 97,
   "metadata": {},
   "outputs": [
    {
     "ename": "JSONDecodeError",
     "evalue": "Expecting value: line 1 column 1 (char 0)",
     "output_type": "error",
     "traceback": [
      "\u001b[0;31m---------------------------------------------------------------------------\u001b[0m",
      "\u001b[0;31mJSONDecodeError\u001b[0m                           Traceback (most recent call last)",
      "\u001b[0;32m/var/folders/pw/3vr89zzj1xvbzvtk1yfz9kkc0000gn/T/ipykernel_36945/3288384097.py\u001b[0m in \u001b[0;36m<module>\u001b[0;34m\u001b[0m\n\u001b[1;32m      1\u001b[0m \u001b[0;32mwith\u001b[0m \u001b[0mopen\u001b[0m\u001b[0;34m(\u001b[0m\u001b[0mjson_path\u001b[0m\u001b[0;34m,\u001b[0m \u001b[0;34m'a+'\u001b[0m\u001b[0;34m)\u001b[0m \u001b[0;32mas\u001b[0m \u001b[0mfile\u001b[0m\u001b[0;34m:\u001b[0m\u001b[0;34m\u001b[0m\u001b[0;34m\u001b[0m\u001b[0m\n\u001b[1;32m      2\u001b[0m     \u001b[0;31m# Load the existing data\u001b[0m\u001b[0;34m\u001b[0m\u001b[0;34m\u001b[0m\u001b[0m\n\u001b[0;32m----> 3\u001b[0;31m     \u001b[0mexisting_data\u001b[0m \u001b[0;34m=\u001b[0m \u001b[0mjson\u001b[0m\u001b[0;34m.\u001b[0m\u001b[0mload\u001b[0m\u001b[0;34m(\u001b[0m\u001b[0mfile\u001b[0m\u001b[0;34m)\u001b[0m\u001b[0;34m\u001b[0m\u001b[0;34m\u001b[0m\u001b[0m\n\u001b[0m\u001b[1;32m      4\u001b[0m \u001b[0;34m\u001b[0m\u001b[0m\n\u001b[1;32m      5\u001b[0m \u001b[0mprint\u001b[0m\u001b[0;34m(\u001b[0m\u001b[0mexisting_data\u001b[0m\u001b[0;34m)\u001b[0m\u001b[0;34m\u001b[0m\u001b[0;34m\u001b[0m\u001b[0m\n",
      "\u001b[0;32m~/opt/anaconda3/envs/tf/lib/python3.9/json/__init__.py\u001b[0m in \u001b[0;36mload\u001b[0;34m(fp, cls, object_hook, parse_float, parse_int, parse_constant, object_pairs_hook, **kw)\u001b[0m\n\u001b[1;32m    291\u001b[0m     \u001b[0mkwarg\u001b[0m\u001b[0;34m;\u001b[0m \u001b[0motherwise\u001b[0m\u001b[0;31m \u001b[0m\u001b[0;31m`\u001b[0m\u001b[0;31m`\u001b[0m\u001b[0mJSONDecoder\u001b[0m\u001b[0;31m`\u001b[0m\u001b[0;31m`\u001b[0m \u001b[0;32mis\u001b[0m \u001b[0mused\u001b[0m\u001b[0;34m.\u001b[0m\u001b[0;34m\u001b[0m\u001b[0;34m\u001b[0m\u001b[0m\n\u001b[1;32m    292\u001b[0m     \"\"\"\n\u001b[0;32m--> 293\u001b[0;31m     return loads(fp.read(),\n\u001b[0m\u001b[1;32m    294\u001b[0m         \u001b[0mcls\u001b[0m\u001b[0;34m=\u001b[0m\u001b[0mcls\u001b[0m\u001b[0;34m,\u001b[0m \u001b[0mobject_hook\u001b[0m\u001b[0;34m=\u001b[0m\u001b[0mobject_hook\u001b[0m\u001b[0;34m,\u001b[0m\u001b[0;34m\u001b[0m\u001b[0;34m\u001b[0m\u001b[0m\n\u001b[1;32m    295\u001b[0m         \u001b[0mparse_float\u001b[0m\u001b[0;34m=\u001b[0m\u001b[0mparse_float\u001b[0m\u001b[0;34m,\u001b[0m \u001b[0mparse_int\u001b[0m\u001b[0;34m=\u001b[0m\u001b[0mparse_int\u001b[0m\u001b[0;34m,\u001b[0m\u001b[0;34m\u001b[0m\u001b[0;34m\u001b[0m\u001b[0m\n",
      "\u001b[0;32m~/opt/anaconda3/envs/tf/lib/python3.9/json/__init__.py\u001b[0m in \u001b[0;36mloads\u001b[0;34m(s, cls, object_hook, parse_float, parse_int, parse_constant, object_pairs_hook, **kw)\u001b[0m\n\u001b[1;32m    344\u001b[0m             \u001b[0mparse_int\u001b[0m \u001b[0;32mis\u001b[0m \u001b[0;32mNone\u001b[0m \u001b[0;32mand\u001b[0m \u001b[0mparse_float\u001b[0m \u001b[0;32mis\u001b[0m \u001b[0;32mNone\u001b[0m \u001b[0;32mand\u001b[0m\u001b[0;34m\u001b[0m\u001b[0;34m\u001b[0m\u001b[0m\n\u001b[1;32m    345\u001b[0m             parse_constant is None and object_pairs_hook is None and not kw):\n\u001b[0;32m--> 346\u001b[0;31m         \u001b[0;32mreturn\u001b[0m \u001b[0m_default_decoder\u001b[0m\u001b[0;34m.\u001b[0m\u001b[0mdecode\u001b[0m\u001b[0;34m(\u001b[0m\u001b[0ms\u001b[0m\u001b[0;34m)\u001b[0m\u001b[0;34m\u001b[0m\u001b[0;34m\u001b[0m\u001b[0m\n\u001b[0m\u001b[1;32m    347\u001b[0m     \u001b[0;32mif\u001b[0m \u001b[0mcls\u001b[0m \u001b[0;32mis\u001b[0m \u001b[0;32mNone\u001b[0m\u001b[0;34m:\u001b[0m\u001b[0;34m\u001b[0m\u001b[0;34m\u001b[0m\u001b[0m\n\u001b[1;32m    348\u001b[0m         \u001b[0mcls\u001b[0m \u001b[0;34m=\u001b[0m \u001b[0mJSONDecoder\u001b[0m\u001b[0;34m\u001b[0m\u001b[0;34m\u001b[0m\u001b[0m\n",
      "\u001b[0;32m~/opt/anaconda3/envs/tf/lib/python3.9/json/decoder.py\u001b[0m in \u001b[0;36mdecode\u001b[0;34m(self, s, _w)\u001b[0m\n\u001b[1;32m    335\u001b[0m \u001b[0;34m\u001b[0m\u001b[0m\n\u001b[1;32m    336\u001b[0m         \"\"\"\n\u001b[0;32m--> 337\u001b[0;31m         \u001b[0mobj\u001b[0m\u001b[0;34m,\u001b[0m \u001b[0mend\u001b[0m \u001b[0;34m=\u001b[0m \u001b[0mself\u001b[0m\u001b[0;34m.\u001b[0m\u001b[0mraw_decode\u001b[0m\u001b[0;34m(\u001b[0m\u001b[0ms\u001b[0m\u001b[0;34m,\u001b[0m \u001b[0midx\u001b[0m\u001b[0;34m=\u001b[0m\u001b[0m_w\u001b[0m\u001b[0;34m(\u001b[0m\u001b[0ms\u001b[0m\u001b[0;34m,\u001b[0m \u001b[0;36m0\u001b[0m\u001b[0;34m)\u001b[0m\u001b[0;34m.\u001b[0m\u001b[0mend\u001b[0m\u001b[0;34m(\u001b[0m\u001b[0;34m)\u001b[0m\u001b[0;34m)\u001b[0m\u001b[0;34m\u001b[0m\u001b[0;34m\u001b[0m\u001b[0m\n\u001b[0m\u001b[1;32m    338\u001b[0m         \u001b[0mend\u001b[0m \u001b[0;34m=\u001b[0m \u001b[0m_w\u001b[0m\u001b[0;34m(\u001b[0m\u001b[0ms\u001b[0m\u001b[0;34m,\u001b[0m \u001b[0mend\u001b[0m\u001b[0;34m)\u001b[0m\u001b[0;34m.\u001b[0m\u001b[0mend\u001b[0m\u001b[0;34m(\u001b[0m\u001b[0;34m)\u001b[0m\u001b[0;34m\u001b[0m\u001b[0;34m\u001b[0m\u001b[0m\n\u001b[1;32m    339\u001b[0m         \u001b[0;32mif\u001b[0m \u001b[0mend\u001b[0m \u001b[0;34m!=\u001b[0m \u001b[0mlen\u001b[0m\u001b[0;34m(\u001b[0m\u001b[0ms\u001b[0m\u001b[0;34m)\u001b[0m\u001b[0;34m:\u001b[0m\u001b[0;34m\u001b[0m\u001b[0;34m\u001b[0m\u001b[0m\n",
      "\u001b[0;32m~/opt/anaconda3/envs/tf/lib/python3.9/json/decoder.py\u001b[0m in \u001b[0;36mraw_decode\u001b[0;34m(self, s, idx)\u001b[0m\n\u001b[1;32m    353\u001b[0m             \u001b[0mobj\u001b[0m\u001b[0;34m,\u001b[0m \u001b[0mend\u001b[0m \u001b[0;34m=\u001b[0m \u001b[0mself\u001b[0m\u001b[0;34m.\u001b[0m\u001b[0mscan_once\u001b[0m\u001b[0;34m(\u001b[0m\u001b[0ms\u001b[0m\u001b[0;34m,\u001b[0m \u001b[0midx\u001b[0m\u001b[0;34m)\u001b[0m\u001b[0;34m\u001b[0m\u001b[0;34m\u001b[0m\u001b[0m\n\u001b[1;32m    354\u001b[0m         \u001b[0;32mexcept\u001b[0m \u001b[0mStopIteration\u001b[0m \u001b[0;32mas\u001b[0m \u001b[0merr\u001b[0m\u001b[0;34m:\u001b[0m\u001b[0;34m\u001b[0m\u001b[0;34m\u001b[0m\u001b[0m\n\u001b[0;32m--> 355\u001b[0;31m             \u001b[0;32mraise\u001b[0m \u001b[0mJSONDecodeError\u001b[0m\u001b[0;34m(\u001b[0m\u001b[0;34m\"Expecting value\"\u001b[0m\u001b[0;34m,\u001b[0m \u001b[0ms\u001b[0m\u001b[0;34m,\u001b[0m \u001b[0merr\u001b[0m\u001b[0;34m.\u001b[0m\u001b[0mvalue\u001b[0m\u001b[0;34m)\u001b[0m \u001b[0;32mfrom\u001b[0m \u001b[0;32mNone\u001b[0m\u001b[0;34m\u001b[0m\u001b[0;34m\u001b[0m\u001b[0m\n\u001b[0m\u001b[1;32m    356\u001b[0m         \u001b[0;32mreturn\u001b[0m \u001b[0mobj\u001b[0m\u001b[0;34m,\u001b[0m \u001b[0mend\u001b[0m\u001b[0;34m\u001b[0m\u001b[0;34m\u001b[0m\u001b[0m\n",
      "\u001b[0;31mJSONDecodeError\u001b[0m: Expecting value: line 1 column 1 (char 0)"
     ]
    }
   ],
   "source": [
    "with open(json_path, 'a+') as file:\n",
    "    # Load the existing data\n",
    "    existing_data = json.load(file)\n",
    "\n",
    "print(existing_data)"
   ]
  },
  {
   "cell_type": "code",
   "execution_count": null,
   "metadata": {},
   "outputs": [],
   "source": [
    "# /Users/anwesh/code/IIT-Projects/Adversarial-Attacks-and-Defenses-in-In-Vehicular-Networks/traffic-to-image/images/Car Hacking/lables.json"
   ]
  }
 ],
 "metadata": {
  "kernelspec": {
   "display_name": "tf",
   "language": "python",
   "name": "python3"
  },
  "language_info": {
   "codemirror_mode": {
    "name": "ipython",
    "version": 3
   },
   "file_extension": ".py",
   "mimetype": "text/x-python",
   "name": "python",
   "nbconvert_exporter": "python",
   "pygments_lexer": "ipython3",
   "version": "3.9.16"
  },
  "orig_nbformat": 4
 },
 "nbformat": 4,
 "nbformat_minor": 2
}
