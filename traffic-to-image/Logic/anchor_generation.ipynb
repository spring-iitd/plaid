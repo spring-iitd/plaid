{
 "cells": [
  {
   "cell_type": "code",
   "execution_count": 1,
   "metadata": {},
   "outputs": [],
   "source": [
    "import pandas as pd\n",
    "import numpy as np"
   ]
  },
  {
   "cell_type": "code",
   "execution_count": 2,
   "metadata": {},
   "outputs": [],
   "source": [
    "# Function to select the timestamp and can_id\n",
    "def data_to_be_utilized(file_path):\n",
    "\n",
    "    # Reading the CSV file without headers\n",
    "    df = pd.read_csv(file_path, header=None)\n",
    "\n",
    "    # Manually assigning names to the first two columns\n",
    "    df.columns = ['timestamp', 'can_id'] + list(df.columns[2:])\n",
    "\n",
    "    # Extracting the required columns\n",
    "    selected_columns = df[['timestamp', 'can_id']]\n",
    "\n",
    "    # df['timestamp'] = pd.to_datetime(df['timestamp'])\n",
    "    return selected_columns"
   ]
  },
  {
   "cell_type": "code",
   "execution_count": 3,
   "metadata": {},
   "outputs": [],
   "source": [
    "# Function to extract distinct CAN IDs\n",
    "def extract_distinct_can_ids(selected_columns):\n",
    "\n",
    "    # Finding the distinct CAN IDs\n",
    "    distinct_can_ids = selected_columns['can_id'].unique()\n",
    "\n",
    "    return distinct_can_ids\n"
   ]
  },
  {
   "cell_type": "code",
   "execution_count": 4,
   "metadata": {},
   "outputs": [],
   "source": [
    "#Converting the timesttamp to decimal form\n",
    "def preprocess_time(df):\n",
    "\n",
    "    #Converting time values to decimal form\n",
    "    df['timestamp'] = df['timestamp'].astype(float)\n",
    "\n",
    "    #Sorting the data based on can_id and timestamp\n",
    "    df.sort_values(by=['can_id', 'timestamp'], inplace=True)\n",
    "    return df"
   ]
  },
  {
   "cell_type": "code",
   "execution_count": 5,
   "metadata": {},
   "outputs": [],
   "source": [
    "def calculate_periodicity(df):\n",
    "\n",
    "    # Calculate the time difference between consecutive timestamps for each 'can_id'.\n",
    "    # The `groupby` function groups the DataFrame by 'can_id'.\n",
    "    # The `diff` function computes the difference between each timestamp and the previous one within each group.\n",
    "    # The result is stored in a new column 'time_diff'.\n",
    "    df['time_diff'] = df.groupby('can_id')['timestamp'].diff()\n",
    "\n",
    "    # Grouping the DataFrame by 'can_id' again to perform aggregation on the 'time_diff' column.\n",
    "    # The `agg` function allows us to calculate multiple aggregate statistics at once:\n",
    "    # - 'mean' computes the average interval for each 'can_id'.\n",
    "    # - 'std' computes the standard deviation of the intervals for each 'can_id', indicating the variability.\n",
    "    periodicity_stats = df.groupby('can_id')['time_diff'].agg(['mean', 'std']).reset_index()\n",
    "\n",
    "    # Calculating the total number of frames (occurrences) for each 'can_id'.\n",
    "    frame_counts = df.groupby('can_id').size().reset_index(name='occurrences')\n",
    "\n",
    "    # Merge the periodicity statistics with the frame counts.\n",
    "    periodicity = pd.merge(periodicity_stats, frame_counts, on='can_id')\n",
    "\n",
    "    # Renaming the columns of the resulting DataFrame for clarity:\n",
    "    # - 'can_id' remains the identifier for each group.\n",
    "    # - 'mean' is renamed to 'average_interval' to indicate it represents the average time interval.\n",
    "    # - 'std' is renamed to 'std_deviation' to indicate it represents the standard deviation of the time intervals.\n",
    "    periodicity.columns = ['can_id', 'average_interval (in ms)', 'std_deviation','no_of_occurences']\n",
    "    \n",
    "    # Convert the values of 'average_interval' to milliseconds by multiplying by 1000\n",
    "    periodicity['average_interval (in ms)'] *= 1000\n",
    "\n",
    "    # Sort the DataFrame based on the 'average_interval' column in ascending order\n",
    "    periodicity.sort_values(by='average_interval (in ms)', inplace=True)\n",
    "\n",
    "    return periodicity"
   ]
  },
  {
   "cell_type": "code",
   "execution_count": 6,
   "metadata": {},
   "outputs": [],
   "source": [
    "#path to benign dataset = 'D:\\IIT-D\\Sem-4\\JCD893-M.Tech Major Project Part-2\\Anchor_Frame\\Dataset\\Demo/all_benign_data.txt'\n",
    "#path to attack dataset = 'D:\\IIT-D\\Sem-4\\JCD893-M.Tech Major Project Part-2\\Anchor_Frame\\Dataset\\Original/attack_dataset.csv' \n",
    "file_path = 'D:\\IIT-D\\Sem-4\\JCD893-M.Tech Major Project Part-2\\Anchor_Frame\\Dataset\\Original/attack_dataset.csv' \n",
    "selected_columns = data_to_be_utilized(file_path)\n",
    "distinct_can_ids = extract_distinct_can_ids(selected_columns)\n",
    "preprocessed_time = preprocess_time(selected_columns)\n",
    "periodicity = calculate_periodicity(preprocessed_time)"
   ]
  },
  {
   "cell_type": "code",
   "execution_count": 7,
   "metadata": {},
   "outputs": [
    {
     "name": "stdout",
     "output_type": "stream",
     "text": [
      "Distinct CAN IDs:\n",
      "['0000' '0002' '00a0' '00a1' '0130' '0131' '0140' '0153' '018f' '01f1'\n",
      " '0260' '02a0' '02c0' '0316' '0329' '0350' '0370' '0430' '043f' '0440'\n",
      " '04b1' '04f0' '0545' '05a0' '05a2' '05f0' '0690']\n"
     ]
    }
   ],
   "source": [
    "print(\"Distinct CAN IDs:\")\n",
    "print(np.sort(distinct_can_ids))"
   ]
  },
  {
   "cell_type": "code",
   "execution_count": 8,
   "metadata": {},
   "outputs": [
    {
     "name": "stdout",
     "output_type": "stream",
     "text": [
      "   can_id  average_interval (in ms)  std_deviation  no_of_occurences\n",
      "0    0000                  3.870938       0.067848            587521\n",
      "4    0130                 16.849328       0.062456            168118\n",
      "1    0002                 16.905842       0.063173            167556\n",
      "5    0131                 16.960503       0.063171            167016\n",
      "6    0140                 16.961925       0.062890            167002\n",
      "8    018f                 16.969199       0.062809            166931\n",
      "12   02c0                 16.991313       0.062883            166713\n",
      "16   0370                 16.994565       0.062952            166681\n",
      "13   0316                 16.999750       0.063465            166631\n",
      "7    0153                 17.005609       0.063420            166573\n",
      "18   043f                 17.053705       0.063548            166103\n",
      "10   0260                 17.097226       0.063757            165681\n",
      "11   02a0                 17.104143       0.063437            165614\n",
      "15   0350                 17.107078       0.063543            165585\n",
      "19   0440                 17.161777       0.063766            165057\n",
      "14   0329                 17.175390       0.063982            164927\n",
      "22   0545                 17.480859       0.066027            162045\n",
      "17   0430                 33.323589       0.095920             85005\n",
      "9    01f1                 33.440824       0.095620             84707\n",
      "20   04b1                 33.634596       0.097908             84219\n",
      "21   04f0                 34.499562       0.108318             82108\n",
      "25   05f0                 90.826993       0.259584             31188\n",
      "2    00a0                169.898521       0.329660             16673\n",
      "3    00a1                170.512169       0.334824             16613\n",
      "26   0690                174.237316       0.357889             16258\n",
      "23   05a0               1731.801971       1.576576              1636\n",
      "24   05a2               1759.785375       1.629830              1610\n"
     ]
    }
   ],
   "source": [
    "print(periodicity)\n"
   ]
  }
 ],
 "metadata": {
  "kernelspec": {
   "display_name": "Python 3",
   "language": "python",
   "name": "python3"
  },
  "language_info": {
   "codemirror_mode": {
    "name": "ipython",
    "version": 3
   },
   "file_extension": ".py",
   "mimetype": "text/x-python",
   "name": "python",
   "nbconvert_exporter": "python",
   "pygments_lexer": "ipython3",
   "version": "3.11.9"
  }
 },
 "nbformat": 4,
 "nbformat_minor": 2
}
