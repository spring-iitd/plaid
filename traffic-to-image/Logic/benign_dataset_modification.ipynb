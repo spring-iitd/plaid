{
 "cells": [
  {
   "cell_type": "code",
   "execution_count": 3,
   "metadata": {},
   "outputs": [],
   "source": [
    "# Function to convert data from input file to desired format\n",
    "def convert_data(input_file, output_file):\n",
    "    with open(input_file, 'r') as f_in:\n",
    "        with open(output_file, 'w') as f_out:\n",
    "            for line in f_in:\n",
    "                # Split the line by spaces\n",
    "                parts = line.strip().split()\n",
    "                \n",
    "                # Extract timestamp and ID\n",
    "                timestamp = parts[1]\n",
    "                can_id = parts[3]\n",
    "                \n",
    "                # Write to output file in desired format\n",
    "                f_out.write(f\"{timestamp},{can_id}\\n\")\n"
   ]
  },
  {
   "cell_type": "code",
   "execution_count": null,
   "metadata": {},
   "outputs": [],
   "source": [
    "# Paths to input and output files\n",
    "input_file = 'D:\\IIT-D\\Sem-4\\JCD893-M.Tech Major Project Part-2\\Anchor_Frame\\Dataset\\Original/benign_dataset.txt'\n",
    "output_file = 'D:\\IIT-D\\Sem-4\\JCD893-M.Tech Major Project Part-2\\Anchor_Frame\\Dataset\\Demo/all_benign_data.txt'"
   ]
  },
  {
   "cell_type": "code",
   "execution_count": null,
   "metadata": {},
   "outputs": [],
   "source": [
    "\n",
    "# Convert data and write to output file\n",
    "convert_data(input_file, output_file)\n"
   ]
  }
 ],
 "metadata": {
  "kernelspec": {
   "display_name": "Python 3",
   "language": "python",
   "name": "python3"
  },
  "language_info": {
   "codemirror_mode": {
    "name": "ipython",
    "version": 3
   },
   "file_extension": ".py",
   "mimetype": "text/x-python",
   "name": "python",
   "nbconvert_exporter": "python",
   "pygments_lexer": "ipython3",
   "version": "3.11.9"
  }
 },
 "nbformat": 4,
 "nbformat_minor": 2
}
