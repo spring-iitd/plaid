{
 "cells": [
  {
   "cell_type": "code",
   "execution_count": 1,
   "metadata": {},
   "outputs": [
    {
     "name": "stderr",
     "output_type": "stream",
     "text": [
      "2024-09-29 17:01:56.700886: I tensorflow/core/platform/cpu_feature_guard.cc:193] This TensorFlow binary is optimized with oneAPI Deep Neural Network Library (oneDNN) to use the following CPU instructions in performance-critical operations:  AVX2 AVX512F AVX512_VNNI AVX512_BF16 AVX_VNNI AMX_TILE AMX_INT8 AMX_BF16 FMA\n",
      "To enable them in other operations, rebuild TensorFlow with the appropriate compiler flags.\n",
      "2024-09-29 17:01:56.809600: I tensorflow/core/util/util.cc:169] oneDNN custom operations are on. You may see slightly different numerical results due to floating-point round-off errors from different computation orders. To turn them off, set the environment variable `TF_ENABLE_ONEDNN_OPTS=0`.\n",
      "2024-09-29 17:01:56.839645: E tensorflow/stream_executor/cuda/cuda_blas.cc:2981] Unable to register cuBLAS factory: Attempting to register factory for plugin cuBLAS when one has already been registered\n",
      "2024-09-29 17:01:57.334322: W tensorflow/stream_executor/platform/default/dso_loader.cc:64] Could not load dynamic library 'libnvinfer.so.7'; dlerror: libnvinfer.so.7: cannot open shared object file: No such file or directory; LD_LIBRARY_PATH: :/home/anwesh/miniconda3/envs/tf-gpu/lib/\n",
      "2024-09-29 17:01:57.334400: W tensorflow/stream_executor/platform/default/dso_loader.cc:64] Could not load dynamic library 'libnvinfer_plugin.so.7'; dlerror: libnvinfer_plugin.so.7: cannot open shared object file: No such file or directory; LD_LIBRARY_PATH: :/home/anwesh/miniconda3/envs/tf-gpu/lib/\n",
      "2024-09-29 17:01:57.334406: W tensorflow/compiler/tf2tensorrt/utils/py_utils.cc:38] TF-TRT Warning: Cannot dlopen some TensorRT libraries. If you would like to use Nvidia GPU with TensorRT, please make sure the missing libraries mentioned above are installed properly.\n"
     ]
    }
   ],
   "source": [
    "import pandas as pd\n",
    "import numpy as np\n",
    "import tensorflow as tf\n",
    "import datetime\n",
    "import os\n",
    "from sklearn.metrics import confusion_matrix\n",
    "import json\n",
    "\n",
    "\n",
    "def read_tfrecord(example):\n",
    "    input_dim = 29 * 29\n",
    "    feature_description = {\n",
    "    'input_features': tf.io.FixedLenFeature([input_dim], tf.int64),\n",
    "    'label': tf.io.FixedLenFeature([1], tf.int64)\n",
    "    }\n",
    "    return tf.io.parse_single_example(example, feature_description)"
   ]
  },
  {
   "cell_type": "code",
   "execution_count": 2,
   "metadata": {},
   "outputs": [],
   "source": [
    "@tf.function\n",
    "def data_from_tfrecord(tf_filepath, batch_size, repeat_time, shuffle=True):\n",
    "    data = tf.data.Dataset.from_tensor_slices(tf_filepath)\n",
    "    data = data.interleave(lambda x: tf.data.TFRecordDataset(x),cycle_length=len(tf_filepath), block_length=10000)\n",
    "    if shuffle:\n",
    "        data = data.shuffle(100000, reshuffle_each_iteration=True)\n",
    "    data = data.map(read_tfrecord, num_parallel_calls=64)\n",
    "    data = data.repeat(repeat_time + 1)\n",
    "    data = data.batch(batch_size)\n",
    "    data = data.prefetch(1)\n",
    "    # iterator = data.make_one_shot_iterator()\n",
    "    tf.compat.v1.disable_eager_execution()\n",
    "    iterator = data.__iter__()\n",
    "    return iterator.get_next()"
   ]
  },
  {
   "cell_type": "code",
   "execution_count": 19,
   "metadata": {},
   "outputs": [],
   "source": [
    "def construct_data_flow():\n",
    "    labels = ['DoS', 'Fuzzy', 'gear', 'RPM']\n",
    "    data_dir='../Data/'\n",
    "    batch_size = 2621\n",
    "    batch_size_unknown = 0\n",
    "    n_epochs = 1\n",
    "    unknown_attack = None\n",
    "    train_unlabel_paths = ['{}/Train_0.7_Labeled_0.1/{}/train_unlabel'.format(data_dir, l) for l in labels]\n",
    "    #unknown_train_unlabel_path = ['./Data/{}/train_unlabel'.format(unknown_attack)]\n",
    "    train_label_paths = ['{}/Train_0.7_Labeled_0.1/{}/train_label'.format(data_dir, l) for l in labels if l != unknown_attack]\n",
    "    val_paths = ['{}/Train_0.7_Labeled_0.1/{}/val'.format(data_dir, l) for l in labels if l != unknown_attack]\n",
    "    \n",
    "    print('Unlabeled data: ', train_unlabel_paths)\n",
    "    print('Label data:', train_label_paths)\n",
    "    \n",
    "    train_unlabel = data_from_tfrecord(train_unlabel_paths, batch_size - batch_size_unknown, n_epochs)\n",
    "    # train_unlabel_unknown = data_from_tfrecord(unknown_train_unlabel_path, batch_size_unknown, n_epochs)\n",
    "    train_label = data_from_tfrecord(train_label_paths, batch_size, n_epochs)\n",
    "    validation = data_from_tfrecord(val_paths, batch_size, n_epochs)\n",
    "    \n",
    "    \n",
    "    return train_unlabel, train_label, validation\n"
   ]
  },
  {
   "cell_type": "code",
   "execution_count": 20,
   "metadata": {},
   "outputs": [
    {
     "name": "stdout",
     "output_type": "stream",
     "text": [
      "Unlabeled data:  ['../Data//Train_0.7_Labeled_0.1/DoS/train_unlabel', '../Data//Train_0.7_Labeled_0.1/Fuzzy/train_unlabel', '../Data//Train_0.7_Labeled_0.1/gear/train_unlabel', '../Data//Train_0.7_Labeled_0.1/RPM/train_unlabel']\n",
      "Label data: ['../Data//Train_0.7_Labeled_0.1/DoS/train_label', '../Data//Train_0.7_Labeled_0.1/Fuzzy/train_label', '../Data//Train_0.7_Labeled_0.1/gear/train_label', '../Data//Train_0.7_Labeled_0.1/RPM/train_label']\n",
      "WARNING:tensorflow:5 out of the last 5 calls to <function data_from_tfrecord at 0x7fb272c8bee0> triggered tf.function retracing. Tracing is expensive and the excessive number of tracings could be due to (1) creating @tf.function repeatedly in a loop, (2) passing tensors with different shapes, (3) passing Python objects instead of tensors. For (1), please define your @tf.function outside of the loop. For (2), @tf.function has reduce_retracing=True option that can avoid unnecessary retracing. For (3), please refer to https://www.tensorflow.org/guide/function#controlling_retracing and https://www.tensorflow.org/api_docs/python/tf/function for  more details.\n",
      "WARNING:tensorflow:6 out of the last 6 calls to <function data_from_tfrecord at 0x7fb272c8bee0> triggered tf.function retracing. Tracing is expensive and the excessive number of tracings could be due to (1) creating @tf.function repeatedly in a loop, (2) passing tensors with different shapes, (3) passing Python objects instead of tensors. For (1), please define your @tf.function outside of the loop. For (2), @tf.function has reduce_retracing=True option that can avoid unnecessary retracing. For (3), please refer to https://www.tensorflow.org/guide/function#controlling_retracing and https://www.tensorflow.org/api_docs/python/tf/function for  more details.\n"
     ]
    }
   ],
   "source": [
    "train_unlabel, train_label, validation = construct_data_flow()"
   ]
  },
  {
   "cell_type": "code",
   "execution_count": 21,
   "metadata": {},
   "outputs": [
    {
     "data": {
      "text/plain": [
       "(array([1]), array([2621]))"
      ]
     },
     "execution_count": 21,
     "metadata": {},
     "output_type": "execute_result"
    }
   ],
   "source": [
    "np.unique(np.array(train_label['label']), return_counts = True)"
   ]
  },
  {
   "cell_type": "code",
   "execution_count": 27,
   "metadata": {},
   "outputs": [
    {
     "data": {
      "text/plain": [
       "(array([1]), array([2621]))"
      ]
     },
     "execution_count": 27,
     "metadata": {},
     "output_type": "execute_result"
    }
   ],
   "source": [
    "np.unique(np.array(validation['label']), return_counts=True)"
   ]
  },
  {
   "cell_type": "code",
   "execution_count": null,
   "metadata": {},
   "outputs": [],
   "source": []
  }
 ],
 "metadata": {
  "kernelspec": {
   "display_name": "tf-gpu",
   "language": "python",
   "name": "python3"
  },
  "language_info": {
   "codemirror_mode": {
    "name": "ipython",
    "version": 3
   },
   "file_extension": ".py",
   "mimetype": "text/x-python",
   "name": "python",
   "nbconvert_exporter": "python",
   "pygments_lexer": "ipython3",
   "version": "3.9.19"
  }
 },
 "nbformat": 4,
 "nbformat_minor": 2
}
