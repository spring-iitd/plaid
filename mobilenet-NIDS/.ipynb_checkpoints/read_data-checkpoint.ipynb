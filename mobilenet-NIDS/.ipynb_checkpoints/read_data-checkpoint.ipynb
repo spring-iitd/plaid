{
 "cells": [
  {
   "cell_type": "code",
   "execution_count": 1,
   "id": "67c9a820",
   "metadata": {},
   "outputs": [],
   "source": [
    "import os\n",
    "import pandas as pd\n",
    "import numpy as np\n",
    "import matplotlib.pyplot as plt\n",
    "from tqdm import tqdm"
   ]
  },
  {
   "cell_type": "code",
   "execution_count": 2,
   "id": "ed016ccc",
   "metadata": {},
   "outputs": [
    {
     "name": "stdout",
     "output_type": "stream",
     "text": [
      "['.DS_Store', 'RPM_dataset.csv', 'gear_dataset.csv', 'normal_run_data.txt', 'DoS_dataset.csv', 'Fuzzy_dataset.csv']\n"
     ]
    }
   ],
   "source": [
    "data_folder = '../car_hacking_data/'\n",
    "print(os.listdir(data_folder))"
   ]
  },
  {
   "cell_type": "code",
   "execution_count": 3,
   "id": "dbdc8eeb",
   "metadata": {},
   "outputs": [],
   "source": [
    "rpm_data_path = os.path.join(data_folder, 'RPM_dataset.csv')\n",
    "gear_data_path = os.path.join(data_folder, 'gear_dataset.csv')\n",
    "dos_data_path = os.path.join(data_folder, 'DoS_dataset.csv')\n",
    "fuzzy_data_path = os.path.join(data_folder, 'Fuzzy_dataset.csv')"
   ]
  },
  {
   "cell_type": "code",
   "execution_count": 4,
   "id": "4edc2100",
   "metadata": {},
   "outputs": [],
   "source": [
    "def hex_to_bin(hex_num):\n",
    "    \n",
    "    binary_value = bin(int(str(hex_num), 16))[2:]\n",
    "    \n",
    "    return binary_value\n",
    "\n",
    "def int_to_bin(int_num):\n",
    "    \n",
    "    binary_value = bin(int_num)[2:]\n",
    "    \n",
    "    return binary_value\n",
    "\n",
    "def pad(value, length):\n",
    "    \n",
    "    curr_length = len(str(value))\n",
    "    \n",
    "    zeros = '0' * (length - curr_length)\n",
    "    \n",
    "    return zeros + value"
   ]
  },
  {
   "cell_type": "code",
   "execution_count": 5,
   "id": "f596067e",
   "metadata": {},
   "outputs": [],
   "source": [
    "## Since there are varying DLCs (2,5,6,8) in order to maintain data integrity\n",
    "## The data must be padded with 00s when DLC < 8\n",
    "\n",
    "def shift_columns(df):\n",
    "    \n",
    "    for dlc in [2,5,6]:\n",
    "\n",
    "        df.loc[df['dlc'] == dlc, df.columns[3:]] = df.loc[df['dlc'] == dlc, df.columns[3:]].shift(periods=8-dlc, axis='columns', fill_value='00')\n",
    "\n",
    "    return df\n",
    "    "
   ]
  },
  {
   "cell_type": "code",
   "execution_count": 6,
   "id": "a4e2c498",
   "metadata": {},
   "outputs": [],
   "source": [
    "def read_attack_data(data_path):\n",
    "    \n",
    "    columns = ['timestamp','can_id', 'dlc', 'data0', 'data1', 'data2', 'data3', 'data4', \n",
    "           'data5', 'data6', 'data7', 'flag']\n",
    "    \n",
    "    data = pd.read_csv(data_path, names = columns)\n",
    "\n",
    "    data = shift_columns(data)\n",
    "    \n",
    "    ##Replacing all NaNs with '00' \n",
    "    data = data.replace(np.NaN, '00')\n",
    "    \n",
    "    ##Joining all data columns to put all data in one column\n",
    "    data_cols = ['data0', 'data1', 'data2', 'data3', 'data4', 'data5', 'data6', 'data7']\n",
    "    \n",
    "    ##The data column is in hexadecimal\n",
    "    data['data'] = data[data_cols].apply(''.join, axis=1)\n",
    "    data.drop(columns = data_cols, inplace = True, axis = 1)\n",
    "    \n",
    "    ##Converting columns to binary\n",
    "    data['can_id'] = data['can_id'].apply(hex_to_bin)\n",
    "    data['dlc'] = data['dlc'].apply(int_to_bin)\n",
    "    data['data'] = data['data'].apply(hex_to_bin)\n",
    "    \n",
    "    ##Padding with 0s at MSB to make all values of same length\n",
    "    data['can_id'] = data['can_id'].apply(pad, length = 11)\n",
    "    data['dlc'] = data['dlc'].apply(pad, length = 4)\n",
    "    data['data'] = data['data'].apply(pad, length = 64)\n",
    "    \n",
    "    return data\n",
    "\n",
    "    ##TODO: Append \n",
    "    "
   ]
  },
  {
   "cell_type": "code",
   "execution_count": 7,
   "id": "dbaf662c",
   "metadata": {},
   "outputs": [],
   "source": [
    "rpm_data = read_attack_data(rpm_data_path)\n",
    "gear_data = read_attack_data(gear_data_path)\n",
    "dos_data = read_attack_data(dos_data_path)\n",
    "fuzzy_data = read_attack_data(fuzzy_data_path)"
   ]
  },
  {
   "cell_type": "code",
   "execution_count": 8,
   "id": "9ede5ce3",
   "metadata": {},
   "outputs": [],
   "source": [
    "normal_data_path = os.path.join(data_folder, 'normal_run_data.txt')\n",
    "\n",
    "# Initialize empty lists to store data\n",
    "timestamps = []\n",
    "ids = []\n",
    "dlcs = []\n",
    "data = []\n",
    "\n",
    "# Read the data from the file\n",
    "with open(normal_data_path, 'r') as file:\n",
    "    for line in file:\n",
    "        # Extract information from each line\n",
    "        line = line.strip()\n",
    "        ts = line.split('Timestamp: ')[1].split(' ')[0]\n",
    "        can_id = line.split('ID: ')[1].split(' ')[0]\n",
    "        dlc = line.split('DLC: ')[1].split(' ')[0]\n",
    "        can_data = ''.join(line.split('DLC: ')[1].split(' ')[1:])\n",
    "        \n",
    "        timestamps.append(float(ts))\n",
    "        ids.append(pad(hex_to_bin(can_id), length = 11))\n",
    "        dlcs.append(pad(int_to_bin(int(dlc)), length = 4))\n",
    "        data.append(pad(hex_to_bin(can_data), length = 64))\n",
    "        \n",
    "normal_data = pd.DataFrame({\n",
    "    'timestamp': timestamps,\n",
    "    'can_id': ids,\n",
    "    'dlc': dlcs,\n",
    "    'data': data\n",
    "})"
   ]
  },
  {
   "cell_type": "code",
   "execution_count": 9,
   "id": "97952163",
   "metadata": {},
   "outputs": [],
   "source": [
    "normal_data['flag'] = 'R'"
   ]
  },
  {
   "cell_type": "code",
   "execution_count": 10,
   "id": "e6b28b14",
   "metadata": {},
   "outputs": [],
   "source": [
    "merged_df = pd.concat([rpm_data, gear_data, dos_data, fuzzy_data, normal_data], axis=0, ignore_index=True)"
   ]
  },
  {
   "cell_type": "code",
   "execution_count": 11,
   "id": "1d3ac96a",
   "metadata": {},
   "outputs": [
    {
     "data": {
      "text/plain": [
       "(17558346, 5)"
      ]
     },
     "execution_count": 11,
     "metadata": {},
     "output_type": "execute_result"
    }
   ],
   "source": [
    "merged_df.shape"
   ]
  },
  {
   "cell_type": "code",
   "execution_count": 12,
   "id": "61756896",
   "metadata": {
    "scrolled": true
   },
   "outputs": [
    {
     "data": {
      "text/html": [
       "<div>\n",
       "<style scoped>\n",
       "    .dataframe tbody tr th:only-of-type {\n",
       "        vertical-align: middle;\n",
       "    }\n",
       "\n",
       "    .dataframe tbody tr th {\n",
       "        vertical-align: top;\n",
       "    }\n",
       "\n",
       "    .dataframe thead th {\n",
       "        text-align: right;\n",
       "    }\n",
       "</style>\n",
       "<table border=\"1\" class=\"dataframe\">\n",
       "  <thead>\n",
       "    <tr style=\"text-align: right;\">\n",
       "      <th></th>\n",
       "      <th>timestamp</th>\n",
       "      <th>can_id</th>\n",
       "      <th>dlc</th>\n",
       "      <th>flag</th>\n",
       "      <th>data</th>\n",
       "    </tr>\n",
       "  </thead>\n",
       "  <tbody>\n",
       "    <tr>\n",
       "      <th>0</th>\n",
       "      <td>1.478191e+09</td>\n",
       "      <td>01100010110</td>\n",
       "      <td>1000</td>\n",
       "      <td>R</td>\n",
       "      <td>0000010100100010011010000000100100100010001000...</td>\n",
       "    </tr>\n",
       "    <tr>\n",
       "      <th>1</th>\n",
       "      <td>1.478191e+09</td>\n",
       "      <td>00110001111</td>\n",
       "      <td>1000</td>\n",
       "      <td>R</td>\n",
       "      <td>1111111000111011000000000000000000000000001111...</td>\n",
       "    </tr>\n",
       "    <tr>\n",
       "      <th>2</th>\n",
       "      <td>1.478191e+09</td>\n",
       "      <td>01001100000</td>\n",
       "      <td>1000</td>\n",
       "      <td>R</td>\n",
       "      <td>0001100100100010001000100011000011111111100011...</td>\n",
       "    </tr>\n",
       "    <tr>\n",
       "      <th>3</th>\n",
       "      <td>1.478191e+09</td>\n",
       "      <td>01010100000</td>\n",
       "      <td>1000</td>\n",
       "      <td>R</td>\n",
       "      <td>0110000000000000100000110001110110010110000000...</td>\n",
       "    </tr>\n",
       "    <tr>\n",
       "      <th>4</th>\n",
       "      <td>1.478191e+09</td>\n",
       "      <td>01100101001</td>\n",
       "      <td>1000</td>\n",
       "      <td>R</td>\n",
       "      <td>1101110010111000011111100001010000010001001000...</td>\n",
       "    </tr>\n",
       "    <tr>\n",
       "      <th>...</th>\n",
       "      <td>...</td>\n",
       "      <td>...</td>\n",
       "      <td>...</td>\n",
       "      <td>...</td>\n",
       "      <td>...</td>\n",
       "    </tr>\n",
       "    <tr>\n",
       "      <th>17558341</th>\n",
       "      <td>1.479122e+09</td>\n",
       "      <td>01010110000</td>\n",
       "      <td>0101</td>\n",
       "      <td>R</td>\n",
       "      <td>0000000000000000000000001010110000000101000011...</td>\n",
       "    </tr>\n",
       "    <tr>\n",
       "      <th>17558342</th>\n",
       "      <td>1.479122e+09</td>\n",
       "      <td>01100010110</td>\n",
       "      <td>1000</td>\n",
       "      <td>R</td>\n",
       "      <td>0000010100111000000100000000110000111000001010...</td>\n",
       "    </tr>\n",
       "    <tr>\n",
       "      <th>17558343</th>\n",
       "      <td>1.479122e+09</td>\n",
       "      <td>00110001111</td>\n",
       "      <td>1000</td>\n",
       "      <td>R</td>\n",
       "      <td>1111111000110001000000000000000000000000010010...</td>\n",
       "    </tr>\n",
       "    <tr>\n",
       "      <th>17558344</th>\n",
       "      <td>1.479122e+09</td>\n",
       "      <td>01001100000</td>\n",
       "      <td>1000</td>\n",
       "      <td>R</td>\n",
       "      <td>0011001000111000001110010011000011111111100100...</td>\n",
       "    </tr>\n",
       "    <tr>\n",
       "      <th>17558345</th>\n",
       "      <td>1.479122e+09</td>\n",
       "      <td>01010100000</td>\n",
       "      <td>1000</td>\n",
       "      <td>R</td>\n",
       "      <td>0010000000000000011101010001110100000001000001...</td>\n",
       "    </tr>\n",
       "  </tbody>\n",
       "</table>\n",
       "<p>17558346 rows × 5 columns</p>\n",
       "</div>"
      ],
      "text/plain": [
       "             timestamp       can_id   dlc flag  \\\n",
       "0         1.478191e+09  01100010110  1000    R   \n",
       "1         1.478191e+09  00110001111  1000    R   \n",
       "2         1.478191e+09  01001100000  1000    R   \n",
       "3         1.478191e+09  01010100000  1000    R   \n",
       "4         1.478191e+09  01100101001  1000    R   \n",
       "...                ...          ...   ...  ...   \n",
       "17558341  1.479122e+09  01010110000  0101    R   \n",
       "17558342  1.479122e+09  01100010110  1000    R   \n",
       "17558343  1.479122e+09  00110001111  1000    R   \n",
       "17558344  1.479122e+09  01001100000  1000    R   \n",
       "17558345  1.479122e+09  01010100000  1000    R   \n",
       "\n",
       "                                                       data  \n",
       "0         0000010100100010011010000000100100100010001000...  \n",
       "1         1111111000111011000000000000000000000000001111...  \n",
       "2         0001100100100010001000100011000011111111100011...  \n",
       "3         0110000000000000100000110001110110010110000000...  \n",
       "4         1101110010111000011111100001010000010001001000...  \n",
       "...                                                     ...  \n",
       "17558341  0000000000000000000000001010110000000101000011...  \n",
       "17558342  0000010100111000000100000000110000111000001010...  \n",
       "17558343  1111111000110001000000000000000000000000010010...  \n",
       "17558344  0011001000111000001110010011000011111111100100...  \n",
       "17558345  0010000000000000011101010001110100000001000001...  \n",
       "\n",
       "[17558346 rows x 5 columns]"
      ]
     },
     "execution_count": 12,
     "metadata": {},
     "output_type": "execute_result"
    }
   ],
   "source": [
    "merged_df"
   ]
  },
  {
   "cell_type": "code",
   "execution_count": 13,
   "id": "a5999dd2",
   "metadata": {},
   "outputs": [],
   "source": [
    "merged_df.sort_values(by = ['timestamp'], inplace = True)"
   ]
  },
  {
   "cell_type": "code",
   "execution_count": 14,
   "id": "2d117787",
   "metadata": {},
   "outputs": [],
   "source": [
    "merged_df['frame'] = merged_df['can_id'] + merged_df['dlc'] + merged_df['data']"
   ]
  },
  {
   "cell_type": "code",
   "execution_count": 15,
   "id": "1140b24c",
   "metadata": {},
   "outputs": [
    {
     "data": {
      "text/plain": [
       "(17558346, 6)"
      ]
     },
     "execution_count": 15,
     "metadata": {},
     "output_type": "execute_result"
    }
   ],
   "source": [
    "merged_df.shape"
   ]
  },
  {
   "cell_type": "code",
   "execution_count": 16,
   "id": "b7ff15db",
   "metadata": {},
   "outputs": [
    {
     "name": "stdout",
     "output_type": "stream",
     "text": [
      "222257\n"
     ]
    }
   ],
   "source": [
    "img_dim = 79\n",
    "num_images = merged_df.shape[0] // img_dim\n",
    "print(num_images)"
   ]
  },
  {
   "cell_type": "code",
   "execution_count": 17,
   "id": "c9965f0e",
   "metadata": {},
   "outputs": [
    {
     "name": "stderr",
     "output_type": "stream",
     "text": [
      "100%|██████████████████████████████████| 222257/222257 [15:51<00:00, 233.68it/s]\n"
     ]
    }
   ],
   "source": [
    "images = []\n",
    "labels = []\n",
    "\n",
    "for i in tqdm(range(num_images)):\n",
    "    \n",
    "    # Get the starting and ending indices for the current image\n",
    "    start_idx = i * img_dim\n",
    "    end_idx = (i + 1) * img_dim\n",
    "    \n",
    "    # Get the frame strings and flag values for the current image\n",
    "    frame_strings = merged_df.iloc[start_idx:end_idx]['frame'].tolist()\n",
    "    flag_values = merged_df.iloc[start_idx:end_idx]['flag'].tolist()\n",
    "    \n",
    "    # Convert frame strings to binary arrays\n",
    "    frame_arrays = [list(map(int, list(frame))) for frame in frame_strings]\n",
    "    \n",
    "    # Label for the image we just made\n",
    "    if 'T' in flag_values:\n",
    "        labels.append(1)\n",
    "    else:\n",
    "        labels.append(0)\n",
    "    \n",
    "    # Create the image by stacking the frame arrays vertically\n",
    "    image = np.vstack(frame_arrays)\n",
    "    \n",
    "    # Add the image to the list\n",
    "    images.append(image)\n",
    "\n",
    "\n",
    "images = np.array(images)\n",
    "labels = np.array(labels).reshape(-1,1)"
   ]
  },
  {
   "cell_type": "code",
   "execution_count": 18,
   "id": "8ba1ccbe",
   "metadata": {},
   "outputs": [
    {
     "name": "stdout",
     "output_type": "stream",
     "text": [
      "(222257, 79, 79)\n",
      "(222257, 1)\n"
     ]
    }
   ],
   "source": [
    "print(images.shape)\n",
    "print(labels.shape)"
   ]
  },
  {
   "cell_type": "code",
   "execution_count": 19,
   "id": "bc7c1a75",
   "metadata": {},
   "outputs": [
    {
     "data": {
      "text/plain": [
       "<matplotlib.image.AxesImage at 0x4011531c0>"
      ]
     },
     "execution_count": 19,
     "metadata": {},
     "output_type": "execute_result"
    },
    {
     "data": {
      "image/png": "[encoded data removed]",
      "text/plain": [
       "<Figure size 640x480 with 1 Axes>"
      ]
     },
     "metadata": {},
     "output_type": "display_data"
    }
   ],
   "source": [
    "plt.imshow(images[0], cmap = 'gray')"
   ]
  },
  {
   "cell_type": "code",
   "execution_count": 20,
   "id": "ee09618d",
   "metadata": {},
   "outputs": [],
   "source": [
    "np.save('../numpy_data/images',images)\n",
    "np.save('../numpy_data/labels',labels)"
   ]
  },
  {
   "cell_type": "code",
   "execution_count": null,
   "id": "e108081b",
   "metadata": {},
   "outputs": [],
   "source": []
  }
 ],
 "metadata": {
  "kernelspec": {
   "display_name": "Python 3 (ipykernel)",
   "language": "python",
   "name": "python3"
  },
  "language_info": {
   "codemirror_mode": {
    "name": "ipython",
    "version": 3
   },
   "file_extension": ".py",
   "mimetype": "text/x-python",
   "name": "python",
   "nbconvert_exporter": "python",
   "pygments_lexer": "ipython3",
   "version": "3.9.16"
  }
 },
 "nbformat": 4,
 "nbformat_minor": 5
}
